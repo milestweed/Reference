{
 "cells": [
  {
   "cell_type": "code",
   "execution_count": 7,
   "metadata": {},
   "outputs": [
    {
     "name": "stdout",
     "output_type": "stream",
     "text": [
      "FEED ME!\n"
     ]
    }
   ],
   "source": [
    "hungry = True\n",
    "#hungry = False\n",
    "\n",
    "if hungry:\n",
    "    print('FEED ME!')\n",
    "else:\n",
    "    print(\"I'm not hungry\")"
   ]
  },
  {
   "cell_type": "code",
   "execution_count": 12,
   "metadata": {},
   "outputs": [
    {
     "name": "stdout",
     "output_type": "stream",
     "text": [
      "I do not know much.\n"
     ]
    }
   ],
   "source": [
    "#loc = 'Bank'\n",
    "#loc = 'Store'\n",
    "#loc = 'Auto Shop'\n",
    "loc = 'Other Place'\n",
    "\n",
    "if loc == 'Auto Shop':\n",
    "    print(\"Cars are cool!\")\n",
    "elif loc == 'Bank':\n",
    "    print(\"Money is cool!\")\n",
    "elif loc == 'Store':\n",
    "    print(\"Welcome to the store!\")\n",
    "else:\n",
    "    print(\"I do not know much.\")"
   ]
  },
  {
   "cell_type": "code",
   "execution_count": 14,
   "metadata": {},
   "outputs": [
    {
     "name": "stdout",
     "output_type": "stream",
     "text": [
      "What is you name?\n"
     ]
    }
   ],
   "source": [
    "#name = 'Sammy'\n",
    "#name = 'Frankie'\n",
    "name = 'Jose'\n",
    "\n",
    "if name == 'Frankie':\n",
    "    print(\"Hello Frankie!\")\n",
    "elif name == \"Sammy\":\n",
    "    print(\"Hello Sammy\")\n",
    "else:\n",
    "    print(\"What is you name?\")"
   ]
  },
  {
   "cell_type": "code",
   "execution_count": null,
   "metadata": {},
   "outputs": [],
   "source": []
  }
 ],
 "metadata": {
  "kernelspec": {
   "display_name": "Python 3",
   "language": "python",
   "name": "python3"
  },
  "language_info": {
   "codemirror_mode": {
    "name": "ipython",
    "version": 3
   },
   "file_extension": ".py",
   "mimetype": "text/x-python",
   "name": "python",
   "nbconvert_exporter": "python",
   "pygments_lexer": "ipython3",
   "version": "3.7.4"
  }
 },
 "nbformat": 4,
 "nbformat_minor": 2
}
