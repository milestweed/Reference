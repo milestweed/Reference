{
 "cells": [
  {
   "cell_type": "markdown",
   "metadata": {},
   "source": [
    "## Slider Demo"
   ]
  },
  {
   "cell_type": "code",
   "execution_count": null,
   "metadata": {},
   "outputs": [],
   "source": [
    "import plotly.graph_objects as go\n",
    "import numpy as np\n",
    "\n",
    "# Create figure\n",
    "fig = go.Figure()\n",
    "\n",
    "# Add traces, one for each slider step\n",
    "for step in np.arange(0, 5, 0.1):\n",
    "    fig.add_trace(\n",
    "        go.Scatter(\n",
    "            visible=False,\n",
    "            line=dict(color=\"#00CED1\", width=6),\n",
    "            name=\"𝜈 = \" + str(step),\n",
    "            x=np.arange(0, 10, 0.01),\n",
    "            y=np.sin(step * np.arange(0, 10, 0.01))))\n",
    "\n",
    "# Make 10th trace visible\n",
    "fig.data[10].visible = True\n",
    "\n",
    "# Create and add slider\n",
    "steps = []\n",
    "for i in range(len(fig.data)):\n",
    "    step = dict(\n",
    "        method=\"update\",\n",
    "        args=[{\"visible\": [False] * len(fig.data)},\n",
    "              {\"title\": \"Slider switched to step: \" + str(i)}],  # layout attribute\n",
    "    )\n",
    "    step[\"args\"][0][\"visible\"][i] = True  # Toggle i'th trace to \"visible\"\n",
    "    steps.append(step)\n",
    "\n",
    "sliders = [dict(\n",
    "    active=10,\n",
    "    currentvalue={\"prefix\": \"Frequency: \"},\n",
    "    pad={\"t\": 50},\n",
    "    steps=steps\n",
    ")]\n",
    "\n",
    "fig.update_layout(\n",
    "    sliders=sliders\n",
    ")\n",
    "\n",
    "fig.show()"
   ]
  },
  {
   "cell_type": "code",
   "execution_count": null,
   "metadata": {},
   "outputs": [],
   "source": []
  },
  {
   "cell_type": "code",
   "execution_count": null,
   "metadata": {},
   "outputs": [],
   "source": []
  },
  {
   "cell_type": "code",
   "execution_count": null,
   "metadata": {},
   "outputs": [],
   "source": []
  },
  {
   "cell_type": "code",
   "execution_count": null,
   "metadata": {},
   "outputs": [],
   "source": []
  },
  {
   "cell_type": "code",
   "execution_count": 1,
   "metadata": {},
   "outputs": [],
   "source": [
    "import pandas as pd\n",
    "import numpy as np\n",
    "%matplotlib inline"
   ]
  },
  {
   "cell_type": "code",
   "execution_count": 2,
   "metadata": {},
   "outputs": [],
   "source": [
    "from plotly import __version__"
   ]
  },
  {
   "cell_type": "code",
   "execution_count": 3,
   "metadata": {},
   "outputs": [
    {
     "name": "stdout",
     "output_type": "stream",
     "text": [
      "4.11.0\n"
     ]
    }
   ],
   "source": [
    "print(__version__)"
   ]
  },
  {
   "cell_type": "code",
   "execution_count": 4,
   "metadata": {},
   "outputs": [
    {
     "ename": "ModuleNotFoundError",
     "evalue": "No module named 'cufflinks'",
     "output_type": "error",
     "traceback": [
      "\u001b[0;31m---------------------------------------------------------------------------\u001b[0m",
      "\u001b[0;31mModuleNotFoundError\u001b[0m                       Traceback (most recent call last)",
      "\u001b[0;32m<ipython-input-4-3178e833bc72>\u001b[0m in \u001b[0;36m<module>\u001b[0;34m\u001b[0m\n\u001b[0;32m----> 1\u001b[0;31m \u001b[0;32mimport\u001b[0m \u001b[0mcufflinks\u001b[0m \u001b[0;32mas\u001b[0m \u001b[0mcf\u001b[0m\u001b[0;34m\u001b[0m\u001b[0;34m\u001b[0m\u001b[0m\n\u001b[0m",
      "\u001b[0;31mModuleNotFoundError\u001b[0m: No module named 'cufflinks'"
     ]
    }
   ],
   "source": [
    "import cufflinks as cf"
   ]
  },
  {
   "cell_type": "code",
   "execution_count": 5,
   "metadata": {},
   "outputs": [],
   "source": [
    "from plotly.offline import download_plotlyjs, init_notebook_mode, plot, iplot"
   ]
  },
  {
   "cell_type": "code",
   "execution_count": 6,
   "metadata": {},
   "outputs": [
    {
     "data": {
      "text/html": [
       "        <script type=\"text/javascript\">\n",
       "        window.PlotlyConfig = {MathJaxConfig: 'local'};\n",
       "        if (window.MathJax) {MathJax.Hub.Config({SVG: {font: \"STIX-Web\"}});}\n",
       "        if (typeof require !== 'undefined') {\n",
       "        require.undef(\"plotly\");\n",
       "        requirejs.config({\n",
       "            paths: {\n",
       "                'plotly': ['https://cdn.plot.ly/plotly-latest.min']\n",
       "            }\n",
       "        });\n",
       "        require(['plotly'], function(Plotly) {\n",
       "            window._Plotly = Plotly;\n",
       "        });\n",
       "        }\n",
       "        </script>\n",
       "        "
      ]
     },
     "metadata": {},
     "output_type": "display_data"
    }
   ],
   "source": [
    "init_notebook_mode(connected=True)"
   ]
  },
  {
   "cell_type": "code",
   "execution_count": 7,
   "metadata": {},
   "outputs": [
    {
     "ename": "NameError",
     "evalue": "name 'cf' is not defined",
     "output_type": "error",
     "traceback": [
      "\u001b[0;31m---------------------------------------------------------------------------\u001b[0m",
      "\u001b[0;31mNameError\u001b[0m                                 Traceback (most recent call last)",
      "\u001b[0;32m<ipython-input-7-88c82032df53>\u001b[0m in \u001b[0;36m<module>\u001b[0;34m\u001b[0m\n\u001b[0;32m----> 1\u001b[0;31m \u001b[0mcf\u001b[0m\u001b[0;34m.\u001b[0m\u001b[0mgo_offline\u001b[0m\u001b[0;34m(\u001b[0m\u001b[0;34m)\u001b[0m\u001b[0;34m\u001b[0m\u001b[0;34m\u001b[0m\u001b[0m\n\u001b[0m",
      "\u001b[0;31mNameError\u001b[0m: name 'cf' is not defined"
     ]
    }
   ],
   "source": [
    "cf.go_offline()"
   ]
  },
  {
   "cell_type": "code",
   "execution_count": 8,
   "metadata": {},
   "outputs": [],
   "source": [
    "# DATA\n",
    "df = pd.DataFrame(np.random.randn(100,4), columns = 'A B C D'.split())"
   ]
  },
  {
   "cell_type": "code",
   "execution_count": 9,
   "metadata": {},
   "outputs": [
    {
     "data": {
      "text/html": [
       "<div>\n",
       "<style scoped>\n",
       "    .dataframe tbody tr th:only-of-type {\n",
       "        vertical-align: middle;\n",
       "    }\n",
       "\n",
       "    .dataframe tbody tr th {\n",
       "        vertical-align: top;\n",
       "    }\n",
       "\n",
       "    .dataframe thead th {\n",
       "        text-align: right;\n",
       "    }\n",
       "</style>\n",
       "<table border=\"1\" class=\"dataframe\">\n",
       "  <thead>\n",
       "    <tr style=\"text-align: right;\">\n",
       "      <th></th>\n",
       "      <th>A</th>\n",
       "      <th>B</th>\n",
       "      <th>C</th>\n",
       "      <th>D</th>\n",
       "    </tr>\n",
       "  </thead>\n",
       "  <tbody>\n",
       "    <tr>\n",
       "      <th>0</th>\n",
       "      <td>0.737795</td>\n",
       "      <td>0.768902</td>\n",
       "      <td>1.394781</td>\n",
       "      <td>-0.864288</td>\n",
       "    </tr>\n",
       "    <tr>\n",
       "      <th>1</th>\n",
       "      <td>0.487121</td>\n",
       "      <td>-0.929257</td>\n",
       "      <td>-0.594217</td>\n",
       "      <td>-0.269462</td>\n",
       "    </tr>\n",
       "    <tr>\n",
       "      <th>2</th>\n",
       "      <td>0.615659</td>\n",
       "      <td>0.708305</td>\n",
       "      <td>0.526471</td>\n",
       "      <td>-0.038182</td>\n",
       "    </tr>\n",
       "    <tr>\n",
       "      <th>3</th>\n",
       "      <td>0.094697</td>\n",
       "      <td>-0.153191</td>\n",
       "      <td>0.564727</td>\n",
       "      <td>-0.887657</td>\n",
       "    </tr>\n",
       "    <tr>\n",
       "      <th>4</th>\n",
       "      <td>-0.404591</td>\n",
       "      <td>1.773048</td>\n",
       "      <td>-1.363551</td>\n",
       "      <td>-0.644381</td>\n",
       "    </tr>\n",
       "  </tbody>\n",
       "</table>\n",
       "</div>"
      ],
      "text/plain": [
       "          A         B         C         D\n",
       "0  0.737795  0.768902  1.394781 -0.864288\n",
       "1  0.487121 -0.929257 -0.594217 -0.269462\n",
       "2  0.615659  0.708305  0.526471 -0.038182\n",
       "3  0.094697 -0.153191  0.564727 -0.887657\n",
       "4 -0.404591  1.773048 -1.363551 -0.644381"
      ]
     },
     "execution_count": 9,
     "metadata": {},
     "output_type": "execute_result"
    }
   ],
   "source": [
    "df.head()"
   ]
  },
  {
   "cell_type": "code",
   "execution_count": 10,
   "metadata": {},
   "outputs": [],
   "source": [
    "df2 = pd.DataFrame({'Category':['A','B','C'],'Values':[32,43,50]})"
   ]
  },
  {
   "cell_type": "code",
   "execution_count": 11,
   "metadata": {},
   "outputs": [
    {
     "data": {
      "text/html": [
       "<div>\n",
       "<style scoped>\n",
       "    .dataframe tbody tr th:only-of-type {\n",
       "        vertical-align: middle;\n",
       "    }\n",
       "\n",
       "    .dataframe tbody tr th {\n",
       "        vertical-align: top;\n",
       "    }\n",
       "\n",
       "    .dataframe thead th {\n",
       "        text-align: right;\n",
       "    }\n",
       "</style>\n",
       "<table border=\"1\" class=\"dataframe\">\n",
       "  <thead>\n",
       "    <tr style=\"text-align: right;\">\n",
       "      <th></th>\n",
       "      <th>Category</th>\n",
       "      <th>Values</th>\n",
       "    </tr>\n",
       "  </thead>\n",
       "  <tbody>\n",
       "    <tr>\n",
       "      <th>0</th>\n",
       "      <td>A</td>\n",
       "      <td>32</td>\n",
       "    </tr>\n",
       "    <tr>\n",
       "      <th>1</th>\n",
       "      <td>B</td>\n",
       "      <td>43</td>\n",
       "    </tr>\n",
       "    <tr>\n",
       "      <th>2</th>\n",
       "      <td>C</td>\n",
       "      <td>50</td>\n",
       "    </tr>\n",
       "  </tbody>\n",
       "</table>\n",
       "</div>"
      ],
      "text/plain": [
       "  Category  Values\n",
       "0        A      32\n",
       "1        B      43\n",
       "2        C      50"
      ]
     },
     "execution_count": 11,
     "metadata": {},
     "output_type": "execute_result"
    }
   ],
   "source": [
    "df2"
   ]
  },
  {
   "cell_type": "code",
   "execution_count": 12,
   "metadata": {},
   "outputs": [
    {
     "data": {
      "text/plain": [
       "<matplotlib.axes._subplots.AxesSubplot at 0x7f17d9a3e250>"
      ]
     },
     "execution_count": 12,
     "metadata": {},
     "output_type": "execute_result"
    },
    {
     "data": {
      "image/png": "[encoded data removed]",
      "text/plain": [
       "<Figure size 432x288 with 1 Axes>"
      ]
     },
     "metadata": {
      "needs_background": "light"
     },
     "output_type": "display_data"
    }
   ],
   "source": [
    "df.plot()"
   ]
  },
  {
   "cell_type": "code",
   "execution_count": 13,
   "metadata": {},
   "outputs": [
    {
     "ename": "AttributeError",
     "evalue": "'DataFrame' object has no attribute 'iplot'",
     "output_type": "error",
     "traceback": [
      "\u001b[0;31m---------------------------------------------------------------------------\u001b[0m",
      "\u001b[0;31mAttributeError\u001b[0m                            Traceback (most recent call last)",
      "\u001b[0;32m<ipython-input-13-69813823c9f3>\u001b[0m in \u001b[0;36m<module>\u001b[0;34m\u001b[0m\n\u001b[0;32m----> 1\u001b[0;31m \u001b[0mdf\u001b[0m\u001b[0;34m.\u001b[0m\u001b[0miplot\u001b[0m\u001b[0;34m(\u001b[0m\u001b[0;34m)\u001b[0m\u001b[0;34m\u001b[0m\u001b[0;34m\u001b[0m\u001b[0m\n\u001b[0m",
      "\u001b[0;32m~/anaconda3/lib/python3.8/site-packages/pandas/core/generic.py\u001b[0m in \u001b[0;36m__getattr__\u001b[0;34m(self, name)\u001b[0m\n\u001b[1;32m   5272\u001b[0m             \u001b[0;32mif\u001b[0m \u001b[0mself\u001b[0m\u001b[0;34m.\u001b[0m\u001b[0m_info_axis\u001b[0m\u001b[0;34m.\u001b[0m\u001b[0m_can_hold_identifiers_and_holds_name\u001b[0m\u001b[0;34m(\u001b[0m\u001b[0mname\u001b[0m\u001b[0;34m)\u001b[0m\u001b[0;34m:\u001b[0m\u001b[0;34m\u001b[0m\u001b[0;34m\u001b[0m\u001b[0m\n\u001b[1;32m   5273\u001b[0m                 \u001b[0;32mreturn\u001b[0m \u001b[0mself\u001b[0m\u001b[0;34m[\u001b[0m\u001b[0mname\u001b[0m\u001b[0;34m]\u001b[0m\u001b[0;34m\u001b[0m\u001b[0;34m\u001b[0m\u001b[0m\n\u001b[0;32m-> 5274\u001b[0;31m             \u001b[0;32mreturn\u001b[0m \u001b[0mobject\u001b[0m\u001b[0;34m.\u001b[0m\u001b[0m__getattribute__\u001b[0m\u001b[0;34m(\u001b[0m\u001b[0mself\u001b[0m\u001b[0;34m,\u001b[0m \u001b[0mname\u001b[0m\u001b[0;34m)\u001b[0m\u001b[0;34m\u001b[0m\u001b[0;34m\u001b[0m\u001b[0m\n\u001b[0m\u001b[1;32m   5275\u001b[0m \u001b[0;34m\u001b[0m\u001b[0m\n\u001b[1;32m   5276\u001b[0m     \u001b[0;32mdef\u001b[0m \u001b[0m__setattr__\u001b[0m\u001b[0;34m(\u001b[0m\u001b[0mself\u001b[0m\u001b[0;34m,\u001b[0m \u001b[0mname\u001b[0m\u001b[0;34m:\u001b[0m \u001b[0mstr\u001b[0m\u001b[0;34m,\u001b[0m \u001b[0mvalue\u001b[0m\u001b[0;34m)\u001b[0m \u001b[0;34m->\u001b[0m \u001b[0;32mNone\u001b[0m\u001b[0;34m:\u001b[0m\u001b[0;34m\u001b[0m\u001b[0;34m\u001b[0m\u001b[0m\n",
      "\u001b[0;31mAttributeError\u001b[0m: 'DataFrame' object has no attribute 'iplot'"
     ]
    }
   ],
   "source": [
    "df.iplot()"
   ]
  },
  {
   "cell_type": "code",
   "execution_count": 20,
   "metadata": {},
   "outputs": [
    {
     "data": {
      "application/vnd.plotly.v1+json": {
       "config": {
        "linkText": "Export to plot.ly",
        "plotlyServerURL": "https://plot.ly",
        "showLink": true
       },
       "data": [
        {
         "line": {
          "color": "rgba(255, 153, 51, 1.0)",
          "dash": "solid",
          "shape": "linear",
          "width": 1.3
         },
         "marker": {
          "size": 10,
          "symbol": "circle"
         },
         "mode": "markers",
         "name": "B",
         "text": "",
         "type": "scatter",
         "x": [
          -2.094397151479146,
          1.3941214922326817,
          -0.49945361503735913,
          -0.7298780946612285,
          -0.05879101960786524,
          1.2168416065981187,
          0.8690073762945215,
          1.0248764006001234,
          -0.15540585484017097,
          -0.16764986233001994,
          0.7778984780061986,
          -1.2435593599915684,
          0.25357332176071923,
          2.856586915070549,
          0.39692412082078316,
          -1.4345999368445181,
          -0.6162000698974652,
          0.03476259517769596,
          -2.009145407801507,
          1.4533919445471997,
          -0.8703182328567703,
          -0.6143084700493274,
          -0.34761024991025263,
          -0.05959062978705484,
          -0.7394525194780763,
          0.8340378920527788,
          -1.0391812744474584,
          0.17191340608343134,
          0.1586781853253161,
          -0.7750487092439783,
          0.438034060183595,
          -0.7280824873065657,
          -1.088870404711052,
          -0.8474580048152648,
          -2.0779113093562147,
          -0.3721246680362004,
          -0.5267640540901695,
          -1.2178948075205809,
          0.4043518045817308,
          -1.0334344178968475,
          0.49619293804226283,
          1.8708464437680499,
          1.0121451348718093,
          0.4269126817452754,
          -1.2349673225939606,
          0.39061767494739513,
          -0.6256157986469851,
          1.0351111300950826,
          -0.2450626994913141,
          0.06169580689106269,
          1.2499050049827194,
          -0.8473351234707631,
          0.6306685186978127,
          -1.9093082042900966,
          0.24302207947724627,
          -0.19948169908255228,
          -0.750993574668388,
          1.3137674387880596,
          -1.3441275580581578,
          -1.6729780203688531,
          1.164152543022755,
          -0.5617310684333279,
          -1.332295393318157,
          -0.07760242062662576,
          -0.46830100567090677,
          -0.9494876742710063,
          0.6281755129455628,
          -0.9333849785276441,
          -1.9957226612196735,
          -0.10762144124963756,
          0.4208020094415041,
          2.3769857538857306,
          1.3782159691673053,
          0.10990996413442164,
          -1.122310055421987,
          0.9507291380354317,
          -0.4627422441340983,
          1.3847759602273377,
          0.7392940658133781,
          1.3798724102148878,
          1.0354438906558976,
          1.170393638809026,
          1.6744622234240154,
          -0.5340913166387504,
          1.3192837607724976,
          -1.8217211430156675,
          -0.0955557940497877,
          -1.7025104060459593,
          1.49330659712763,
          1.4549119243746382,
          -0.44609922249017514,
          2.2957166286477166,
          -1.0559690993793378,
          0.8833646003473479,
          0.8406456933235341,
          -0.17628257884410958,
          0.22306309235647964,
          -0.034604504310288525,
          -0.8417879309313906,
          -1.978385623888586
         ],
         "y": [
          0.5144289608344228,
          0.5724069466256909,
          -0.30819993513771204,
          -0.28761213166610755,
          -0.5458296642997473,
          1.3342341378269325,
          -0.059879995787046364,
          1.3787691268830158,
          1.5187665540777449,
          -2.7519432034869826,
          -1.2056198902311772,
          -0.3629064877540202,
          0.640991257007152,
          -0.47206448107358195,
          -1.0878072262077378,
          -0.15543977760143152,
          -0.8625906044930144,
          -1.7663404323726277,
          1.064994168719819,
          -1.6184662127345653,
          -0.8190616080352211,
          0.7866409263948574,
          -0.19045252367988008,
          1.5969345615530797,
          -0.7044302258560525,
          -0.7900860768132202,
          -1.0735371514754384,
          0.8012526553151388,
          -0.02553132822250245,
          -0.30582686018085536,
          1.4651450194678122,
          -0.8071478717507671,
          0.8376367062569227,
          -0.6329941306779358,
          0.0867084974824401,
          0.05027790087844485,
          -0.2647802167855846,
          1.118984671133748,
          -0.5516072597736149,
          1.8162088275534043,
          -0.44479829986457453,
          0.1569398525620239,
          -1.3824017681664396,
          -0.036541635193980834,
          -0.7447235813408297,
          1.0983606818404243,
          -0.5136529937783657,
          1.7291436530420121,
          0.1816288109054654,
          0.9684547021866818,
          1.5510770631391406,
          -1.0475474342787952,
          -0.6121541607127508,
          1.0571791629492353,
          0.4030738424095661,
          0.5785052092954551,
          0.41074496678539,
          -1.1472776811644665,
          -0.33404848635404577,
          0.1032631854144026,
          2.0443381358099395,
          -0.5966934895063976,
          0.942536444239893,
          -0.9918626005209825,
          2.44059767258467,
          -0.8491252491305082,
          0.5155652443863213,
          -0.8476353923799457,
          -1.6795012845786021,
          1.0044005780947,
          -0.7103791063828504,
          0.5696648510909781,
          0.6978372215304477,
          -1.306728185712887,
          -0.20781386971509166,
          0.9986223565261442,
          0.7651501071650623,
          0.03834750962941581,
          -0.26329636784691046,
          -0.698448027060385,
          0.8293742290726839,
          0.5607838686827155,
          0.8671309641732743,
          0.894047112532386,
          0.47888307509295996,
          0.1892331690303111,
          -0.19289836917771339,
          2.292177153010583,
          0.251550634248612,
          0.24654175294065175,
          0.07806475208841698,
          1.2137666385299004,
          -0.6859853527506332,
          -1.4133773145942006,
          -0.3635762036436802,
          -0.5853034319336741,
          -0.3089010394401241,
          -1.228501650071791,
          0.22216134807810084,
          1.3418905806243608
         ]
        }
       ],
       "layout": {
        "legend": {
         "bgcolor": "#F5F6F9",
         "font": {
          "color": "#4D5663"
         }
        },
        "paper_bgcolor": "#F5F6F9",
        "plot_bgcolor": "#F5F6F9",
        "template": {
         "data": {
          "bar": [
           {
            "error_x": {
             "color": "#2a3f5f"
            },
            "error_y": {
             "color": "#2a3f5f"
            },
            "marker": {
             "line": {
              "color": "#E5ECF6",
              "width": 0.5
             }
            },
            "type": "bar"
           }
          ],
          "barpolar": [
           {
            "marker": {
             "line": {
              "color": "#E5ECF6",
              "width": 0.5
             }
            },
            "type": "barpolar"
           }
          ],
          "carpet": [
           {
            "aaxis": {
             "endlinecolor": "#2a3f5f",
             "gridcolor": "white",
             "linecolor": "white",
             "minorgridcolor": "white",
             "startlinecolor": "#2a3f5f"
            },
            "baxis": {
             "endlinecolor": "#2a3f5f",
             "gridcolor": "white",
             "linecolor": "white",
             "minorgridcolor": "white",
             "startlinecolor": "#2a3f5f"
            },
            "type": "carpet"
           }
          ],
          "choropleth": [
           {
            "colorbar": {
             "outlinewidth": 0,
             "ticks": ""
            },
            "type": "choropleth"
           }
          ],
          "contour": [
           {
            "colorbar": {
             "outlinewidth": 0,
             "ticks": ""
            },
            "colorscale": [
             [
              0,
              "#0d0887"
             ],
             [
              0.1111111111111111,
              "#46039f"
             ],
             [
              0.2222222222222222,
              "#7201a8"
             ],
             [
              0.3333333333333333,
              "#9c179e"
             ],
             [
              0.4444444444444444,
              "#bd3786"
             ],
             [
              0.5555555555555556,
              "#d8576b"
             ],
             [
              0.6666666666666666,
              "#ed7953"
             ],
             [
              0.7777777777777778,
              "#fb9f3a"
             ],
             [
              0.8888888888888888,
              "#fdca26"
             ],
             [
              1,
              "#f0f921"
             ]
            ],
            "type": "contour"
           }
          ],
          "contourcarpet": [
           {
            "colorbar": {
             "outlinewidth": 0,
             "ticks": ""
            },
            "type": "contourcarpet"
           }
          ],
          "heatmap": [
           {
            "colorbar": {
             "outlinewidth": 0,
             "ticks": ""
            },
            "colorscale": [
             [
              0,
              "#0d0887"
             ],
             [
              0.1111111111111111,
              "#46039f"
             ],
             [
              0.2222222222222222,
              "#7201a8"
             ],
             [
              0.3333333333333333,
              "#9c179e"
             ],
             [
              0.4444444444444444,
              "#bd3786"
             ],
             [
              0.5555555555555556,
              "#d8576b"
             ],
             [
              0.6666666666666666,
              "#ed7953"
             ],
             [
              0.7777777777777778,
              "#fb9f3a"
             ],
             [
              0.8888888888888888,
              "#fdca26"
             ],
             [
              1,
              "#f0f921"
             ]
            ],
            "type": "heatmap"
           }
          ],
          "heatmapgl": [
           {
            "colorbar": {
             "outlinewidth": 0,
             "ticks": ""
            },
            "colorscale": [
             [
              0,
              "#0d0887"
             ],
             [
              0.1111111111111111,
              "#46039f"
             ],
             [
              0.2222222222222222,
              "#7201a8"
             ],
             [
              0.3333333333333333,
              "#9c179e"
             ],
             [
              0.4444444444444444,
              "#bd3786"
             ],
             [
              0.5555555555555556,
              "#d8576b"
             ],
             [
              0.6666666666666666,
              "#ed7953"
             ],
             [
              0.7777777777777778,
              "#fb9f3a"
             ],
             [
              0.8888888888888888,
              "#fdca26"
             ],
             [
              1,
              "#f0f921"
             ]
            ],
            "type": "heatmapgl"
           }
          ],
          "histogram": [
           {
            "marker": {
             "colorbar": {
              "outlinewidth": 0,
              "ticks": ""
             }
            },
            "type": "histogram"
           }
          ],
          "histogram2d": [
           {
            "colorbar": {
             "outlinewidth": 0,
             "ticks": ""
            },
            "colorscale": [
             [
              0,
              "#0d0887"
             ],
             [
              0.1111111111111111,
              "#46039f"
             ],
             [
              0.2222222222222222,
              "#7201a8"
             ],
             [
              0.3333333333333333,
              "#9c179e"
             ],
             [
              0.4444444444444444,
              "#bd3786"
             ],
             [
              0.5555555555555556,
              "#d8576b"
             ],
             [
              0.6666666666666666,
              "#ed7953"
             ],
             [
              0.7777777777777778,
              "#fb9f3a"
             ],
             [
              0.8888888888888888,
              "#fdca26"
             ],
             [
              1,
              "#f0f921"
             ]
            ],
            "type": "histogram2d"
           }
          ],
          "histogram2dcontour": [
           {
            "colorbar": {
             "outlinewidth": 0,
             "ticks": ""
            },
            "colorscale": [
             [
              0,
              "#0d0887"
             ],
             [
              0.1111111111111111,
              "#46039f"
             ],
             [
              0.2222222222222222,
              "#7201a8"
             ],
             [
              0.3333333333333333,
              "#9c179e"
             ],
             [
              0.4444444444444444,
              "#bd3786"
             ],
             [
              0.5555555555555556,
              "#d8576b"
             ],
             [
              0.6666666666666666,
              "#ed7953"
             ],
             [
              0.7777777777777778,
              "#fb9f3a"
             ],
             [
              0.8888888888888888,
              "#fdca26"
             ],
             [
              1,
              "#f0f921"
             ]
            ],
            "type": "histogram2dcontour"
           }
          ],
          "mesh3d": [
           {
            "colorbar": {
             "outlinewidth": 0,
             "ticks": ""
            },
            "type": "mesh3d"
           }
          ],
          "parcoords": [
           {
            "line": {
             "colorbar": {
              "outlinewidth": 0,
              "ticks": ""
             }
            },
            "type": "parcoords"
           }
          ],
          "pie": [
           {
            "automargin": true,
            "type": "pie"
           }
          ],
          "scatter": [
           {
            "marker": {
             "colorbar": {
              "outlinewidth": 0,
              "ticks": ""
             }
            },
            "type": "scatter"
           }
          ],
          "scatter3d": [
           {
            "line": {
             "colorbar": {
              "outlinewidth": 0,
              "ticks": ""
             }
            },
            "marker": {
             "colorbar": {
              "outlinewidth": 0,
              "ticks": ""
             }
            },
            "type": "scatter3d"
           }
          ],
          "scattercarpet": [
           {
            "marker": {
             "colorbar": {
              "outlinewidth": 0,
              "ticks": ""
             }
            },
            "type": "scattercarpet"
           }
          ],
          "scattergeo": [
           {
            "marker": {
             "colorbar": {
              "outlinewidth": 0,
              "ticks": ""
             }
            },
            "type": "scattergeo"
           }
          ],
          "scattergl": [
           {
            "marker": {
             "colorbar": {
              "outlinewidth": 0,
              "ticks": ""
             }
            },
            "type": "scattergl"
           }
          ],
          "scattermapbox": [
           {
            "marker": {
             "colorbar": {
              "outlinewidth": 0,
              "ticks": ""
             }
            },
            "type": "scattermapbox"
           }
          ],
          "scatterpolar": [
           {
            "marker": {
             "colorbar": {
              "outlinewidth": 0,
              "ticks": ""
             }
            },
            "type": "scatterpolar"
           }
          ],
          "scatterpolargl": [
           {
            "marker": {
             "colorbar": {
              "outlinewidth": 0,
              "ticks": ""
             }
            },
            "type": "scatterpolargl"
           }
          ],
          "scatterternary": [
           {
            "marker": {
             "colorbar": {
              "outlinewidth": 0,
              "ticks": ""
             }
            },
            "type": "scatterternary"
           }
          ],
          "surface": [
           {
            "colorbar": {
             "outlinewidth": 0,
             "ticks": ""
            },
            "colorscale": [
             [
              0,
              "#0d0887"
             ],
             [
              0.1111111111111111,
              "#46039f"
             ],
             [
              0.2222222222222222,
              "#7201a8"
             ],
             [
              0.3333333333333333,
              "#9c179e"
             ],
             [
              0.4444444444444444,
              "#bd3786"
             ],
             [
              0.5555555555555556,
              "#d8576b"
             ],
             [
              0.6666666666666666,
              "#ed7953"
             ],
             [
              0.7777777777777778,
              "#fb9f3a"
             ],
             [
              0.8888888888888888,
              "#fdca26"
             ],
             [
              1,
              "#f0f921"
             ]
            ],
            "type": "surface"
           }
          ],
          "table": [
           {
            "cells": {
             "fill": {
              "color": "#EBF0F8"
             },
             "line": {
              "color": "white"
             }
            },
            "header": {
             "fill": {
              "color": "#C8D4E3"
             },
             "line": {
              "color": "white"
             }
            },
            "type": "table"
           }
          ]
         },
         "layout": {
          "annotationdefaults": {
           "arrowcolor": "#2a3f5f",
           "arrowhead": 0,
           "arrowwidth": 1
          },
          "coloraxis": {
           "colorbar": {
            "outlinewidth": 0,
            "ticks": ""
           }
          },
          "colorscale": {
           "diverging": [
            [
             0,
             "#8e0152"
            ],
            [
             0.1,
             "#c51b7d"
            ],
            [
             0.2,
             "#de77ae"
            ],
            [
             0.3,
             "#f1b6da"
            ],
            [
             0.4,
             "#fde0ef"
            ],
            [
             0.5,
             "#f7f7f7"
            ],
            [
             0.6,
             "#e6f5d0"
            ],
            [
             0.7,
             "#b8e186"
            ],
            [
             0.8,
             "#7fbc41"
            ],
            [
             0.9,
             "#4d9221"
            ],
            [
             1,
             "#276419"
            ]
           ],
           "sequential": [
            [
             0,
             "#0d0887"
            ],
            [
             0.1111111111111111,
             "#46039f"
            ],
            [
             0.2222222222222222,
             "#7201a8"
            ],
            [
             0.3333333333333333,
             "#9c179e"
            ],
            [
             0.4444444444444444,
             "#bd3786"
            ],
            [
             0.5555555555555556,
             "#d8576b"
            ],
            [
             0.6666666666666666,
             "#ed7953"
            ],
            [
             0.7777777777777778,
             "#fb9f3a"
            ],
            [
             0.8888888888888888,
             "#fdca26"
            ],
            [
             1,
             "#f0f921"
            ]
           ],
           "sequentialminus": [
            [
             0,
             "#0d0887"
            ],
            [
             0.1111111111111111,
             "#46039f"
            ],
            [
             0.2222222222222222,
             "#7201a8"
            ],
            [
             0.3333333333333333,
             "#9c179e"
            ],
            [
             0.4444444444444444,
             "#bd3786"
            ],
            [
             0.5555555555555556,
             "#d8576b"
            ],
            [
             0.6666666666666666,
             "#ed7953"
            ],
            [
             0.7777777777777778,
             "#fb9f3a"
            ],
            [
             0.8888888888888888,
             "#fdca26"
            ],
            [
             1,
             "#f0f921"
            ]
           ]
          },
          "colorway": [
           "#636efa",
           "#EF553B",
           "#00cc96",
           "#ab63fa",
           "#FFA15A",
           "#19d3f3",
           "#FF6692",
           "#B6E880",
           "#FF97FF",
           "#FECB52"
          ],
          "font": {
           "color": "#2a3f5f"
          },
          "geo": {
           "bgcolor": "white",
           "lakecolor": "white",
           "landcolor": "#E5ECF6",
           "showlakes": true,
           "showland": true,
           "subunitcolor": "white"
          },
          "hoverlabel": {
           "align": "left"
          },
          "hovermode": "closest",
          "mapbox": {
           "style": "light"
          },
          "paper_bgcolor": "white",
          "plot_bgcolor": "#E5ECF6",
          "polar": {
           "angularaxis": {
            "gridcolor": "white",
            "linecolor": "white",
            "ticks": ""
           },
           "bgcolor": "#E5ECF6",
           "radialaxis": {
            "gridcolor": "white",
            "linecolor": "white",
            "ticks": ""
           }
          },
          "scene": {
           "xaxis": {
            "backgroundcolor": "#E5ECF6",
            "gridcolor": "white",
            "gridwidth": 2,
            "linecolor": "white",
            "showbackground": true,
            "ticks": "",
            "zerolinecolor": "white"
           },
           "yaxis": {
            "backgroundcolor": "#E5ECF6",
            "gridcolor": "white",
            "gridwidth": 2,
            "linecolor": "white",
            "showbackground": true,
            "ticks": "",
            "zerolinecolor": "white"
           },
           "zaxis": {
            "backgroundcolor": "#E5ECF6",
            "gridcolor": "white",
            "gridwidth": 2,
            "linecolor": "white",
            "showbackground": true,
            "ticks": "",
            "zerolinecolor": "white"
           }
          },
          "shapedefaults": {
           "line": {
            "color": "#2a3f5f"
           }
          },
          "ternary": {
           "aaxis": {
            "gridcolor": "white",
            "linecolor": "white",
            "ticks": ""
           },
           "baxis": {
            "gridcolor": "white",
            "linecolor": "white",
            "ticks": ""
           },
           "bgcolor": "#E5ECF6",
           "caxis": {
            "gridcolor": "white",
            "linecolor": "white",
            "ticks": ""
           }
          },
          "title": {
           "x": 0.05
          },
          "xaxis": {
           "automargin": true,
           "gridcolor": "white",
           "linecolor": "white",
           "ticks": "",
           "title": {
            "standoff": 15
           },
           "zerolinecolor": "white",
           "zerolinewidth": 2
          },
          "yaxis": {
           "automargin": true,
           "gridcolor": "white",
           "linecolor": "white",
           "ticks": "",
           "title": {
            "standoff": 15
           },
           "zerolinecolor": "white",
           "zerolinewidth": 2
          }
         }
        },
        "title": {
         "font": {
          "color": "#4D5663"
         }
        },
        "xaxis": {
         "gridcolor": "#E1E5ED",
         "showgrid": true,
         "tickfont": {
          "color": "#4D5663"
         },
         "title": {
          "font": {
           "color": "#4D5663"
          },
          "text": ""
         },
         "zerolinecolor": "#E1E5ED"
        },
        "yaxis": {
         "gridcolor": "#E1E5ED",
         "showgrid": true,
         "tickfont": {
          "color": "#4D5663"
         },
         "title": {
          "font": {
           "color": "#4D5663"
          },
          "text": ""
         },
         "zerolinecolor": "#E1E5ED"
        }
       }
      },
      "text/html": [
       "<div>\n",
       "        \n",
       "        \n",
       "            <div id=\"512ed121-f200-47aa-be01-fa3ec8ea8b02\" class=\"plotly-graph-div\" style=\"height:525px; width:100%;\"></div>\n",
       "            <script type=\"text/javascript\">\n",
       "                require([\"plotly\"], function(Plotly) {\n",
       "                    window.PLOTLYENV=window.PLOTLYENV || {};\n",
       "                    window.PLOTLYENV.BASE_URL='https://plot.ly';\n",
       "                    \n",
       "                if (document.getElementById(\"512ed121-f200-47aa-be01-fa3ec8ea8b02\")) {\n",
       "                    Plotly.newPlot(\n",
       "                        '512ed121-f200-47aa-be01-fa3ec8ea8b02',\n",
       "                        [{\"line\": {\"color\": \"rgba(255, 153, 51, 1.0)\", \"dash\": \"solid\", \"shape\": \"linear\", \"width\": 1.3}, \"marker\": {\"size\": 10, \"symbol\": \"circle\"}, \"mode\": \"markers\", \"name\": \"B\", \"text\": \"\", \"type\": \"scatter\", \"x\": [-2.094397151479146, 1.3941214922326817, -0.49945361503735913, -0.7298780946612285, -0.05879101960786524, 1.2168416065981187, 0.8690073762945215, 1.0248764006001234, -0.15540585484017097, -0.16764986233001994, 0.7778984780061986, -1.2435593599915684, 0.25357332176071923, 2.856586915070549, 0.39692412082078316, -1.4345999368445181, -0.6162000698974652, 0.03476259517769596, -2.009145407801507, 1.4533919445471997, -0.8703182328567703, -0.6143084700493274, -0.34761024991025263, -0.05959062978705484, -0.7394525194780763, 0.8340378920527788, -1.0391812744474584, 0.17191340608343134, 0.1586781853253161, -0.7750487092439783, 0.438034060183595, -0.7280824873065657, -1.088870404711052, -0.8474580048152648, -2.0779113093562147, -0.3721246680362004, -0.5267640540901695, -1.2178948075205809, 0.4043518045817308, -1.0334344178968475, 0.49619293804226283, 1.8708464437680499, 1.0121451348718093, 0.4269126817452754, -1.2349673225939606, 0.39061767494739513, -0.6256157986469851, 1.0351111300950826, -0.2450626994913141, 0.06169580689106269, 1.2499050049827194, -0.8473351234707631, 0.6306685186978127, -1.9093082042900966, 0.24302207947724627, -0.19948169908255228, -0.750993574668388, 1.3137674387880596, -1.3441275580581578, -1.6729780203688531, 1.164152543022755, -0.5617310684333279, -1.332295393318157, -0.07760242062662576, -0.46830100567090677, -0.9494876742710063, 0.6281755129455628, -0.9333849785276441, -1.9957226612196735, -0.10762144124963756, 0.4208020094415041, 2.3769857538857306, 1.3782159691673053, 0.10990996413442164, -1.122310055421987, 0.9507291380354317, -0.4627422441340983, 1.3847759602273377, 0.7392940658133781, 1.3798724102148878, 1.0354438906558976, 1.170393638809026, 1.6744622234240154, -0.5340913166387504, 1.3192837607724976, -1.8217211430156675, -0.0955557940497877, -1.7025104060459593, 1.49330659712763, 1.4549119243746382, -0.44609922249017514, 2.2957166286477166, -1.0559690993793378, 0.8833646003473479, 0.8406456933235341, -0.17628257884410958, 0.22306309235647964, -0.034604504310288525, -0.8417879309313906, -1.978385623888586], \"y\": [0.5144289608344228, 0.5724069466256909, -0.30819993513771204, -0.28761213166610755, -0.5458296642997473, 1.3342341378269325, -0.059879995787046364, 1.3787691268830158, 1.5187665540777449, -2.7519432034869826, -1.2056198902311772, -0.3629064877540202, 0.640991257007152, -0.47206448107358195, -1.0878072262077378, -0.15543977760143152, -0.8625906044930144, -1.7663404323726277, 1.064994168719819, -1.6184662127345653, -0.8190616080352211, 0.7866409263948574, -0.19045252367988008, 1.5969345615530797, -0.7044302258560525, -0.7900860768132202, -1.0735371514754384, 0.8012526553151388, -0.02553132822250245, -0.30582686018085536, 1.4651450194678122, -0.8071478717507671, 0.8376367062569227, -0.6329941306779358, 0.0867084974824401, 0.05027790087844485, -0.2647802167855846, 1.118984671133748, -0.5516072597736149, 1.8162088275534043, -0.44479829986457453, 0.1569398525620239, -1.3824017681664396, -0.036541635193980834, -0.7447235813408297, 1.0983606818404243, -0.5136529937783657, 1.7291436530420121, 0.1816288109054654, 0.9684547021866818, 1.5510770631391406, -1.0475474342787952, -0.6121541607127508, 1.0571791629492353, 0.4030738424095661, 0.5785052092954551, 0.41074496678539, -1.1472776811644665, -0.33404848635404577, 0.1032631854144026, 2.0443381358099395, -0.5966934895063976, 0.942536444239893, -0.9918626005209825, 2.44059767258467, -0.8491252491305082, 0.5155652443863213, -0.8476353923799457, -1.6795012845786021, 1.0044005780947, -0.7103791063828504, 0.5696648510909781, 0.6978372215304477, -1.306728185712887, -0.20781386971509166, 0.9986223565261442, 0.7651501071650623, 0.03834750962941581, -0.26329636784691046, -0.698448027060385, 0.8293742290726839, 0.5607838686827155, 0.8671309641732743, 0.894047112532386, 0.47888307509295996, 0.1892331690303111, -0.19289836917771339, 2.292177153010583, 0.251550634248612, 0.24654175294065175, 0.07806475208841698, 1.2137666385299004, -0.6859853527506332, -1.4133773145942006, -0.3635762036436802, -0.5853034319336741, -0.3089010394401241, -1.228501650071791, 0.22216134807810084, 1.3418905806243608]}],\n",
       "                        {\"legend\": {\"bgcolor\": \"#F5F6F9\", \"font\": {\"color\": \"#4D5663\"}}, \"paper_bgcolor\": \"#F5F6F9\", \"plot_bgcolor\": \"#F5F6F9\", \"template\": {\"data\": {\"bar\": [{\"error_x\": {\"color\": \"#2a3f5f\"}, \"error_y\": {\"color\": \"#2a3f5f\"}, \"marker\": {\"line\": {\"color\": \"#E5ECF6\", \"width\": 0.5}}, \"type\": \"bar\"}], \"barpolar\": [{\"marker\": {\"line\": {\"color\": \"#E5ECF6\", \"width\": 0.5}}, \"type\": \"barpolar\"}], \"carpet\": [{\"aaxis\": {\"endlinecolor\": \"#2a3f5f\", \"gridcolor\": \"white\", \"linecolor\": \"white\", \"minorgridcolor\": \"white\", \"startlinecolor\": \"#2a3f5f\"}, \"baxis\": {\"endlinecolor\": \"#2a3f5f\", \"gridcolor\": \"white\", \"linecolor\": \"white\", \"minorgridcolor\": \"white\", \"startlinecolor\": \"#2a3f5f\"}, \"type\": \"carpet\"}], \"choropleth\": [{\"colorbar\": {\"outlinewidth\": 0, \"ticks\": \"\"}, \"type\": \"choropleth\"}], \"contour\": [{\"colorbar\": {\"outlinewidth\": 0, \"ticks\": \"\"}, \"colorscale\": [[0.0, \"#0d0887\"], [0.1111111111111111, \"#46039f\"], [0.2222222222222222, \"#7201a8\"], [0.3333333333333333, \"#9c179e\"], [0.4444444444444444, \"#bd3786\"], [0.5555555555555556, \"#d8576b\"], [0.6666666666666666, \"#ed7953\"], [0.7777777777777778, \"#fb9f3a\"], [0.8888888888888888, \"#fdca26\"], [1.0, \"#f0f921\"]], \"type\": \"contour\"}], \"contourcarpet\": [{\"colorbar\": {\"outlinewidth\": 0, \"ticks\": \"\"}, \"type\": \"contourcarpet\"}], \"heatmap\": [{\"colorbar\": {\"outlinewidth\": 0, \"ticks\": \"\"}, \"colorscale\": [[0.0, \"#0d0887\"], [0.1111111111111111, \"#46039f\"], [0.2222222222222222, \"#7201a8\"], [0.3333333333333333, \"#9c179e\"], [0.4444444444444444, \"#bd3786\"], [0.5555555555555556, \"#d8576b\"], [0.6666666666666666, \"#ed7953\"], [0.7777777777777778, \"#fb9f3a\"], [0.8888888888888888, \"#fdca26\"], [1.0, \"#f0f921\"]], \"type\": \"heatmap\"}], \"heatmapgl\": [{\"colorbar\": {\"outlinewidth\": 0, \"ticks\": \"\"}, \"colorscale\": [[0.0, \"#0d0887\"], [0.1111111111111111, \"#46039f\"], [0.2222222222222222, \"#7201a8\"], [0.3333333333333333, \"#9c179e\"], [0.4444444444444444, \"#bd3786\"], [0.5555555555555556, \"#d8576b\"], [0.6666666666666666, \"#ed7953\"], [0.7777777777777778, \"#fb9f3a\"], [0.8888888888888888, \"#fdca26\"], [1.0, \"#f0f921\"]], \"type\": \"heatmapgl\"}], \"histogram\": [{\"marker\": {\"colorbar\": {\"outlinewidth\": 0, \"ticks\": \"\"}}, \"type\": \"histogram\"}], \"histogram2d\": [{\"colorbar\": {\"outlinewidth\": 0, \"ticks\": \"\"}, \"colorscale\": [[0.0, \"#0d0887\"], [0.1111111111111111, \"#46039f\"], [0.2222222222222222, \"#7201a8\"], [0.3333333333333333, \"#9c179e\"], [0.4444444444444444, \"#bd3786\"], [0.5555555555555556, \"#d8576b\"], [0.6666666666666666, \"#ed7953\"], [0.7777777777777778, \"#fb9f3a\"], [0.8888888888888888, \"#fdca26\"], [1.0, \"#f0f921\"]], \"type\": \"histogram2d\"}], \"histogram2dcontour\": [{\"colorbar\": {\"outlinewidth\": 0, \"ticks\": \"\"}, \"colorscale\": [[0.0, \"#0d0887\"], [0.1111111111111111, \"#46039f\"], [0.2222222222222222, \"#7201a8\"], [0.3333333333333333, \"#9c179e\"], [0.4444444444444444, \"#bd3786\"], [0.5555555555555556, \"#d8576b\"], [0.6666666666666666, \"#ed7953\"], [0.7777777777777778, \"#fb9f3a\"], [0.8888888888888888, \"#fdca26\"], [1.0, \"#f0f921\"]], \"type\": \"histogram2dcontour\"}], \"mesh3d\": [{\"colorbar\": {\"outlinewidth\": 0, \"ticks\": \"\"}, \"type\": \"mesh3d\"}], \"parcoords\": [{\"line\": {\"colorbar\": {\"outlinewidth\": 0, \"ticks\": \"\"}}, \"type\": \"parcoords\"}], \"pie\": [{\"automargin\": true, \"type\": \"pie\"}], \"scatter\": [{\"marker\": {\"colorbar\": {\"outlinewidth\": 0, \"ticks\": \"\"}}, \"type\": \"scatter\"}], \"scatter3d\": [{\"line\": {\"colorbar\": {\"outlinewidth\": 0, \"ticks\": \"\"}}, \"marker\": {\"colorbar\": {\"outlinewidth\": 0, \"ticks\": \"\"}}, \"type\": \"scatter3d\"}], \"scattercarpet\": [{\"marker\": {\"colorbar\": {\"outlinewidth\": 0, \"ticks\": \"\"}}, \"type\": \"scattercarpet\"}], \"scattergeo\": [{\"marker\": {\"colorbar\": {\"outlinewidth\": 0, \"ticks\": \"\"}}, \"type\": \"scattergeo\"}], \"scattergl\": [{\"marker\": {\"colorbar\": {\"outlinewidth\": 0, \"ticks\": \"\"}}, \"type\": \"scattergl\"}], \"scattermapbox\": [{\"marker\": {\"colorbar\": {\"outlinewidth\": 0, \"ticks\": \"\"}}, \"type\": \"scattermapbox\"}], \"scatterpolar\": [{\"marker\": {\"colorbar\": {\"outlinewidth\": 0, \"ticks\": \"\"}}, \"type\": \"scatterpolar\"}], \"scatterpolargl\": [{\"marker\": {\"colorbar\": {\"outlinewidth\": 0, \"ticks\": \"\"}}, \"type\": \"scatterpolargl\"}], \"scatterternary\": [{\"marker\": {\"colorbar\": {\"outlinewidth\": 0, \"ticks\": \"\"}}, \"type\": \"scatterternary\"}], \"surface\": [{\"colorbar\": {\"outlinewidth\": 0, \"ticks\": \"\"}, \"colorscale\": [[0.0, \"#0d0887\"], [0.1111111111111111, \"#46039f\"], [0.2222222222222222, \"#7201a8\"], [0.3333333333333333, \"#9c179e\"], [0.4444444444444444, \"#bd3786\"], [0.5555555555555556, \"#d8576b\"], [0.6666666666666666, \"#ed7953\"], [0.7777777777777778, \"#fb9f3a\"], [0.8888888888888888, \"#fdca26\"], [1.0, \"#f0f921\"]], \"type\": \"surface\"}], \"table\": [{\"cells\": {\"fill\": {\"color\": \"#EBF0F8\"}, \"line\": {\"color\": \"white\"}}, \"header\": {\"fill\": {\"color\": \"#C8D4E3\"}, \"line\": {\"color\": \"white\"}}, \"type\": \"table\"}]}, \"layout\": {\"annotationdefaults\": {\"arrowcolor\": \"#2a3f5f\", \"arrowhead\": 0, \"arrowwidth\": 1}, \"coloraxis\": {\"colorbar\": {\"outlinewidth\": 0, \"ticks\": \"\"}}, \"colorscale\": {\"diverging\": [[0, \"#8e0152\"], [0.1, \"#c51b7d\"], [0.2, \"#de77ae\"], [0.3, \"#f1b6da\"], [0.4, \"#fde0ef\"], [0.5, \"#f7f7f7\"], [0.6, \"#e6f5d0\"], [0.7, \"#b8e186\"], [0.8, \"#7fbc41\"], [0.9, \"#4d9221\"], [1, \"#276419\"]], \"sequential\": [[0.0, \"#0d0887\"], [0.1111111111111111, \"#46039f\"], [0.2222222222222222, \"#7201a8\"], [0.3333333333333333, \"#9c179e\"], [0.4444444444444444, \"#bd3786\"], [0.5555555555555556, \"#d8576b\"], [0.6666666666666666, \"#ed7953\"], [0.7777777777777778, \"#fb9f3a\"], [0.8888888888888888, \"#fdca26\"], [1.0, \"#f0f921\"]], \"sequentialminus\": [[0.0, \"#0d0887\"], [0.1111111111111111, \"#46039f\"], [0.2222222222222222, \"#7201a8\"], [0.3333333333333333, \"#9c179e\"], [0.4444444444444444, \"#bd3786\"], [0.5555555555555556, \"#d8576b\"], [0.6666666666666666, \"#ed7953\"], [0.7777777777777778, \"#fb9f3a\"], [0.8888888888888888, \"#fdca26\"], [1.0, \"#f0f921\"]]}, \"colorway\": [\"#636efa\", \"#EF553B\", \"#00cc96\", \"#ab63fa\", \"#FFA15A\", \"#19d3f3\", \"#FF6692\", \"#B6E880\", \"#FF97FF\", \"#FECB52\"], \"font\": {\"color\": \"#2a3f5f\"}, \"geo\": {\"bgcolor\": \"white\", \"lakecolor\": \"white\", \"landcolor\": \"#E5ECF6\", \"showlakes\": true, \"showland\": true, \"subunitcolor\": \"white\"}, \"hoverlabel\": {\"align\": \"left\"}, \"hovermode\": \"closest\", \"mapbox\": {\"style\": \"light\"}, \"paper_bgcolor\": \"white\", \"plot_bgcolor\": \"#E5ECF6\", \"polar\": {\"angularaxis\": {\"gridcolor\": \"white\", \"linecolor\": \"white\", \"ticks\": \"\"}, \"bgcolor\": \"#E5ECF6\", \"radialaxis\": {\"gridcolor\": \"white\", \"linecolor\": \"white\", \"ticks\": \"\"}}, \"scene\": {\"xaxis\": {\"backgroundcolor\": \"#E5ECF6\", \"gridcolor\": \"white\", \"gridwidth\": 2, \"linecolor\": \"white\", \"showbackground\": true, \"ticks\": \"\", \"zerolinecolor\": \"white\"}, \"yaxis\": {\"backgroundcolor\": \"#E5ECF6\", \"gridcolor\": \"white\", \"gridwidth\": 2, \"linecolor\": \"white\", \"showbackground\": true, \"ticks\": \"\", \"zerolinecolor\": \"white\"}, \"zaxis\": {\"backgroundcolor\": \"#E5ECF6\", \"gridcolor\": \"white\", \"gridwidth\": 2, \"linecolor\": \"white\", \"showbackground\": true, \"ticks\": \"\", \"zerolinecolor\": \"white\"}}, \"shapedefaults\": {\"line\": {\"color\": \"#2a3f5f\"}}, \"ternary\": {\"aaxis\": {\"gridcolor\": \"white\", \"linecolor\": \"white\", \"ticks\": \"\"}, \"baxis\": {\"gridcolor\": \"white\", \"linecolor\": \"white\", \"ticks\": \"\"}, \"bgcolor\": \"#E5ECF6\", \"caxis\": {\"gridcolor\": \"white\", \"linecolor\": \"white\", \"ticks\": \"\"}}, \"title\": {\"x\": 0.05}, \"xaxis\": {\"automargin\": true, \"gridcolor\": \"white\", \"linecolor\": \"white\", \"ticks\": \"\", \"title\": {\"standoff\": 15}, \"zerolinecolor\": \"white\", \"zerolinewidth\": 2}, \"yaxis\": {\"automargin\": true, \"gridcolor\": \"white\", \"linecolor\": \"white\", \"ticks\": \"\", \"title\": {\"standoff\": 15}, \"zerolinecolor\": \"white\", \"zerolinewidth\": 2}}}, \"title\": {\"font\": {\"color\": \"#4D5663\"}}, \"xaxis\": {\"gridcolor\": \"#E1E5ED\", \"showgrid\": true, \"tickfont\": {\"color\": \"#4D5663\"}, \"title\": {\"font\": {\"color\": \"#4D5663\"}, \"text\": \"\"}, \"zerolinecolor\": \"#E1E5ED\"}, \"yaxis\": {\"gridcolor\": \"#E1E5ED\", \"showgrid\": true, \"tickfont\": {\"color\": \"#4D5663\"}, \"title\": {\"font\": {\"color\": \"#4D5663\"}, \"text\": \"\"}, \"zerolinecolor\": \"#E1E5ED\"}},\n",
       "                        {\"showLink\": true, \"linkText\": \"Export to plot.ly\", \"plotlyServerURL\": \"https://plot.ly\", \"responsive\": true}\n",
       "                    ).then(function(){\n",
       "                            \n",
       "var gd = document.getElementById('512ed121-f200-47aa-be01-fa3ec8ea8b02');\n",
       "var x = new MutationObserver(function (mutations, observer) {{\n",
       "        var display = window.getComputedStyle(gd).display;\n",
       "        if (!display || display === 'none') {{\n",
       "            console.log([gd, 'removed!']);\n",
       "            Plotly.purge(gd);\n",
       "            observer.disconnect();\n",
       "        }}\n",
       "}});\n",
       "\n",
       "// Listen for the removal of the full notebook cells\n",
       "var notebookContainer = gd.closest('#notebook-container');\n",
       "if (notebookContainer) {{\n",
       "    x.observe(notebookContainer, {childList: true});\n",
       "}}\n",
       "\n",
       "// Listen for the clearing of the current output cell\n",
       "var outputEl = gd.closest('.output');\n",
       "if (outputEl) {{\n",
       "    x.observe(outputEl, {childList: true});\n",
       "}}\n",
       "\n",
       "                        })\n",
       "                };\n",
       "                });\n",
       "            </script>\n",
       "        </div>"
      ]
     },
     "metadata": {},
     "output_type": "display_data"
    }
   ],
   "source": [
    "df.iplot(kind='scatter',x='A',y='B',mode='markers',size=10)"
   ]
  },
  {
   "cell_type": "code",
   "execution_count": 21,
   "metadata": {},
   "outputs": [
    {
     "data": {
      "application/vnd.plotly.v1+json": {
       "config": {
        "linkText": "Export to plot.ly",
        "plotlyServerURL": "https://plot.ly",
        "showLink": true
       },
       "data": [
        {
         "marker": {
          "color": "rgba(255, 153, 51, 0.6)",
          "line": {
           "color": "rgba(255, 153, 51, 1.0)",
           "width": 1
          }
         },
         "name": "Values",
         "orientation": "v",
         "text": "",
         "type": "bar",
         "x": [
          "A",
          "B",
          "C"
         ],
         "y": [
          32,
          43,
          50
         ]
        }
       ],
       "layout": {
        "legend": {
         "bgcolor": "#F5F6F9",
         "font": {
          "color": "#4D5663"
         }
        },
        "paper_bgcolor": "#F5F6F9",
        "plot_bgcolor": "#F5F6F9",
        "template": {
         "data": {
          "bar": [
           {
            "error_x": {
             "color": "#2a3f5f"
            },
            "error_y": {
             "color": "#2a3f5f"
            },
            "marker": {
             "line": {
              "color": "#E5ECF6",
              "width": 0.5
             }
            },
            "type": "bar"
           }
          ],
          "barpolar": [
           {
            "marker": {
             "line": {
              "color": "#E5ECF6",
              "width": 0.5
             }
            },
            "type": "barpolar"
           }
          ],
          "carpet": [
           {
            "aaxis": {
             "endlinecolor": "#2a3f5f",
             "gridcolor": "white",
             "linecolor": "white",
             "minorgridcolor": "white",
             "startlinecolor": "#2a3f5f"
            },
            "baxis": {
             "endlinecolor": "#2a3f5f",
             "gridcolor": "white",
             "linecolor": "white",
             "minorgridcolor": "white",
             "startlinecolor": "#2a3f5f"
            },
            "type": "carpet"
           }
          ],
          "choropleth": [
           {
            "colorbar": {
             "outlinewidth": 0,
             "ticks": ""
            },
            "type": "choropleth"
           }
          ],
          "contour": [
           {
            "colorbar": {
             "outlinewidth": 0,
             "ticks": ""
            },
            "colorscale": [
             [
              0,
              "#0d0887"
             ],
             [
              0.1111111111111111,
              "#46039f"
             ],
             [
              0.2222222222222222,
              "#7201a8"
             ],
             [
              0.3333333333333333,
              "#9c179e"
             ],
             [
              0.4444444444444444,
              "#bd3786"
             ],
             [
              0.5555555555555556,
              "#d8576b"
             ],
             [
              0.6666666666666666,
              "#ed7953"
             ],
             [
              0.7777777777777778,
              "#fb9f3a"
             ],
             [
              0.8888888888888888,
              "#fdca26"
             ],
             [
              1,
              "#f0f921"
             ]
            ],
            "type": "contour"
           }
          ],
          "contourcarpet": [
           {
            "colorbar": {
             "outlinewidth": 0,
             "ticks": ""
            },
            "type": "contourcarpet"
           }
          ],
          "heatmap": [
           {
            "colorbar": {
             "outlinewidth": 0,
             "ticks": ""
            },
            "colorscale": [
             [
              0,
              "#0d0887"
             ],
             [
              0.1111111111111111,
              "#46039f"
             ],
             [
              0.2222222222222222,
              "#7201a8"
             ],
             [
              0.3333333333333333,
              "#9c179e"
             ],
             [
              0.4444444444444444,
              "#bd3786"
             ],
             [
              0.5555555555555556,
              "#d8576b"
             ],
             [
              0.6666666666666666,
              "#ed7953"
             ],
             [
              0.7777777777777778,
              "#fb9f3a"
             ],
             [
              0.8888888888888888,
              "#fdca26"
             ],
             [
              1,
              "#f0f921"
             ]
            ],
            "type": "heatmap"
           }
          ],
          "heatmapgl": [
           {
            "colorbar": {
             "outlinewidth": 0,
             "ticks": ""
            },
            "colorscale": [
             [
              0,
              "#0d0887"
             ],
             [
              0.1111111111111111,
              "#46039f"
             ],
             [
              0.2222222222222222,
              "#7201a8"
             ],
             [
              0.3333333333333333,
              "#9c179e"
             ],
             [
              0.4444444444444444,
              "#bd3786"
             ],
             [
              0.5555555555555556,
              "#d8576b"
             ],
             [
              0.6666666666666666,
              "#ed7953"
             ],
             [
              0.7777777777777778,
              "#fb9f3a"
             ],
             [
              0.8888888888888888,
              "#fdca26"
             ],
             [
              1,
              "#f0f921"
             ]
            ],
            "type": "heatmapgl"
           }
          ],
          "histogram": [
           {
            "marker": {
             "colorbar": {
              "outlinewidth": 0,
              "ticks": ""
             }
            },
            "type": "histogram"
           }
          ],
          "histogram2d": [
           {
            "colorbar": {
             "outlinewidth": 0,
             "ticks": ""
            },
            "colorscale": [
             [
              0,
              "#0d0887"
             ],
             [
              0.1111111111111111,
              "#46039f"
             ],
             [
              0.2222222222222222,
              "#7201a8"
             ],
             [
              0.3333333333333333,
              "#9c179e"
             ],
             [
              0.4444444444444444,
              "#bd3786"
             ],
             [
              0.5555555555555556,
              "#d8576b"
             ],
             [
              0.6666666666666666,
              "#ed7953"
             ],
             [
              0.7777777777777778,
              "#fb9f3a"
             ],
             [
              0.8888888888888888,
              "#fdca26"
             ],
             [
              1,
              "#f0f921"
             ]
            ],
            "type": "histogram2d"
           }
          ],
          "histogram2dcontour": [
           {
            "colorbar": {
             "outlinewidth": 0,
             "ticks": ""
            },
            "colorscale": [
             [
              0,
              "#0d0887"
             ],
             [
              0.1111111111111111,
              "#46039f"
             ],
             [
              0.2222222222222222,
              "#7201a8"
             ],
             [
              0.3333333333333333,
              "#9c179e"
             ],
             [
              0.4444444444444444,
              "#bd3786"
             ],
             [
              0.5555555555555556,
              "#d8576b"
             ],
             [
              0.6666666666666666,
              "#ed7953"
             ],
             [
              0.7777777777777778,
              "#fb9f3a"
             ],
             [
              0.8888888888888888,
              "#fdca26"
             ],
             [
              1,
              "#f0f921"
             ]
            ],
            "type": "histogram2dcontour"
           }
          ],
          "mesh3d": [
           {
            "colorbar": {
             "outlinewidth": 0,
             "ticks": ""
            },
            "type": "mesh3d"
           }
          ],
          "parcoords": [
           {
            "line": {
             "colorbar": {
              "outlinewidth": 0,
              "ticks": ""
             }
            },
            "type": "parcoords"
           }
          ],
          "pie": [
           {
            "automargin": true,
            "type": "pie"
           }
          ],
          "scatter": [
           {
            "marker": {
             "colorbar": {
              "outlinewidth": 0,
              "ticks": ""
             }
            },
            "type": "scatter"
           }
          ],
          "scatter3d": [
           {
            "line": {
             "colorbar": {
              "outlinewidth": 0,
              "ticks": ""
             }
            },
            "marker": {
             "colorbar": {
              "outlinewidth": 0,
              "ticks": ""
             }
            },
            "type": "scatter3d"
           }
          ],
          "scattercarpet": [
           {
            "marker": {
             "colorbar": {
              "outlinewidth": 0,
              "ticks": ""
             }
            },
            "type": "scattercarpet"
           }
          ],
          "scattergeo": [
           {
            "marker": {
             "colorbar": {
              "outlinewidth": 0,
              "ticks": ""
             }
            },
            "type": "scattergeo"
           }
          ],
          "scattergl": [
           {
            "marker": {
             "colorbar": {
              "outlinewidth": 0,
              "ticks": ""
             }
            },
            "type": "scattergl"
           }
          ],
          "scattermapbox": [
           {
            "marker": {
             "colorbar": {
              "outlinewidth": 0,
              "ticks": ""
             }
            },
            "type": "scattermapbox"
           }
          ],
          "scatterpolar": [
           {
            "marker": {
             "colorbar": {
              "outlinewidth": 0,
              "ticks": ""
             }
            },
            "type": "scatterpolar"
           }
          ],
          "scatterpolargl": [
           {
            "marker": {
             "colorbar": {
              "outlinewidth": 0,
              "ticks": ""
             }
            },
            "type": "scatterpolargl"
           }
          ],
          "scatterternary": [
           {
            "marker": {
             "colorbar": {
              "outlinewidth": 0,
              "ticks": ""
             }
            },
            "type": "scatterternary"
           }
          ],
          "surface": [
           {
            "colorbar": {
             "outlinewidth": 0,
             "ticks": ""
            },
            "colorscale": [
             [
              0,
              "#0d0887"
             ],
             [
              0.1111111111111111,
              "#46039f"
             ],
             [
              0.2222222222222222,
              "#7201a8"
             ],
             [
              0.3333333333333333,
              "#9c179e"
             ],
             [
              0.4444444444444444,
              "#bd3786"
             ],
             [
              0.5555555555555556,
              "#d8576b"
             ],
             [
              0.6666666666666666,
              "#ed7953"
             ],
             [
              0.7777777777777778,
              "#fb9f3a"
             ],
             [
              0.8888888888888888,
              "#fdca26"
             ],
             [
              1,
              "#f0f921"
             ]
            ],
            "type": "surface"
           }
          ],
          "table": [
           {
            "cells": {
             "fill": {
              "color": "#EBF0F8"
             },
             "line": {
              "color": "white"
             }
            },
            "header": {
             "fill": {
              "color": "#C8D4E3"
             },
             "line": {
              "color": "white"
             }
            },
            "type": "table"
           }
          ]
         },
         "layout": {
          "annotationdefaults": {
           "arrowcolor": "#2a3f5f",
           "arrowhead": 0,
           "arrowwidth": 1
          },
          "coloraxis": {
           "colorbar": {
            "outlinewidth": 0,
            "ticks": ""
           }
          },
          "colorscale": {
           "diverging": [
            [
             0,
             "#8e0152"
            ],
            [
             0.1,
             "#c51b7d"
            ],
            [
             0.2,
             "#de77ae"
            ],
            [
             0.3,
             "#f1b6da"
            ],
            [
             0.4,
             "#fde0ef"
            ],
            [
             0.5,
             "#f7f7f7"
            ],
            [
             0.6,
             "#e6f5d0"
            ],
            [
             0.7,
             "#b8e186"
            ],
            [
             0.8,
             "#7fbc41"
            ],
            [
             0.9,
             "#4d9221"
            ],
            [
             1,
             "#276419"
            ]
           ],
           "sequential": [
            [
             0,
             "#0d0887"
            ],
            [
             0.1111111111111111,
             "#46039f"
            ],
            [
             0.2222222222222222,
             "#7201a8"
            ],
            [
             0.3333333333333333,
             "#9c179e"
            ],
            [
             0.4444444444444444,
             "#bd3786"
            ],
            [
             0.5555555555555556,
             "#d8576b"
            ],
            [
             0.6666666666666666,
             "#ed7953"
            ],
            [
             0.7777777777777778,
             "#fb9f3a"
            ],
            [
             0.8888888888888888,
             "#fdca26"
            ],
            [
             1,
             "#f0f921"
            ]
           ],
           "sequentialminus": [
            [
             0,
             "#0d0887"
            ],
            [
             0.1111111111111111,
             "#46039f"
            ],
            [
             0.2222222222222222,
             "#7201a8"
            ],
            [
             0.3333333333333333,
             "#9c179e"
            ],
            [
             0.4444444444444444,
             "#bd3786"
            ],
            [
             0.5555555555555556,
             "#d8576b"
            ],
            [
             0.6666666666666666,
             "#ed7953"
            ],
            [
             0.7777777777777778,
             "#fb9f3a"
            ],
            [
             0.8888888888888888,
             "#fdca26"
            ],
            [
             1,
             "#f0f921"
            ]
           ]
          },
          "colorway": [
           "#636efa",
           "#EF553B",
           "#00cc96",
           "#ab63fa",
           "#FFA15A",
           "#19d3f3",
           "#FF6692",
           "#B6E880",
           "#FF97FF",
           "#FECB52"
          ],
          "font": {
           "color": "#2a3f5f"
          },
          "geo": {
           "bgcolor": "white",
           "lakecolor": "white",
           "landcolor": "#E5ECF6",
           "showlakes": true,
           "showland": true,
           "subunitcolor": "white"
          },
          "hoverlabel": {
           "align": "left"
          },
          "hovermode": "closest",
          "mapbox": {
           "style": "light"
          },
          "paper_bgcolor": "white",
          "plot_bgcolor": "#E5ECF6",
          "polar": {
           "angularaxis": {
            "gridcolor": "white",
            "linecolor": "white",
            "ticks": ""
           },
           "bgcolor": "#E5ECF6",
           "radialaxis": {
            "gridcolor": "white",
            "linecolor": "white",
            "ticks": ""
           }
          },
          "scene": {
           "xaxis": {
            "backgroundcolor": "#E5ECF6",
            "gridcolor": "white",
            "gridwidth": 2,
            "linecolor": "white",
            "showbackground": true,
            "ticks": "",
            "zerolinecolor": "white"
           },
           "yaxis": {
            "backgroundcolor": "#E5ECF6",
            "gridcolor": "white",
            "gridwidth": 2,
            "linecolor": "white",
            "showbackground": true,
            "ticks": "",
            "zerolinecolor": "white"
           },
           "zaxis": {
            "backgroundcolor": "#E5ECF6",
            "gridcolor": "white",
            "gridwidth": 2,
            "linecolor": "white",
            "showbackground": true,
            "ticks": "",
            "zerolinecolor": "white"
           }
          },
          "shapedefaults": {
           "line": {
            "color": "#2a3f5f"
           }
          },
          "ternary": {
           "aaxis": {
            "gridcolor": "white",
            "linecolor": "white",
            "ticks": ""
           },
           "baxis": {
            "gridcolor": "white",
            "linecolor": "white",
            "ticks": ""
           },
           "bgcolor": "#E5ECF6",
           "caxis": {
            "gridcolor": "white",
            "linecolor": "white",
            "ticks": ""
           }
          },
          "title": {
           "x": 0.05
          },
          "xaxis": {
           "automargin": true,
           "gridcolor": "white",
           "linecolor": "white",
           "ticks": "",
           "title": {
            "standoff": 15
           },
           "zerolinecolor": "white",
           "zerolinewidth": 2
          },
          "yaxis": {
           "automargin": true,
           "gridcolor": "white",
           "linecolor": "white",
           "ticks": "",
           "title": {
            "standoff": 15
           },
           "zerolinecolor": "white",
           "zerolinewidth": 2
          }
         }
        },
        "title": {
         "font": {
          "color": "#4D5663"
         }
        },
        "xaxis": {
         "gridcolor": "#E1E5ED",
         "showgrid": true,
         "tickfont": {
          "color": "#4D5663"
         },
         "title": {
          "font": {
           "color": "#4D5663"
          },
          "text": ""
         },
         "zerolinecolor": "#E1E5ED"
        },
        "yaxis": {
         "gridcolor": "#E1E5ED",
         "showgrid": true,
         "tickfont": {
          "color": "#4D5663"
         },
         "title": {
          "font": {
           "color": "#4D5663"
          },
          "text": ""
         },
         "zerolinecolor": "#E1E5ED"
        }
       }
      },
      "text/html": [
       "<div>\n",
       "        \n",
       "        \n",
       "            <div id=\"97c05a2f-b09a-4115-8e51-dd2663bc5041\" class=\"plotly-graph-div\" style=\"height:525px; width:100%;\"></div>\n",
       "            <script type=\"text/javascript\">\n",
       "                require([\"plotly\"], function(Plotly) {\n",
       "                    window.PLOTLYENV=window.PLOTLYENV || {};\n",
       "                    window.PLOTLYENV.BASE_URL='https://plot.ly';\n",
       "                    \n",
       "                if (document.getElementById(\"97c05a2f-b09a-4115-8e51-dd2663bc5041\")) {\n",
       "                    Plotly.newPlot(\n",
       "                        '97c05a2f-b09a-4115-8e51-dd2663bc5041',\n",
       "                        [{\"marker\": {\"color\": \"rgba(255, 153, 51, 0.6)\", \"line\": {\"color\": \"rgba(255, 153, 51, 1.0)\", \"width\": 1}}, \"name\": \"Values\", \"orientation\": \"v\", \"text\": \"\", \"type\": \"bar\", \"x\": [\"A\", \"B\", \"C\"], \"y\": [32, 43, 50]}],\n",
       "                        {\"legend\": {\"bgcolor\": \"#F5F6F9\", \"font\": {\"color\": \"#4D5663\"}}, \"paper_bgcolor\": \"#F5F6F9\", \"plot_bgcolor\": \"#F5F6F9\", \"template\": {\"data\": {\"bar\": [{\"error_x\": {\"color\": \"#2a3f5f\"}, \"error_y\": {\"color\": \"#2a3f5f\"}, \"marker\": {\"line\": {\"color\": \"#E5ECF6\", \"width\": 0.5}}, \"type\": \"bar\"}], \"barpolar\": [{\"marker\": {\"line\": {\"color\": \"#E5ECF6\", \"width\": 0.5}}, \"type\": \"barpolar\"}], \"carpet\": [{\"aaxis\": {\"endlinecolor\": \"#2a3f5f\", \"gridcolor\": \"white\", \"linecolor\": \"white\", \"minorgridcolor\": \"white\", \"startlinecolor\": \"#2a3f5f\"}, \"baxis\": {\"endlinecolor\": \"#2a3f5f\", \"gridcolor\": \"white\", \"linecolor\": \"white\", \"minorgridcolor\": \"white\", \"startlinecolor\": \"#2a3f5f\"}, \"type\": \"carpet\"}], \"choropleth\": [{\"colorbar\": {\"outlinewidth\": 0, \"ticks\": \"\"}, \"type\": \"choropleth\"}], \"contour\": [{\"colorbar\": {\"outlinewidth\": 0, \"ticks\": \"\"}, \"colorscale\": [[0.0, \"#0d0887\"], [0.1111111111111111, \"#46039f\"], [0.2222222222222222, \"#7201a8\"], [0.3333333333333333, \"#9c179e\"], [0.4444444444444444, \"#bd3786\"], [0.5555555555555556, \"#d8576b\"], [0.6666666666666666, \"#ed7953\"], [0.7777777777777778, \"#fb9f3a\"], [0.8888888888888888, \"#fdca26\"], [1.0, \"#f0f921\"]], \"type\": \"contour\"}], \"contourcarpet\": [{\"colorbar\": {\"outlinewidth\": 0, \"ticks\": \"\"}, \"type\": \"contourcarpet\"}], \"heatmap\": [{\"colorbar\": {\"outlinewidth\": 0, \"ticks\": \"\"}, \"colorscale\": [[0.0, \"#0d0887\"], [0.1111111111111111, \"#46039f\"], [0.2222222222222222, \"#7201a8\"], [0.3333333333333333, \"#9c179e\"], [0.4444444444444444, \"#bd3786\"], [0.5555555555555556, \"#d8576b\"], [0.6666666666666666, \"#ed7953\"], [0.7777777777777778, \"#fb9f3a\"], [0.8888888888888888, \"#fdca26\"], [1.0, \"#f0f921\"]], \"type\": \"heatmap\"}], \"heatmapgl\": [{\"colorbar\": {\"outlinewidth\": 0, \"ticks\": \"\"}, \"colorscale\": [[0.0, \"#0d0887\"], [0.1111111111111111, \"#46039f\"], [0.2222222222222222, \"#7201a8\"], [0.3333333333333333, \"#9c179e\"], [0.4444444444444444, \"#bd3786\"], [0.5555555555555556, \"#d8576b\"], [0.6666666666666666, \"#ed7953\"], [0.7777777777777778, \"#fb9f3a\"], [0.8888888888888888, \"#fdca26\"], [1.0, \"#f0f921\"]], \"type\": \"heatmapgl\"}], \"histogram\": [{\"marker\": {\"colorbar\": {\"outlinewidth\": 0, \"ticks\": \"\"}}, \"type\": \"histogram\"}], \"histogram2d\": [{\"colorbar\": {\"outlinewidth\": 0, \"ticks\": \"\"}, \"colorscale\": [[0.0, \"#0d0887\"], [0.1111111111111111, \"#46039f\"], [0.2222222222222222, \"#7201a8\"], [0.3333333333333333, \"#9c179e\"], [0.4444444444444444, \"#bd3786\"], [0.5555555555555556, \"#d8576b\"], [0.6666666666666666, \"#ed7953\"], [0.7777777777777778, \"#fb9f3a\"], [0.8888888888888888, \"#fdca26\"], [1.0, \"#f0f921\"]], \"type\": \"histogram2d\"}], \"histogram2dcontour\": [{\"colorbar\": {\"outlinewidth\": 0, \"ticks\": \"\"}, \"colorscale\": [[0.0, \"#0d0887\"], [0.1111111111111111, \"#46039f\"], [0.2222222222222222, \"#7201a8\"], [0.3333333333333333, \"#9c179e\"], [0.4444444444444444, \"#bd3786\"], [0.5555555555555556, \"#d8576b\"], [0.6666666666666666, \"#ed7953\"], [0.7777777777777778, \"#fb9f3a\"], [0.8888888888888888, \"#fdca26\"], [1.0, \"#f0f921\"]], \"type\": \"histogram2dcontour\"}], \"mesh3d\": [{\"colorbar\": {\"outlinewidth\": 0, \"ticks\": \"\"}, \"type\": \"mesh3d\"}], \"parcoords\": [{\"line\": {\"colorbar\": {\"outlinewidth\": 0, \"ticks\": \"\"}}, \"type\": \"parcoords\"}], \"pie\": [{\"automargin\": true, \"type\": \"pie\"}], \"scatter\": [{\"marker\": {\"colorbar\": {\"outlinewidth\": 0, \"ticks\": \"\"}}, \"type\": \"scatter\"}], \"scatter3d\": [{\"line\": {\"colorbar\": {\"outlinewidth\": 0, \"ticks\": \"\"}}, \"marker\": {\"colorbar\": {\"outlinewidth\": 0, \"ticks\": \"\"}}, \"type\": \"scatter3d\"}], \"scattercarpet\": [{\"marker\": {\"colorbar\": {\"outlinewidth\": 0, \"ticks\": \"\"}}, \"type\": \"scattercarpet\"}], \"scattergeo\": [{\"marker\": {\"colorbar\": {\"outlinewidth\": 0, \"ticks\": \"\"}}, \"type\": \"scattergeo\"}], \"scattergl\": [{\"marker\": {\"colorbar\": {\"outlinewidth\": 0, \"ticks\": \"\"}}, \"type\": \"scattergl\"}], \"scattermapbox\": [{\"marker\": {\"colorbar\": {\"outlinewidth\": 0, \"ticks\": \"\"}}, \"type\": \"scattermapbox\"}], \"scatterpolar\": [{\"marker\": {\"colorbar\": {\"outlinewidth\": 0, \"ticks\": \"\"}}, \"type\": \"scatterpolar\"}], \"scatterpolargl\": [{\"marker\": {\"colorbar\": {\"outlinewidth\": 0, \"ticks\": \"\"}}, \"type\": \"scatterpolargl\"}], \"scatterternary\": [{\"marker\": {\"colorbar\": {\"outlinewidth\": 0, \"ticks\": \"\"}}, \"type\": \"scatterternary\"}], \"surface\": [{\"colorbar\": {\"outlinewidth\": 0, \"ticks\": \"\"}, \"colorscale\": [[0.0, \"#0d0887\"], [0.1111111111111111, \"#46039f\"], [0.2222222222222222, \"#7201a8\"], [0.3333333333333333, \"#9c179e\"], [0.4444444444444444, \"#bd3786\"], [0.5555555555555556, \"#d8576b\"], [0.6666666666666666, \"#ed7953\"], [0.7777777777777778, \"#fb9f3a\"], [0.8888888888888888, \"#fdca26\"], [1.0, \"#f0f921\"]], \"type\": \"surface\"}], \"table\": [{\"cells\": {\"fill\": {\"color\": \"#EBF0F8\"}, \"line\": {\"color\": \"white\"}}, \"header\": {\"fill\": {\"color\": \"#C8D4E3\"}, \"line\": {\"color\": \"white\"}}, \"type\": \"table\"}]}, \"layout\": {\"annotationdefaults\": {\"arrowcolor\": \"#2a3f5f\", \"arrowhead\": 0, \"arrowwidth\": 1}, \"coloraxis\": {\"colorbar\": {\"outlinewidth\": 0, \"ticks\": \"\"}}, \"colorscale\": {\"diverging\": [[0, \"#8e0152\"], [0.1, \"#c51b7d\"], [0.2, \"#de77ae\"], [0.3, \"#f1b6da\"], [0.4, \"#fde0ef\"], [0.5, \"#f7f7f7\"], [0.6, \"#e6f5d0\"], [0.7, \"#b8e186\"], [0.8, \"#7fbc41\"], [0.9, \"#4d9221\"], [1, \"#276419\"]], \"sequential\": [[0.0, \"#0d0887\"], [0.1111111111111111, \"#46039f\"], [0.2222222222222222, \"#7201a8\"], [0.3333333333333333, \"#9c179e\"], [0.4444444444444444, \"#bd3786\"], [0.5555555555555556, \"#d8576b\"], [0.6666666666666666, \"#ed7953\"], [0.7777777777777778, \"#fb9f3a\"], [0.8888888888888888, \"#fdca26\"], [1.0, \"#f0f921\"]], \"sequentialminus\": [[0.0, \"#0d0887\"], [0.1111111111111111, \"#46039f\"], [0.2222222222222222, \"#7201a8\"], [0.3333333333333333, \"#9c179e\"], [0.4444444444444444, \"#bd3786\"], [0.5555555555555556, \"#d8576b\"], [0.6666666666666666, \"#ed7953\"], [0.7777777777777778, \"#fb9f3a\"], [0.8888888888888888, \"#fdca26\"], [1.0, \"#f0f921\"]]}, \"colorway\": [\"#636efa\", \"#EF553B\", \"#00cc96\", \"#ab63fa\", \"#FFA15A\", \"#19d3f3\", \"#FF6692\", \"#B6E880\", \"#FF97FF\", \"#FECB52\"], \"font\": {\"color\": \"#2a3f5f\"}, \"geo\": {\"bgcolor\": \"white\", \"lakecolor\": \"white\", \"landcolor\": \"#E5ECF6\", \"showlakes\": true, \"showland\": true, \"subunitcolor\": \"white\"}, \"hoverlabel\": {\"align\": \"left\"}, \"hovermode\": \"closest\", \"mapbox\": {\"style\": \"light\"}, \"paper_bgcolor\": \"white\", \"plot_bgcolor\": \"#E5ECF6\", \"polar\": {\"angularaxis\": {\"gridcolor\": \"white\", \"linecolor\": \"white\", \"ticks\": \"\"}, \"bgcolor\": \"#E5ECF6\", \"radialaxis\": {\"gridcolor\": \"white\", \"linecolor\": \"white\", \"ticks\": \"\"}}, \"scene\": {\"xaxis\": {\"backgroundcolor\": \"#E5ECF6\", \"gridcolor\": \"white\", \"gridwidth\": 2, \"linecolor\": \"white\", \"showbackground\": true, \"ticks\": \"\", \"zerolinecolor\": \"white\"}, \"yaxis\": {\"backgroundcolor\": \"#E5ECF6\", \"gridcolor\": \"white\", \"gridwidth\": 2, \"linecolor\": \"white\", \"showbackground\": true, \"ticks\": \"\", \"zerolinecolor\": \"white\"}, \"zaxis\": {\"backgroundcolor\": \"#E5ECF6\", \"gridcolor\": \"white\", \"gridwidth\": 2, \"linecolor\": \"white\", \"showbackground\": true, \"ticks\": \"\", \"zerolinecolor\": \"white\"}}, \"shapedefaults\": {\"line\": {\"color\": \"#2a3f5f\"}}, \"ternary\": {\"aaxis\": {\"gridcolor\": \"white\", \"linecolor\": \"white\", \"ticks\": \"\"}, \"baxis\": {\"gridcolor\": \"white\", \"linecolor\": \"white\", \"ticks\": \"\"}, \"bgcolor\": \"#E5ECF6\", \"caxis\": {\"gridcolor\": \"white\", \"linecolor\": \"white\", \"ticks\": \"\"}}, \"title\": {\"x\": 0.05}, \"xaxis\": {\"automargin\": true, \"gridcolor\": \"white\", \"linecolor\": \"white\", \"ticks\": \"\", \"title\": {\"standoff\": 15}, \"zerolinecolor\": \"white\", \"zerolinewidth\": 2}, \"yaxis\": {\"automargin\": true, \"gridcolor\": \"white\", \"linecolor\": \"white\", \"ticks\": \"\", \"title\": {\"standoff\": 15}, \"zerolinecolor\": \"white\", \"zerolinewidth\": 2}}}, \"title\": {\"font\": {\"color\": \"#4D5663\"}}, \"xaxis\": {\"gridcolor\": \"#E1E5ED\", \"showgrid\": true, \"tickfont\": {\"color\": \"#4D5663\"}, \"title\": {\"font\": {\"color\": \"#4D5663\"}, \"text\": \"\"}, \"zerolinecolor\": \"#E1E5ED\"}, \"yaxis\": {\"gridcolor\": \"#E1E5ED\", \"showgrid\": true, \"tickfont\": {\"color\": \"#4D5663\"}, \"title\": {\"font\": {\"color\": \"#4D5663\"}, \"text\": \"\"}, \"zerolinecolor\": \"#E1E5ED\"}},\n",
       "                        {\"showLink\": true, \"linkText\": \"Export to plot.ly\", \"plotlyServerURL\": \"https://plot.ly\", \"responsive\": true}\n",
       "                    ).then(function(){\n",
       "                            \n",
       "var gd = document.getElementById('97c05a2f-b09a-4115-8e51-dd2663bc5041');\n",
       "var x = new MutationObserver(function (mutations, observer) {{\n",
       "        var display = window.getComputedStyle(gd).display;\n",
       "        if (!display || display === 'none') {{\n",
       "            console.log([gd, 'removed!']);\n",
       "            Plotly.purge(gd);\n",
       "            observer.disconnect();\n",
       "        }}\n",
       "}});\n",
       "\n",
       "// Listen for the removal of the full notebook cells\n",
       "var notebookContainer = gd.closest('#notebook-container');\n",
       "if (notebookContainer) {{\n",
       "    x.observe(notebookContainer, {childList: true});\n",
       "}}\n",
       "\n",
       "// Listen for the clearing of the current output cell\n",
       "var outputEl = gd.closest('.output');\n",
       "if (outputEl) {{\n",
       "    x.observe(outputEl, {childList: true});\n",
       "}}\n",
       "\n",
       "                        })\n",
       "                };\n",
       "                });\n",
       "            </script>\n",
       "        </div>"
      ]
     },
     "metadata": {},
     "output_type": "display_data"
    }
   ],
   "source": [
    "df2.iplot(kind='bar',x='Category',y='Values')"
   ]
  },
  {
   "cell_type": "code",
   "execution_count": 23,
   "metadata": {},
   "outputs": [
    {
     "data": {
      "application/vnd.plotly.v1+json": {
       "config": {
        "linkText": "Export to plot.ly",
        "plotlyServerURL": "https://plot.ly",
        "showLink": true
       },
       "data": [
        {
         "marker": {
          "color": "rgba(255, 153, 51, 0.6)",
          "line": {
           "color": "rgba(255, 153, 51, 1.0)",
           "width": 1
          }
         },
         "name": "None",
         "orientation": "v",
         "text": "",
         "type": "bar",
         "x": [
          "A",
          "B",
          "C",
          "D"
         ],
         "y": [
          -2.9358173467655373,
          6.462089176305506,
          6.658294120870054,
          -9.81572835449672
         ]
        }
       ],
       "layout": {
        "legend": {
         "bgcolor": "#F5F6F9",
         "font": {
          "color": "#4D5663"
         }
        },
        "paper_bgcolor": "#F5F6F9",
        "plot_bgcolor": "#F5F6F9",
        "template": {
         "data": {
          "bar": [
           {
            "error_x": {
             "color": "#2a3f5f"
            },
            "error_y": {
             "color": "#2a3f5f"
            },
            "marker": {
             "line": {
              "color": "#E5ECF6",
              "width": 0.5
             }
            },
            "type": "bar"
           }
          ],
          "barpolar": [
           {
            "marker": {
             "line": {
              "color": "#E5ECF6",
              "width": 0.5
             }
            },
            "type": "barpolar"
           }
          ],
          "carpet": [
           {
            "aaxis": {
             "endlinecolor": "#2a3f5f",
             "gridcolor": "white",
             "linecolor": "white",
             "minorgridcolor": "white",
             "startlinecolor": "#2a3f5f"
            },
            "baxis": {
             "endlinecolor": "#2a3f5f",
             "gridcolor": "white",
             "linecolor": "white",
             "minorgridcolor": "white",
             "startlinecolor": "#2a3f5f"
            },
            "type": "carpet"
           }
          ],
          "choropleth": [
           {
            "colorbar": {
             "outlinewidth": 0,
             "ticks": ""
            },
            "type": "choropleth"
           }
          ],
          "contour": [
           {
            "colorbar": {
             "outlinewidth": 0,
             "ticks": ""
            },
            "colorscale": [
             [
              0,
              "#0d0887"
             ],
             [
              0.1111111111111111,
              "#46039f"
             ],
             [
              0.2222222222222222,
              "#7201a8"
             ],
             [
              0.3333333333333333,
              "#9c179e"
             ],
             [
              0.4444444444444444,
              "#bd3786"
             ],
             [
              0.5555555555555556,
              "#d8576b"
             ],
             [
              0.6666666666666666,
              "#ed7953"
             ],
             [
              0.7777777777777778,
              "#fb9f3a"
             ],
             [
              0.8888888888888888,
              "#fdca26"
             ],
             [
              1,
              "#f0f921"
             ]
            ],
            "type": "contour"
           }
          ],
          "contourcarpet": [
           {
            "colorbar": {
             "outlinewidth": 0,
             "ticks": ""
            },
            "type": "contourcarpet"
           }
          ],
          "heatmap": [
           {
            "colorbar": {
             "outlinewidth": 0,
             "ticks": ""
            },
            "colorscale": [
             [
              0,
              "#0d0887"
             ],
             [
              0.1111111111111111,
              "#46039f"
             ],
             [
              0.2222222222222222,
              "#7201a8"
             ],
             [
              0.3333333333333333,
              "#9c179e"
             ],
             [
              0.4444444444444444,
              "#bd3786"
             ],
             [
              0.5555555555555556,
              "#d8576b"
             ],
             [
              0.6666666666666666,
              "#ed7953"
             ],
             [
              0.7777777777777778,
              "#fb9f3a"
             ],
             [
              0.8888888888888888,
              "#fdca26"
             ],
             [
              1,
              "#f0f921"
             ]
            ],
            "type": "heatmap"
           }
          ],
          "heatmapgl": [
           {
            "colorbar": {
             "outlinewidth": 0,
             "ticks": ""
            },
            "colorscale": [
             [
              0,
              "#0d0887"
             ],
             [
              0.1111111111111111,
              "#46039f"
             ],
             [
              0.2222222222222222,
              "#7201a8"
             ],
             [
              0.3333333333333333,
              "#9c179e"
             ],
             [
              0.4444444444444444,
              "#bd3786"
             ],
             [
              0.5555555555555556,
              "#d8576b"
             ],
             [
              0.6666666666666666,
              "#ed7953"
             ],
             [
              0.7777777777777778,
              "#fb9f3a"
             ],
             [
              0.8888888888888888,
              "#fdca26"
             ],
             [
              1,
              "#f0f921"
             ]
            ],
            "type": "heatmapgl"
           }
          ],
          "histogram": [
           {
            "marker": {
             "colorbar": {
              "outlinewidth": 0,
              "ticks": ""
             }
            },
            "type": "histogram"
           }
          ],
          "histogram2d": [
           {
            "colorbar": {
             "outlinewidth": 0,
             "ticks": ""
            },
            "colorscale": [
             [
              0,
              "#0d0887"
             ],
             [
              0.1111111111111111,
              "#46039f"
             ],
             [
              0.2222222222222222,
              "#7201a8"
             ],
             [
              0.3333333333333333,
              "#9c179e"
             ],
             [
              0.4444444444444444,
              "#bd3786"
             ],
             [
              0.5555555555555556,
              "#d8576b"
             ],
             [
              0.6666666666666666,
              "#ed7953"
             ],
             [
              0.7777777777777778,
              "#fb9f3a"
             ],
             [
              0.8888888888888888,
              "#fdca26"
             ],
             [
              1,
              "#f0f921"
             ]
            ],
            "type": "histogram2d"
           }
          ],
          "histogram2dcontour": [
           {
            "colorbar": {
             "outlinewidth": 0,
             "ticks": ""
            },
            "colorscale": [
             [
              0,
              "#0d0887"
             ],
             [
              0.1111111111111111,
              "#46039f"
             ],
             [
              0.2222222222222222,
              "#7201a8"
             ],
             [
              0.3333333333333333,
              "#9c179e"
             ],
             [
              0.4444444444444444,
              "#bd3786"
             ],
             [
              0.5555555555555556,
              "#d8576b"
             ],
             [
              0.6666666666666666,
              "#ed7953"
             ],
             [
              0.7777777777777778,
              "#fb9f3a"
             ],
             [
              0.8888888888888888,
              "#fdca26"
             ],
             [
              1,
              "#f0f921"
             ]
            ],
            "type": "histogram2dcontour"
           }
          ],
          "mesh3d": [
           {
            "colorbar": {
             "outlinewidth": 0,
             "ticks": ""
            },
            "type": "mesh3d"
           }
          ],
          "parcoords": [
           {
            "line": {
             "colorbar": {
              "outlinewidth": 0,
              "ticks": ""
             }
            },
            "type": "parcoords"
           }
          ],
          "pie": [
           {
            "automargin": true,
            "type": "pie"
           }
          ],
          "scatter": [
           {
            "marker": {
             "colorbar": {
              "outlinewidth": 0,
              "ticks": ""
             }
            },
            "type": "scatter"
           }
          ],
          "scatter3d": [
           {
            "line": {
             "colorbar": {
              "outlinewidth": 0,
              "ticks": ""
             }
            },
            "marker": {
             "colorbar": {
              "outlinewidth": 0,
              "ticks": ""
             }
            },
            "type": "scatter3d"
           }
          ],
          "scattercarpet": [
           {
            "marker": {
             "colorbar": {
              "outlinewidth": 0,
              "ticks": ""
             }
            },
            "type": "scattercarpet"
           }
          ],
          "scattergeo": [
           {
            "marker": {
             "colorbar": {
              "outlinewidth": 0,
              "ticks": ""
             }
            },
            "type": "scattergeo"
           }
          ],
          "scattergl": [
           {
            "marker": {
             "colorbar": {
              "outlinewidth": 0,
              "ticks": ""
             }
            },
            "type": "scattergl"
           }
          ],
          "scattermapbox": [
           {
            "marker": {
             "colorbar": {
              "outlinewidth": 0,
              "ticks": ""
             }
            },
            "type": "scattermapbox"
           }
          ],
          "scatterpolar": [
           {
            "marker": {
             "colorbar": {
              "outlinewidth": 0,
              "ticks": ""
             }
            },
            "type": "scatterpolar"
           }
          ],
          "scatterpolargl": [
           {
            "marker": {
             "colorbar": {
              "outlinewidth": 0,
              "ticks": ""
             }
            },
            "type": "scatterpolargl"
           }
          ],
          "scatterternary": [
           {
            "marker": {
             "colorbar": {
              "outlinewidth": 0,
              "ticks": ""
             }
            },
            "type": "scatterternary"
           }
          ],
          "surface": [
           {
            "colorbar": {
             "outlinewidth": 0,
             "ticks": ""
            },
            "colorscale": [
             [
              0,
              "#0d0887"
             ],
             [
              0.1111111111111111,
              "#46039f"
             ],
             [
              0.2222222222222222,
              "#7201a8"
             ],
             [
              0.3333333333333333,
              "#9c179e"
             ],
             [
              0.4444444444444444,
              "#bd3786"
             ],
             [
              0.5555555555555556,
              "#d8576b"
             ],
             [
              0.6666666666666666,
              "#ed7953"
             ],
             [
              0.7777777777777778,
              "#fb9f3a"
             ],
             [
              0.8888888888888888,
              "#fdca26"
             ],
             [
              1,
              "#f0f921"
             ]
            ],
            "type": "surface"
           }
          ],
          "table": [
           {
            "cells": {
             "fill": {
              "color": "#EBF0F8"
             },
             "line": {
              "color": "white"
             }
            },
            "header": {
             "fill": {
              "color": "#C8D4E3"
             },
             "line": {
              "color": "white"
             }
            },
            "type": "table"
           }
          ]
         },
         "layout": {
          "annotationdefaults": {
           "arrowcolor": "#2a3f5f",
           "arrowhead": 0,
           "arrowwidth": 1
          },
          "coloraxis": {
           "colorbar": {
            "outlinewidth": 0,
            "ticks": ""
           }
          },
          "colorscale": {
           "diverging": [
            [
             0,
             "#8e0152"
            ],
            [
             0.1,
             "#c51b7d"
            ],
            [
             0.2,
             "#de77ae"
            ],
            [
             0.3,
             "#f1b6da"
            ],
            [
             0.4,
             "#fde0ef"
            ],
            [
             0.5,
             "#f7f7f7"
            ],
            [
             0.6,
             "#e6f5d0"
            ],
            [
             0.7,
             "#b8e186"
            ],
            [
             0.8,
             "#7fbc41"
            ],
            [
             0.9,
             "#4d9221"
            ],
            [
             1,
             "#276419"
            ]
           ],
           "sequential": [
            [
             0,
             "#0d0887"
            ],
            [
             0.1111111111111111,
             "#46039f"
            ],
            [
             0.2222222222222222,
             "#7201a8"
            ],
            [
             0.3333333333333333,
             "#9c179e"
            ],
            [
             0.4444444444444444,
             "#bd3786"
            ],
            [
             0.5555555555555556,
             "#d8576b"
            ],
            [
             0.6666666666666666,
             "#ed7953"
            ],
            [
             0.7777777777777778,
             "#fb9f3a"
            ],
            [
             0.8888888888888888,
             "#fdca26"
            ],
            [
             1,
             "#f0f921"
            ]
           ],
           "sequentialminus": [
            [
             0,
             "#0d0887"
            ],
            [
             0.1111111111111111,
             "#46039f"
            ],
            [
             0.2222222222222222,
             "#7201a8"
            ],
            [
             0.3333333333333333,
             "#9c179e"
            ],
            [
             0.4444444444444444,
             "#bd3786"
            ],
            [
             0.5555555555555556,
             "#d8576b"
            ],
            [
             0.6666666666666666,
             "#ed7953"
            ],
            [
             0.7777777777777778,
             "#fb9f3a"
            ],
            [
             0.8888888888888888,
             "#fdca26"
            ],
            [
             1,
             "#f0f921"
            ]
           ]
          },
          "colorway": [
           "#636efa",
           "#EF553B",
           "#00cc96",
           "#ab63fa",
           "#FFA15A",
           "#19d3f3",
           "#FF6692",
           "#B6E880",
           "#FF97FF",
           "#FECB52"
          ],
          "font": {
           "color": "#2a3f5f"
          },
          "geo": {
           "bgcolor": "white",
           "lakecolor": "white",
           "landcolor": "#E5ECF6",
           "showlakes": true,
           "showland": true,
           "subunitcolor": "white"
          },
          "hoverlabel": {
           "align": "left"
          },
          "hovermode": "closest",
          "mapbox": {
           "style": "light"
          },
          "paper_bgcolor": "white",
          "plot_bgcolor": "#E5ECF6",
          "polar": {
           "angularaxis": {
            "gridcolor": "white",
            "linecolor": "white",
            "ticks": ""
           },
           "bgcolor": "#E5ECF6",
           "radialaxis": {
            "gridcolor": "white",
            "linecolor": "white",
            "ticks": ""
           }
          },
          "scene": {
           "xaxis": {
            "backgroundcolor": "#E5ECF6",
            "gridcolor": "white",
            "gridwidth": 2,
            "linecolor": "white",
            "showbackground": true,
            "ticks": "",
            "zerolinecolor": "white"
           },
           "yaxis": {
            "backgroundcolor": "#E5ECF6",
            "gridcolor": "white",
            "gridwidth": 2,
            "linecolor": "white",
            "showbackground": true,
            "ticks": "",
            "zerolinecolor": "white"
           },
           "zaxis": {
            "backgroundcolor": "#E5ECF6",
            "gridcolor": "white",
            "gridwidth": 2,
            "linecolor": "white",
            "showbackground": true,
            "ticks": "",
            "zerolinecolor": "white"
           }
          },
          "shapedefaults": {
           "line": {
            "color": "#2a3f5f"
           }
          },
          "ternary": {
           "aaxis": {
            "gridcolor": "white",
            "linecolor": "white",
            "ticks": ""
           },
           "baxis": {
            "gridcolor": "white",
            "linecolor": "white",
            "ticks": ""
           },
           "bgcolor": "#E5ECF6",
           "caxis": {
            "gridcolor": "white",
            "linecolor": "white",
            "ticks": ""
           }
          },
          "title": {
           "x": 0.05
          },
          "xaxis": {
           "automargin": true,
           "gridcolor": "white",
           "linecolor": "white",
           "ticks": "",
           "title": {
            "standoff": 15
           },
           "zerolinecolor": "white",
           "zerolinewidth": 2
          },
          "yaxis": {
           "automargin": true,
           "gridcolor": "white",
           "linecolor": "white",
           "ticks": "",
           "title": {
            "standoff": 15
           },
           "zerolinecolor": "white",
           "zerolinewidth": 2
          }
         }
        },
        "title": {
         "font": {
          "color": "#4D5663"
         }
        },
        "xaxis": {
         "gridcolor": "#E1E5ED",
         "showgrid": true,
         "tickfont": {
          "color": "#4D5663"
         },
         "title": {
          "font": {
           "color": "#4D5663"
          },
          "text": ""
         },
         "zerolinecolor": "#E1E5ED"
        },
        "yaxis": {
         "gridcolor": "#E1E5ED",
         "showgrid": true,
         "tickfont": {
          "color": "#4D5663"
         },
         "title": {
          "font": {
           "color": "#4D5663"
          },
          "text": ""
         },
         "zerolinecolor": "#E1E5ED"
        }
       }
      },
      "text/html": [
       "<div>\n",
       "        \n",
       "        \n",
       "            <div id=\"1d7199cd-f47d-482e-9df4-b02348c92307\" class=\"plotly-graph-div\" style=\"height:525px; width:100%;\"></div>\n",
       "            <script type=\"text/javascript\">\n",
       "                require([\"plotly\"], function(Plotly) {\n",
       "                    window.PLOTLYENV=window.PLOTLYENV || {};\n",
       "                    window.PLOTLYENV.BASE_URL='https://plot.ly';\n",
       "                    \n",
       "                if (document.getElementById(\"1d7199cd-f47d-482e-9df4-b02348c92307\")) {\n",
       "                    Plotly.newPlot(\n",
       "                        '1d7199cd-f47d-482e-9df4-b02348c92307',\n",
       "                        [{\"marker\": {\"color\": \"rgba(255, 153, 51, 0.6)\", \"line\": {\"color\": \"rgba(255, 153, 51, 1.0)\", \"width\": 1}}, \"name\": \"None\", \"orientation\": \"v\", \"text\": \"\", \"type\": \"bar\", \"x\": [\"A\", \"B\", \"C\", \"D\"], \"y\": [-2.9358173467655373, 6.462089176305506, 6.658294120870054, -9.81572835449672]}],\n",
       "                        {\"legend\": {\"bgcolor\": \"#F5F6F9\", \"font\": {\"color\": \"#4D5663\"}}, \"paper_bgcolor\": \"#F5F6F9\", \"plot_bgcolor\": \"#F5F6F9\", \"template\": {\"data\": {\"bar\": [{\"error_x\": {\"color\": \"#2a3f5f\"}, \"error_y\": {\"color\": \"#2a3f5f\"}, \"marker\": {\"line\": {\"color\": \"#E5ECF6\", \"width\": 0.5}}, \"type\": \"bar\"}], \"barpolar\": [{\"marker\": {\"line\": {\"color\": \"#E5ECF6\", \"width\": 0.5}}, \"type\": \"barpolar\"}], \"carpet\": [{\"aaxis\": {\"endlinecolor\": \"#2a3f5f\", \"gridcolor\": \"white\", \"linecolor\": \"white\", \"minorgridcolor\": \"white\", \"startlinecolor\": \"#2a3f5f\"}, \"baxis\": {\"endlinecolor\": \"#2a3f5f\", \"gridcolor\": \"white\", \"linecolor\": \"white\", \"minorgridcolor\": \"white\", \"startlinecolor\": \"#2a3f5f\"}, \"type\": \"carpet\"}], \"choropleth\": [{\"colorbar\": {\"outlinewidth\": 0, \"ticks\": \"\"}, \"type\": \"choropleth\"}], \"contour\": [{\"colorbar\": {\"outlinewidth\": 0, \"ticks\": \"\"}, \"colorscale\": [[0.0, \"#0d0887\"], [0.1111111111111111, \"#46039f\"], [0.2222222222222222, \"#7201a8\"], [0.3333333333333333, \"#9c179e\"], [0.4444444444444444, \"#bd3786\"], [0.5555555555555556, \"#d8576b\"], [0.6666666666666666, \"#ed7953\"], [0.7777777777777778, \"#fb9f3a\"], [0.8888888888888888, \"#fdca26\"], [1.0, \"#f0f921\"]], \"type\": \"contour\"}], \"contourcarpet\": [{\"colorbar\": {\"outlinewidth\": 0, \"ticks\": \"\"}, \"type\": \"contourcarpet\"}], \"heatmap\": [{\"colorbar\": {\"outlinewidth\": 0, \"ticks\": \"\"}, \"colorscale\": [[0.0, \"#0d0887\"], [0.1111111111111111, \"#46039f\"], [0.2222222222222222, \"#7201a8\"], [0.3333333333333333, \"#9c179e\"], [0.4444444444444444, \"#bd3786\"], [0.5555555555555556, \"#d8576b\"], [0.6666666666666666, \"#ed7953\"], [0.7777777777777778, \"#fb9f3a\"], [0.8888888888888888, \"#fdca26\"], [1.0, \"#f0f921\"]], \"type\": \"heatmap\"}], \"heatmapgl\": [{\"colorbar\": {\"outlinewidth\": 0, \"ticks\": \"\"}, \"colorscale\": [[0.0, \"#0d0887\"], [0.1111111111111111, \"#46039f\"], [0.2222222222222222, \"#7201a8\"], [0.3333333333333333, \"#9c179e\"], [0.4444444444444444, \"#bd3786\"], [0.5555555555555556, \"#d8576b\"], [0.6666666666666666, \"#ed7953\"], [0.7777777777777778, \"#fb9f3a\"], [0.8888888888888888, \"#fdca26\"], [1.0, \"#f0f921\"]], \"type\": \"heatmapgl\"}], \"histogram\": [{\"marker\": {\"colorbar\": {\"outlinewidth\": 0, \"ticks\": \"\"}}, \"type\": \"histogram\"}], \"histogram2d\": [{\"colorbar\": {\"outlinewidth\": 0, \"ticks\": \"\"}, \"colorscale\": [[0.0, \"#0d0887\"], [0.1111111111111111, \"#46039f\"], [0.2222222222222222, \"#7201a8\"], [0.3333333333333333, \"#9c179e\"], [0.4444444444444444, \"#bd3786\"], [0.5555555555555556, \"#d8576b\"], [0.6666666666666666, \"#ed7953\"], [0.7777777777777778, \"#fb9f3a\"], [0.8888888888888888, \"#fdca26\"], [1.0, \"#f0f921\"]], \"type\": \"histogram2d\"}], \"histogram2dcontour\": [{\"colorbar\": {\"outlinewidth\": 0, \"ticks\": \"\"}, \"colorscale\": [[0.0, \"#0d0887\"], [0.1111111111111111, \"#46039f\"], [0.2222222222222222, \"#7201a8\"], [0.3333333333333333, \"#9c179e\"], [0.4444444444444444, \"#bd3786\"], [0.5555555555555556, \"#d8576b\"], [0.6666666666666666, \"#ed7953\"], [0.7777777777777778, \"#fb9f3a\"], [0.8888888888888888, \"#fdca26\"], [1.0, \"#f0f921\"]], \"type\": \"histogram2dcontour\"}], \"mesh3d\": [{\"colorbar\": {\"outlinewidth\": 0, \"ticks\": \"\"}, \"type\": \"mesh3d\"}], \"parcoords\": [{\"line\": {\"colorbar\": {\"outlinewidth\": 0, \"ticks\": \"\"}}, \"type\": \"parcoords\"}], \"pie\": [{\"automargin\": true, \"type\": \"pie\"}], \"scatter\": [{\"marker\": {\"colorbar\": {\"outlinewidth\": 0, \"ticks\": \"\"}}, \"type\": \"scatter\"}], \"scatter3d\": [{\"line\": {\"colorbar\": {\"outlinewidth\": 0, \"ticks\": \"\"}}, \"marker\": {\"colorbar\": {\"outlinewidth\": 0, \"ticks\": \"\"}}, \"type\": \"scatter3d\"}], \"scattercarpet\": [{\"marker\": {\"colorbar\": {\"outlinewidth\": 0, \"ticks\": \"\"}}, \"type\": \"scattercarpet\"}], \"scattergeo\": [{\"marker\": {\"colorbar\": {\"outlinewidth\": 0, \"ticks\": \"\"}}, \"type\": \"scattergeo\"}], \"scattergl\": [{\"marker\": {\"colorbar\": {\"outlinewidth\": 0, \"ticks\": \"\"}}, \"type\": \"scattergl\"}], \"scattermapbox\": [{\"marker\": {\"colorbar\": {\"outlinewidth\": 0, \"ticks\": \"\"}}, \"type\": \"scattermapbox\"}], \"scatterpolar\": [{\"marker\": {\"colorbar\": {\"outlinewidth\": 0, \"ticks\": \"\"}}, \"type\": \"scatterpolar\"}], \"scatterpolargl\": [{\"marker\": {\"colorbar\": {\"outlinewidth\": 0, \"ticks\": \"\"}}, \"type\": \"scatterpolargl\"}], \"scatterternary\": [{\"marker\": {\"colorbar\": {\"outlinewidth\": 0, \"ticks\": \"\"}}, \"type\": \"scatterternary\"}], \"surface\": [{\"colorbar\": {\"outlinewidth\": 0, \"ticks\": \"\"}, \"colorscale\": [[0.0, \"#0d0887\"], [0.1111111111111111, \"#46039f\"], [0.2222222222222222, \"#7201a8\"], [0.3333333333333333, \"#9c179e\"], [0.4444444444444444, \"#bd3786\"], [0.5555555555555556, \"#d8576b\"], [0.6666666666666666, \"#ed7953\"], [0.7777777777777778, \"#fb9f3a\"], [0.8888888888888888, \"#fdca26\"], [1.0, \"#f0f921\"]], \"type\": \"surface\"}], \"table\": [{\"cells\": {\"fill\": {\"color\": \"#EBF0F8\"}, \"line\": {\"color\": \"white\"}}, \"header\": {\"fill\": {\"color\": \"#C8D4E3\"}, \"line\": {\"color\": \"white\"}}, \"type\": \"table\"}]}, \"layout\": {\"annotationdefaults\": {\"arrowcolor\": \"#2a3f5f\", \"arrowhead\": 0, \"arrowwidth\": 1}, \"coloraxis\": {\"colorbar\": {\"outlinewidth\": 0, \"ticks\": \"\"}}, \"colorscale\": {\"diverging\": [[0, \"#8e0152\"], [0.1, \"#c51b7d\"], [0.2, \"#de77ae\"], [0.3, \"#f1b6da\"], [0.4, \"#fde0ef\"], [0.5, \"#f7f7f7\"], [0.6, \"#e6f5d0\"], [0.7, \"#b8e186\"], [0.8, \"#7fbc41\"], [0.9, \"#4d9221\"], [1, \"#276419\"]], \"sequential\": [[0.0, \"#0d0887\"], [0.1111111111111111, \"#46039f\"], [0.2222222222222222, \"#7201a8\"], [0.3333333333333333, \"#9c179e\"], [0.4444444444444444, \"#bd3786\"], [0.5555555555555556, \"#d8576b\"], [0.6666666666666666, \"#ed7953\"], [0.7777777777777778, \"#fb9f3a\"], [0.8888888888888888, \"#fdca26\"], [1.0, \"#f0f921\"]], \"sequentialminus\": [[0.0, \"#0d0887\"], [0.1111111111111111, \"#46039f\"], [0.2222222222222222, \"#7201a8\"], [0.3333333333333333, \"#9c179e\"], [0.4444444444444444, \"#bd3786\"], [0.5555555555555556, \"#d8576b\"], [0.6666666666666666, \"#ed7953\"], [0.7777777777777778, \"#fb9f3a\"], [0.8888888888888888, \"#fdca26\"], [1.0, \"#f0f921\"]]}, \"colorway\": [\"#636efa\", \"#EF553B\", \"#00cc96\", \"#ab63fa\", \"#FFA15A\", \"#19d3f3\", \"#FF6692\", \"#B6E880\", \"#FF97FF\", \"#FECB52\"], \"font\": {\"color\": \"#2a3f5f\"}, \"geo\": {\"bgcolor\": \"white\", \"lakecolor\": \"white\", \"landcolor\": \"#E5ECF6\", \"showlakes\": true, \"showland\": true, \"subunitcolor\": \"white\"}, \"hoverlabel\": {\"align\": \"left\"}, \"hovermode\": \"closest\", \"mapbox\": {\"style\": \"light\"}, \"paper_bgcolor\": \"white\", \"plot_bgcolor\": \"#E5ECF6\", \"polar\": {\"angularaxis\": {\"gridcolor\": \"white\", \"linecolor\": \"white\", \"ticks\": \"\"}, \"bgcolor\": \"#E5ECF6\", \"radialaxis\": {\"gridcolor\": \"white\", \"linecolor\": \"white\", \"ticks\": \"\"}}, \"scene\": {\"xaxis\": {\"backgroundcolor\": \"#E5ECF6\", \"gridcolor\": \"white\", \"gridwidth\": 2, \"linecolor\": \"white\", \"showbackground\": true, \"ticks\": \"\", \"zerolinecolor\": \"white\"}, \"yaxis\": {\"backgroundcolor\": \"#E5ECF6\", \"gridcolor\": \"white\", \"gridwidth\": 2, \"linecolor\": \"white\", \"showbackground\": true, \"ticks\": \"\", \"zerolinecolor\": \"white\"}, \"zaxis\": {\"backgroundcolor\": \"#E5ECF6\", \"gridcolor\": \"white\", \"gridwidth\": 2, \"linecolor\": \"white\", \"showbackground\": true, \"ticks\": \"\", \"zerolinecolor\": \"white\"}}, \"shapedefaults\": {\"line\": {\"color\": \"#2a3f5f\"}}, \"ternary\": {\"aaxis\": {\"gridcolor\": \"white\", \"linecolor\": \"white\", \"ticks\": \"\"}, \"baxis\": {\"gridcolor\": \"white\", \"linecolor\": \"white\", \"ticks\": \"\"}, \"bgcolor\": \"#E5ECF6\", \"caxis\": {\"gridcolor\": \"white\", \"linecolor\": \"white\", \"ticks\": \"\"}}, \"title\": {\"x\": 0.05}, \"xaxis\": {\"automargin\": true, \"gridcolor\": \"white\", \"linecolor\": \"white\", \"ticks\": \"\", \"title\": {\"standoff\": 15}, \"zerolinecolor\": \"white\", \"zerolinewidth\": 2}, \"yaxis\": {\"automargin\": true, \"gridcolor\": \"white\", \"linecolor\": \"white\", \"ticks\": \"\", \"title\": {\"standoff\": 15}, \"zerolinecolor\": \"white\", \"zerolinewidth\": 2}}}, \"title\": {\"font\": {\"color\": \"#4D5663\"}}, \"xaxis\": {\"gridcolor\": \"#E1E5ED\", \"showgrid\": true, \"tickfont\": {\"color\": \"#4D5663\"}, \"title\": {\"font\": {\"color\": \"#4D5663\"}, \"text\": \"\"}, \"zerolinecolor\": \"#E1E5ED\"}, \"yaxis\": {\"gridcolor\": \"#E1E5ED\", \"showgrid\": true, \"tickfont\": {\"color\": \"#4D5663\"}, \"title\": {\"font\": {\"color\": \"#4D5663\"}, \"text\": \"\"}, \"zerolinecolor\": \"#E1E5ED\"}},\n",
       "                        {\"showLink\": true, \"linkText\": \"Export to plot.ly\", \"plotlyServerURL\": \"https://plot.ly\", \"responsive\": true}\n",
       "                    ).then(function(){\n",
       "                            \n",
       "var gd = document.getElementById('1d7199cd-f47d-482e-9df4-b02348c92307');\n",
       "var x = new MutationObserver(function (mutations, observer) {{\n",
       "        var display = window.getComputedStyle(gd).display;\n",
       "        if (!display || display === 'none') {{\n",
       "            console.log([gd, 'removed!']);\n",
       "            Plotly.purge(gd);\n",
       "            observer.disconnect();\n",
       "        }}\n",
       "}});\n",
       "\n",
       "// Listen for the removal of the full notebook cells\n",
       "var notebookContainer = gd.closest('#notebook-container');\n",
       "if (notebookContainer) {{\n",
       "    x.observe(notebookContainer, {childList: true});\n",
       "}}\n",
       "\n",
       "// Listen for the clearing of the current output cell\n",
       "var outputEl = gd.closest('.output');\n",
       "if (outputEl) {{\n",
       "    x.observe(outputEl, {childList: true});\n",
       "}}\n",
       "\n",
       "                        })\n",
       "                };\n",
       "                });\n",
       "            </script>\n",
       "        </div>"
      ]
     },
     "metadata": {},
     "output_type": "display_data"
    }
   ],
   "source": [
    "# Need an aggregate function on dataframe to make sence\n",
    "df.sum().iplot(kind = 'bar')"
   ]
  },
  {
   "cell_type": "code",
   "execution_count": 24,
   "metadata": {},
   "outputs": [
    {
     "data": {
      "application/vnd.plotly.v1+json": {
       "config": {
        "linkText": "Export to plot.ly",
        "plotlyServerURL": "https://plot.ly",
        "showLink": true
       },
       "data": [
        {
         "boxpoints": false,
         "line": {
          "width": 1.3
         },
         "marker": {
          "color": "rgba(255, 153, 51, 1.0)"
         },
         "name": "A",
         "orientation": "v",
         "type": "box",
         "y": [
          -2.094397151479146,
          1.3941214922326817,
          -0.49945361503735913,
          -0.7298780946612285,
          -0.05879101960786524,
          1.2168416065981187,
          0.8690073762945215,
          1.0248764006001234,
          -0.15540585484017097,
          -0.16764986233001994,
          0.7778984780061986,
          -1.2435593599915684,
          0.25357332176071923,
          2.856586915070549,
          0.39692412082078316,
          -1.4345999368445181,
          -0.6162000698974652,
          0.03476259517769596,
          -2.009145407801507,
          1.4533919445471997,
          -0.8703182328567703,
          -0.6143084700493274,
          -0.34761024991025263,
          -0.05959062978705484,
          -0.7394525194780763,
          0.8340378920527788,
          -1.0391812744474584,
          0.17191340608343134,
          0.1586781853253161,
          -0.7750487092439783,
          0.438034060183595,
          -0.7280824873065657,
          -1.088870404711052,
          -0.8474580048152648,
          -2.0779113093562147,
          -0.3721246680362004,
          -0.5267640540901695,
          -1.2178948075205809,
          0.4043518045817308,
          -1.0334344178968475,
          0.49619293804226283,
          1.8708464437680499,
          1.0121451348718093,
          0.4269126817452754,
          -1.2349673225939606,
          0.39061767494739513,
          -0.6256157986469851,
          1.0351111300950826,
          -0.2450626994913141,
          0.06169580689106269,
          1.2499050049827194,
          -0.8473351234707631,
          0.6306685186978127,
          -1.9093082042900966,
          0.24302207947724627,
          -0.19948169908255228,
          -0.750993574668388,
          1.3137674387880596,
          -1.3441275580581578,
          -1.6729780203688531,
          1.164152543022755,
          -0.5617310684333279,
          -1.332295393318157,
          -0.07760242062662576,
          -0.46830100567090677,
          -0.9494876742710063,
          0.6281755129455628,
          -0.9333849785276441,
          -1.9957226612196735,
          -0.10762144124963756,
          0.4208020094415041,
          2.3769857538857306,
          1.3782159691673053,
          0.10990996413442164,
          -1.122310055421987,
          0.9507291380354317,
          -0.4627422441340983,
          1.3847759602273377,
          0.7392940658133781,
          1.3798724102148878,
          1.0354438906558976,
          1.170393638809026,
          1.6744622234240154,
          -0.5340913166387504,
          1.3192837607724976,
          -1.8217211430156675,
          -0.0955557940497877,
          -1.7025104060459593,
          1.49330659712763,
          1.4549119243746382,
          -0.44609922249017514,
          2.2957166286477166,
          -1.0559690993793378,
          0.8833646003473479,
          0.8406456933235341,
          -0.17628257884410958,
          0.22306309235647964,
          -0.034604504310288525,
          -0.8417879309313906,
          -1.978385623888586
         ]
        },
        {
         "boxpoints": false,
         "line": {
          "width": 1.3
         },
         "marker": {
          "color": "rgba(55, 128, 191, 1.0)"
         },
         "name": "B",
         "orientation": "v",
         "type": "box",
         "y": [
          0.5144289608344228,
          0.5724069466256909,
          -0.30819993513771204,
          -0.28761213166610755,
          -0.5458296642997473,
          1.3342341378269325,
          -0.059879995787046364,
          1.3787691268830158,
          1.5187665540777449,
          -2.7519432034869826,
          -1.2056198902311772,
          -0.3629064877540202,
          0.640991257007152,
          -0.47206448107358195,
          -1.0878072262077378,
          -0.15543977760143152,
          -0.8625906044930144,
          -1.7663404323726277,
          1.064994168719819,
          -1.6184662127345653,
          -0.8190616080352211,
          0.7866409263948574,
          -0.19045252367988008,
          1.5969345615530797,
          -0.7044302258560525,
          -0.7900860768132202,
          -1.0735371514754384,
          0.8012526553151388,
          -0.02553132822250245,
          -0.30582686018085536,
          1.4651450194678122,
          -0.8071478717507671,
          0.8376367062569227,
          -0.6329941306779358,
          0.0867084974824401,
          0.05027790087844485,
          -0.2647802167855846,
          1.118984671133748,
          -0.5516072597736149,
          1.8162088275534043,
          -0.44479829986457453,
          0.1569398525620239,
          -1.3824017681664396,
          -0.036541635193980834,
          -0.7447235813408297,
          1.0983606818404243,
          -0.5136529937783657,
          1.7291436530420121,
          0.1816288109054654,
          0.9684547021866818,
          1.5510770631391406,
          -1.0475474342787952,
          -0.6121541607127508,
          1.0571791629492353,
          0.4030738424095661,
          0.5785052092954551,
          0.41074496678539,
          -1.1472776811644665,
          -0.33404848635404577,
          0.1032631854144026,
          2.0443381358099395,
          -0.5966934895063976,
          0.942536444239893,
          -0.9918626005209825,
          2.44059767258467,
          -0.8491252491305082,
          0.5155652443863213,
          -0.8476353923799457,
          -1.6795012845786021,
          1.0044005780947,
          -0.7103791063828504,
          0.5696648510909781,
          0.6978372215304477,
          -1.306728185712887,
          -0.20781386971509166,
          0.9986223565261442,
          0.7651501071650623,
          0.03834750962941581,
          -0.26329636784691046,
          -0.698448027060385,
          0.8293742290726839,
          0.5607838686827155,
          0.8671309641732743,
          0.894047112532386,
          0.47888307509295996,
          0.1892331690303111,
          -0.19289836917771339,
          2.292177153010583,
          0.251550634248612,
          0.24654175294065175,
          0.07806475208841698,
          1.2137666385299004,
          -0.6859853527506332,
          -1.4133773145942006,
          -0.3635762036436802,
          -0.5853034319336741,
          -0.3089010394401241,
          -1.228501650071791,
          0.22216134807810084,
          1.3418905806243608
         ]
        },
        {
         "boxpoints": false,
         "line": {
          "width": 1.3
         },
         "marker": {
          "color": "rgba(50, 171, 96, 1.0)"
         },
         "name": "C",
         "orientation": "v",
         "type": "box",
         "y": [
          -0.30633971724473613,
          -0.5234550101146769,
          0.2478488034051314,
          0.6578260314485772,
          0.6100622628342298,
          0.032581612992109536,
          0.07456945813487535,
          0.2610424110646733,
          0.3351846375278415,
          -0.8358639832336577,
          0.4686070749662074,
          -0.9122092779836232,
          -0.7803246155139458,
          0.6602989279747916,
          -0.28620935953392296,
          -1.0778324203072733,
          0.48963591508823806,
          1.0671437539530921,
          1.0855163362186933,
          -1.8114429646062313,
          -2.247410773899347,
          0.8324518797822211,
          0.9156254816843685,
          0.45753093853990545,
          0.35479727188256155,
          -1.2894696780643116,
          0.1031350503254655,
          -0.1437613113260787,
          -0.9137165933613629,
          -0.8924245674469968,
          0.027752492865393687,
          -1.6471565973337845,
          -0.01948312925464501,
          1.4165837322672976,
          -0.666560449859305,
          0.7292231555751252,
          -1.146714693185556,
          0.675094245687191,
          -1.6637968925303812,
          0.5816901620763231,
          -0.6941354547354356,
          -0.6953760752736109,
          0.7426906363376657,
          -1.7226095764455585,
          0.3609859988169621,
          -0.19804856575689886,
          0.8750661094019057,
          1.168208952094026,
          0.010440059391869854,
          -0.11788995387973426,
          -0.08252714682164242,
          0.9798595763668482,
          0.2469279685957641,
          -0.12695923071965273,
          -0.1791752141982507,
          -0.42565723605537,
          -0.624914201256451,
          1.659369571600921,
          0.7695011878549151,
          1.1913134833806651,
          0.466093934926341,
          1.4421627085964253,
          -0.2815350530159152,
          0.5227302571946018,
          -0.501006197467369,
          0.6698827380804052,
          -0.5980283747965494,
          -0.2745834025311717,
          -0.8139262634868277,
          0.24505022348252758,
          0.706659414513232,
          1.4429091507920122,
          -0.5315623598845203,
          0.7312833614853783,
          -0.6940297068865078,
          1.8532400268662255,
          0.2567757922196267,
          -1.0281102150048418,
          -1.367360751504298,
          -0.1052404363550915,
          0.11663141514226394,
          -1.0663414140660066,
          0.09268557763093996,
          -0.45436556126859795,
          -0.27804832733063795,
          0.3263765879782635,
          0.9550041351946619,
          0.6103649848324788,
          -0.48527758768357315,
          -0.2457889274010022,
          -0.05277339409865519,
          2.586915296705645,
          0.7168061235910601,
          -0.050688695883621036,
          1.2017495715039697,
          0.5857050148380992,
          0.6555654907218712,
          1.0382388400092144,
          -0.540854983782837,
          0.7478846368194215
         ]
        },
        {
         "boxpoints": false,
         "line": {
          "width": 1.3
         },
         "marker": {
          "color": "rgba(128, 0, 128, 1.0)"
         },
         "name": "D",
         "orientation": "v",
         "type": "box",
         "y": [
          -0.2604507371041075,
          -1.9643665654128082,
          0.12641842238158893,
          1.7081905768115073,
          -0.49220866918519124,
          0.656218003349655,
          2.144116227630546,
          -1.4084719232733882,
          -1.178791535445807,
          0.09233705323372739,
          -0.12639330314397007,
          -0.5920427977413246,
          -0.3296786702620065,
          -0.5767269925853163,
          1.697169024762262,
          -0.5186242574799267,
          -0.2686631492690273,
          -1.4070832344050308,
          1.3628508253292413,
          0.031301986381084834,
          -0.158763294918046,
          -0.24044418555289648,
          0.06426934268757235,
          0.239467677136593,
          1.3899558496562443,
          0.42376507027982047,
          -0.9682451764859047,
          1.8423874026042768,
          -0.8000199212148114,
          1.8248070776087995,
          -1.1704179498651104,
          0.009217647861796225,
          -0.4615465327731627,
          -0.6397743914369046,
          0.6601869572436313,
          -0.05300165184856359,
          -0.07910088147815135,
          -0.19938932679475294,
          -1.5473601500030505,
          -0.08994240763913981,
          1.4570202350991852,
          -0.3736716419214809,
          0.20381548004125066,
          0.012330516866901163,
          -0.5945780890656976,
          -2.223860549270489,
          0.3734888706607538,
          -0.2364090799456908,
          -0.7729380881223636,
          1.2603586592523537,
          0.3842833696951564,
          0.5791794096935158,
          1.353317343012976,
          0.08124063052159122,
          -0.9912860929000638,
          -1.0790433465006497,
          1.0256887261366971,
          -0.15558245574534268,
          -1.7808556342887163,
          -0.846480714418734,
          -0.025414806946941267,
          1.1256254054636576,
          0.0820178613140621,
          0.42008087621067003,
          0.008815878738345264,
          -0.7492475351141584,
          0.46056187813653876,
          -0.2285617060563285,
          -0.28302197182181404,
          -0.7264504966966434,
          -1.5202670980524595,
          -0.04317907055632232,
          1.1384828294997618,
          -0.34930916092794906,
          -1.1846910860236932,
          -1.6466426369738534,
          -0.025512980880705114,
          -0.09916625939818707,
          -0.5928646303423978,
          0.12510029685148205,
          -0.6708380179370568,
          -0.7842889382471772,
          -0.27065078646682583,
          1.0096056760094503,
          -0.5343694089995189,
          -0.11891612717518474,
          0.3919681251273001,
          0.24304243949453247,
          0.14327218346926662,
          -0.6455143513378283,
          0.071661142219256,
          -0.739734052321834,
          0.01181871927618938,
          -0.988190195531898,
          -0.0235204034177497,
          0.31330215060320904,
          0.16911247600845583,
          0.6868502531236088,
          -1.2686843768528009,
          0.8848205635957239
         ]
        }
       ],
       "layout": {
        "legend": {
         "bgcolor": "#F5F6F9",
         "font": {
          "color": "#4D5663"
         }
        },
        "paper_bgcolor": "#F5F6F9",
        "plot_bgcolor": "#F5F6F9",
        "template": {
         "data": {
          "bar": [
           {
            "error_x": {
             "color": "#2a3f5f"
            },
            "error_y": {
             "color": "#2a3f5f"
            },
            "marker": {
             "line": {
              "color": "#E5ECF6",
              "width": 0.5
             }
            },
            "type": "bar"
           }
          ],
          "barpolar": [
           {
            "marker": {
             "line": {
              "color": "#E5ECF6",
              "width": 0.5
             }
            },
            "type": "barpolar"
           }
          ],
          "carpet": [
           {
            "aaxis": {
             "endlinecolor": "#2a3f5f",
             "gridcolor": "white",
             "linecolor": "white",
             "minorgridcolor": "white",
             "startlinecolor": "#2a3f5f"
            },
            "baxis": {
             "endlinecolor": "#2a3f5f",
             "gridcolor": "white",
             "linecolor": "white",
             "minorgridcolor": "white",
             "startlinecolor": "#2a3f5f"
            },
            "type": "carpet"
           }
          ],
          "choropleth": [
           {
            "colorbar": {
             "outlinewidth": 0,
             "ticks": ""
            },
            "type": "choropleth"
           }
          ],
          "contour": [
           {
            "colorbar": {
             "outlinewidth": 0,
             "ticks": ""
            },
            "colorscale": [
             [
              0,
              "#0d0887"
             ],
             [
              0.1111111111111111,
              "#46039f"
             ],
             [
              0.2222222222222222,
              "#7201a8"
             ],
             [
              0.3333333333333333,
              "#9c179e"
             ],
             [
              0.4444444444444444,
              "#bd3786"
             ],
             [
              0.5555555555555556,
              "#d8576b"
             ],
             [
              0.6666666666666666,
              "#ed7953"
             ],
             [
              0.7777777777777778,
              "#fb9f3a"
             ],
             [
              0.8888888888888888,
              "#fdca26"
             ],
             [
              1,
              "#f0f921"
             ]
            ],
            "type": "contour"
           }
          ],
          "contourcarpet": [
           {
            "colorbar": {
             "outlinewidth": 0,
             "ticks": ""
            },
            "type": "contourcarpet"
           }
          ],
          "heatmap": [
           {
            "colorbar": {
             "outlinewidth": 0,
             "ticks": ""
            },
            "colorscale": [
             [
              0,
              "#0d0887"
             ],
             [
              0.1111111111111111,
              "#46039f"
             ],
             [
              0.2222222222222222,
              "#7201a8"
             ],
             [
              0.3333333333333333,
              "#9c179e"
             ],
             [
              0.4444444444444444,
              "#bd3786"
             ],
             [
              0.5555555555555556,
              "#d8576b"
             ],
             [
              0.6666666666666666,
              "#ed7953"
             ],
             [
              0.7777777777777778,
              "#fb9f3a"
             ],
             [
              0.8888888888888888,
              "#fdca26"
             ],
             [
              1,
              "#f0f921"
             ]
            ],
            "type": "heatmap"
           }
          ],
          "heatmapgl": [
           {
            "colorbar": {
             "outlinewidth": 0,
             "ticks": ""
            },
            "colorscale": [
             [
              0,
              "#0d0887"
             ],
             [
              0.1111111111111111,
              "#46039f"
             ],
             [
              0.2222222222222222,
              "#7201a8"
             ],
             [
              0.3333333333333333,
              "#9c179e"
             ],
             [
              0.4444444444444444,
              "#bd3786"
             ],
             [
              0.5555555555555556,
              "#d8576b"
             ],
             [
              0.6666666666666666,
              "#ed7953"
             ],
             [
              0.7777777777777778,
              "#fb9f3a"
             ],
             [
              0.8888888888888888,
              "#fdca26"
             ],
             [
              1,
              "#f0f921"
             ]
            ],
            "type": "heatmapgl"
           }
          ],
          "histogram": [
           {
            "marker": {
             "colorbar": {
              "outlinewidth": 0,
              "ticks": ""
             }
            },
            "type": "histogram"
           }
          ],
          "histogram2d": [
           {
            "colorbar": {
             "outlinewidth": 0,
             "ticks": ""
            },
            "colorscale": [
             [
              0,
              "#0d0887"
             ],
             [
              0.1111111111111111,
              "#46039f"
             ],
             [
              0.2222222222222222,
              "#7201a8"
             ],
             [
              0.3333333333333333,
              "#9c179e"
             ],
             [
              0.4444444444444444,
              "#bd3786"
             ],
             [
              0.5555555555555556,
              "#d8576b"
             ],
             [
              0.6666666666666666,
              "#ed7953"
             ],
             [
              0.7777777777777778,
              "#fb9f3a"
             ],
             [
              0.8888888888888888,
              "#fdca26"
             ],
             [
              1,
              "#f0f921"
             ]
            ],
            "type": "histogram2d"
           }
          ],
          "histogram2dcontour": [
           {
            "colorbar": {
             "outlinewidth": 0,
             "ticks": ""
            },
            "colorscale": [
             [
              0,
              "#0d0887"
             ],
             [
              0.1111111111111111,
              "#46039f"
             ],
             [
              0.2222222222222222,
              "#7201a8"
             ],
             [
              0.3333333333333333,
              "#9c179e"
             ],
             [
              0.4444444444444444,
              "#bd3786"
             ],
             [
              0.5555555555555556,
              "#d8576b"
             ],
             [
              0.6666666666666666,
              "#ed7953"
             ],
             [
              0.7777777777777778,
              "#fb9f3a"
             ],
             [
              0.8888888888888888,
              "#fdca26"
             ],
             [
              1,
              "#f0f921"
             ]
            ],
            "type": "histogram2dcontour"
           }
          ],
          "mesh3d": [
           {
            "colorbar": {
             "outlinewidth": 0,
             "ticks": ""
            },
            "type": "mesh3d"
           }
          ],
          "parcoords": [
           {
            "line": {
             "colorbar": {
              "outlinewidth": 0,
              "ticks": ""
             }
            },
            "type": "parcoords"
           }
          ],
          "pie": [
           {
            "automargin": true,
            "type": "pie"
           }
          ],
          "scatter": [
           {
            "marker": {
             "colorbar": {
              "outlinewidth": 0,
              "ticks": ""
             }
            },
            "type": "scatter"
           }
          ],
          "scatter3d": [
           {
            "line": {
             "colorbar": {
              "outlinewidth": 0,
              "ticks": ""
             }
            },
            "marker": {
             "colorbar": {
              "outlinewidth": 0,
              "ticks": ""
             }
            },
            "type": "scatter3d"
           }
          ],
          "scattercarpet": [
           {
            "marker": {
             "colorbar": {
              "outlinewidth": 0,
              "ticks": ""
             }
            },
            "type": "scattercarpet"
           }
          ],
          "scattergeo": [
           {
            "marker": {
             "colorbar": {
              "outlinewidth": 0,
              "ticks": ""
             }
            },
            "type": "scattergeo"
           }
          ],
          "scattergl": [
           {
            "marker": {
             "colorbar": {
              "outlinewidth": 0,
              "ticks": ""
             }
            },
            "type": "scattergl"
           }
          ],
          "scattermapbox": [
           {
            "marker": {
             "colorbar": {
              "outlinewidth": 0,
              "ticks": ""
             }
            },
            "type": "scattermapbox"
           }
          ],
          "scatterpolar": [
           {
            "marker": {
             "colorbar": {
              "outlinewidth": 0,
              "ticks": ""
             }
            },
            "type": "scatterpolar"
           }
          ],
          "scatterpolargl": [
           {
            "marker": {
             "colorbar": {
              "outlinewidth": 0,
              "ticks": ""
             }
            },
            "type": "scatterpolargl"
           }
          ],
          "scatterternary": [
           {
            "marker": {
             "colorbar": {
              "outlinewidth": 0,
              "ticks": ""
             }
            },
            "type": "scatterternary"
           }
          ],
          "surface": [
           {
            "colorbar": {
             "outlinewidth": 0,
             "ticks": ""
            },
            "colorscale": [
             [
              0,
              "#0d0887"
             ],
             [
              0.1111111111111111,
              "#46039f"
             ],
             [
              0.2222222222222222,
              "#7201a8"
             ],
             [
              0.3333333333333333,
              "#9c179e"
             ],
             [
              0.4444444444444444,
              "#bd3786"
             ],
             [
              0.5555555555555556,
              "#d8576b"
             ],
             [
              0.6666666666666666,
              "#ed7953"
             ],
             [
              0.7777777777777778,
              "#fb9f3a"
             ],
             [
              0.8888888888888888,
              "#fdca26"
             ],
             [
              1,
              "#f0f921"
             ]
            ],
            "type": "surface"
           }
          ],
          "table": [
           {
            "cells": {
             "fill": {
              "color": "#EBF0F8"
             },
             "line": {
              "color": "white"
             }
            },
            "header": {
             "fill": {
              "color": "#C8D4E3"
             },
             "line": {
              "color": "white"
             }
            },
            "type": "table"
           }
          ]
         },
         "layout": {
          "annotationdefaults": {
           "arrowcolor": "#2a3f5f",
           "arrowhead": 0,
           "arrowwidth": 1
          },
          "coloraxis": {
           "colorbar": {
            "outlinewidth": 0,
            "ticks": ""
           }
          },
          "colorscale": {
           "diverging": [
            [
             0,
             "#8e0152"
            ],
            [
             0.1,
             "#c51b7d"
            ],
            [
             0.2,
             "#de77ae"
            ],
            [
             0.3,
             "#f1b6da"
            ],
            [
             0.4,
             "#fde0ef"
            ],
            [
             0.5,
             "#f7f7f7"
            ],
            [
             0.6,
             "#e6f5d0"
            ],
            [
             0.7,
             "#b8e186"
            ],
            [
             0.8,
             "#7fbc41"
            ],
            [
             0.9,
             "#4d9221"
            ],
            [
             1,
             "#276419"
            ]
           ],
           "sequential": [
            [
             0,
             "#0d0887"
            ],
            [
             0.1111111111111111,
             "#46039f"
            ],
            [
             0.2222222222222222,
             "#7201a8"
            ],
            [
             0.3333333333333333,
             "#9c179e"
            ],
            [
             0.4444444444444444,
             "#bd3786"
            ],
            [
             0.5555555555555556,
             "#d8576b"
            ],
            [
             0.6666666666666666,
             "#ed7953"
            ],
            [
             0.7777777777777778,
             "#fb9f3a"
            ],
            [
             0.8888888888888888,
             "#fdca26"
            ],
            [
             1,
             "#f0f921"
            ]
           ],
           "sequentialminus": [
            [
             0,
             "#0d0887"
            ],
            [
             0.1111111111111111,
             "#46039f"
            ],
            [
             0.2222222222222222,
             "#7201a8"
            ],
            [
             0.3333333333333333,
             "#9c179e"
            ],
            [
             0.4444444444444444,
             "#bd3786"
            ],
            [
             0.5555555555555556,
             "#d8576b"
            ],
            [
             0.6666666666666666,
             "#ed7953"
            ],
            [
             0.7777777777777778,
             "#fb9f3a"
            ],
            [
             0.8888888888888888,
             "#fdca26"
            ],
            [
             1,
             "#f0f921"
            ]
           ]
          },
          "colorway": [
           "#636efa",
           "#EF553B",
           "#00cc96",
           "#ab63fa",
           "#FFA15A",
           "#19d3f3",
           "#FF6692",
           "#B6E880",
           "#FF97FF",
           "#FECB52"
          ],
          "font": {
           "color": "#2a3f5f"
          },
          "geo": {
           "bgcolor": "white",
           "lakecolor": "white",
           "landcolor": "#E5ECF6",
           "showlakes": true,
           "showland": true,
           "subunitcolor": "white"
          },
          "hoverlabel": {
           "align": "left"
          },
          "hovermode": "closest",
          "mapbox": {
           "style": "light"
          },
          "paper_bgcolor": "white",
          "plot_bgcolor": "#E5ECF6",
          "polar": {
           "angularaxis": {
            "gridcolor": "white",
            "linecolor": "white",
            "ticks": ""
           },
           "bgcolor": "#E5ECF6",
           "radialaxis": {
            "gridcolor": "white",
            "linecolor": "white",
            "ticks": ""
           }
          },
          "scene": {
           "xaxis": {
            "backgroundcolor": "#E5ECF6",
            "gridcolor": "white",
            "gridwidth": 2,
            "linecolor": "white",
            "showbackground": true,
            "ticks": "",
            "zerolinecolor": "white"
           },
           "yaxis": {
            "backgroundcolor": "#E5ECF6",
            "gridcolor": "white",
            "gridwidth": 2,
            "linecolor": "white",
            "showbackground": true,
            "ticks": "",
            "zerolinecolor": "white"
           },
           "zaxis": {
            "backgroundcolor": "#E5ECF6",
            "gridcolor": "white",
            "gridwidth": 2,
            "linecolor": "white",
            "showbackground": true,
            "ticks": "",
            "zerolinecolor": "white"
           }
          },
          "shapedefaults": {
           "line": {
            "color": "#2a3f5f"
           }
          },
          "ternary": {
           "aaxis": {
            "gridcolor": "white",
            "linecolor": "white",
            "ticks": ""
           },
           "baxis": {
            "gridcolor": "white",
            "linecolor": "white",
            "ticks": ""
           },
           "bgcolor": "#E5ECF6",
           "caxis": {
            "gridcolor": "white",
            "linecolor": "white",
            "ticks": ""
           }
          },
          "title": {
           "x": 0.05
          },
          "xaxis": {
           "automargin": true,
           "gridcolor": "white",
           "linecolor": "white",
           "ticks": "",
           "title": {
            "standoff": 15
           },
           "zerolinecolor": "white",
           "zerolinewidth": 2
          },
          "yaxis": {
           "automargin": true,
           "gridcolor": "white",
           "linecolor": "white",
           "ticks": "",
           "title": {
            "standoff": 15
           },
           "zerolinecolor": "white",
           "zerolinewidth": 2
          }
         }
        },
        "title": {
         "font": {
          "color": "#4D5663"
         }
        },
        "xaxis": {
         "gridcolor": "#E1E5ED",
         "showgrid": true,
         "tickfont": {
          "color": "#4D5663"
         },
         "title": {
          "font": {
           "color": "#4D5663"
          },
          "text": ""
         },
         "zerolinecolor": "#E1E5ED"
        },
        "yaxis": {
         "gridcolor": "#E1E5ED",
         "showgrid": true,
         "tickfont": {
          "color": "#4D5663"
         },
         "title": {
          "font": {
           "color": "#4D5663"
          },
          "text": ""
         },
         "zerolinecolor": "#E1E5ED"
        }
       }
      },
      "text/html": [
       "<div>\n",
       "        \n",
       "        \n",
       "            <div id=\"8bfe3d0d-1f45-450b-9e16-e52cc86e7f56\" class=\"plotly-graph-div\" style=\"height:525px; width:100%;\"></div>\n",
       "            <script type=\"text/javascript\">\n",
       "                require([\"plotly\"], function(Plotly) {\n",
       "                    window.PLOTLYENV=window.PLOTLYENV || {};\n",
       "                    window.PLOTLYENV.BASE_URL='https://plot.ly';\n",
       "                    \n",
       "                if (document.getElementById(\"8bfe3d0d-1f45-450b-9e16-e52cc86e7f56\")) {\n",
       "                    Plotly.newPlot(\n",
       "                        '8bfe3d0d-1f45-450b-9e16-e52cc86e7f56',\n",
       "                        [{\"boxpoints\": false, \"line\": {\"width\": 1.3}, \"marker\": {\"color\": \"rgba(255, 153, 51, 1.0)\"}, \"name\": \"A\", \"orientation\": \"v\", \"type\": \"box\", \"y\": [-2.094397151479146, 1.3941214922326817, -0.49945361503735913, -0.7298780946612285, -0.05879101960786524, 1.2168416065981187, 0.8690073762945215, 1.0248764006001234, -0.15540585484017097, -0.16764986233001994, 0.7778984780061986, -1.2435593599915684, 0.25357332176071923, 2.856586915070549, 0.39692412082078316, -1.4345999368445181, -0.6162000698974652, 0.03476259517769596, -2.009145407801507, 1.4533919445471997, -0.8703182328567703, -0.6143084700493274, -0.34761024991025263, -0.05959062978705484, -0.7394525194780763, 0.8340378920527788, -1.0391812744474584, 0.17191340608343134, 0.1586781853253161, -0.7750487092439783, 0.438034060183595, -0.7280824873065657, -1.088870404711052, -0.8474580048152648, -2.0779113093562147, -0.3721246680362004, -0.5267640540901695, -1.2178948075205809, 0.4043518045817308, -1.0334344178968475, 0.49619293804226283, 1.8708464437680499, 1.0121451348718093, 0.4269126817452754, -1.2349673225939606, 0.39061767494739513, -0.6256157986469851, 1.0351111300950826, -0.2450626994913141, 0.06169580689106269, 1.2499050049827194, -0.8473351234707631, 0.6306685186978127, -1.9093082042900966, 0.24302207947724627, -0.19948169908255228, -0.750993574668388, 1.3137674387880596, -1.3441275580581578, -1.6729780203688531, 1.164152543022755, -0.5617310684333279, -1.332295393318157, -0.07760242062662576, -0.46830100567090677, -0.9494876742710063, 0.6281755129455628, -0.9333849785276441, -1.9957226612196735, -0.10762144124963756, 0.4208020094415041, 2.3769857538857306, 1.3782159691673053, 0.10990996413442164, -1.122310055421987, 0.9507291380354317, -0.4627422441340983, 1.3847759602273377, 0.7392940658133781, 1.3798724102148878, 1.0354438906558976, 1.170393638809026, 1.6744622234240154, -0.5340913166387504, 1.3192837607724976, -1.8217211430156675, -0.0955557940497877, -1.7025104060459593, 1.49330659712763, 1.4549119243746382, -0.44609922249017514, 2.2957166286477166, -1.0559690993793378, 0.8833646003473479, 0.8406456933235341, -0.17628257884410958, 0.22306309235647964, -0.034604504310288525, -0.8417879309313906, -1.978385623888586]}, {\"boxpoints\": false, \"line\": {\"width\": 1.3}, \"marker\": {\"color\": \"rgba(55, 128, 191, 1.0)\"}, \"name\": \"B\", \"orientation\": \"v\", \"type\": \"box\", \"y\": [0.5144289608344228, 0.5724069466256909, -0.30819993513771204, -0.28761213166610755, -0.5458296642997473, 1.3342341378269325, -0.059879995787046364, 1.3787691268830158, 1.5187665540777449, -2.7519432034869826, -1.2056198902311772, -0.3629064877540202, 0.640991257007152, -0.47206448107358195, -1.0878072262077378, -0.15543977760143152, -0.8625906044930144, -1.7663404323726277, 1.064994168719819, -1.6184662127345653, -0.8190616080352211, 0.7866409263948574, -0.19045252367988008, 1.5969345615530797, -0.7044302258560525, -0.7900860768132202, -1.0735371514754384, 0.8012526553151388, -0.02553132822250245, -0.30582686018085536, 1.4651450194678122, -0.8071478717507671, 0.8376367062569227, -0.6329941306779358, 0.0867084974824401, 0.05027790087844485, -0.2647802167855846, 1.118984671133748, -0.5516072597736149, 1.8162088275534043, -0.44479829986457453, 0.1569398525620239, -1.3824017681664396, -0.036541635193980834, -0.7447235813408297, 1.0983606818404243, -0.5136529937783657, 1.7291436530420121, 0.1816288109054654, 0.9684547021866818, 1.5510770631391406, -1.0475474342787952, -0.6121541607127508, 1.0571791629492353, 0.4030738424095661, 0.5785052092954551, 0.41074496678539, -1.1472776811644665, -0.33404848635404577, 0.1032631854144026, 2.0443381358099395, -0.5966934895063976, 0.942536444239893, -0.9918626005209825, 2.44059767258467, -0.8491252491305082, 0.5155652443863213, -0.8476353923799457, -1.6795012845786021, 1.0044005780947, -0.7103791063828504, 0.5696648510909781, 0.6978372215304477, -1.306728185712887, -0.20781386971509166, 0.9986223565261442, 0.7651501071650623, 0.03834750962941581, -0.26329636784691046, -0.698448027060385, 0.8293742290726839, 0.5607838686827155, 0.8671309641732743, 0.894047112532386, 0.47888307509295996, 0.1892331690303111, -0.19289836917771339, 2.292177153010583, 0.251550634248612, 0.24654175294065175, 0.07806475208841698, 1.2137666385299004, -0.6859853527506332, -1.4133773145942006, -0.3635762036436802, -0.5853034319336741, -0.3089010394401241, -1.228501650071791, 0.22216134807810084, 1.3418905806243608]}, {\"boxpoints\": false, \"line\": {\"width\": 1.3}, \"marker\": {\"color\": \"rgba(50, 171, 96, 1.0)\"}, \"name\": \"C\", \"orientation\": \"v\", \"type\": \"box\", \"y\": [-0.30633971724473613, -0.5234550101146769, 0.2478488034051314, 0.6578260314485772, 0.6100622628342298, 0.032581612992109536, 0.07456945813487535, 0.2610424110646733, 0.3351846375278415, -0.8358639832336577, 0.4686070749662074, -0.9122092779836232, -0.7803246155139458, 0.6602989279747916, -0.28620935953392296, -1.0778324203072733, 0.48963591508823806, 1.0671437539530921, 1.0855163362186933, -1.8114429646062313, -2.247410773899347, 0.8324518797822211, 0.9156254816843685, 0.45753093853990545, 0.35479727188256155, -1.2894696780643116, 0.1031350503254655, -0.1437613113260787, -0.9137165933613629, -0.8924245674469968, 0.027752492865393687, -1.6471565973337845, -0.01948312925464501, 1.4165837322672976, -0.666560449859305, 0.7292231555751252, -1.146714693185556, 0.675094245687191, -1.6637968925303812, 0.5816901620763231, -0.6941354547354356, -0.6953760752736109, 0.7426906363376657, -1.7226095764455585, 0.3609859988169621, -0.19804856575689886, 0.8750661094019057, 1.168208952094026, 0.010440059391869854, -0.11788995387973426, -0.08252714682164242, 0.9798595763668482, 0.2469279685957641, -0.12695923071965273, -0.1791752141982507, -0.42565723605537, -0.624914201256451, 1.659369571600921, 0.7695011878549151, 1.1913134833806651, 0.466093934926341, 1.4421627085964253, -0.2815350530159152, 0.5227302571946018, -0.501006197467369, 0.6698827380804052, -0.5980283747965494, -0.2745834025311717, -0.8139262634868277, 0.24505022348252758, 0.706659414513232, 1.4429091507920122, -0.5315623598845203, 0.7312833614853783, -0.6940297068865078, 1.8532400268662255, 0.2567757922196267, -1.0281102150048418, -1.367360751504298, -0.1052404363550915, 0.11663141514226394, -1.0663414140660066, 0.09268557763093996, -0.45436556126859795, -0.27804832733063795, 0.3263765879782635, 0.9550041351946619, 0.6103649848324788, -0.48527758768357315, -0.2457889274010022, -0.05277339409865519, 2.586915296705645, 0.7168061235910601, -0.050688695883621036, 1.2017495715039697, 0.5857050148380992, 0.6555654907218712, 1.0382388400092144, -0.540854983782837, 0.7478846368194215]}, {\"boxpoints\": false, \"line\": {\"width\": 1.3}, \"marker\": {\"color\": \"rgba(128, 0, 128, 1.0)\"}, \"name\": \"D\", \"orientation\": \"v\", \"type\": \"box\", \"y\": [-0.2604507371041075, -1.9643665654128082, 0.12641842238158893, 1.7081905768115073, -0.49220866918519124, 0.656218003349655, 2.144116227630546, -1.4084719232733882, -1.178791535445807, 0.09233705323372739, -0.12639330314397007, -0.5920427977413246, -0.3296786702620065, -0.5767269925853163, 1.697169024762262, -0.5186242574799267, -0.2686631492690273, -1.4070832344050308, 1.3628508253292413, 0.031301986381084834, -0.158763294918046, -0.24044418555289648, 0.06426934268757235, 0.239467677136593, 1.3899558496562443, 0.42376507027982047, -0.9682451764859047, 1.8423874026042768, -0.8000199212148114, 1.8248070776087995, -1.1704179498651104, 0.009217647861796225, -0.4615465327731627, -0.6397743914369046, 0.6601869572436313, -0.05300165184856359, -0.07910088147815135, -0.19938932679475294, -1.5473601500030505, -0.08994240763913981, 1.4570202350991852, -0.3736716419214809, 0.20381548004125066, 0.012330516866901163, -0.5945780890656976, -2.223860549270489, 0.3734888706607538, -0.2364090799456908, -0.7729380881223636, 1.2603586592523537, 0.3842833696951564, 0.5791794096935158, 1.353317343012976, 0.08124063052159122, -0.9912860929000638, -1.0790433465006497, 1.0256887261366971, -0.15558245574534268, -1.7808556342887163, -0.846480714418734, -0.025414806946941267, 1.1256254054636576, 0.0820178613140621, 0.42008087621067003, 0.008815878738345264, -0.7492475351141584, 0.46056187813653876, -0.2285617060563285, -0.28302197182181404, -0.7264504966966434, -1.5202670980524595, -0.04317907055632232, 1.1384828294997618, -0.34930916092794906, -1.1846910860236932, -1.6466426369738534, -0.025512980880705114, -0.09916625939818707, -0.5928646303423978, 0.12510029685148205, -0.6708380179370568, -0.7842889382471772, -0.27065078646682583, 1.0096056760094503, -0.5343694089995189, -0.11891612717518474, 0.3919681251273001, 0.24304243949453247, 0.14327218346926662, -0.6455143513378283, 0.071661142219256, -0.739734052321834, 0.01181871927618938, -0.988190195531898, -0.0235204034177497, 0.31330215060320904, 0.16911247600845583, 0.6868502531236088, -1.2686843768528009, 0.8848205635957239]}],\n",
       "                        {\"legend\": {\"bgcolor\": \"#F5F6F9\", \"font\": {\"color\": \"#4D5663\"}}, \"paper_bgcolor\": \"#F5F6F9\", \"plot_bgcolor\": \"#F5F6F9\", \"template\": {\"data\": {\"bar\": [{\"error_x\": {\"color\": \"#2a3f5f\"}, \"error_y\": {\"color\": \"#2a3f5f\"}, \"marker\": {\"line\": {\"color\": \"#E5ECF6\", \"width\": 0.5}}, \"type\": \"bar\"}], \"barpolar\": [{\"marker\": {\"line\": {\"color\": \"#E5ECF6\", \"width\": 0.5}}, \"type\": \"barpolar\"}], \"carpet\": [{\"aaxis\": {\"endlinecolor\": \"#2a3f5f\", \"gridcolor\": \"white\", \"linecolor\": \"white\", \"minorgridcolor\": \"white\", \"startlinecolor\": \"#2a3f5f\"}, \"baxis\": {\"endlinecolor\": \"#2a3f5f\", \"gridcolor\": \"white\", \"linecolor\": \"white\", \"minorgridcolor\": \"white\", \"startlinecolor\": \"#2a3f5f\"}, \"type\": \"carpet\"}], \"choropleth\": [{\"colorbar\": {\"outlinewidth\": 0, \"ticks\": \"\"}, \"type\": \"choropleth\"}], \"contour\": [{\"colorbar\": {\"outlinewidth\": 0, \"ticks\": \"\"}, \"colorscale\": [[0.0, \"#0d0887\"], [0.1111111111111111, \"#46039f\"], [0.2222222222222222, \"#7201a8\"], [0.3333333333333333, \"#9c179e\"], [0.4444444444444444, \"#bd3786\"], [0.5555555555555556, \"#d8576b\"], [0.6666666666666666, \"#ed7953\"], [0.7777777777777778, \"#fb9f3a\"], [0.8888888888888888, \"#fdca26\"], [1.0, \"#f0f921\"]], \"type\": \"contour\"}], \"contourcarpet\": [{\"colorbar\": {\"outlinewidth\": 0, \"ticks\": \"\"}, \"type\": \"contourcarpet\"}], \"heatmap\": [{\"colorbar\": {\"outlinewidth\": 0, \"ticks\": \"\"}, \"colorscale\": [[0.0, \"#0d0887\"], [0.1111111111111111, \"#46039f\"], [0.2222222222222222, \"#7201a8\"], [0.3333333333333333, \"#9c179e\"], [0.4444444444444444, \"#bd3786\"], [0.5555555555555556, \"#d8576b\"], [0.6666666666666666, \"#ed7953\"], [0.7777777777777778, \"#fb9f3a\"], [0.8888888888888888, \"#fdca26\"], [1.0, \"#f0f921\"]], \"type\": \"heatmap\"}], \"heatmapgl\": [{\"colorbar\": {\"outlinewidth\": 0, \"ticks\": \"\"}, \"colorscale\": [[0.0, \"#0d0887\"], [0.1111111111111111, \"#46039f\"], [0.2222222222222222, \"#7201a8\"], [0.3333333333333333, \"#9c179e\"], [0.4444444444444444, \"#bd3786\"], [0.5555555555555556, \"#d8576b\"], [0.6666666666666666, \"#ed7953\"], [0.7777777777777778, \"#fb9f3a\"], [0.8888888888888888, \"#fdca26\"], [1.0, \"#f0f921\"]], \"type\": \"heatmapgl\"}], \"histogram\": [{\"marker\": {\"colorbar\": {\"outlinewidth\": 0, \"ticks\": \"\"}}, \"type\": \"histogram\"}], \"histogram2d\": [{\"colorbar\": {\"outlinewidth\": 0, \"ticks\": \"\"}, \"colorscale\": [[0.0, \"#0d0887\"], [0.1111111111111111, \"#46039f\"], [0.2222222222222222, \"#7201a8\"], [0.3333333333333333, \"#9c179e\"], [0.4444444444444444, \"#bd3786\"], [0.5555555555555556, \"#d8576b\"], [0.6666666666666666, \"#ed7953\"], [0.7777777777777778, \"#fb9f3a\"], [0.8888888888888888, \"#fdca26\"], [1.0, \"#f0f921\"]], \"type\": \"histogram2d\"}], \"histogram2dcontour\": [{\"colorbar\": {\"outlinewidth\": 0, \"ticks\": \"\"}, \"colorscale\": [[0.0, \"#0d0887\"], [0.1111111111111111, \"#46039f\"], [0.2222222222222222, \"#7201a8\"], [0.3333333333333333, \"#9c179e\"], [0.4444444444444444, \"#bd3786\"], [0.5555555555555556, \"#d8576b\"], [0.6666666666666666, \"#ed7953\"], [0.7777777777777778, \"#fb9f3a\"], [0.8888888888888888, \"#fdca26\"], [1.0, \"#f0f921\"]], \"type\": \"histogram2dcontour\"}], \"mesh3d\": [{\"colorbar\": {\"outlinewidth\": 0, \"ticks\": \"\"}, \"type\": \"mesh3d\"}], \"parcoords\": [{\"line\": {\"colorbar\": {\"outlinewidth\": 0, \"ticks\": \"\"}}, \"type\": \"parcoords\"}], \"pie\": [{\"automargin\": true, \"type\": \"pie\"}], \"scatter\": [{\"marker\": {\"colorbar\": {\"outlinewidth\": 0, \"ticks\": \"\"}}, \"type\": \"scatter\"}], \"scatter3d\": [{\"line\": {\"colorbar\": {\"outlinewidth\": 0, \"ticks\": \"\"}}, \"marker\": {\"colorbar\": {\"outlinewidth\": 0, \"ticks\": \"\"}}, \"type\": \"scatter3d\"}], \"scattercarpet\": [{\"marker\": {\"colorbar\": {\"outlinewidth\": 0, \"ticks\": \"\"}}, \"type\": \"scattercarpet\"}], \"scattergeo\": [{\"marker\": {\"colorbar\": {\"outlinewidth\": 0, \"ticks\": \"\"}}, \"type\": \"scattergeo\"}], \"scattergl\": [{\"marker\": {\"colorbar\": {\"outlinewidth\": 0, \"ticks\": \"\"}}, \"type\": \"scattergl\"}], \"scattermapbox\": [{\"marker\": {\"colorbar\": {\"outlinewidth\": 0, \"ticks\": \"\"}}, \"type\": \"scattermapbox\"}], \"scatterpolar\": [{\"marker\": {\"colorbar\": {\"outlinewidth\": 0, \"ticks\": \"\"}}, \"type\": \"scatterpolar\"}], \"scatterpolargl\": [{\"marker\": {\"colorbar\": {\"outlinewidth\": 0, \"ticks\": \"\"}}, \"type\": \"scatterpolargl\"}], \"scatterternary\": [{\"marker\": {\"colorbar\": {\"outlinewidth\": 0, \"ticks\": \"\"}}, \"type\": \"scatterternary\"}], \"surface\": [{\"colorbar\": {\"outlinewidth\": 0, \"ticks\": \"\"}, \"colorscale\": [[0.0, \"#0d0887\"], [0.1111111111111111, \"#46039f\"], [0.2222222222222222, \"#7201a8\"], [0.3333333333333333, \"#9c179e\"], [0.4444444444444444, \"#bd3786\"], [0.5555555555555556, \"#d8576b\"], [0.6666666666666666, \"#ed7953\"], [0.7777777777777778, \"#fb9f3a\"], [0.8888888888888888, \"#fdca26\"], [1.0, \"#f0f921\"]], \"type\": \"surface\"}], \"table\": [{\"cells\": {\"fill\": {\"color\": \"#EBF0F8\"}, \"line\": {\"color\": \"white\"}}, \"header\": {\"fill\": {\"color\": \"#C8D4E3\"}, \"line\": {\"color\": \"white\"}}, \"type\": \"table\"}]}, \"layout\": {\"annotationdefaults\": {\"arrowcolor\": \"#2a3f5f\", \"arrowhead\": 0, \"arrowwidth\": 1}, \"coloraxis\": {\"colorbar\": {\"outlinewidth\": 0, \"ticks\": \"\"}}, \"colorscale\": {\"diverging\": [[0, \"#8e0152\"], [0.1, \"#c51b7d\"], [0.2, \"#de77ae\"], [0.3, \"#f1b6da\"], [0.4, \"#fde0ef\"], [0.5, \"#f7f7f7\"], [0.6, \"#e6f5d0\"], [0.7, \"#b8e186\"], [0.8, \"#7fbc41\"], [0.9, \"#4d9221\"], [1, \"#276419\"]], \"sequential\": [[0.0, \"#0d0887\"], [0.1111111111111111, \"#46039f\"], [0.2222222222222222, \"#7201a8\"], [0.3333333333333333, \"#9c179e\"], [0.4444444444444444, \"#bd3786\"], [0.5555555555555556, \"#d8576b\"], [0.6666666666666666, \"#ed7953\"], [0.7777777777777778, \"#fb9f3a\"], [0.8888888888888888, \"#fdca26\"], [1.0, \"#f0f921\"]], \"sequentialminus\": [[0.0, \"#0d0887\"], [0.1111111111111111, \"#46039f\"], [0.2222222222222222, \"#7201a8\"], [0.3333333333333333, \"#9c179e\"], [0.4444444444444444, \"#bd3786\"], [0.5555555555555556, \"#d8576b\"], [0.6666666666666666, \"#ed7953\"], [0.7777777777777778, \"#fb9f3a\"], [0.8888888888888888, \"#fdca26\"], [1.0, \"#f0f921\"]]}, \"colorway\": [\"#636efa\", \"#EF553B\", \"#00cc96\", \"#ab63fa\", \"#FFA15A\", \"#19d3f3\", \"#FF6692\", \"#B6E880\", \"#FF97FF\", \"#FECB52\"], \"font\": {\"color\": \"#2a3f5f\"}, \"geo\": {\"bgcolor\": \"white\", \"lakecolor\": \"white\", \"landcolor\": \"#E5ECF6\", \"showlakes\": true, \"showland\": true, \"subunitcolor\": \"white\"}, \"hoverlabel\": {\"align\": \"left\"}, \"hovermode\": \"closest\", \"mapbox\": {\"style\": \"light\"}, \"paper_bgcolor\": \"white\", \"plot_bgcolor\": \"#E5ECF6\", \"polar\": {\"angularaxis\": {\"gridcolor\": \"white\", \"linecolor\": \"white\", \"ticks\": \"\"}, \"bgcolor\": \"#E5ECF6\", \"radialaxis\": {\"gridcolor\": \"white\", \"linecolor\": \"white\", \"ticks\": \"\"}}, \"scene\": {\"xaxis\": {\"backgroundcolor\": \"#E5ECF6\", \"gridcolor\": \"white\", \"gridwidth\": 2, \"linecolor\": \"white\", \"showbackground\": true, \"ticks\": \"\", \"zerolinecolor\": \"white\"}, \"yaxis\": {\"backgroundcolor\": \"#E5ECF6\", \"gridcolor\": \"white\", \"gridwidth\": 2, \"linecolor\": \"white\", \"showbackground\": true, \"ticks\": \"\", \"zerolinecolor\": \"white\"}, \"zaxis\": {\"backgroundcolor\": \"#E5ECF6\", \"gridcolor\": \"white\", \"gridwidth\": 2, \"linecolor\": \"white\", \"showbackground\": true, \"ticks\": \"\", \"zerolinecolor\": \"white\"}}, \"shapedefaults\": {\"line\": {\"color\": \"#2a3f5f\"}}, \"ternary\": {\"aaxis\": {\"gridcolor\": \"white\", \"linecolor\": \"white\", \"ticks\": \"\"}, \"baxis\": {\"gridcolor\": \"white\", \"linecolor\": \"white\", \"ticks\": \"\"}, \"bgcolor\": \"#E5ECF6\", \"caxis\": {\"gridcolor\": \"white\", \"linecolor\": \"white\", \"ticks\": \"\"}}, \"title\": {\"x\": 0.05}, \"xaxis\": {\"automargin\": true, \"gridcolor\": \"white\", \"linecolor\": \"white\", \"ticks\": \"\", \"title\": {\"standoff\": 15}, \"zerolinecolor\": \"white\", \"zerolinewidth\": 2}, \"yaxis\": {\"automargin\": true, \"gridcolor\": \"white\", \"linecolor\": \"white\", \"ticks\": \"\", \"title\": {\"standoff\": 15}, \"zerolinecolor\": \"white\", \"zerolinewidth\": 2}}}, \"title\": {\"font\": {\"color\": \"#4D5663\"}}, \"xaxis\": {\"gridcolor\": \"#E1E5ED\", \"showgrid\": true, \"tickfont\": {\"color\": \"#4D5663\"}, \"title\": {\"font\": {\"color\": \"#4D5663\"}, \"text\": \"\"}, \"zerolinecolor\": \"#E1E5ED\"}, \"yaxis\": {\"gridcolor\": \"#E1E5ED\", \"showgrid\": true, \"tickfont\": {\"color\": \"#4D5663\"}, \"title\": {\"font\": {\"color\": \"#4D5663\"}, \"text\": \"\"}, \"zerolinecolor\": \"#E1E5ED\"}},\n",
       "                        {\"showLink\": true, \"linkText\": \"Export to plot.ly\", \"plotlyServerURL\": \"https://plot.ly\", \"responsive\": true}\n",
       "                    ).then(function(){\n",
       "                            \n",
       "var gd = document.getElementById('8bfe3d0d-1f45-450b-9e16-e52cc86e7f56');\n",
       "var x = new MutationObserver(function (mutations, observer) {{\n",
       "        var display = window.getComputedStyle(gd).display;\n",
       "        if (!display || display === 'none') {{\n",
       "            console.log([gd, 'removed!']);\n",
       "            Plotly.purge(gd);\n",
       "            observer.disconnect();\n",
       "        }}\n",
       "}});\n",
       "\n",
       "// Listen for the removal of the full notebook cells\n",
       "var notebookContainer = gd.closest('#notebook-container');\n",
       "if (notebookContainer) {{\n",
       "    x.observe(notebookContainer, {childList: true});\n",
       "}}\n",
       "\n",
       "// Listen for the clearing of the current output cell\n",
       "var outputEl = gd.closest('.output');\n",
       "if (outputEl) {{\n",
       "    x.observe(outputEl, {childList: true});\n",
       "}}\n",
       "\n",
       "                        })\n",
       "                };\n",
       "                });\n",
       "            </script>\n",
       "        </div>"
      ]
     },
     "metadata": {},
     "output_type": "display_data"
    }
   ],
   "source": [
    "df.iplot(kind='box')"
   ]
  },
  {
   "cell_type": "code",
   "execution_count": 28,
   "metadata": {},
   "outputs": [],
   "source": [
    "df3 = pd.DataFrame({'x':[1,2,3,4,5],'y':[10,20,30,20,10],'z':[5,4,3,2,1]})"
   ]
  },
  {
   "cell_type": "code",
   "execution_count": 29,
   "metadata": {},
   "outputs": [
    {
     "data": {
      "text/html": [
       "<div>\n",
       "<style scoped>\n",
       "    .dataframe tbody tr th:only-of-type {\n",
       "        vertical-align: middle;\n",
       "    }\n",
       "\n",
       "    .dataframe tbody tr th {\n",
       "        vertical-align: top;\n",
       "    }\n",
       "\n",
       "    .dataframe thead th {\n",
       "        text-align: right;\n",
       "    }\n",
       "</style>\n",
       "<table border=\"1\" class=\"dataframe\">\n",
       "  <thead>\n",
       "    <tr style=\"text-align: right;\">\n",
       "      <th></th>\n",
       "      <th>x</th>\n",
       "      <th>y</th>\n",
       "      <th>z</th>\n",
       "    </tr>\n",
       "  </thead>\n",
       "  <tbody>\n",
       "    <tr>\n",
       "      <th>0</th>\n",
       "      <td>1</td>\n",
       "      <td>10</td>\n",
       "      <td>5</td>\n",
       "    </tr>\n",
       "    <tr>\n",
       "      <th>1</th>\n",
       "      <td>2</td>\n",
       "      <td>20</td>\n",
       "      <td>4</td>\n",
       "    </tr>\n",
       "    <tr>\n",
       "      <th>2</th>\n",
       "      <td>3</td>\n",
       "      <td>30</td>\n",
       "      <td>3</td>\n",
       "    </tr>\n",
       "    <tr>\n",
       "      <th>3</th>\n",
       "      <td>4</td>\n",
       "      <td>20</td>\n",
       "      <td>2</td>\n",
       "    </tr>\n",
       "    <tr>\n",
       "      <th>4</th>\n",
       "      <td>5</td>\n",
       "      <td>10</td>\n",
       "      <td>1</td>\n",
       "    </tr>\n",
       "  </tbody>\n",
       "</table>\n",
       "</div>"
      ],
      "text/plain": [
       "   x   y  z\n",
       "0  1  10  5\n",
       "1  2  20  4\n",
       "2  3  30  3\n",
       "3  4  20  2\n",
       "4  5  10  1"
      ]
     },
     "execution_count": 29,
     "metadata": {},
     "output_type": "execute_result"
    }
   ],
   "source": [
    "df3"
   ]
  },
  {
   "cell_type": "code",
   "execution_count": 30,
   "metadata": {},
   "outputs": [
    {
     "data": {
      "application/vnd.plotly.v1+json": {
       "config": {
        "linkText": "Export to plot.ly",
        "plotlyServerURL": "https://plot.ly",
        "showLink": true
       },
       "data": [
        {
         "colorscale": [
          [
           0,
           "rgb(255, 153, 51)"
          ],
          [
           0.1111111111111111,
           "rgb(55, 128, 191)"
          ],
          [
           0.2222222222222222,
           "rgb(50, 171, 96)"
          ],
          [
           0.3333333333333333,
           "rgb(128, 0, 128)"
          ],
          [
           0.4444444444444444,
           "rgb(219, 64, 82)"
          ],
          [
           0.5555555555555556,
           "rgb(0, 128, 128)"
          ],
          [
           0.6666666666666666,
           "rgb(255, 255, 51)"
          ],
          [
           0.7777777777777778,
           "rgb(128, 128, 0)"
          ],
          [
           0.8888888888888888,
           "rgb(251, 128, 114)"
          ],
          [
           1,
           "rgb(128, 177, 211)"
          ]
         ],
         "type": "surface",
         "x": [
          0,
          1,
          2,
          3,
          4
         ],
         "y": [
          "x",
          "y",
          "z"
         ],
         "z": [
          [
           1,
           2,
           3,
           4,
           5
          ],
          [
           10,
           20,
           30,
           20,
           10
          ],
          [
           5,
           4,
           3,
           2,
           1
          ]
         ]
        }
       ],
       "layout": {
        "legend": {
         "bgcolor": "#F5F6F9",
         "font": {
          "color": "#4D5663"
         }
        },
        "paper_bgcolor": "#F5F6F9",
        "plot_bgcolor": "#F5F6F9",
        "template": {
         "data": {
          "bar": [
           {
            "error_x": {
             "color": "#2a3f5f"
            },
            "error_y": {
             "color": "#2a3f5f"
            },
            "marker": {
             "line": {
              "color": "#E5ECF6",
              "width": 0.5
             }
            },
            "type": "bar"
           }
          ],
          "barpolar": [
           {
            "marker": {
             "line": {
              "color": "#E5ECF6",
              "width": 0.5
             }
            },
            "type": "barpolar"
           }
          ],
          "carpet": [
           {
            "aaxis": {
             "endlinecolor": "#2a3f5f",
             "gridcolor": "white",
             "linecolor": "white",
             "minorgridcolor": "white",
             "startlinecolor": "#2a3f5f"
            },
            "baxis": {
             "endlinecolor": "#2a3f5f",
             "gridcolor": "white",
             "linecolor": "white",
             "minorgridcolor": "white",
             "startlinecolor": "#2a3f5f"
            },
            "type": "carpet"
           }
          ],
          "choropleth": [
           {
            "colorbar": {
             "outlinewidth": 0,
             "ticks": ""
            },
            "type": "choropleth"
           }
          ],
          "contour": [
           {
            "colorbar": {
             "outlinewidth": 0,
             "ticks": ""
            },
            "colorscale": [
             [
              0,
              "#0d0887"
             ],
             [
              0.1111111111111111,
              "#46039f"
             ],
             [
              0.2222222222222222,
              "#7201a8"
             ],
             [
              0.3333333333333333,
              "#9c179e"
             ],
             [
              0.4444444444444444,
              "#bd3786"
             ],
             [
              0.5555555555555556,
              "#d8576b"
             ],
             [
              0.6666666666666666,
              "#ed7953"
             ],
             [
              0.7777777777777778,
              "#fb9f3a"
             ],
             [
              0.8888888888888888,
              "#fdca26"
             ],
             [
              1,
              "#f0f921"
             ]
            ],
            "type": "contour"
           }
          ],
          "contourcarpet": [
           {
            "colorbar": {
             "outlinewidth": 0,
             "ticks": ""
            },
            "type": "contourcarpet"
           }
          ],
          "heatmap": [
           {
            "colorbar": {
             "outlinewidth": 0,
             "ticks": ""
            },
            "colorscale": [
             [
              0,
              "#0d0887"
             ],
             [
              0.1111111111111111,
              "#46039f"
             ],
             [
              0.2222222222222222,
              "#7201a8"
             ],
             [
              0.3333333333333333,
              "#9c179e"
             ],
             [
              0.4444444444444444,
              "#bd3786"
             ],
             [
              0.5555555555555556,
              "#d8576b"
             ],
             [
              0.6666666666666666,
              "#ed7953"
             ],
             [
              0.7777777777777778,
              "#fb9f3a"
             ],
             [
              0.8888888888888888,
              "#fdca26"
             ],
             [
              1,
              "#f0f921"
             ]
            ],
            "type": "heatmap"
           }
          ],
          "heatmapgl": [
           {
            "colorbar": {
             "outlinewidth": 0,
             "ticks": ""
            },
            "colorscale": [
             [
              0,
              "#0d0887"
             ],
             [
              0.1111111111111111,
              "#46039f"
             ],
             [
              0.2222222222222222,
              "#7201a8"
             ],
             [
              0.3333333333333333,
              "#9c179e"
             ],
             [
              0.4444444444444444,
              "#bd3786"
             ],
             [
              0.5555555555555556,
              "#d8576b"
             ],
             [
              0.6666666666666666,
              "#ed7953"
             ],
             [
              0.7777777777777778,
              "#fb9f3a"
             ],
             [
              0.8888888888888888,
              "#fdca26"
             ],
             [
              1,
              "#f0f921"
             ]
            ],
            "type": "heatmapgl"
           }
          ],
          "histogram": [
           {
            "marker": {
             "colorbar": {
              "outlinewidth": 0,
              "ticks": ""
             }
            },
            "type": "histogram"
           }
          ],
          "histogram2d": [
           {
            "colorbar": {
             "outlinewidth": 0,
             "ticks": ""
            },
            "colorscale": [
             [
              0,
              "#0d0887"
             ],
             [
              0.1111111111111111,
              "#46039f"
             ],
             [
              0.2222222222222222,
              "#7201a8"
             ],
             [
              0.3333333333333333,
              "#9c179e"
             ],
             [
              0.4444444444444444,
              "#bd3786"
             ],
             [
              0.5555555555555556,
              "#d8576b"
             ],
             [
              0.6666666666666666,
              "#ed7953"
             ],
             [
              0.7777777777777778,
              "#fb9f3a"
             ],
             [
              0.8888888888888888,
              "#fdca26"
             ],
             [
              1,
              "#f0f921"
             ]
            ],
            "type": "histogram2d"
           }
          ],
          "histogram2dcontour": [
           {
            "colorbar": {
             "outlinewidth": 0,
             "ticks": ""
            },
            "colorscale": [
             [
              0,
              "#0d0887"
             ],
             [
              0.1111111111111111,
              "#46039f"
             ],
             [
              0.2222222222222222,
              "#7201a8"
             ],
             [
              0.3333333333333333,
              "#9c179e"
             ],
             [
              0.4444444444444444,
              "#bd3786"
             ],
             [
              0.5555555555555556,
              "#d8576b"
             ],
             [
              0.6666666666666666,
              "#ed7953"
             ],
             [
              0.7777777777777778,
              "#fb9f3a"
             ],
             [
              0.8888888888888888,
              "#fdca26"
             ],
             [
              1,
              "#f0f921"
             ]
            ],
            "type": "histogram2dcontour"
           }
          ],
          "mesh3d": [
           {
            "colorbar": {
             "outlinewidth": 0,
             "ticks": ""
            },
            "type": "mesh3d"
           }
          ],
          "parcoords": [
           {
            "line": {
             "colorbar": {
              "outlinewidth": 0,
              "ticks": ""
             }
            },
            "type": "parcoords"
           }
          ],
          "pie": [
           {
            "automargin": true,
            "type": "pie"
           }
          ],
          "scatter": [
           {
            "marker": {
             "colorbar": {
              "outlinewidth": 0,
              "ticks": ""
             }
            },
            "type": "scatter"
           }
          ],
          "scatter3d": [
           {
            "line": {
             "colorbar": {
              "outlinewidth": 0,
              "ticks": ""
             }
            },
            "marker": {
             "colorbar": {
              "outlinewidth": 0,
              "ticks": ""
             }
            },
            "type": "scatter3d"
           }
          ],
          "scattercarpet": [
           {
            "marker": {
             "colorbar": {
              "outlinewidth": 0,
              "ticks": ""
             }
            },
            "type": "scattercarpet"
           }
          ],
          "scattergeo": [
           {
            "marker": {
             "colorbar": {
              "outlinewidth": 0,
              "ticks": ""
             }
            },
            "type": "scattergeo"
           }
          ],
          "scattergl": [
           {
            "marker": {
             "colorbar": {
              "outlinewidth": 0,
              "ticks": ""
             }
            },
            "type": "scattergl"
           }
          ],
          "scattermapbox": [
           {
            "marker": {
             "colorbar": {
              "outlinewidth": 0,
              "ticks": ""
             }
            },
            "type": "scattermapbox"
           }
          ],
          "scatterpolar": [
           {
            "marker": {
             "colorbar": {
              "outlinewidth": 0,
              "ticks": ""
             }
            },
            "type": "scatterpolar"
           }
          ],
          "scatterpolargl": [
           {
            "marker": {
             "colorbar": {
              "outlinewidth": 0,
              "ticks": ""
             }
            },
            "type": "scatterpolargl"
           }
          ],
          "scatterternary": [
           {
            "marker": {
             "colorbar": {
              "outlinewidth": 0,
              "ticks": ""
             }
            },
            "type": "scatterternary"
           }
          ],
          "surface": [
           {
            "colorbar": {
             "outlinewidth": 0,
             "ticks": ""
            },
            "colorscale": [
             [
              0,
              "#0d0887"
             ],
             [
              0.1111111111111111,
              "#46039f"
             ],
             [
              0.2222222222222222,
              "#7201a8"
             ],
             [
              0.3333333333333333,
              "#9c179e"
             ],
             [
              0.4444444444444444,
              "#bd3786"
             ],
             [
              0.5555555555555556,
              "#d8576b"
             ],
             [
              0.6666666666666666,
              "#ed7953"
             ],
             [
              0.7777777777777778,
              "#fb9f3a"
             ],
             [
              0.8888888888888888,
              "#fdca26"
             ],
             [
              1,
              "#f0f921"
             ]
            ],
            "type": "surface"
           }
          ],
          "table": [
           {
            "cells": {
             "fill": {
              "color": "#EBF0F8"
             },
             "line": {
              "color": "white"
             }
            },
            "header": {
             "fill": {
              "color": "#C8D4E3"
             },
             "line": {
              "color": "white"
             }
            },
            "type": "table"
           }
          ]
         },
         "layout": {
          "annotationdefaults": {
           "arrowcolor": "#2a3f5f",
           "arrowhead": 0,
           "arrowwidth": 1
          },
          "coloraxis": {
           "colorbar": {
            "outlinewidth": 0,
            "ticks": ""
           }
          },
          "colorscale": {
           "diverging": [
            [
             0,
             "#8e0152"
            ],
            [
             0.1,
             "#c51b7d"
            ],
            [
             0.2,
             "#de77ae"
            ],
            [
             0.3,
             "#f1b6da"
            ],
            [
             0.4,
             "#fde0ef"
            ],
            [
             0.5,
             "#f7f7f7"
            ],
            [
             0.6,
             "#e6f5d0"
            ],
            [
             0.7,
             "#b8e186"
            ],
            [
             0.8,
             "#7fbc41"
            ],
            [
             0.9,
             "#4d9221"
            ],
            [
             1,
             "#276419"
            ]
           ],
           "sequential": [
            [
             0,
             "#0d0887"
            ],
            [
             0.1111111111111111,
             "#46039f"
            ],
            [
             0.2222222222222222,
             "#7201a8"
            ],
            [
             0.3333333333333333,
             "#9c179e"
            ],
            [
             0.4444444444444444,
             "#bd3786"
            ],
            [
             0.5555555555555556,
             "#d8576b"
            ],
            [
             0.6666666666666666,
             "#ed7953"
            ],
            [
             0.7777777777777778,
             "#fb9f3a"
            ],
            [
             0.8888888888888888,
             "#fdca26"
            ],
            [
             1,
             "#f0f921"
            ]
           ],
           "sequentialminus": [
            [
             0,
             "#0d0887"
            ],
            [
             0.1111111111111111,
             "#46039f"
            ],
            [
             0.2222222222222222,
             "#7201a8"
            ],
            [
             0.3333333333333333,
             "#9c179e"
            ],
            [
             0.4444444444444444,
             "#bd3786"
            ],
            [
             0.5555555555555556,
             "#d8576b"
            ],
            [
             0.6666666666666666,
             "#ed7953"
            ],
            [
             0.7777777777777778,
             "#fb9f3a"
            ],
            [
             0.8888888888888888,
             "#fdca26"
            ],
            [
             1,
             "#f0f921"
            ]
           ]
          },
          "colorway": [
           "#636efa",
           "#EF553B",
           "#00cc96",
           "#ab63fa",
           "#FFA15A",
           "#19d3f3",
           "#FF6692",
           "#B6E880",
           "#FF97FF",
           "#FECB52"
          ],
          "font": {
           "color": "#2a3f5f"
          },
          "geo": {
           "bgcolor": "white",
           "lakecolor": "white",
           "landcolor": "#E5ECF6",
           "showlakes": true,
           "showland": true,
           "subunitcolor": "white"
          },
          "hoverlabel": {
           "align": "left"
          },
          "hovermode": "closest",
          "mapbox": {
           "style": "light"
          },
          "paper_bgcolor": "white",
          "plot_bgcolor": "#E5ECF6",
          "polar": {
           "angularaxis": {
            "gridcolor": "white",
            "linecolor": "white",
            "ticks": ""
           },
           "bgcolor": "#E5ECF6",
           "radialaxis": {
            "gridcolor": "white",
            "linecolor": "white",
            "ticks": ""
           }
          },
          "scene": {
           "xaxis": {
            "backgroundcolor": "#E5ECF6",
            "gridcolor": "white",
            "gridwidth": 2,
            "linecolor": "white",
            "showbackground": true,
            "ticks": "",
            "zerolinecolor": "white"
           },
           "yaxis": {
            "backgroundcolor": "#E5ECF6",
            "gridcolor": "white",
            "gridwidth": 2,
            "linecolor": "white",
            "showbackground": true,
            "ticks": "",
            "zerolinecolor": "white"
           },
           "zaxis": {
            "backgroundcolor": "#E5ECF6",
            "gridcolor": "white",
            "gridwidth": 2,
            "linecolor": "white",
            "showbackground": true,
            "ticks": "",
            "zerolinecolor": "white"
           }
          },
          "shapedefaults": {
           "line": {
            "color": "#2a3f5f"
           }
          },
          "ternary": {
           "aaxis": {
            "gridcolor": "white",
            "linecolor": "white",
            "ticks": ""
           },
           "baxis": {
            "gridcolor": "white",
            "linecolor": "white",
            "ticks": ""
           },
           "bgcolor": "#E5ECF6",
           "caxis": {
            "gridcolor": "white",
            "linecolor": "white",
            "ticks": ""
           }
          },
          "title": {
           "x": 0.05
          },
          "xaxis": {
           "automargin": true,
           "gridcolor": "white",
           "linecolor": "white",
           "ticks": "",
           "title": {
            "standoff": 15
           },
           "zerolinecolor": "white",
           "zerolinewidth": 2
          },
          "yaxis": {
           "automargin": true,
           "gridcolor": "white",
           "linecolor": "white",
           "ticks": "",
           "title": {
            "standoff": 15
           },
           "zerolinecolor": "white",
           "zerolinewidth": 2
          }
         }
        },
        "title": {
         "font": {
          "color": "#4D5663"
         }
        },
        "xaxis": {
         "gridcolor": "#E1E5ED",
         "showgrid": true,
         "tickfont": {
          "color": "#4D5663"
         },
         "title": {
          "font": {
           "color": "#4D5663"
          },
          "text": ""
         },
         "zerolinecolor": "#E1E5ED"
        },
        "yaxis": {
         "gridcolor": "#E1E5ED",
         "showgrid": true,
         "tickfont": {
          "color": "#4D5663"
         },
         "title": {
          "font": {
           "color": "#4D5663"
          },
          "text": ""
         },
         "zerolinecolor": "#E1E5ED"
        }
       }
      },
      "text/html": [
       "<div>\n",
       "        \n",
       "        \n",
       "            <div id=\"e094dda2-2539-463b-9036-425d3517af6a\" class=\"plotly-graph-div\" style=\"height:525px; width:100%;\"></div>\n",
       "            <script type=\"text/javascript\">\n",
       "                require([\"plotly\"], function(Plotly) {\n",
       "                    window.PLOTLYENV=window.PLOTLYENV || {};\n",
       "                    window.PLOTLYENV.BASE_URL='https://plot.ly';\n",
       "                    \n",
       "                if (document.getElementById(\"e094dda2-2539-463b-9036-425d3517af6a\")) {\n",
       "                    Plotly.newPlot(\n",
       "                        'e094dda2-2539-463b-9036-425d3517af6a',\n",
       "                        [{\"colorscale\": [[0.0, \"rgb(255, 153, 51)\"], [0.1111111111111111, \"rgb(55, 128, 191)\"], [0.2222222222222222, \"rgb(50, 171, 96)\"], [0.3333333333333333, \"rgb(128, 0, 128)\"], [0.4444444444444444, \"rgb(219, 64, 82)\"], [0.5555555555555556, \"rgb(0, 128, 128)\"], [0.6666666666666666, \"rgb(255, 255, 51)\"], [0.7777777777777778, \"rgb(128, 128, 0)\"], [0.8888888888888888, \"rgb(251, 128, 114)\"], [1.0, \"rgb(128, 177, 211)\"]], \"type\": \"surface\", \"x\": [0, 1, 2, 3, 4], \"y\": [\"x\", \"y\", \"z\"], \"z\": [[1, 2, 3, 4, 5], [10, 20, 30, 20, 10], [5, 4, 3, 2, 1]]}],\n",
       "                        {\"legend\": {\"bgcolor\": \"#F5F6F9\", \"font\": {\"color\": \"#4D5663\"}}, \"paper_bgcolor\": \"#F5F6F9\", \"plot_bgcolor\": \"#F5F6F9\", \"template\": {\"data\": {\"bar\": [{\"error_x\": {\"color\": \"#2a3f5f\"}, \"error_y\": {\"color\": \"#2a3f5f\"}, \"marker\": {\"line\": {\"color\": \"#E5ECF6\", \"width\": 0.5}}, \"type\": \"bar\"}], \"barpolar\": [{\"marker\": {\"line\": {\"color\": \"#E5ECF6\", \"width\": 0.5}}, \"type\": \"barpolar\"}], \"carpet\": [{\"aaxis\": {\"endlinecolor\": \"#2a3f5f\", \"gridcolor\": \"white\", \"linecolor\": \"white\", \"minorgridcolor\": \"white\", \"startlinecolor\": \"#2a3f5f\"}, \"baxis\": {\"endlinecolor\": \"#2a3f5f\", \"gridcolor\": \"white\", \"linecolor\": \"white\", \"minorgridcolor\": \"white\", \"startlinecolor\": \"#2a3f5f\"}, \"type\": \"carpet\"}], \"choropleth\": [{\"colorbar\": {\"outlinewidth\": 0, \"ticks\": \"\"}, \"type\": \"choropleth\"}], \"contour\": [{\"colorbar\": {\"outlinewidth\": 0, \"ticks\": \"\"}, \"colorscale\": [[0.0, \"#0d0887\"], [0.1111111111111111, \"#46039f\"], [0.2222222222222222, \"#7201a8\"], [0.3333333333333333, \"#9c179e\"], [0.4444444444444444, \"#bd3786\"], [0.5555555555555556, \"#d8576b\"], [0.6666666666666666, \"#ed7953\"], [0.7777777777777778, \"#fb9f3a\"], [0.8888888888888888, \"#fdca26\"], [1.0, \"#f0f921\"]], \"type\": \"contour\"}], \"contourcarpet\": [{\"colorbar\": {\"outlinewidth\": 0, \"ticks\": \"\"}, \"type\": \"contourcarpet\"}], \"heatmap\": [{\"colorbar\": {\"outlinewidth\": 0, \"ticks\": \"\"}, \"colorscale\": [[0.0, \"#0d0887\"], [0.1111111111111111, \"#46039f\"], [0.2222222222222222, \"#7201a8\"], [0.3333333333333333, \"#9c179e\"], [0.4444444444444444, \"#bd3786\"], [0.5555555555555556, \"#d8576b\"], [0.6666666666666666, \"#ed7953\"], [0.7777777777777778, \"#fb9f3a\"], [0.8888888888888888, \"#fdca26\"], [1.0, \"#f0f921\"]], \"type\": \"heatmap\"}], \"heatmapgl\": [{\"colorbar\": {\"outlinewidth\": 0, \"ticks\": \"\"}, \"colorscale\": [[0.0, \"#0d0887\"], [0.1111111111111111, \"#46039f\"], [0.2222222222222222, \"#7201a8\"], [0.3333333333333333, \"#9c179e\"], [0.4444444444444444, \"#bd3786\"], [0.5555555555555556, \"#d8576b\"], [0.6666666666666666, \"#ed7953\"], [0.7777777777777778, \"#fb9f3a\"], [0.8888888888888888, \"#fdca26\"], [1.0, \"#f0f921\"]], \"type\": \"heatmapgl\"}], \"histogram\": [{\"marker\": {\"colorbar\": {\"outlinewidth\": 0, \"ticks\": \"\"}}, \"type\": \"histogram\"}], \"histogram2d\": [{\"colorbar\": {\"outlinewidth\": 0, \"ticks\": \"\"}, \"colorscale\": [[0.0, \"#0d0887\"], [0.1111111111111111, \"#46039f\"], [0.2222222222222222, \"#7201a8\"], [0.3333333333333333, \"#9c179e\"], [0.4444444444444444, \"#bd3786\"], [0.5555555555555556, \"#d8576b\"], [0.6666666666666666, \"#ed7953\"], [0.7777777777777778, \"#fb9f3a\"], [0.8888888888888888, \"#fdca26\"], [1.0, \"#f0f921\"]], \"type\": \"histogram2d\"}], \"histogram2dcontour\": [{\"colorbar\": {\"outlinewidth\": 0, \"ticks\": \"\"}, \"colorscale\": [[0.0, \"#0d0887\"], [0.1111111111111111, \"#46039f\"], [0.2222222222222222, \"#7201a8\"], [0.3333333333333333, \"#9c179e\"], [0.4444444444444444, \"#bd3786\"], [0.5555555555555556, \"#d8576b\"], [0.6666666666666666, \"#ed7953\"], [0.7777777777777778, \"#fb9f3a\"], [0.8888888888888888, \"#fdca26\"], [1.0, \"#f0f921\"]], \"type\": \"histogram2dcontour\"}], \"mesh3d\": [{\"colorbar\": {\"outlinewidth\": 0, \"ticks\": \"\"}, \"type\": \"mesh3d\"}], \"parcoords\": [{\"line\": {\"colorbar\": {\"outlinewidth\": 0, \"ticks\": \"\"}}, \"type\": \"parcoords\"}], \"pie\": [{\"automargin\": true, \"type\": \"pie\"}], \"scatter\": [{\"marker\": {\"colorbar\": {\"outlinewidth\": 0, \"ticks\": \"\"}}, \"type\": \"scatter\"}], \"scatter3d\": [{\"line\": {\"colorbar\": {\"outlinewidth\": 0, \"ticks\": \"\"}}, \"marker\": {\"colorbar\": {\"outlinewidth\": 0, \"ticks\": \"\"}}, \"type\": \"scatter3d\"}], \"scattercarpet\": [{\"marker\": {\"colorbar\": {\"outlinewidth\": 0, \"ticks\": \"\"}}, \"type\": \"scattercarpet\"}], \"scattergeo\": [{\"marker\": {\"colorbar\": {\"outlinewidth\": 0, \"ticks\": \"\"}}, \"type\": \"scattergeo\"}], \"scattergl\": [{\"marker\": {\"colorbar\": {\"outlinewidth\": 0, \"ticks\": \"\"}}, \"type\": \"scattergl\"}], \"scattermapbox\": [{\"marker\": {\"colorbar\": {\"outlinewidth\": 0, \"ticks\": \"\"}}, \"type\": \"scattermapbox\"}], \"scatterpolar\": [{\"marker\": {\"colorbar\": {\"outlinewidth\": 0, \"ticks\": \"\"}}, \"type\": \"scatterpolar\"}], \"scatterpolargl\": [{\"marker\": {\"colorbar\": {\"outlinewidth\": 0, \"ticks\": \"\"}}, \"type\": \"scatterpolargl\"}], \"scatterternary\": [{\"marker\": {\"colorbar\": {\"outlinewidth\": 0, \"ticks\": \"\"}}, \"type\": \"scatterternary\"}], \"surface\": [{\"colorbar\": {\"outlinewidth\": 0, \"ticks\": \"\"}, \"colorscale\": [[0.0, \"#0d0887\"], [0.1111111111111111, \"#46039f\"], [0.2222222222222222, \"#7201a8\"], [0.3333333333333333, \"#9c179e\"], [0.4444444444444444, \"#bd3786\"], [0.5555555555555556, \"#d8576b\"], [0.6666666666666666, \"#ed7953\"], [0.7777777777777778, \"#fb9f3a\"], [0.8888888888888888, \"#fdca26\"], [1.0, \"#f0f921\"]], \"type\": \"surface\"}], \"table\": [{\"cells\": {\"fill\": {\"color\": \"#EBF0F8\"}, \"line\": {\"color\": \"white\"}}, \"header\": {\"fill\": {\"color\": \"#C8D4E3\"}, \"line\": {\"color\": \"white\"}}, \"type\": \"table\"}]}, \"layout\": {\"annotationdefaults\": {\"arrowcolor\": \"#2a3f5f\", \"arrowhead\": 0, \"arrowwidth\": 1}, \"coloraxis\": {\"colorbar\": {\"outlinewidth\": 0, \"ticks\": \"\"}}, \"colorscale\": {\"diverging\": [[0, \"#8e0152\"], [0.1, \"#c51b7d\"], [0.2, \"#de77ae\"], [0.3, \"#f1b6da\"], [0.4, \"#fde0ef\"], [0.5, \"#f7f7f7\"], [0.6, \"#e6f5d0\"], [0.7, \"#b8e186\"], [0.8, \"#7fbc41\"], [0.9, \"#4d9221\"], [1, \"#276419\"]], \"sequential\": [[0.0, \"#0d0887\"], [0.1111111111111111, \"#46039f\"], [0.2222222222222222, \"#7201a8\"], [0.3333333333333333, \"#9c179e\"], [0.4444444444444444, \"#bd3786\"], [0.5555555555555556, \"#d8576b\"], [0.6666666666666666, \"#ed7953\"], [0.7777777777777778, \"#fb9f3a\"], [0.8888888888888888, \"#fdca26\"], [1.0, \"#f0f921\"]], \"sequentialminus\": [[0.0, \"#0d0887\"], [0.1111111111111111, \"#46039f\"], [0.2222222222222222, \"#7201a8\"], [0.3333333333333333, \"#9c179e\"], [0.4444444444444444, \"#bd3786\"], [0.5555555555555556, \"#d8576b\"], [0.6666666666666666, \"#ed7953\"], [0.7777777777777778, \"#fb9f3a\"], [0.8888888888888888, \"#fdca26\"], [1.0, \"#f0f921\"]]}, \"colorway\": [\"#636efa\", \"#EF553B\", \"#00cc96\", \"#ab63fa\", \"#FFA15A\", \"#19d3f3\", \"#FF6692\", \"#B6E880\", \"#FF97FF\", \"#FECB52\"], \"font\": {\"color\": \"#2a3f5f\"}, \"geo\": {\"bgcolor\": \"white\", \"lakecolor\": \"white\", \"landcolor\": \"#E5ECF6\", \"showlakes\": true, \"showland\": true, \"subunitcolor\": \"white\"}, \"hoverlabel\": {\"align\": \"left\"}, \"hovermode\": \"closest\", \"mapbox\": {\"style\": \"light\"}, \"paper_bgcolor\": \"white\", \"plot_bgcolor\": \"#E5ECF6\", \"polar\": {\"angularaxis\": {\"gridcolor\": \"white\", \"linecolor\": \"white\", \"ticks\": \"\"}, \"bgcolor\": \"#E5ECF6\", \"radialaxis\": {\"gridcolor\": \"white\", \"linecolor\": \"white\", \"ticks\": \"\"}}, \"scene\": {\"xaxis\": {\"backgroundcolor\": \"#E5ECF6\", \"gridcolor\": \"white\", \"gridwidth\": 2, \"linecolor\": \"white\", \"showbackground\": true, \"ticks\": \"\", \"zerolinecolor\": \"white\"}, \"yaxis\": {\"backgroundcolor\": \"#E5ECF6\", \"gridcolor\": \"white\", \"gridwidth\": 2, \"linecolor\": \"white\", \"showbackground\": true, \"ticks\": \"\", \"zerolinecolor\": \"white\"}, \"zaxis\": {\"backgroundcolor\": \"#E5ECF6\", \"gridcolor\": \"white\", \"gridwidth\": 2, \"linecolor\": \"white\", \"showbackground\": true, \"ticks\": \"\", \"zerolinecolor\": \"white\"}}, \"shapedefaults\": {\"line\": {\"color\": \"#2a3f5f\"}}, \"ternary\": {\"aaxis\": {\"gridcolor\": \"white\", \"linecolor\": \"white\", \"ticks\": \"\"}, \"baxis\": {\"gridcolor\": \"white\", \"linecolor\": \"white\", \"ticks\": \"\"}, \"bgcolor\": \"#E5ECF6\", \"caxis\": {\"gridcolor\": \"white\", \"linecolor\": \"white\", \"ticks\": \"\"}}, \"title\": {\"x\": 0.05}, \"xaxis\": {\"automargin\": true, \"gridcolor\": \"white\", \"linecolor\": \"white\", \"ticks\": \"\", \"title\": {\"standoff\": 15}, \"zerolinecolor\": \"white\", \"zerolinewidth\": 2}, \"yaxis\": {\"automargin\": true, \"gridcolor\": \"white\", \"linecolor\": \"white\", \"ticks\": \"\", \"title\": {\"standoff\": 15}, \"zerolinecolor\": \"white\", \"zerolinewidth\": 2}}}, \"title\": {\"font\": {\"color\": \"#4D5663\"}}, \"xaxis\": {\"gridcolor\": \"#E1E5ED\", \"showgrid\": true, \"tickfont\": {\"color\": \"#4D5663\"}, \"title\": {\"font\": {\"color\": \"#4D5663\"}, \"text\": \"\"}, \"zerolinecolor\": \"#E1E5ED\"}, \"yaxis\": {\"gridcolor\": \"#E1E5ED\", \"showgrid\": true, \"tickfont\": {\"color\": \"#4D5663\"}, \"title\": {\"font\": {\"color\": \"#4D5663\"}, \"text\": \"\"}, \"zerolinecolor\": \"#E1E5ED\"}},\n",
       "                        {\"showLink\": true, \"linkText\": \"Export to plot.ly\", \"plotlyServerURL\": \"https://plot.ly\", \"responsive\": true}\n",
       "                    ).then(function(){\n",
       "                            \n",
       "var gd = document.getElementById('e094dda2-2539-463b-9036-425d3517af6a');\n",
       "var x = new MutationObserver(function (mutations, observer) {{\n",
       "        var display = window.getComputedStyle(gd).display;\n",
       "        if (!display || display === 'none') {{\n",
       "            console.log([gd, 'removed!']);\n",
       "            Plotly.purge(gd);\n",
       "            observer.disconnect();\n",
       "        }}\n",
       "}});\n",
       "\n",
       "// Listen for the removal of the full notebook cells\n",
       "var notebookContainer = gd.closest('#notebook-container');\n",
       "if (notebookContainer) {{\n",
       "    x.observe(notebookContainer, {childList: true});\n",
       "}}\n",
       "\n",
       "// Listen for the clearing of the current output cell\n",
       "var outputEl = gd.closest('.output');\n",
       "if (outputEl) {{\n",
       "    x.observe(outputEl, {childList: true});\n",
       "}}\n",
       "\n",
       "                        })\n",
       "                };\n",
       "                });\n",
       "            </script>\n",
       "        </div>"
      ]
     },
     "metadata": {},
     "output_type": "display_data"
    }
   ],
   "source": [
    "df3.iplot(kind='surface')"
   ]
  },
  {
   "cell_type": "code",
   "execution_count": 31,
   "metadata": {},
   "outputs": [
    {
     "data": {
      "application/vnd.plotly.v1+json": {
       "config": {
        "linkText": "Export to plot.ly",
        "plotlyServerURL": "https://plot.ly",
        "showLink": true
       },
       "data": [
        {
         "colorscale": [
          [
           0,
           "rgb(165,0,38)"
          ],
          [
           0.1,
           "rgb(215,48,39)"
          ],
          [
           0.2,
           "rgb(244,109,67)"
          ],
          [
           0.3,
           "rgb(253,174,97)"
          ],
          [
           0.4,
           "rgb(254,224,144)"
          ],
          [
           0.5,
           "rgb(255,255,191)"
          ],
          [
           0.6,
           "rgb(224,243,248)"
          ],
          [
           0.7,
           "rgb(171,217,233)"
          ],
          [
           0.8,
           "rgb(116,173,209)"
          ],
          [
           0.9,
           "rgb(69,117,180)"
          ],
          [
           1,
           "rgb(49,54,149)"
          ]
         ],
         "type": "surface",
         "x": [
          0,
          1,
          2,
          3,
          4
         ],
         "y": [
          "x",
          "y",
          "z"
         ],
         "z": [
          [
           1,
           2,
           3,
           4,
           5
          ],
          [
           10,
           20,
           30,
           20,
           10
          ],
          [
           5,
           4,
           3,
           2,
           1
          ]
         ]
        }
       ],
       "layout": {
        "legend": {
         "bgcolor": "#F5F6F9",
         "font": {
          "color": "#4D5663"
         }
        },
        "paper_bgcolor": "#F5F6F9",
        "plot_bgcolor": "#F5F6F9",
        "template": {
         "data": {
          "bar": [
           {
            "error_x": {
             "color": "#2a3f5f"
            },
            "error_y": {
             "color": "#2a3f5f"
            },
            "marker": {
             "line": {
              "color": "#E5ECF6",
              "width": 0.5
             }
            },
            "type": "bar"
           }
          ],
          "barpolar": [
           {
            "marker": {
             "line": {
              "color": "#E5ECF6",
              "width": 0.5
             }
            },
            "type": "barpolar"
           }
          ],
          "carpet": [
           {
            "aaxis": {
             "endlinecolor": "#2a3f5f",
             "gridcolor": "white",
             "linecolor": "white",
             "minorgridcolor": "white",
             "startlinecolor": "#2a3f5f"
            },
            "baxis": {
             "endlinecolor": "#2a3f5f",
             "gridcolor": "white",
             "linecolor": "white",
             "minorgridcolor": "white",
             "startlinecolor": "#2a3f5f"
            },
            "type": "carpet"
           }
          ],
          "choropleth": [
           {
            "colorbar": {
             "outlinewidth": 0,
             "ticks": ""
            },
            "type": "choropleth"
           }
          ],
          "contour": [
           {
            "colorbar": {
             "outlinewidth": 0,
             "ticks": ""
            },
            "colorscale": [
             [
              0,
              "#0d0887"
             ],
             [
              0.1111111111111111,
              "#46039f"
             ],
             [
              0.2222222222222222,
              "#7201a8"
             ],
             [
              0.3333333333333333,
              "#9c179e"
             ],
             [
              0.4444444444444444,
              "#bd3786"
             ],
             [
              0.5555555555555556,
              "#d8576b"
             ],
             [
              0.6666666666666666,
              "#ed7953"
             ],
             [
              0.7777777777777778,
              "#fb9f3a"
             ],
             [
              0.8888888888888888,
              "#fdca26"
             ],
             [
              1,
              "#f0f921"
             ]
            ],
            "type": "contour"
           }
          ],
          "contourcarpet": [
           {
            "colorbar": {
             "outlinewidth": 0,
             "ticks": ""
            },
            "type": "contourcarpet"
           }
          ],
          "heatmap": [
           {
            "colorbar": {
             "outlinewidth": 0,
             "ticks": ""
            },
            "colorscale": [
             [
              0,
              "#0d0887"
             ],
             [
              0.1111111111111111,
              "#46039f"
             ],
             [
              0.2222222222222222,
              "#7201a8"
             ],
             [
              0.3333333333333333,
              "#9c179e"
             ],
             [
              0.4444444444444444,
              "#bd3786"
             ],
             [
              0.5555555555555556,
              "#d8576b"
             ],
             [
              0.6666666666666666,
              "#ed7953"
             ],
             [
              0.7777777777777778,
              "#fb9f3a"
             ],
             [
              0.8888888888888888,
              "#fdca26"
             ],
             [
              1,
              "#f0f921"
             ]
            ],
            "type": "heatmap"
           }
          ],
          "heatmapgl": [
           {
            "colorbar": {
             "outlinewidth": 0,
             "ticks": ""
            },
            "colorscale": [
             [
              0,
              "#0d0887"
             ],
             [
              0.1111111111111111,
              "#46039f"
             ],
             [
              0.2222222222222222,
              "#7201a8"
             ],
             [
              0.3333333333333333,
              "#9c179e"
             ],
             [
              0.4444444444444444,
              "#bd3786"
             ],
             [
              0.5555555555555556,
              "#d8576b"
             ],
             [
              0.6666666666666666,
              "#ed7953"
             ],
             [
              0.7777777777777778,
              "#fb9f3a"
             ],
             [
              0.8888888888888888,
              "#fdca26"
             ],
             [
              1,
              "#f0f921"
             ]
            ],
            "type": "heatmapgl"
           }
          ],
          "histogram": [
           {
            "marker": {
             "colorbar": {
              "outlinewidth": 0,
              "ticks": ""
             }
            },
            "type": "histogram"
           }
          ],
          "histogram2d": [
           {
            "colorbar": {
             "outlinewidth": 0,
             "ticks": ""
            },
            "colorscale": [
             [
              0,
              "#0d0887"
             ],
             [
              0.1111111111111111,
              "#46039f"
             ],
             [
              0.2222222222222222,
              "#7201a8"
             ],
             [
              0.3333333333333333,
              "#9c179e"
             ],
             [
              0.4444444444444444,
              "#bd3786"
             ],
             [
              0.5555555555555556,
              "#d8576b"
             ],
             [
              0.6666666666666666,
              "#ed7953"
             ],
             [
              0.7777777777777778,
              "#fb9f3a"
             ],
             [
              0.8888888888888888,
              "#fdca26"
             ],
             [
              1,
              "#f0f921"
             ]
            ],
            "type": "histogram2d"
           }
          ],
          "histogram2dcontour": [
           {
            "colorbar": {
             "outlinewidth": 0,
             "ticks": ""
            },
            "colorscale": [
             [
              0,
              "#0d0887"
             ],
             [
              0.1111111111111111,
              "#46039f"
             ],
             [
              0.2222222222222222,
              "#7201a8"
             ],
             [
              0.3333333333333333,
              "#9c179e"
             ],
             [
              0.4444444444444444,
              "#bd3786"
             ],
             [
              0.5555555555555556,
              "#d8576b"
             ],
             [
              0.6666666666666666,
              "#ed7953"
             ],
             [
              0.7777777777777778,
              "#fb9f3a"
             ],
             [
              0.8888888888888888,
              "#fdca26"
             ],
             [
              1,
              "#f0f921"
             ]
            ],
            "type": "histogram2dcontour"
           }
          ],
          "mesh3d": [
           {
            "colorbar": {
             "outlinewidth": 0,
             "ticks": ""
            },
            "type": "mesh3d"
           }
          ],
          "parcoords": [
           {
            "line": {
             "colorbar": {
              "outlinewidth": 0,
              "ticks": ""
             }
            },
            "type": "parcoords"
           }
          ],
          "pie": [
           {
            "automargin": true,
            "type": "pie"
           }
          ],
          "scatter": [
           {
            "marker": {
             "colorbar": {
              "outlinewidth": 0,
              "ticks": ""
             }
            },
            "type": "scatter"
           }
          ],
          "scatter3d": [
           {
            "line": {
             "colorbar": {
              "outlinewidth": 0,
              "ticks": ""
             }
            },
            "marker": {
             "colorbar": {
              "outlinewidth": 0,
              "ticks": ""
             }
            },
            "type": "scatter3d"
           }
          ],
          "scattercarpet": [
           {
            "marker": {
             "colorbar": {
              "outlinewidth": 0,
              "ticks": ""
             }
            },
            "type": "scattercarpet"
           }
          ],
          "scattergeo": [
           {
            "marker": {
             "colorbar": {
              "outlinewidth": 0,
              "ticks": ""
             }
            },
            "type": "scattergeo"
           }
          ],
          "scattergl": [
           {
            "marker": {
             "colorbar": {
              "outlinewidth": 0,
              "ticks": ""
             }
            },
            "type": "scattergl"
           }
          ],
          "scattermapbox": [
           {
            "marker": {
             "colorbar": {
              "outlinewidth": 0,
              "ticks": ""
             }
            },
            "type": "scattermapbox"
           }
          ],
          "scatterpolar": [
           {
            "marker": {
             "colorbar": {
              "outlinewidth": 0,
              "ticks": ""
             }
            },
            "type": "scatterpolar"
           }
          ],
          "scatterpolargl": [
           {
            "marker": {
             "colorbar": {
              "outlinewidth": 0,
              "ticks": ""
             }
            },
            "type": "scatterpolargl"
           }
          ],
          "scatterternary": [
           {
            "marker": {
             "colorbar": {
              "outlinewidth": 0,
              "ticks": ""
             }
            },
            "type": "scatterternary"
           }
          ],
          "surface": [
           {
            "colorbar": {
             "outlinewidth": 0,
             "ticks": ""
            },
            "colorscale": [
             [
              0,
              "#0d0887"
             ],
             [
              0.1111111111111111,
              "#46039f"
             ],
             [
              0.2222222222222222,
              "#7201a8"
             ],
             [
              0.3333333333333333,
              "#9c179e"
             ],
             [
              0.4444444444444444,
              "#bd3786"
             ],
             [
              0.5555555555555556,
              "#d8576b"
             ],
             [
              0.6666666666666666,
              "#ed7953"
             ],
             [
              0.7777777777777778,
              "#fb9f3a"
             ],
             [
              0.8888888888888888,
              "#fdca26"
             ],
             [
              1,
              "#f0f921"
             ]
            ],
            "type": "surface"
           }
          ],
          "table": [
           {
            "cells": {
             "fill": {
              "color": "#EBF0F8"
             },
             "line": {
              "color": "white"
             }
            },
            "header": {
             "fill": {
              "color": "#C8D4E3"
             },
             "line": {
              "color": "white"
             }
            },
            "type": "table"
           }
          ]
         },
         "layout": {
          "annotationdefaults": {
           "arrowcolor": "#2a3f5f",
           "arrowhead": 0,
           "arrowwidth": 1
          },
          "coloraxis": {
           "colorbar": {
            "outlinewidth": 0,
            "ticks": ""
           }
          },
          "colorscale": {
           "diverging": [
            [
             0,
             "#8e0152"
            ],
            [
             0.1,
             "#c51b7d"
            ],
            [
             0.2,
             "#de77ae"
            ],
            [
             0.3,
             "#f1b6da"
            ],
            [
             0.4,
             "#fde0ef"
            ],
            [
             0.5,
             "#f7f7f7"
            ],
            [
             0.6,
             "#e6f5d0"
            ],
            [
             0.7,
             "#b8e186"
            ],
            [
             0.8,
             "#7fbc41"
            ],
            [
             0.9,
             "#4d9221"
            ],
            [
             1,
             "#276419"
            ]
           ],
           "sequential": [
            [
             0,
             "#0d0887"
            ],
            [
             0.1111111111111111,
             "#46039f"
            ],
            [
             0.2222222222222222,
             "#7201a8"
            ],
            [
             0.3333333333333333,
             "#9c179e"
            ],
            [
             0.4444444444444444,
             "#bd3786"
            ],
            [
             0.5555555555555556,
             "#d8576b"
            ],
            [
             0.6666666666666666,
             "#ed7953"
            ],
            [
             0.7777777777777778,
             "#fb9f3a"
            ],
            [
             0.8888888888888888,
             "#fdca26"
            ],
            [
             1,
             "#f0f921"
            ]
           ],
           "sequentialminus": [
            [
             0,
             "#0d0887"
            ],
            [
             0.1111111111111111,
             "#46039f"
            ],
            [
             0.2222222222222222,
             "#7201a8"
            ],
            [
             0.3333333333333333,
             "#9c179e"
            ],
            [
             0.4444444444444444,
             "#bd3786"
            ],
            [
             0.5555555555555556,
             "#d8576b"
            ],
            [
             0.6666666666666666,
             "#ed7953"
            ],
            [
             0.7777777777777778,
             "#fb9f3a"
            ],
            [
             0.8888888888888888,
             "#fdca26"
            ],
            [
             1,
             "#f0f921"
            ]
           ]
          },
          "colorway": [
           "#636efa",
           "#EF553B",
           "#00cc96",
           "#ab63fa",
           "#FFA15A",
           "#19d3f3",
           "#FF6692",
           "#B6E880",
           "#FF97FF",
           "#FECB52"
          ],
          "font": {
           "color": "#2a3f5f"
          },
          "geo": {
           "bgcolor": "white",
           "lakecolor": "white",
           "landcolor": "#E5ECF6",
           "showlakes": true,
           "showland": true,
           "subunitcolor": "white"
          },
          "hoverlabel": {
           "align": "left"
          },
          "hovermode": "closest",
          "mapbox": {
           "style": "light"
          },
          "paper_bgcolor": "white",
          "plot_bgcolor": "#E5ECF6",
          "polar": {
           "angularaxis": {
            "gridcolor": "white",
            "linecolor": "white",
            "ticks": ""
           },
           "bgcolor": "#E5ECF6",
           "radialaxis": {
            "gridcolor": "white",
            "linecolor": "white",
            "ticks": ""
           }
          },
          "scene": {
           "xaxis": {
            "backgroundcolor": "#E5ECF6",
            "gridcolor": "white",
            "gridwidth": 2,
            "linecolor": "white",
            "showbackground": true,
            "ticks": "",
            "zerolinecolor": "white"
           },
           "yaxis": {
            "backgroundcolor": "#E5ECF6",
            "gridcolor": "white",
            "gridwidth": 2,
            "linecolor": "white",
            "showbackground": true,
            "ticks": "",
            "zerolinecolor": "white"
           },
           "zaxis": {
            "backgroundcolor": "#E5ECF6",
            "gridcolor": "white",
            "gridwidth": 2,
            "linecolor": "white",
            "showbackground": true,
            "ticks": "",
            "zerolinecolor": "white"
           }
          },
          "shapedefaults": {
           "line": {
            "color": "#2a3f5f"
           }
          },
          "ternary": {
           "aaxis": {
            "gridcolor": "white",
            "linecolor": "white",
            "ticks": ""
           },
           "baxis": {
            "gridcolor": "white",
            "linecolor": "white",
            "ticks": ""
           },
           "bgcolor": "#E5ECF6",
           "caxis": {
            "gridcolor": "white",
            "linecolor": "white",
            "ticks": ""
           }
          },
          "title": {
           "x": 0.05
          },
          "xaxis": {
           "automargin": true,
           "gridcolor": "white",
           "linecolor": "white",
           "ticks": "",
           "title": {
            "standoff": 15
           },
           "zerolinecolor": "white",
           "zerolinewidth": 2
          },
          "yaxis": {
           "automargin": true,
           "gridcolor": "white",
           "linecolor": "white",
           "ticks": "",
           "title": {
            "standoff": 15
           },
           "zerolinecolor": "white",
           "zerolinewidth": 2
          }
         }
        },
        "title": {
         "font": {
          "color": "#4D5663"
         }
        },
        "xaxis": {
         "gridcolor": "#E1E5ED",
         "showgrid": true,
         "tickfont": {
          "color": "#4D5663"
         },
         "title": {
          "font": {
           "color": "#4D5663"
          },
          "text": ""
         },
         "zerolinecolor": "#E1E5ED"
        },
        "yaxis": {
         "gridcolor": "#E1E5ED",
         "showgrid": true,
         "tickfont": {
          "color": "#4D5663"
         },
         "title": {
          "font": {
           "color": "#4D5663"
          },
          "text": ""
         },
         "zerolinecolor": "#E1E5ED"
        }
       }
      },
      "text/html": [
       "<div>\n",
       "        \n",
       "        \n",
       "            <div id=\"e4060253-780c-4b97-9778-1263d5e6e31e\" class=\"plotly-graph-div\" style=\"height:525px; width:100%;\"></div>\n",
       "            <script type=\"text/javascript\">\n",
       "                require([\"plotly\"], function(Plotly) {\n",
       "                    window.PLOTLYENV=window.PLOTLYENV || {};\n",
       "                    window.PLOTLYENV.BASE_URL='https://plot.ly';\n",
       "                    \n",
       "                if (document.getElementById(\"e4060253-780c-4b97-9778-1263d5e6e31e\")) {\n",
       "                    Plotly.newPlot(\n",
       "                        'e4060253-780c-4b97-9778-1263d5e6e31e',\n",
       "                        [{\"colorscale\": [[0.0, \"rgb(165,0,38)\"], [0.1, \"rgb(215,48,39)\"], [0.2, \"rgb(244,109,67)\"], [0.3, \"rgb(253,174,97)\"], [0.4, \"rgb(254,224,144)\"], [0.5, \"rgb(255,255,191)\"], [0.6, \"rgb(224,243,248)\"], [0.7, \"rgb(171,217,233)\"], [0.8, \"rgb(116,173,209)\"], [0.9, \"rgb(69,117,180)\"], [1.0, \"rgb(49,54,149)\"]], \"type\": \"surface\", \"x\": [0, 1, 2, 3, 4], \"y\": [\"x\", \"y\", \"z\"], \"z\": [[1, 2, 3, 4, 5], [10, 20, 30, 20, 10], [5, 4, 3, 2, 1]]}],\n",
       "                        {\"legend\": {\"bgcolor\": \"#F5F6F9\", \"font\": {\"color\": \"#4D5663\"}}, \"paper_bgcolor\": \"#F5F6F9\", \"plot_bgcolor\": \"#F5F6F9\", \"template\": {\"data\": {\"bar\": [{\"error_x\": {\"color\": \"#2a3f5f\"}, \"error_y\": {\"color\": \"#2a3f5f\"}, \"marker\": {\"line\": {\"color\": \"#E5ECF6\", \"width\": 0.5}}, \"type\": \"bar\"}], \"barpolar\": [{\"marker\": {\"line\": {\"color\": \"#E5ECF6\", \"width\": 0.5}}, \"type\": \"barpolar\"}], \"carpet\": [{\"aaxis\": {\"endlinecolor\": \"#2a3f5f\", \"gridcolor\": \"white\", \"linecolor\": \"white\", \"minorgridcolor\": \"white\", \"startlinecolor\": \"#2a3f5f\"}, \"baxis\": {\"endlinecolor\": \"#2a3f5f\", \"gridcolor\": \"white\", \"linecolor\": \"white\", \"minorgridcolor\": \"white\", \"startlinecolor\": \"#2a3f5f\"}, \"type\": \"carpet\"}], \"choropleth\": [{\"colorbar\": {\"outlinewidth\": 0, \"ticks\": \"\"}, \"type\": \"choropleth\"}], \"contour\": [{\"colorbar\": {\"outlinewidth\": 0, \"ticks\": \"\"}, \"colorscale\": [[0.0, \"#0d0887\"], [0.1111111111111111, \"#46039f\"], [0.2222222222222222, \"#7201a8\"], [0.3333333333333333, \"#9c179e\"], [0.4444444444444444, \"#bd3786\"], [0.5555555555555556, \"#d8576b\"], [0.6666666666666666, \"#ed7953\"], [0.7777777777777778, \"#fb9f3a\"], [0.8888888888888888, \"#fdca26\"], [1.0, \"#f0f921\"]], \"type\": \"contour\"}], \"contourcarpet\": [{\"colorbar\": {\"outlinewidth\": 0, \"ticks\": \"\"}, \"type\": \"contourcarpet\"}], \"heatmap\": [{\"colorbar\": {\"outlinewidth\": 0, \"ticks\": \"\"}, \"colorscale\": [[0.0, \"#0d0887\"], [0.1111111111111111, \"#46039f\"], [0.2222222222222222, \"#7201a8\"], [0.3333333333333333, \"#9c179e\"], [0.4444444444444444, \"#bd3786\"], [0.5555555555555556, \"#d8576b\"], [0.6666666666666666, \"#ed7953\"], [0.7777777777777778, \"#fb9f3a\"], [0.8888888888888888, \"#fdca26\"], [1.0, \"#f0f921\"]], \"type\": \"heatmap\"}], \"heatmapgl\": [{\"colorbar\": {\"outlinewidth\": 0, \"ticks\": \"\"}, \"colorscale\": [[0.0, \"#0d0887\"], [0.1111111111111111, \"#46039f\"], [0.2222222222222222, \"#7201a8\"], [0.3333333333333333, \"#9c179e\"], [0.4444444444444444, \"#bd3786\"], [0.5555555555555556, \"#d8576b\"], [0.6666666666666666, \"#ed7953\"], [0.7777777777777778, \"#fb9f3a\"], [0.8888888888888888, \"#fdca26\"], [1.0, \"#f0f921\"]], \"type\": \"heatmapgl\"}], \"histogram\": [{\"marker\": {\"colorbar\": {\"outlinewidth\": 0, \"ticks\": \"\"}}, \"type\": \"histogram\"}], \"histogram2d\": [{\"colorbar\": {\"outlinewidth\": 0, \"ticks\": \"\"}, \"colorscale\": [[0.0, \"#0d0887\"], [0.1111111111111111, \"#46039f\"], [0.2222222222222222, \"#7201a8\"], [0.3333333333333333, \"#9c179e\"], [0.4444444444444444, \"#bd3786\"], [0.5555555555555556, \"#d8576b\"], [0.6666666666666666, \"#ed7953\"], [0.7777777777777778, \"#fb9f3a\"], [0.8888888888888888, \"#fdca26\"], [1.0, \"#f0f921\"]], \"type\": \"histogram2d\"}], \"histogram2dcontour\": [{\"colorbar\": {\"outlinewidth\": 0, \"ticks\": \"\"}, \"colorscale\": [[0.0, \"#0d0887\"], [0.1111111111111111, \"#46039f\"], [0.2222222222222222, \"#7201a8\"], [0.3333333333333333, \"#9c179e\"], [0.4444444444444444, \"#bd3786\"], [0.5555555555555556, \"#d8576b\"], [0.6666666666666666, \"#ed7953\"], [0.7777777777777778, \"#fb9f3a\"], [0.8888888888888888, \"#fdca26\"], [1.0, \"#f0f921\"]], \"type\": \"histogram2dcontour\"}], \"mesh3d\": [{\"colorbar\": {\"outlinewidth\": 0, \"ticks\": \"\"}, \"type\": \"mesh3d\"}], \"parcoords\": [{\"line\": {\"colorbar\": {\"outlinewidth\": 0, \"ticks\": \"\"}}, \"type\": \"parcoords\"}], \"pie\": [{\"automargin\": true, \"type\": \"pie\"}], \"scatter\": [{\"marker\": {\"colorbar\": {\"outlinewidth\": 0, \"ticks\": \"\"}}, \"type\": \"scatter\"}], \"scatter3d\": [{\"line\": {\"colorbar\": {\"outlinewidth\": 0, \"ticks\": \"\"}}, \"marker\": {\"colorbar\": {\"outlinewidth\": 0, \"ticks\": \"\"}}, \"type\": \"scatter3d\"}], \"scattercarpet\": [{\"marker\": {\"colorbar\": {\"outlinewidth\": 0, \"ticks\": \"\"}}, \"type\": \"scattercarpet\"}], \"scattergeo\": [{\"marker\": {\"colorbar\": {\"outlinewidth\": 0, \"ticks\": \"\"}}, \"type\": \"scattergeo\"}], \"scattergl\": [{\"marker\": {\"colorbar\": {\"outlinewidth\": 0, \"ticks\": \"\"}}, \"type\": \"scattergl\"}], \"scattermapbox\": [{\"marker\": {\"colorbar\": {\"outlinewidth\": 0, \"ticks\": \"\"}}, \"type\": \"scattermapbox\"}], \"scatterpolar\": [{\"marker\": {\"colorbar\": {\"outlinewidth\": 0, \"ticks\": \"\"}}, \"type\": \"scatterpolar\"}], \"scatterpolargl\": [{\"marker\": {\"colorbar\": {\"outlinewidth\": 0, \"ticks\": \"\"}}, \"type\": \"scatterpolargl\"}], \"scatterternary\": [{\"marker\": {\"colorbar\": {\"outlinewidth\": 0, \"ticks\": \"\"}}, \"type\": \"scatterternary\"}], \"surface\": [{\"colorbar\": {\"outlinewidth\": 0, \"ticks\": \"\"}, \"colorscale\": [[0.0, \"#0d0887\"], [0.1111111111111111, \"#46039f\"], [0.2222222222222222, \"#7201a8\"], [0.3333333333333333, \"#9c179e\"], [0.4444444444444444, \"#bd3786\"], [0.5555555555555556, \"#d8576b\"], [0.6666666666666666, \"#ed7953\"], [0.7777777777777778, \"#fb9f3a\"], [0.8888888888888888, \"#fdca26\"], [1.0, \"#f0f921\"]], \"type\": \"surface\"}], \"table\": [{\"cells\": {\"fill\": {\"color\": \"#EBF0F8\"}, \"line\": {\"color\": \"white\"}}, \"header\": {\"fill\": {\"color\": \"#C8D4E3\"}, \"line\": {\"color\": \"white\"}}, \"type\": \"table\"}]}, \"layout\": {\"annotationdefaults\": {\"arrowcolor\": \"#2a3f5f\", \"arrowhead\": 0, \"arrowwidth\": 1}, \"coloraxis\": {\"colorbar\": {\"outlinewidth\": 0, \"ticks\": \"\"}}, \"colorscale\": {\"diverging\": [[0, \"#8e0152\"], [0.1, \"#c51b7d\"], [0.2, \"#de77ae\"], [0.3, \"#f1b6da\"], [0.4, \"#fde0ef\"], [0.5, \"#f7f7f7\"], [0.6, \"#e6f5d0\"], [0.7, \"#b8e186\"], [0.8, \"#7fbc41\"], [0.9, \"#4d9221\"], [1, \"#276419\"]], \"sequential\": [[0.0, \"#0d0887\"], [0.1111111111111111, \"#46039f\"], [0.2222222222222222, \"#7201a8\"], [0.3333333333333333, \"#9c179e\"], [0.4444444444444444, \"#bd3786\"], [0.5555555555555556, \"#d8576b\"], [0.6666666666666666, \"#ed7953\"], [0.7777777777777778, \"#fb9f3a\"], [0.8888888888888888, \"#fdca26\"], [1.0, \"#f0f921\"]], \"sequentialminus\": [[0.0, \"#0d0887\"], [0.1111111111111111, \"#46039f\"], [0.2222222222222222, \"#7201a8\"], [0.3333333333333333, \"#9c179e\"], [0.4444444444444444, \"#bd3786\"], [0.5555555555555556, \"#d8576b\"], [0.6666666666666666, \"#ed7953\"], [0.7777777777777778, \"#fb9f3a\"], [0.8888888888888888, \"#fdca26\"], [1.0, \"#f0f921\"]]}, \"colorway\": [\"#636efa\", \"#EF553B\", \"#00cc96\", \"#ab63fa\", \"#FFA15A\", \"#19d3f3\", \"#FF6692\", \"#B6E880\", \"#FF97FF\", \"#FECB52\"], \"font\": {\"color\": \"#2a3f5f\"}, \"geo\": {\"bgcolor\": \"white\", \"lakecolor\": \"white\", \"landcolor\": \"#E5ECF6\", \"showlakes\": true, \"showland\": true, \"subunitcolor\": \"white\"}, \"hoverlabel\": {\"align\": \"left\"}, \"hovermode\": \"closest\", \"mapbox\": {\"style\": \"light\"}, \"paper_bgcolor\": \"white\", \"plot_bgcolor\": \"#E5ECF6\", \"polar\": {\"angularaxis\": {\"gridcolor\": \"white\", \"linecolor\": \"white\", \"ticks\": \"\"}, \"bgcolor\": \"#E5ECF6\", \"radialaxis\": {\"gridcolor\": \"white\", \"linecolor\": \"white\", \"ticks\": \"\"}}, \"scene\": {\"xaxis\": {\"backgroundcolor\": \"#E5ECF6\", \"gridcolor\": \"white\", \"gridwidth\": 2, \"linecolor\": \"white\", \"showbackground\": true, \"ticks\": \"\", \"zerolinecolor\": \"white\"}, \"yaxis\": {\"backgroundcolor\": \"#E5ECF6\", \"gridcolor\": \"white\", \"gridwidth\": 2, \"linecolor\": \"white\", \"showbackground\": true, \"ticks\": \"\", \"zerolinecolor\": \"white\"}, \"zaxis\": {\"backgroundcolor\": \"#E5ECF6\", \"gridcolor\": \"white\", \"gridwidth\": 2, \"linecolor\": \"white\", \"showbackground\": true, \"ticks\": \"\", \"zerolinecolor\": \"white\"}}, \"shapedefaults\": {\"line\": {\"color\": \"#2a3f5f\"}}, \"ternary\": {\"aaxis\": {\"gridcolor\": \"white\", \"linecolor\": \"white\", \"ticks\": \"\"}, \"baxis\": {\"gridcolor\": \"white\", \"linecolor\": \"white\", \"ticks\": \"\"}, \"bgcolor\": \"#E5ECF6\", \"caxis\": {\"gridcolor\": \"white\", \"linecolor\": \"white\", \"ticks\": \"\"}}, \"title\": {\"x\": 0.05}, \"xaxis\": {\"automargin\": true, \"gridcolor\": \"white\", \"linecolor\": \"white\", \"ticks\": \"\", \"title\": {\"standoff\": 15}, \"zerolinecolor\": \"white\", \"zerolinewidth\": 2}, \"yaxis\": {\"automargin\": true, \"gridcolor\": \"white\", \"linecolor\": \"white\", \"ticks\": \"\", \"title\": {\"standoff\": 15}, \"zerolinecolor\": \"white\", \"zerolinewidth\": 2}}}, \"title\": {\"font\": {\"color\": \"#4D5663\"}}, \"xaxis\": {\"gridcolor\": \"#E1E5ED\", \"showgrid\": true, \"tickfont\": {\"color\": \"#4D5663\"}, \"title\": {\"font\": {\"color\": \"#4D5663\"}, \"text\": \"\"}, \"zerolinecolor\": \"#E1E5ED\"}, \"yaxis\": {\"gridcolor\": \"#E1E5ED\", \"showgrid\": true, \"tickfont\": {\"color\": \"#4D5663\"}, \"title\": {\"font\": {\"color\": \"#4D5663\"}, \"text\": \"\"}, \"zerolinecolor\": \"#E1E5ED\"}},\n",
       "                        {\"showLink\": true, \"linkText\": \"Export to plot.ly\", \"plotlyServerURL\": \"https://plot.ly\", \"responsive\": true}\n",
       "                    ).then(function(){\n",
       "                            \n",
       "var gd = document.getElementById('e4060253-780c-4b97-9778-1263d5e6e31e');\n",
       "var x = new MutationObserver(function (mutations, observer) {{\n",
       "        var display = window.getComputedStyle(gd).display;\n",
       "        if (!display || display === 'none') {{\n",
       "            console.log([gd, 'removed!']);\n",
       "            Plotly.purge(gd);\n",
       "            observer.disconnect();\n",
       "        }}\n",
       "}});\n",
       "\n",
       "// Listen for the removal of the full notebook cells\n",
       "var notebookContainer = gd.closest('#notebook-container');\n",
       "if (notebookContainer) {{\n",
       "    x.observe(notebookContainer, {childList: true});\n",
       "}}\n",
       "\n",
       "// Listen for the clearing of the current output cell\n",
       "var outputEl = gd.closest('.output');\n",
       "if (outputEl) {{\n",
       "    x.observe(outputEl, {childList: true});\n",
       "}}\n",
       "\n",
       "                        })\n",
       "                };\n",
       "                });\n",
       "            </script>\n",
       "        </div>"
      ]
     },
     "metadata": {},
     "output_type": "display_data"
    }
   ],
   "source": [
    "df3.iplot(kind='surface',colorscale='rdylbu')"
   ]
  },
  {
   "cell_type": "code",
   "execution_count": 33,
   "metadata": {},
   "outputs": [
    {
     "data": {
      "application/vnd.plotly.v1+json": {
       "config": {
        "linkText": "Export to plot.ly",
        "plotlyServerURL": "https://plot.ly",
        "showLink": true
       },
       "data": [
        {
         "histfunc": "count",
         "histnorm": "",
         "marker": {
          "color": "rgba(255, 153, 51, 1.0)",
          "line": {
           "color": "#4D5663",
           "width": 1.3
          }
         },
         "name": "A",
         "nbinsx": 30,
         "opacity": 0.8,
         "orientation": "v",
         "type": "histogram",
         "x": [
          -2.094397151479146,
          1.3941214922326817,
          -0.49945361503735913,
          -0.7298780946612285,
          -0.05879101960786524,
          1.2168416065981187,
          0.8690073762945215,
          1.0248764006001234,
          -0.15540585484017097,
          -0.16764986233001994,
          0.7778984780061986,
          -1.2435593599915684,
          0.25357332176071923,
          2.856586915070549,
          0.39692412082078316,
          -1.4345999368445181,
          -0.6162000698974652,
          0.03476259517769596,
          -2.009145407801507,
          1.4533919445471997,
          -0.8703182328567703,
          -0.6143084700493274,
          -0.34761024991025263,
          -0.05959062978705484,
          -0.7394525194780763,
          0.8340378920527788,
          -1.0391812744474584,
          0.17191340608343134,
          0.1586781853253161,
          -0.7750487092439783,
          0.438034060183595,
          -0.7280824873065657,
          -1.088870404711052,
          -0.8474580048152648,
          -2.0779113093562147,
          -0.3721246680362004,
          -0.5267640540901695,
          -1.2178948075205809,
          0.4043518045817308,
          -1.0334344178968475,
          0.49619293804226283,
          1.8708464437680499,
          1.0121451348718093,
          0.4269126817452754,
          -1.2349673225939606,
          0.39061767494739513,
          -0.6256157986469851,
          1.0351111300950826,
          -0.2450626994913141,
          0.06169580689106269,
          1.2499050049827194,
          -0.8473351234707631,
          0.6306685186978127,
          -1.9093082042900966,
          0.24302207947724627,
          -0.19948169908255228,
          -0.750993574668388,
          1.3137674387880596,
          -1.3441275580581578,
          -1.6729780203688531,
          1.164152543022755,
          -0.5617310684333279,
          -1.332295393318157,
          -0.07760242062662576,
          -0.46830100567090677,
          -0.9494876742710063,
          0.6281755129455628,
          -0.9333849785276441,
          -1.9957226612196735,
          -0.10762144124963756,
          0.4208020094415041,
          2.3769857538857306,
          1.3782159691673053,
          0.10990996413442164,
          -1.122310055421987,
          0.9507291380354317,
          -0.4627422441340983,
          1.3847759602273377,
          0.7392940658133781,
          1.3798724102148878,
          1.0354438906558976,
          1.170393638809026,
          1.6744622234240154,
          -0.5340913166387504,
          1.3192837607724976,
          -1.8217211430156675,
          -0.0955557940497877,
          -1.7025104060459593,
          1.49330659712763,
          1.4549119243746382,
          -0.44609922249017514,
          2.2957166286477166,
          -1.0559690993793378,
          0.8833646003473479,
          0.8406456933235341,
          -0.17628257884410958,
          0.22306309235647964,
          -0.034604504310288525,
          -0.8417879309313906,
          -1.978385623888586
         ]
        }
       ],
       "layout": {
        "barmode": "overlay",
        "legend": {
         "bgcolor": "#F5F6F9",
         "font": {
          "color": "#4D5663"
         }
        },
        "paper_bgcolor": "#F5F6F9",
        "plot_bgcolor": "#F5F6F9",
        "template": {
         "data": {
          "bar": [
           {
            "error_x": {
             "color": "#2a3f5f"
            },
            "error_y": {
             "color": "#2a3f5f"
            },
            "marker": {
             "line": {
              "color": "#E5ECF6",
              "width": 0.5
             }
            },
            "type": "bar"
           }
          ],
          "barpolar": [
           {
            "marker": {
             "line": {
              "color": "#E5ECF6",
              "width": 0.5
             }
            },
            "type": "barpolar"
           }
          ],
          "carpet": [
           {
            "aaxis": {
             "endlinecolor": "#2a3f5f",
             "gridcolor": "white",
             "linecolor": "white",
             "minorgridcolor": "white",
             "startlinecolor": "#2a3f5f"
            },
            "baxis": {
             "endlinecolor": "#2a3f5f",
             "gridcolor": "white",
             "linecolor": "white",
             "minorgridcolor": "white",
             "startlinecolor": "#2a3f5f"
            },
            "type": "carpet"
           }
          ],
          "choropleth": [
           {
            "colorbar": {
             "outlinewidth": 0,
             "ticks": ""
            },
            "type": "choropleth"
           }
          ],
          "contour": [
           {
            "colorbar": {
             "outlinewidth": 0,
             "ticks": ""
            },
            "colorscale": [
             [
              0,
              "#0d0887"
             ],
             [
              0.1111111111111111,
              "#46039f"
             ],
             [
              0.2222222222222222,
              "#7201a8"
             ],
             [
              0.3333333333333333,
              "#9c179e"
             ],
             [
              0.4444444444444444,
              "#bd3786"
             ],
             [
              0.5555555555555556,
              "#d8576b"
             ],
             [
              0.6666666666666666,
              "#ed7953"
             ],
             [
              0.7777777777777778,
              "#fb9f3a"
             ],
             [
              0.8888888888888888,
              "#fdca26"
             ],
             [
              1,
              "#f0f921"
             ]
            ],
            "type": "contour"
           }
          ],
          "contourcarpet": [
           {
            "colorbar": {
             "outlinewidth": 0,
             "ticks": ""
            },
            "type": "contourcarpet"
           }
          ],
          "heatmap": [
           {
            "colorbar": {
             "outlinewidth": 0,
             "ticks": ""
            },
            "colorscale": [
             [
              0,
              "#0d0887"
             ],
             [
              0.1111111111111111,
              "#46039f"
             ],
             [
              0.2222222222222222,
              "#7201a8"
             ],
             [
              0.3333333333333333,
              "#9c179e"
             ],
             [
              0.4444444444444444,
              "#bd3786"
             ],
             [
              0.5555555555555556,
              "#d8576b"
             ],
             [
              0.6666666666666666,
              "#ed7953"
             ],
             [
              0.7777777777777778,
              "#fb9f3a"
             ],
             [
              0.8888888888888888,
              "#fdca26"
             ],
             [
              1,
              "#f0f921"
             ]
            ],
            "type": "heatmap"
           }
          ],
          "heatmapgl": [
           {
            "colorbar": {
             "outlinewidth": 0,
             "ticks": ""
            },
            "colorscale": [
             [
              0,
              "#0d0887"
             ],
             [
              0.1111111111111111,
              "#46039f"
             ],
             [
              0.2222222222222222,
              "#7201a8"
             ],
             [
              0.3333333333333333,
              "#9c179e"
             ],
             [
              0.4444444444444444,
              "#bd3786"
             ],
             [
              0.5555555555555556,
              "#d8576b"
             ],
             [
              0.6666666666666666,
              "#ed7953"
             ],
             [
              0.7777777777777778,
              "#fb9f3a"
             ],
             [
              0.8888888888888888,
              "#fdca26"
             ],
             [
              1,
              "#f0f921"
             ]
            ],
            "type": "heatmapgl"
           }
          ],
          "histogram": [
           {
            "marker": {
             "colorbar": {
              "outlinewidth": 0,
              "ticks": ""
             }
            },
            "type": "histogram"
           }
          ],
          "histogram2d": [
           {
            "colorbar": {
             "outlinewidth": 0,
             "ticks": ""
            },
            "colorscale": [
             [
              0,
              "#0d0887"
             ],
             [
              0.1111111111111111,
              "#46039f"
             ],
             [
              0.2222222222222222,
              "#7201a8"
             ],
             [
              0.3333333333333333,
              "#9c179e"
             ],
             [
              0.4444444444444444,
              "#bd3786"
             ],
             [
              0.5555555555555556,
              "#d8576b"
             ],
             [
              0.6666666666666666,
              "#ed7953"
             ],
             [
              0.7777777777777778,
              "#fb9f3a"
             ],
             [
              0.8888888888888888,
              "#fdca26"
             ],
             [
              1,
              "#f0f921"
             ]
            ],
            "type": "histogram2d"
           }
          ],
          "histogram2dcontour": [
           {
            "colorbar": {
             "outlinewidth": 0,
             "ticks": ""
            },
            "colorscale": [
             [
              0,
              "#0d0887"
             ],
             [
              0.1111111111111111,
              "#46039f"
             ],
             [
              0.2222222222222222,
              "#7201a8"
             ],
             [
              0.3333333333333333,
              "#9c179e"
             ],
             [
              0.4444444444444444,
              "#bd3786"
             ],
             [
              0.5555555555555556,
              "#d8576b"
             ],
             [
              0.6666666666666666,
              "#ed7953"
             ],
             [
              0.7777777777777778,
              "#fb9f3a"
             ],
             [
              0.8888888888888888,
              "#fdca26"
             ],
             [
              1,
              "#f0f921"
             ]
            ],
            "type": "histogram2dcontour"
           }
          ],
          "mesh3d": [
           {
            "colorbar": {
             "outlinewidth": 0,
             "ticks": ""
            },
            "type": "mesh3d"
           }
          ],
          "parcoords": [
           {
            "line": {
             "colorbar": {
              "outlinewidth": 0,
              "ticks": ""
             }
            },
            "type": "parcoords"
           }
          ],
          "pie": [
           {
            "automargin": true,
            "type": "pie"
           }
          ],
          "scatter": [
           {
            "marker": {
             "colorbar": {
              "outlinewidth": 0,
              "ticks": ""
             }
            },
            "type": "scatter"
           }
          ],
          "scatter3d": [
           {
            "line": {
             "colorbar": {
              "outlinewidth": 0,
              "ticks": ""
             }
            },
            "marker": {
             "colorbar": {
              "outlinewidth": 0,
              "ticks": ""
             }
            },
            "type": "scatter3d"
           }
          ],
          "scattercarpet": [
           {
            "marker": {
             "colorbar": {
              "outlinewidth": 0,
              "ticks": ""
             }
            },
            "type": "scattercarpet"
           }
          ],
          "scattergeo": [
           {
            "marker": {
             "colorbar": {
              "outlinewidth": 0,
              "ticks": ""
             }
            },
            "type": "scattergeo"
           }
          ],
          "scattergl": [
           {
            "marker": {
             "colorbar": {
              "outlinewidth": 0,
              "ticks": ""
             }
            },
            "type": "scattergl"
           }
          ],
          "scattermapbox": [
           {
            "marker": {
             "colorbar": {
              "outlinewidth": 0,
              "ticks": ""
             }
            },
            "type": "scattermapbox"
           }
          ],
          "scatterpolar": [
           {
            "marker": {
             "colorbar": {
              "outlinewidth": 0,
              "ticks": ""
             }
            },
            "type": "scatterpolar"
           }
          ],
          "scatterpolargl": [
           {
            "marker": {
             "colorbar": {
              "outlinewidth": 0,
              "ticks": ""
             }
            },
            "type": "scatterpolargl"
           }
          ],
          "scatterternary": [
           {
            "marker": {
             "colorbar": {
              "outlinewidth": 0,
              "ticks": ""
             }
            },
            "type": "scatterternary"
           }
          ],
          "surface": [
           {
            "colorbar": {
             "outlinewidth": 0,
             "ticks": ""
            },
            "colorscale": [
             [
              0,
              "#0d0887"
             ],
             [
              0.1111111111111111,
              "#46039f"
             ],
             [
              0.2222222222222222,
              "#7201a8"
             ],
             [
              0.3333333333333333,
              "#9c179e"
             ],
             [
              0.4444444444444444,
              "#bd3786"
             ],
             [
              0.5555555555555556,
              "#d8576b"
             ],
             [
              0.6666666666666666,
              "#ed7953"
             ],
             [
              0.7777777777777778,
              "#fb9f3a"
             ],
             [
              0.8888888888888888,
              "#fdca26"
             ],
             [
              1,
              "#f0f921"
             ]
            ],
            "type": "surface"
           }
          ],
          "table": [
           {
            "cells": {
             "fill": {
              "color": "#EBF0F8"
             },
             "line": {
              "color": "white"
             }
            },
            "header": {
             "fill": {
              "color": "#C8D4E3"
             },
             "line": {
              "color": "white"
             }
            },
            "type": "table"
           }
          ]
         },
         "layout": {
          "annotationdefaults": {
           "arrowcolor": "#2a3f5f",
           "arrowhead": 0,
           "arrowwidth": 1
          },
          "coloraxis": {
           "colorbar": {
            "outlinewidth": 0,
            "ticks": ""
           }
          },
          "colorscale": {
           "diverging": [
            [
             0,
             "#8e0152"
            ],
            [
             0.1,
             "#c51b7d"
            ],
            [
             0.2,
             "#de77ae"
            ],
            [
             0.3,
             "#f1b6da"
            ],
            [
             0.4,
             "#fde0ef"
            ],
            [
             0.5,
             "#f7f7f7"
            ],
            [
             0.6,
             "#e6f5d0"
            ],
            [
             0.7,
             "#b8e186"
            ],
            [
             0.8,
             "#7fbc41"
            ],
            [
             0.9,
             "#4d9221"
            ],
            [
             1,
             "#276419"
            ]
           ],
           "sequential": [
            [
             0,
             "#0d0887"
            ],
            [
             0.1111111111111111,
             "#46039f"
            ],
            [
             0.2222222222222222,
             "#7201a8"
            ],
            [
             0.3333333333333333,
             "#9c179e"
            ],
            [
             0.4444444444444444,
             "#bd3786"
            ],
            [
             0.5555555555555556,
             "#d8576b"
            ],
            [
             0.6666666666666666,
             "#ed7953"
            ],
            [
             0.7777777777777778,
             "#fb9f3a"
            ],
            [
             0.8888888888888888,
             "#fdca26"
            ],
            [
             1,
             "#f0f921"
            ]
           ],
           "sequentialminus": [
            [
             0,
             "#0d0887"
            ],
            [
             0.1111111111111111,
             "#46039f"
            ],
            [
             0.2222222222222222,
             "#7201a8"
            ],
            [
             0.3333333333333333,
             "#9c179e"
            ],
            [
             0.4444444444444444,
             "#bd3786"
            ],
            [
             0.5555555555555556,
             "#d8576b"
            ],
            [
             0.6666666666666666,
             "#ed7953"
            ],
            [
             0.7777777777777778,
             "#fb9f3a"
            ],
            [
             0.8888888888888888,
             "#fdca26"
            ],
            [
             1,
             "#f0f921"
            ]
           ]
          },
          "colorway": [
           "#636efa",
           "#EF553B",
           "#00cc96",
           "#ab63fa",
           "#FFA15A",
           "#19d3f3",
           "#FF6692",
           "#B6E880",
           "#FF97FF",
           "#FECB52"
          ],
          "font": {
           "color": "#2a3f5f"
          },
          "geo": {
           "bgcolor": "white",
           "lakecolor": "white",
           "landcolor": "#E5ECF6",
           "showlakes": true,
           "showland": true,
           "subunitcolor": "white"
          },
          "hoverlabel": {
           "align": "left"
          },
          "hovermode": "closest",
          "mapbox": {
           "style": "light"
          },
          "paper_bgcolor": "white",
          "plot_bgcolor": "#E5ECF6",
          "polar": {
           "angularaxis": {
            "gridcolor": "white",
            "linecolor": "white",
            "ticks": ""
           },
           "bgcolor": "#E5ECF6",
           "radialaxis": {
            "gridcolor": "white",
            "linecolor": "white",
            "ticks": ""
           }
          },
          "scene": {
           "xaxis": {
            "backgroundcolor": "#E5ECF6",
            "gridcolor": "white",
            "gridwidth": 2,
            "linecolor": "white",
            "showbackground": true,
            "ticks": "",
            "zerolinecolor": "white"
           },
           "yaxis": {
            "backgroundcolor": "#E5ECF6",
            "gridcolor": "white",
            "gridwidth": 2,
            "linecolor": "white",
            "showbackground": true,
            "ticks": "",
            "zerolinecolor": "white"
           },
           "zaxis": {
            "backgroundcolor": "#E5ECF6",
            "gridcolor": "white",
            "gridwidth": 2,
            "linecolor": "white",
            "showbackground": true,
            "ticks": "",
            "zerolinecolor": "white"
           }
          },
          "shapedefaults": {
           "line": {
            "color": "#2a3f5f"
           }
          },
          "ternary": {
           "aaxis": {
            "gridcolor": "white",
            "linecolor": "white",
            "ticks": ""
           },
           "baxis": {
            "gridcolor": "white",
            "linecolor": "white",
            "ticks": ""
           },
           "bgcolor": "#E5ECF6",
           "caxis": {
            "gridcolor": "white",
            "linecolor": "white",
            "ticks": ""
           }
          },
          "title": {
           "x": 0.05
          },
          "xaxis": {
           "automargin": true,
           "gridcolor": "white",
           "linecolor": "white",
           "ticks": "",
           "title": {
            "standoff": 15
           },
           "zerolinecolor": "white",
           "zerolinewidth": 2
          },
          "yaxis": {
           "automargin": true,
           "gridcolor": "white",
           "linecolor": "white",
           "ticks": "",
           "title": {
            "standoff": 15
           },
           "zerolinecolor": "white",
           "zerolinewidth": 2
          }
         }
        },
        "title": {
         "font": {
          "color": "#4D5663"
         }
        },
        "xaxis": {
         "gridcolor": "#E1E5ED",
         "showgrid": true,
         "tickfont": {
          "color": "#4D5663"
         },
         "title": {
          "font": {
           "color": "#4D5663"
          },
          "text": ""
         },
         "zerolinecolor": "#E1E5ED"
        },
        "yaxis": {
         "gridcolor": "#E1E5ED",
         "showgrid": true,
         "tickfont": {
          "color": "#4D5663"
         },
         "title": {
          "font": {
           "color": "#4D5663"
          },
          "text": ""
         },
         "zerolinecolor": "#E1E5ED"
        }
       }
      },
      "text/html": [
       "<div>\n",
       "        \n",
       "        \n",
       "            <div id=\"9659d8e5-fbd5-471f-999c-23b8fda1290f\" class=\"plotly-graph-div\" style=\"height:525px; width:100%;\"></div>\n",
       "            <script type=\"text/javascript\">\n",
       "                require([\"plotly\"], function(Plotly) {\n",
       "                    window.PLOTLYENV=window.PLOTLYENV || {};\n",
       "                    window.PLOTLYENV.BASE_URL='https://plot.ly';\n",
       "                    \n",
       "                if (document.getElementById(\"9659d8e5-fbd5-471f-999c-23b8fda1290f\")) {\n",
       "                    Plotly.newPlot(\n",
       "                        '9659d8e5-fbd5-471f-999c-23b8fda1290f',\n",
       "                        [{\"histfunc\": \"count\", \"histnorm\": \"\", \"marker\": {\"color\": \"rgba(255, 153, 51, 1.0)\", \"line\": {\"color\": \"#4D5663\", \"width\": 1.3}}, \"name\": \"A\", \"nbinsx\": 30, \"opacity\": 0.8, \"orientation\": \"v\", \"type\": \"histogram\", \"x\": [-2.094397151479146, 1.3941214922326817, -0.49945361503735913, -0.7298780946612285, -0.05879101960786524, 1.2168416065981187, 0.8690073762945215, 1.0248764006001234, -0.15540585484017097, -0.16764986233001994, 0.7778984780061986, -1.2435593599915684, 0.25357332176071923, 2.856586915070549, 0.39692412082078316, -1.4345999368445181, -0.6162000698974652, 0.03476259517769596, -2.009145407801507, 1.4533919445471997, -0.8703182328567703, -0.6143084700493274, -0.34761024991025263, -0.05959062978705484, -0.7394525194780763, 0.8340378920527788, -1.0391812744474584, 0.17191340608343134, 0.1586781853253161, -0.7750487092439783, 0.438034060183595, -0.7280824873065657, -1.088870404711052, -0.8474580048152648, -2.0779113093562147, -0.3721246680362004, -0.5267640540901695, -1.2178948075205809, 0.4043518045817308, -1.0334344178968475, 0.49619293804226283, 1.8708464437680499, 1.0121451348718093, 0.4269126817452754, -1.2349673225939606, 0.39061767494739513, -0.6256157986469851, 1.0351111300950826, -0.2450626994913141, 0.06169580689106269, 1.2499050049827194, -0.8473351234707631, 0.6306685186978127, -1.9093082042900966, 0.24302207947724627, -0.19948169908255228, -0.750993574668388, 1.3137674387880596, -1.3441275580581578, -1.6729780203688531, 1.164152543022755, -0.5617310684333279, -1.332295393318157, -0.07760242062662576, -0.46830100567090677, -0.9494876742710063, 0.6281755129455628, -0.9333849785276441, -1.9957226612196735, -0.10762144124963756, 0.4208020094415041, 2.3769857538857306, 1.3782159691673053, 0.10990996413442164, -1.122310055421987, 0.9507291380354317, -0.4627422441340983, 1.3847759602273377, 0.7392940658133781, 1.3798724102148878, 1.0354438906558976, 1.170393638809026, 1.6744622234240154, -0.5340913166387504, 1.3192837607724976, -1.8217211430156675, -0.0955557940497877, -1.7025104060459593, 1.49330659712763, 1.4549119243746382, -0.44609922249017514, 2.2957166286477166, -1.0559690993793378, 0.8833646003473479, 0.8406456933235341, -0.17628257884410958, 0.22306309235647964, -0.034604504310288525, -0.8417879309313906, -1.978385623888586]}],\n",
       "                        {\"barmode\": \"overlay\", \"legend\": {\"bgcolor\": \"#F5F6F9\", \"font\": {\"color\": \"#4D5663\"}}, \"paper_bgcolor\": \"#F5F6F9\", \"plot_bgcolor\": \"#F5F6F9\", \"template\": {\"data\": {\"bar\": [{\"error_x\": {\"color\": \"#2a3f5f\"}, \"error_y\": {\"color\": \"#2a3f5f\"}, \"marker\": {\"line\": {\"color\": \"#E5ECF6\", \"width\": 0.5}}, \"type\": \"bar\"}], \"barpolar\": [{\"marker\": {\"line\": {\"color\": \"#E5ECF6\", \"width\": 0.5}}, \"type\": \"barpolar\"}], \"carpet\": [{\"aaxis\": {\"endlinecolor\": \"#2a3f5f\", \"gridcolor\": \"white\", \"linecolor\": \"white\", \"minorgridcolor\": \"white\", \"startlinecolor\": \"#2a3f5f\"}, \"baxis\": {\"endlinecolor\": \"#2a3f5f\", \"gridcolor\": \"white\", \"linecolor\": \"white\", \"minorgridcolor\": \"white\", \"startlinecolor\": \"#2a3f5f\"}, \"type\": \"carpet\"}], \"choropleth\": [{\"colorbar\": {\"outlinewidth\": 0, \"ticks\": \"\"}, \"type\": \"choropleth\"}], \"contour\": [{\"colorbar\": {\"outlinewidth\": 0, \"ticks\": \"\"}, \"colorscale\": [[0.0, \"#0d0887\"], [0.1111111111111111, \"#46039f\"], [0.2222222222222222, \"#7201a8\"], [0.3333333333333333, \"#9c179e\"], [0.4444444444444444, \"#bd3786\"], [0.5555555555555556, \"#d8576b\"], [0.6666666666666666, \"#ed7953\"], [0.7777777777777778, \"#fb9f3a\"], [0.8888888888888888, \"#fdca26\"], [1.0, \"#f0f921\"]], \"type\": \"contour\"}], \"contourcarpet\": [{\"colorbar\": {\"outlinewidth\": 0, \"ticks\": \"\"}, \"type\": \"contourcarpet\"}], \"heatmap\": [{\"colorbar\": {\"outlinewidth\": 0, \"ticks\": \"\"}, \"colorscale\": [[0.0, \"#0d0887\"], [0.1111111111111111, \"#46039f\"], [0.2222222222222222, \"#7201a8\"], [0.3333333333333333, \"#9c179e\"], [0.4444444444444444, \"#bd3786\"], [0.5555555555555556, \"#d8576b\"], [0.6666666666666666, \"#ed7953\"], [0.7777777777777778, \"#fb9f3a\"], [0.8888888888888888, \"#fdca26\"], [1.0, \"#f0f921\"]], \"type\": \"heatmap\"}], \"heatmapgl\": [{\"colorbar\": {\"outlinewidth\": 0, \"ticks\": \"\"}, \"colorscale\": [[0.0, \"#0d0887\"], [0.1111111111111111, \"#46039f\"], [0.2222222222222222, \"#7201a8\"], [0.3333333333333333, \"#9c179e\"], [0.4444444444444444, \"#bd3786\"], [0.5555555555555556, \"#d8576b\"], [0.6666666666666666, \"#ed7953\"], [0.7777777777777778, \"#fb9f3a\"], [0.8888888888888888, \"#fdca26\"], [1.0, \"#f0f921\"]], \"type\": \"heatmapgl\"}], \"histogram\": [{\"marker\": {\"colorbar\": {\"outlinewidth\": 0, \"ticks\": \"\"}}, \"type\": \"histogram\"}], \"histogram2d\": [{\"colorbar\": {\"outlinewidth\": 0, \"ticks\": \"\"}, \"colorscale\": [[0.0, \"#0d0887\"], [0.1111111111111111, \"#46039f\"], [0.2222222222222222, \"#7201a8\"], [0.3333333333333333, \"#9c179e\"], [0.4444444444444444, \"#bd3786\"], [0.5555555555555556, \"#d8576b\"], [0.6666666666666666, \"#ed7953\"], [0.7777777777777778, \"#fb9f3a\"], [0.8888888888888888, \"#fdca26\"], [1.0, \"#f0f921\"]], \"type\": \"histogram2d\"}], \"histogram2dcontour\": [{\"colorbar\": {\"outlinewidth\": 0, \"ticks\": \"\"}, \"colorscale\": [[0.0, \"#0d0887\"], [0.1111111111111111, \"#46039f\"], [0.2222222222222222, \"#7201a8\"], [0.3333333333333333, \"#9c179e\"], [0.4444444444444444, \"#bd3786\"], [0.5555555555555556, \"#d8576b\"], [0.6666666666666666, \"#ed7953\"], [0.7777777777777778, \"#fb9f3a\"], [0.8888888888888888, \"#fdca26\"], [1.0, \"#f0f921\"]], \"type\": \"histogram2dcontour\"}], \"mesh3d\": [{\"colorbar\": {\"outlinewidth\": 0, \"ticks\": \"\"}, \"type\": \"mesh3d\"}], \"parcoords\": [{\"line\": {\"colorbar\": {\"outlinewidth\": 0, \"ticks\": \"\"}}, \"type\": \"parcoords\"}], \"pie\": [{\"automargin\": true, \"type\": \"pie\"}], \"scatter\": [{\"marker\": {\"colorbar\": {\"outlinewidth\": 0, \"ticks\": \"\"}}, \"type\": \"scatter\"}], \"scatter3d\": [{\"line\": {\"colorbar\": {\"outlinewidth\": 0, \"ticks\": \"\"}}, \"marker\": {\"colorbar\": {\"outlinewidth\": 0, \"ticks\": \"\"}}, \"type\": \"scatter3d\"}], \"scattercarpet\": [{\"marker\": {\"colorbar\": {\"outlinewidth\": 0, \"ticks\": \"\"}}, \"type\": \"scattercarpet\"}], \"scattergeo\": [{\"marker\": {\"colorbar\": {\"outlinewidth\": 0, \"ticks\": \"\"}}, \"type\": \"scattergeo\"}], \"scattergl\": [{\"marker\": {\"colorbar\": {\"outlinewidth\": 0, \"ticks\": \"\"}}, \"type\": \"scattergl\"}], \"scattermapbox\": [{\"marker\": {\"colorbar\": {\"outlinewidth\": 0, \"ticks\": \"\"}}, \"type\": \"scattermapbox\"}], \"scatterpolar\": [{\"marker\": {\"colorbar\": {\"outlinewidth\": 0, \"ticks\": \"\"}}, \"type\": \"scatterpolar\"}], \"scatterpolargl\": [{\"marker\": {\"colorbar\": {\"outlinewidth\": 0, \"ticks\": \"\"}}, \"type\": \"scatterpolargl\"}], \"scatterternary\": [{\"marker\": {\"colorbar\": {\"outlinewidth\": 0, \"ticks\": \"\"}}, \"type\": \"scatterternary\"}], \"surface\": [{\"colorbar\": {\"outlinewidth\": 0, \"ticks\": \"\"}, \"colorscale\": [[0.0, \"#0d0887\"], [0.1111111111111111, \"#46039f\"], [0.2222222222222222, \"#7201a8\"], [0.3333333333333333, \"#9c179e\"], [0.4444444444444444, \"#bd3786\"], [0.5555555555555556, \"#d8576b\"], [0.6666666666666666, \"#ed7953\"], [0.7777777777777778, \"#fb9f3a\"], [0.8888888888888888, \"#fdca26\"], [1.0, \"#f0f921\"]], \"type\": \"surface\"}], \"table\": [{\"cells\": {\"fill\": {\"color\": \"#EBF0F8\"}, \"line\": {\"color\": \"white\"}}, \"header\": {\"fill\": {\"color\": \"#C8D4E3\"}, \"line\": {\"color\": \"white\"}}, \"type\": \"table\"}]}, \"layout\": {\"annotationdefaults\": {\"arrowcolor\": \"#2a3f5f\", \"arrowhead\": 0, \"arrowwidth\": 1}, \"coloraxis\": {\"colorbar\": {\"outlinewidth\": 0, \"ticks\": \"\"}}, \"colorscale\": {\"diverging\": [[0, \"#8e0152\"], [0.1, \"#c51b7d\"], [0.2, \"#de77ae\"], [0.3, \"#f1b6da\"], [0.4, \"#fde0ef\"], [0.5, \"#f7f7f7\"], [0.6, \"#e6f5d0\"], [0.7, \"#b8e186\"], [0.8, \"#7fbc41\"], [0.9, \"#4d9221\"], [1, \"#276419\"]], \"sequential\": [[0.0, \"#0d0887\"], [0.1111111111111111, \"#46039f\"], [0.2222222222222222, \"#7201a8\"], [0.3333333333333333, \"#9c179e\"], [0.4444444444444444, \"#bd3786\"], [0.5555555555555556, \"#d8576b\"], [0.6666666666666666, \"#ed7953\"], [0.7777777777777778, \"#fb9f3a\"], [0.8888888888888888, \"#fdca26\"], [1.0, \"#f0f921\"]], \"sequentialminus\": [[0.0, \"#0d0887\"], [0.1111111111111111, \"#46039f\"], [0.2222222222222222, \"#7201a8\"], [0.3333333333333333, \"#9c179e\"], [0.4444444444444444, \"#bd3786\"], [0.5555555555555556, \"#d8576b\"], [0.6666666666666666, \"#ed7953\"], [0.7777777777777778, \"#fb9f3a\"], [0.8888888888888888, \"#fdca26\"], [1.0, \"#f0f921\"]]}, \"colorway\": [\"#636efa\", \"#EF553B\", \"#00cc96\", \"#ab63fa\", \"#FFA15A\", \"#19d3f3\", \"#FF6692\", \"#B6E880\", \"#FF97FF\", \"#FECB52\"], \"font\": {\"color\": \"#2a3f5f\"}, \"geo\": {\"bgcolor\": \"white\", \"lakecolor\": \"white\", \"landcolor\": \"#E5ECF6\", \"showlakes\": true, \"showland\": true, \"subunitcolor\": \"white\"}, \"hoverlabel\": {\"align\": \"left\"}, \"hovermode\": \"closest\", \"mapbox\": {\"style\": \"light\"}, \"paper_bgcolor\": \"white\", \"plot_bgcolor\": \"#E5ECF6\", \"polar\": {\"angularaxis\": {\"gridcolor\": \"white\", \"linecolor\": \"white\", \"ticks\": \"\"}, \"bgcolor\": \"#E5ECF6\", \"radialaxis\": {\"gridcolor\": \"white\", \"linecolor\": \"white\", \"ticks\": \"\"}}, \"scene\": {\"xaxis\": {\"backgroundcolor\": \"#E5ECF6\", \"gridcolor\": \"white\", \"gridwidth\": 2, \"linecolor\": \"white\", \"showbackground\": true, \"ticks\": \"\", \"zerolinecolor\": \"white\"}, \"yaxis\": {\"backgroundcolor\": \"#E5ECF6\", \"gridcolor\": \"white\", \"gridwidth\": 2, \"linecolor\": \"white\", \"showbackground\": true, \"ticks\": \"\", \"zerolinecolor\": \"white\"}, \"zaxis\": {\"backgroundcolor\": \"#E5ECF6\", \"gridcolor\": \"white\", \"gridwidth\": 2, \"linecolor\": \"white\", \"showbackground\": true, \"ticks\": \"\", \"zerolinecolor\": \"white\"}}, \"shapedefaults\": {\"line\": {\"color\": \"#2a3f5f\"}}, \"ternary\": {\"aaxis\": {\"gridcolor\": \"white\", \"linecolor\": \"white\", \"ticks\": \"\"}, \"baxis\": {\"gridcolor\": \"white\", \"linecolor\": \"white\", \"ticks\": \"\"}, \"bgcolor\": \"#E5ECF6\", \"caxis\": {\"gridcolor\": \"white\", \"linecolor\": \"white\", \"ticks\": \"\"}}, \"title\": {\"x\": 0.05}, \"xaxis\": {\"automargin\": true, \"gridcolor\": \"white\", \"linecolor\": \"white\", \"ticks\": \"\", \"title\": {\"standoff\": 15}, \"zerolinecolor\": \"white\", \"zerolinewidth\": 2}, \"yaxis\": {\"automargin\": true, \"gridcolor\": \"white\", \"linecolor\": \"white\", \"ticks\": \"\", \"title\": {\"standoff\": 15}, \"zerolinecolor\": \"white\", \"zerolinewidth\": 2}}}, \"title\": {\"font\": {\"color\": \"#4D5663\"}}, \"xaxis\": {\"gridcolor\": \"#E1E5ED\", \"showgrid\": true, \"tickfont\": {\"color\": \"#4D5663\"}, \"title\": {\"font\": {\"color\": \"#4D5663\"}, \"text\": \"\"}, \"zerolinecolor\": \"#E1E5ED\"}, \"yaxis\": {\"gridcolor\": \"#E1E5ED\", \"showgrid\": true, \"tickfont\": {\"color\": \"#4D5663\"}, \"title\": {\"font\": {\"color\": \"#4D5663\"}, \"text\": \"\"}, \"zerolinecolor\": \"#E1E5ED\"}},\n",
       "                        {\"showLink\": true, \"linkText\": \"Export to plot.ly\", \"plotlyServerURL\": \"https://plot.ly\", \"responsive\": true}\n",
       "                    ).then(function(){\n",
       "                            \n",
       "var gd = document.getElementById('9659d8e5-fbd5-471f-999c-23b8fda1290f');\n",
       "var x = new MutationObserver(function (mutations, observer) {{\n",
       "        var display = window.getComputedStyle(gd).display;\n",
       "        if (!display || display === 'none') {{\n",
       "            console.log([gd, 'removed!']);\n",
       "            Plotly.purge(gd);\n",
       "            observer.disconnect();\n",
       "        }}\n",
       "}});\n",
       "\n",
       "// Listen for the removal of the full notebook cells\n",
       "var notebookContainer = gd.closest('#notebook-container');\n",
       "if (notebookContainer) {{\n",
       "    x.observe(notebookContainer, {childList: true});\n",
       "}}\n",
       "\n",
       "// Listen for the clearing of the current output cell\n",
       "var outputEl = gd.closest('.output');\n",
       "if (outputEl) {{\n",
       "    x.observe(outputEl, {childList: true});\n",
       "}}\n",
       "\n",
       "                        })\n",
       "                };\n",
       "                });\n",
       "            </script>\n",
       "        </div>"
      ]
     },
     "metadata": {},
     "output_type": "display_data"
    }
   ],
   "source": [
    "df['A'].iplot(kind='hist',bins = 30)"
   ]
  },
  {
   "cell_type": "code",
   "execution_count": 34,
   "metadata": {},
   "outputs": [
    {
     "data": {
      "application/vnd.plotly.v1+json": {
       "config": {
        "linkText": "Export to plot.ly",
        "plotlyServerURL": "https://plot.ly",
        "showLink": true
       },
       "data": [
        {
         "histfunc": "count",
         "histnorm": "",
         "marker": {
          "color": "rgba(255, 153, 51, 1.0)",
          "line": {
           "color": "#4D5663",
           "width": 1.3
          }
         },
         "name": "A",
         "nbinsx": 30,
         "opacity": 0.8,
         "orientation": "v",
         "type": "histogram",
         "x": [
          -2.094397151479146,
          1.3941214922326817,
          -0.49945361503735913,
          -0.7298780946612285,
          -0.05879101960786524,
          1.2168416065981187,
          0.8690073762945215,
          1.0248764006001234,
          -0.15540585484017097,
          -0.16764986233001994,
          0.7778984780061986,
          -1.2435593599915684,
          0.25357332176071923,
          2.856586915070549,
          0.39692412082078316,
          -1.4345999368445181,
          -0.6162000698974652,
          0.03476259517769596,
          -2.009145407801507,
          1.4533919445471997,
          -0.8703182328567703,
          -0.6143084700493274,
          -0.34761024991025263,
          -0.05959062978705484,
          -0.7394525194780763,
          0.8340378920527788,
          -1.0391812744474584,
          0.17191340608343134,
          0.1586781853253161,
          -0.7750487092439783,
          0.438034060183595,
          -0.7280824873065657,
          -1.088870404711052,
          -0.8474580048152648,
          -2.0779113093562147,
          -0.3721246680362004,
          -0.5267640540901695,
          -1.2178948075205809,
          0.4043518045817308,
          -1.0334344178968475,
          0.49619293804226283,
          1.8708464437680499,
          1.0121451348718093,
          0.4269126817452754,
          -1.2349673225939606,
          0.39061767494739513,
          -0.6256157986469851,
          1.0351111300950826,
          -0.2450626994913141,
          0.06169580689106269,
          1.2499050049827194,
          -0.8473351234707631,
          0.6306685186978127,
          -1.9093082042900966,
          0.24302207947724627,
          -0.19948169908255228,
          -0.750993574668388,
          1.3137674387880596,
          -1.3441275580581578,
          -1.6729780203688531,
          1.164152543022755,
          -0.5617310684333279,
          -1.332295393318157,
          -0.07760242062662576,
          -0.46830100567090677,
          -0.9494876742710063,
          0.6281755129455628,
          -0.9333849785276441,
          -1.9957226612196735,
          -0.10762144124963756,
          0.4208020094415041,
          2.3769857538857306,
          1.3782159691673053,
          0.10990996413442164,
          -1.122310055421987,
          0.9507291380354317,
          -0.4627422441340983,
          1.3847759602273377,
          0.7392940658133781,
          1.3798724102148878,
          1.0354438906558976,
          1.170393638809026,
          1.6744622234240154,
          -0.5340913166387504,
          1.3192837607724976,
          -1.8217211430156675,
          -0.0955557940497877,
          -1.7025104060459593,
          1.49330659712763,
          1.4549119243746382,
          -0.44609922249017514,
          2.2957166286477166,
          -1.0559690993793378,
          0.8833646003473479,
          0.8406456933235341,
          -0.17628257884410958,
          0.22306309235647964,
          -0.034604504310288525,
          -0.8417879309313906,
          -1.978385623888586
         ]
        },
        {
         "histfunc": "count",
         "histnorm": "",
         "marker": {
          "color": "rgba(55, 128, 191, 1.0)",
          "line": {
           "color": "#4D5663",
           "width": 1.3
          }
         },
         "name": "B",
         "nbinsx": 30,
         "opacity": 0.8,
         "orientation": "v",
         "type": "histogram",
         "x": [
          0.5144289608344228,
          0.5724069466256909,
          -0.30819993513771204,
          -0.28761213166610755,
          -0.5458296642997473,
          1.3342341378269325,
          -0.059879995787046364,
          1.3787691268830158,
          1.5187665540777449,
          -2.7519432034869826,
          -1.2056198902311772,
          -0.3629064877540202,
          0.640991257007152,
          -0.47206448107358195,
          -1.0878072262077378,
          -0.15543977760143152,
          -0.8625906044930144,
          -1.7663404323726277,
          1.064994168719819,
          -1.6184662127345653,
          -0.8190616080352211,
          0.7866409263948574,
          -0.19045252367988008,
          1.5969345615530797,
          -0.7044302258560525,
          -0.7900860768132202,
          -1.0735371514754384,
          0.8012526553151388,
          -0.02553132822250245,
          -0.30582686018085536,
          1.4651450194678122,
          -0.8071478717507671,
          0.8376367062569227,
          -0.6329941306779358,
          0.0867084974824401,
          0.05027790087844485,
          -0.2647802167855846,
          1.118984671133748,
          -0.5516072597736149,
          1.8162088275534043,
          -0.44479829986457453,
          0.1569398525620239,
          -1.3824017681664396,
          -0.036541635193980834,
          -0.7447235813408297,
          1.0983606818404243,
          -0.5136529937783657,
          1.7291436530420121,
          0.1816288109054654,
          0.9684547021866818,
          1.5510770631391406,
          -1.0475474342787952,
          -0.6121541607127508,
          1.0571791629492353,
          0.4030738424095661,
          0.5785052092954551,
          0.41074496678539,
          -1.1472776811644665,
          -0.33404848635404577,
          0.1032631854144026,
          2.0443381358099395,
          -0.5966934895063976,
          0.942536444239893,
          -0.9918626005209825,
          2.44059767258467,
          -0.8491252491305082,
          0.5155652443863213,
          -0.8476353923799457,
          -1.6795012845786021,
          1.0044005780947,
          -0.7103791063828504,
          0.5696648510909781,
          0.6978372215304477,
          -1.306728185712887,
          -0.20781386971509166,
          0.9986223565261442,
          0.7651501071650623,
          0.03834750962941581,
          -0.26329636784691046,
          -0.698448027060385,
          0.8293742290726839,
          0.5607838686827155,
          0.8671309641732743,
          0.894047112532386,
          0.47888307509295996,
          0.1892331690303111,
          -0.19289836917771339,
          2.292177153010583,
          0.251550634248612,
          0.24654175294065175,
          0.07806475208841698,
          1.2137666385299004,
          -0.6859853527506332,
          -1.4133773145942006,
          -0.3635762036436802,
          -0.5853034319336741,
          -0.3089010394401241,
          -1.228501650071791,
          0.22216134807810084,
          1.3418905806243608
         ]
        },
        {
         "histfunc": "count",
         "histnorm": "",
         "marker": {
          "color": "rgba(50, 171, 96, 1.0)",
          "line": {
           "color": "#4D5663",
           "width": 1.3
          }
         },
         "name": "C",
         "nbinsx": 30,
         "opacity": 0.8,
         "orientation": "v",
         "type": "histogram",
         "x": [
          -0.30633971724473613,
          -0.5234550101146769,
          0.2478488034051314,
          0.6578260314485772,
          0.6100622628342298,
          0.032581612992109536,
          0.07456945813487535,
          0.2610424110646733,
          0.3351846375278415,
          -0.8358639832336577,
          0.4686070749662074,
          -0.9122092779836232,
          -0.7803246155139458,
          0.6602989279747916,
          -0.28620935953392296,
          -1.0778324203072733,
          0.48963591508823806,
          1.0671437539530921,
          1.0855163362186933,
          -1.8114429646062313,
          -2.247410773899347,
          0.8324518797822211,
          0.9156254816843685,
          0.45753093853990545,
          0.35479727188256155,
          -1.2894696780643116,
          0.1031350503254655,
          -0.1437613113260787,
          -0.9137165933613629,
          -0.8924245674469968,
          0.027752492865393687,
          -1.6471565973337845,
          -0.01948312925464501,
          1.4165837322672976,
          -0.666560449859305,
          0.7292231555751252,
          -1.146714693185556,
          0.675094245687191,
          -1.6637968925303812,
          0.5816901620763231,
          -0.6941354547354356,
          -0.6953760752736109,
          0.7426906363376657,
          -1.7226095764455585,
          0.3609859988169621,
          -0.19804856575689886,
          0.8750661094019057,
          1.168208952094026,
          0.010440059391869854,
          -0.11788995387973426,
          -0.08252714682164242,
          0.9798595763668482,
          0.2469279685957641,
          -0.12695923071965273,
          -0.1791752141982507,
          -0.42565723605537,
          -0.624914201256451,
          1.659369571600921,
          0.7695011878549151,
          1.1913134833806651,
          0.466093934926341,
          1.4421627085964253,
          -0.2815350530159152,
          0.5227302571946018,
          -0.501006197467369,
          0.6698827380804052,
          -0.5980283747965494,
          -0.2745834025311717,
          -0.8139262634868277,
          0.24505022348252758,
          0.706659414513232,
          1.4429091507920122,
          -0.5315623598845203,
          0.7312833614853783,
          -0.6940297068865078,
          1.8532400268662255,
          0.2567757922196267,
          -1.0281102150048418,
          -1.367360751504298,
          -0.1052404363550915,
          0.11663141514226394,
          -1.0663414140660066,
          0.09268557763093996,
          -0.45436556126859795,
          -0.27804832733063795,
          0.3263765879782635,
          0.9550041351946619,
          0.6103649848324788,
          -0.48527758768357315,
          -0.2457889274010022,
          -0.05277339409865519,
          2.586915296705645,
          0.7168061235910601,
          -0.050688695883621036,
          1.2017495715039697,
          0.5857050148380992,
          0.6555654907218712,
          1.0382388400092144,
          -0.540854983782837,
          0.7478846368194215
         ]
        },
        {
         "histfunc": "count",
         "histnorm": "",
         "marker": {
          "color": "rgba(128, 0, 128, 1.0)",
          "line": {
           "color": "#4D5663",
           "width": 1.3
          }
         },
         "name": "D",
         "nbinsx": 30,
         "opacity": 0.8,
         "orientation": "v",
         "type": "histogram",
         "x": [
          -0.2604507371041075,
          -1.9643665654128082,
          0.12641842238158893,
          1.7081905768115073,
          -0.49220866918519124,
          0.656218003349655,
          2.144116227630546,
          -1.4084719232733882,
          -1.178791535445807,
          0.09233705323372739,
          -0.12639330314397007,
          -0.5920427977413246,
          -0.3296786702620065,
          -0.5767269925853163,
          1.697169024762262,
          -0.5186242574799267,
          -0.2686631492690273,
          -1.4070832344050308,
          1.3628508253292413,
          0.031301986381084834,
          -0.158763294918046,
          -0.24044418555289648,
          0.06426934268757235,
          0.239467677136593,
          1.3899558496562443,
          0.42376507027982047,
          -0.9682451764859047,
          1.8423874026042768,
          -0.8000199212148114,
          1.8248070776087995,
          -1.1704179498651104,
          0.009217647861796225,
          -0.4615465327731627,
          -0.6397743914369046,
          0.6601869572436313,
          -0.05300165184856359,
          -0.07910088147815135,
          -0.19938932679475294,
          -1.5473601500030505,
          -0.08994240763913981,
          1.4570202350991852,
          -0.3736716419214809,
          0.20381548004125066,
          0.012330516866901163,
          -0.5945780890656976,
          -2.223860549270489,
          0.3734888706607538,
          -0.2364090799456908,
          -0.7729380881223636,
          1.2603586592523537,
          0.3842833696951564,
          0.5791794096935158,
          1.353317343012976,
          0.08124063052159122,
          -0.9912860929000638,
          -1.0790433465006497,
          1.0256887261366971,
          -0.15558245574534268,
          -1.7808556342887163,
          -0.846480714418734,
          -0.025414806946941267,
          1.1256254054636576,
          0.0820178613140621,
          0.42008087621067003,
          0.008815878738345264,
          -0.7492475351141584,
          0.46056187813653876,
          -0.2285617060563285,
          -0.28302197182181404,
          -0.7264504966966434,
          -1.5202670980524595,
          -0.04317907055632232,
          1.1384828294997618,
          -0.34930916092794906,
          -1.1846910860236932,
          -1.6466426369738534,
          -0.025512980880705114,
          -0.09916625939818707,
          -0.5928646303423978,
          0.12510029685148205,
          -0.6708380179370568,
          -0.7842889382471772,
          -0.27065078646682583,
          1.0096056760094503,
          -0.5343694089995189,
          -0.11891612717518474,
          0.3919681251273001,
          0.24304243949453247,
          0.14327218346926662,
          -0.6455143513378283,
          0.071661142219256,
          -0.739734052321834,
          0.01181871927618938,
          -0.988190195531898,
          -0.0235204034177497,
          0.31330215060320904,
          0.16911247600845583,
          0.6868502531236088,
          -1.2686843768528009,
          0.8848205635957239
         ]
        }
       ],
       "layout": {
        "barmode": "overlay",
        "legend": {
         "bgcolor": "#F5F6F9",
         "font": {
          "color": "#4D5663"
         }
        },
        "paper_bgcolor": "#F5F6F9",
        "plot_bgcolor": "#F5F6F9",
        "template": {
         "data": {
          "bar": [
           {
            "error_x": {
             "color": "#2a3f5f"
            },
            "error_y": {
             "color": "#2a3f5f"
            },
            "marker": {
             "line": {
              "color": "#E5ECF6",
              "width": 0.5
             }
            },
            "type": "bar"
           }
          ],
          "barpolar": [
           {
            "marker": {
             "line": {
              "color": "#E5ECF6",
              "width": 0.5
             }
            },
            "type": "barpolar"
           }
          ],
          "carpet": [
           {
            "aaxis": {
             "endlinecolor": "#2a3f5f",
             "gridcolor": "white",
             "linecolor": "white",
             "minorgridcolor": "white",
             "startlinecolor": "#2a3f5f"
            },
            "baxis": {
             "endlinecolor": "#2a3f5f",
             "gridcolor": "white",
             "linecolor": "white",
             "minorgridcolor": "white",
             "startlinecolor": "#2a3f5f"
            },
            "type": "carpet"
           }
          ],
          "choropleth": [
           {
            "colorbar": {
             "outlinewidth": 0,
             "ticks": ""
            },
            "type": "choropleth"
           }
          ],
          "contour": [
           {
            "colorbar": {
             "outlinewidth": 0,
             "ticks": ""
            },
            "colorscale": [
             [
              0,
              "#0d0887"
             ],
             [
              0.1111111111111111,
              "#46039f"
             ],
             [
              0.2222222222222222,
              "#7201a8"
             ],
             [
              0.3333333333333333,
              "#9c179e"
             ],
             [
              0.4444444444444444,
              "#bd3786"
             ],
             [
              0.5555555555555556,
              "#d8576b"
             ],
             [
              0.6666666666666666,
              "#ed7953"
             ],
             [
              0.7777777777777778,
              "#fb9f3a"
             ],
             [
              0.8888888888888888,
              "#fdca26"
             ],
             [
              1,
              "#f0f921"
             ]
            ],
            "type": "contour"
           }
          ],
          "contourcarpet": [
           {
            "colorbar": {
             "outlinewidth": 0,
             "ticks": ""
            },
            "type": "contourcarpet"
           }
          ],
          "heatmap": [
           {
            "colorbar": {
             "outlinewidth": 0,
             "ticks": ""
            },
            "colorscale": [
             [
              0,
              "#0d0887"
             ],
             [
              0.1111111111111111,
              "#46039f"
             ],
             [
              0.2222222222222222,
              "#7201a8"
             ],
             [
              0.3333333333333333,
              "#9c179e"
             ],
             [
              0.4444444444444444,
              "#bd3786"
             ],
             [
              0.5555555555555556,
              "#d8576b"
             ],
             [
              0.6666666666666666,
              "#ed7953"
             ],
             [
              0.7777777777777778,
              "#fb9f3a"
             ],
             [
              0.8888888888888888,
              "#fdca26"
             ],
             [
              1,
              "#f0f921"
             ]
            ],
            "type": "heatmap"
           }
          ],
          "heatmapgl": [
           {
            "colorbar": {
             "outlinewidth": 0,
             "ticks": ""
            },
            "colorscale": [
             [
              0,
              "#0d0887"
             ],
             [
              0.1111111111111111,
              "#46039f"
             ],
             [
              0.2222222222222222,
              "#7201a8"
             ],
             [
              0.3333333333333333,
              "#9c179e"
             ],
             [
              0.4444444444444444,
              "#bd3786"
             ],
             [
              0.5555555555555556,
              "#d8576b"
             ],
             [
              0.6666666666666666,
              "#ed7953"
             ],
             [
              0.7777777777777778,
              "#fb9f3a"
             ],
             [
              0.8888888888888888,
              "#fdca26"
             ],
             [
              1,
              "#f0f921"
             ]
            ],
            "type": "heatmapgl"
           }
          ],
          "histogram": [
           {
            "marker": {
             "colorbar": {
              "outlinewidth": 0,
              "ticks": ""
             }
            },
            "type": "histogram"
           }
          ],
          "histogram2d": [
           {
            "colorbar": {
             "outlinewidth": 0,
             "ticks": ""
            },
            "colorscale": [
             [
              0,
              "#0d0887"
             ],
             [
              0.1111111111111111,
              "#46039f"
             ],
             [
              0.2222222222222222,
              "#7201a8"
             ],
             [
              0.3333333333333333,
              "#9c179e"
             ],
             [
              0.4444444444444444,
              "#bd3786"
             ],
             [
              0.5555555555555556,
              "#d8576b"
             ],
             [
              0.6666666666666666,
              "#ed7953"
             ],
             [
              0.7777777777777778,
              "#fb9f3a"
             ],
             [
              0.8888888888888888,
              "#fdca26"
             ],
             [
              1,
              "#f0f921"
             ]
            ],
            "type": "histogram2d"
           }
          ],
          "histogram2dcontour": [
           {
            "colorbar": {
             "outlinewidth": 0,
             "ticks": ""
            },
            "colorscale": [
             [
              0,
              "#0d0887"
             ],
             [
              0.1111111111111111,
              "#46039f"
             ],
             [
              0.2222222222222222,
              "#7201a8"
             ],
             [
              0.3333333333333333,
              "#9c179e"
             ],
             [
              0.4444444444444444,
              "#bd3786"
             ],
             [
              0.5555555555555556,
              "#d8576b"
             ],
             [
              0.6666666666666666,
              "#ed7953"
             ],
             [
              0.7777777777777778,
              "#fb9f3a"
             ],
             [
              0.8888888888888888,
              "#fdca26"
             ],
             [
              1,
              "#f0f921"
             ]
            ],
            "type": "histogram2dcontour"
           }
          ],
          "mesh3d": [
           {
            "colorbar": {
             "outlinewidth": 0,
             "ticks": ""
            },
            "type": "mesh3d"
           }
          ],
          "parcoords": [
           {
            "line": {
             "colorbar": {
              "outlinewidth": 0,
              "ticks": ""
             }
            },
            "type": "parcoords"
           }
          ],
          "pie": [
           {
            "automargin": true,
            "type": "pie"
           }
          ],
          "scatter": [
           {
            "marker": {
             "colorbar": {
              "outlinewidth": 0,
              "ticks": ""
             }
            },
            "type": "scatter"
           }
          ],
          "scatter3d": [
           {
            "line": {
             "colorbar": {
              "outlinewidth": 0,
              "ticks": ""
             }
            },
            "marker": {
             "colorbar": {
              "outlinewidth": 0,
              "ticks": ""
             }
            },
            "type": "scatter3d"
           }
          ],
          "scattercarpet": [
           {
            "marker": {
             "colorbar": {
              "outlinewidth": 0,
              "ticks": ""
             }
            },
            "type": "scattercarpet"
           }
          ],
          "scattergeo": [
           {
            "marker": {
             "colorbar": {
              "outlinewidth": 0,
              "ticks": ""
             }
            },
            "type": "scattergeo"
           }
          ],
          "scattergl": [
           {
            "marker": {
             "colorbar": {
              "outlinewidth": 0,
              "ticks": ""
             }
            },
            "type": "scattergl"
           }
          ],
          "scattermapbox": [
           {
            "marker": {
             "colorbar": {
              "outlinewidth": 0,
              "ticks": ""
             }
            },
            "type": "scattermapbox"
           }
          ],
          "scatterpolar": [
           {
            "marker": {
             "colorbar": {
              "outlinewidth": 0,
              "ticks": ""
             }
            },
            "type": "scatterpolar"
           }
          ],
          "scatterpolargl": [
           {
            "marker": {
             "colorbar": {
              "outlinewidth": 0,
              "ticks": ""
             }
            },
            "type": "scatterpolargl"
           }
          ],
          "scatterternary": [
           {
            "marker": {
             "colorbar": {
              "outlinewidth": 0,
              "ticks": ""
             }
            },
            "type": "scatterternary"
           }
          ],
          "surface": [
           {
            "colorbar": {
             "outlinewidth": 0,
             "ticks": ""
            },
            "colorscale": [
             [
              0,
              "#0d0887"
             ],
             [
              0.1111111111111111,
              "#46039f"
             ],
             [
              0.2222222222222222,
              "#7201a8"
             ],
             [
              0.3333333333333333,
              "#9c179e"
             ],
             [
              0.4444444444444444,
              "#bd3786"
             ],
             [
              0.5555555555555556,
              "#d8576b"
             ],
             [
              0.6666666666666666,
              "#ed7953"
             ],
             [
              0.7777777777777778,
              "#fb9f3a"
             ],
             [
              0.8888888888888888,
              "#fdca26"
             ],
             [
              1,
              "#f0f921"
             ]
            ],
            "type": "surface"
           }
          ],
          "table": [
           {
            "cells": {
             "fill": {
              "color": "#EBF0F8"
             },
             "line": {
              "color": "white"
             }
            },
            "header": {
             "fill": {
              "color": "#C8D4E3"
             },
             "line": {
              "color": "white"
             }
            },
            "type": "table"
           }
          ]
         },
         "layout": {
          "annotationdefaults": {
           "arrowcolor": "#2a3f5f",
           "arrowhead": 0,
           "arrowwidth": 1
          },
          "coloraxis": {
           "colorbar": {
            "outlinewidth": 0,
            "ticks": ""
           }
          },
          "colorscale": {
           "diverging": [
            [
             0,
             "#8e0152"
            ],
            [
             0.1,
             "#c51b7d"
            ],
            [
             0.2,
             "#de77ae"
            ],
            [
             0.3,
             "#f1b6da"
            ],
            [
             0.4,
             "#fde0ef"
            ],
            [
             0.5,
             "#f7f7f7"
            ],
            [
             0.6,
             "#e6f5d0"
            ],
            [
             0.7,
             "#b8e186"
            ],
            [
             0.8,
             "#7fbc41"
            ],
            [
             0.9,
             "#4d9221"
            ],
            [
             1,
             "#276419"
            ]
           ],
           "sequential": [
            [
             0,
             "#0d0887"
            ],
            [
             0.1111111111111111,
             "#46039f"
            ],
            [
             0.2222222222222222,
             "#7201a8"
            ],
            [
             0.3333333333333333,
             "#9c179e"
            ],
            [
             0.4444444444444444,
             "#bd3786"
            ],
            [
             0.5555555555555556,
             "#d8576b"
            ],
            [
             0.6666666666666666,
             "#ed7953"
            ],
            [
             0.7777777777777778,
             "#fb9f3a"
            ],
            [
             0.8888888888888888,
             "#fdca26"
            ],
            [
             1,
             "#f0f921"
            ]
           ],
           "sequentialminus": [
            [
             0,
             "#0d0887"
            ],
            [
             0.1111111111111111,
             "#46039f"
            ],
            [
             0.2222222222222222,
             "#7201a8"
            ],
            [
             0.3333333333333333,
             "#9c179e"
            ],
            [
             0.4444444444444444,
             "#bd3786"
            ],
            [
             0.5555555555555556,
             "#d8576b"
            ],
            [
             0.6666666666666666,
             "#ed7953"
            ],
            [
             0.7777777777777778,
             "#fb9f3a"
            ],
            [
             0.8888888888888888,
             "#fdca26"
            ],
            [
             1,
             "#f0f921"
            ]
           ]
          },
          "colorway": [
           "#636efa",
           "#EF553B",
           "#00cc96",
           "#ab63fa",
           "#FFA15A",
           "#19d3f3",
           "#FF6692",
           "#B6E880",
           "#FF97FF",
           "#FECB52"
          ],
          "font": {
           "color": "#2a3f5f"
          },
          "geo": {
           "bgcolor": "white",
           "lakecolor": "white",
           "landcolor": "#E5ECF6",
           "showlakes": true,
           "showland": true,
           "subunitcolor": "white"
          },
          "hoverlabel": {
           "align": "left"
          },
          "hovermode": "closest",
          "mapbox": {
           "style": "light"
          },
          "paper_bgcolor": "white",
          "plot_bgcolor": "#E5ECF6",
          "polar": {
           "angularaxis": {
            "gridcolor": "white",
            "linecolor": "white",
            "ticks": ""
           },
           "bgcolor": "#E5ECF6",
           "radialaxis": {
            "gridcolor": "white",
            "linecolor": "white",
            "ticks": ""
           }
          },
          "scene": {
           "xaxis": {
            "backgroundcolor": "#E5ECF6",
            "gridcolor": "white",
            "gridwidth": 2,
            "linecolor": "white",
            "showbackground": true,
            "ticks": "",
            "zerolinecolor": "white"
           },
           "yaxis": {
            "backgroundcolor": "#E5ECF6",
            "gridcolor": "white",
            "gridwidth": 2,
            "linecolor": "white",
            "showbackground": true,
            "ticks": "",
            "zerolinecolor": "white"
           },
           "zaxis": {
            "backgroundcolor": "#E5ECF6",
            "gridcolor": "white",
            "gridwidth": 2,
            "linecolor": "white",
            "showbackground": true,
            "ticks": "",
            "zerolinecolor": "white"
           }
          },
          "shapedefaults": {
           "line": {
            "color": "#2a3f5f"
           }
          },
          "ternary": {
           "aaxis": {
            "gridcolor": "white",
            "linecolor": "white",
            "ticks": ""
           },
           "baxis": {
            "gridcolor": "white",
            "linecolor": "white",
            "ticks": ""
           },
           "bgcolor": "#E5ECF6",
           "caxis": {
            "gridcolor": "white",
            "linecolor": "white",
            "ticks": ""
           }
          },
          "title": {
           "x": 0.05
          },
          "xaxis": {
           "automargin": true,
           "gridcolor": "white",
           "linecolor": "white",
           "ticks": "",
           "title": {
            "standoff": 15
           },
           "zerolinecolor": "white",
           "zerolinewidth": 2
          },
          "yaxis": {
           "automargin": true,
           "gridcolor": "white",
           "linecolor": "white",
           "ticks": "",
           "title": {
            "standoff": 15
           },
           "zerolinecolor": "white",
           "zerolinewidth": 2
          }
         }
        },
        "title": {
         "font": {
          "color": "#4D5663"
         }
        },
        "xaxis": {
         "gridcolor": "#E1E5ED",
         "showgrid": true,
         "tickfont": {
          "color": "#4D5663"
         },
         "title": {
          "font": {
           "color": "#4D5663"
          },
          "text": ""
         },
         "zerolinecolor": "#E1E5ED"
        },
        "yaxis": {
         "gridcolor": "#E1E5ED",
         "showgrid": true,
         "tickfont": {
          "color": "#4D5663"
         },
         "title": {
          "font": {
           "color": "#4D5663"
          },
          "text": ""
         },
         "zerolinecolor": "#E1E5ED"
        }
       }
      },
      "text/html": [
       "<div>\n",
       "        \n",
       "        \n",
       "            <div id=\"59b09984-9212-45ae-8170-d649be22716b\" class=\"plotly-graph-div\" style=\"height:525px; width:100%;\"></div>\n",
       "            <script type=\"text/javascript\">\n",
       "                require([\"plotly\"], function(Plotly) {\n",
       "                    window.PLOTLYENV=window.PLOTLYENV || {};\n",
       "                    window.PLOTLYENV.BASE_URL='https://plot.ly';\n",
       "                    \n",
       "                if (document.getElementById(\"59b09984-9212-45ae-8170-d649be22716b\")) {\n",
       "                    Plotly.newPlot(\n",
       "                        '59b09984-9212-45ae-8170-d649be22716b',\n",
       "                        [{\"histfunc\": \"count\", \"histnorm\": \"\", \"marker\": {\"color\": \"rgba(255, 153, 51, 1.0)\", \"line\": {\"color\": \"#4D5663\", \"width\": 1.3}}, \"name\": \"A\", \"nbinsx\": 30, \"opacity\": 0.8, \"orientation\": \"v\", \"type\": \"histogram\", \"x\": [-2.094397151479146, 1.3941214922326817, -0.49945361503735913, -0.7298780946612285, -0.05879101960786524, 1.2168416065981187, 0.8690073762945215, 1.0248764006001234, -0.15540585484017097, -0.16764986233001994, 0.7778984780061986, -1.2435593599915684, 0.25357332176071923, 2.856586915070549, 0.39692412082078316, -1.4345999368445181, -0.6162000698974652, 0.03476259517769596, -2.009145407801507, 1.4533919445471997, -0.8703182328567703, -0.6143084700493274, -0.34761024991025263, -0.05959062978705484, -0.7394525194780763, 0.8340378920527788, -1.0391812744474584, 0.17191340608343134, 0.1586781853253161, -0.7750487092439783, 0.438034060183595, -0.7280824873065657, -1.088870404711052, -0.8474580048152648, -2.0779113093562147, -0.3721246680362004, -0.5267640540901695, -1.2178948075205809, 0.4043518045817308, -1.0334344178968475, 0.49619293804226283, 1.8708464437680499, 1.0121451348718093, 0.4269126817452754, -1.2349673225939606, 0.39061767494739513, -0.6256157986469851, 1.0351111300950826, -0.2450626994913141, 0.06169580689106269, 1.2499050049827194, -0.8473351234707631, 0.6306685186978127, -1.9093082042900966, 0.24302207947724627, -0.19948169908255228, -0.750993574668388, 1.3137674387880596, -1.3441275580581578, -1.6729780203688531, 1.164152543022755, -0.5617310684333279, -1.332295393318157, -0.07760242062662576, -0.46830100567090677, -0.9494876742710063, 0.6281755129455628, -0.9333849785276441, -1.9957226612196735, -0.10762144124963756, 0.4208020094415041, 2.3769857538857306, 1.3782159691673053, 0.10990996413442164, -1.122310055421987, 0.9507291380354317, -0.4627422441340983, 1.3847759602273377, 0.7392940658133781, 1.3798724102148878, 1.0354438906558976, 1.170393638809026, 1.6744622234240154, -0.5340913166387504, 1.3192837607724976, -1.8217211430156675, -0.0955557940497877, -1.7025104060459593, 1.49330659712763, 1.4549119243746382, -0.44609922249017514, 2.2957166286477166, -1.0559690993793378, 0.8833646003473479, 0.8406456933235341, -0.17628257884410958, 0.22306309235647964, -0.034604504310288525, -0.8417879309313906, -1.978385623888586]}, {\"histfunc\": \"count\", \"histnorm\": \"\", \"marker\": {\"color\": \"rgba(55, 128, 191, 1.0)\", \"line\": {\"color\": \"#4D5663\", \"width\": 1.3}}, \"name\": \"B\", \"nbinsx\": 30, \"opacity\": 0.8, \"orientation\": \"v\", \"type\": \"histogram\", \"x\": [0.5144289608344228, 0.5724069466256909, -0.30819993513771204, -0.28761213166610755, -0.5458296642997473, 1.3342341378269325, -0.059879995787046364, 1.3787691268830158, 1.5187665540777449, -2.7519432034869826, -1.2056198902311772, -0.3629064877540202, 0.640991257007152, -0.47206448107358195, -1.0878072262077378, -0.15543977760143152, -0.8625906044930144, -1.7663404323726277, 1.064994168719819, -1.6184662127345653, -0.8190616080352211, 0.7866409263948574, -0.19045252367988008, 1.5969345615530797, -0.7044302258560525, -0.7900860768132202, -1.0735371514754384, 0.8012526553151388, -0.02553132822250245, -0.30582686018085536, 1.4651450194678122, -0.8071478717507671, 0.8376367062569227, -0.6329941306779358, 0.0867084974824401, 0.05027790087844485, -0.2647802167855846, 1.118984671133748, -0.5516072597736149, 1.8162088275534043, -0.44479829986457453, 0.1569398525620239, -1.3824017681664396, -0.036541635193980834, -0.7447235813408297, 1.0983606818404243, -0.5136529937783657, 1.7291436530420121, 0.1816288109054654, 0.9684547021866818, 1.5510770631391406, -1.0475474342787952, -0.6121541607127508, 1.0571791629492353, 0.4030738424095661, 0.5785052092954551, 0.41074496678539, -1.1472776811644665, -0.33404848635404577, 0.1032631854144026, 2.0443381358099395, -0.5966934895063976, 0.942536444239893, -0.9918626005209825, 2.44059767258467, -0.8491252491305082, 0.5155652443863213, -0.8476353923799457, -1.6795012845786021, 1.0044005780947, -0.7103791063828504, 0.5696648510909781, 0.6978372215304477, -1.306728185712887, -0.20781386971509166, 0.9986223565261442, 0.7651501071650623, 0.03834750962941581, -0.26329636784691046, -0.698448027060385, 0.8293742290726839, 0.5607838686827155, 0.8671309641732743, 0.894047112532386, 0.47888307509295996, 0.1892331690303111, -0.19289836917771339, 2.292177153010583, 0.251550634248612, 0.24654175294065175, 0.07806475208841698, 1.2137666385299004, -0.6859853527506332, -1.4133773145942006, -0.3635762036436802, -0.5853034319336741, -0.3089010394401241, -1.228501650071791, 0.22216134807810084, 1.3418905806243608]}, {\"histfunc\": \"count\", \"histnorm\": \"\", \"marker\": {\"color\": \"rgba(50, 171, 96, 1.0)\", \"line\": {\"color\": \"#4D5663\", \"width\": 1.3}}, \"name\": \"C\", \"nbinsx\": 30, \"opacity\": 0.8, \"orientation\": \"v\", \"type\": \"histogram\", \"x\": [-0.30633971724473613, -0.5234550101146769, 0.2478488034051314, 0.6578260314485772, 0.6100622628342298, 0.032581612992109536, 0.07456945813487535, 0.2610424110646733, 0.3351846375278415, -0.8358639832336577, 0.4686070749662074, -0.9122092779836232, -0.7803246155139458, 0.6602989279747916, -0.28620935953392296, -1.0778324203072733, 0.48963591508823806, 1.0671437539530921, 1.0855163362186933, -1.8114429646062313, -2.247410773899347, 0.8324518797822211, 0.9156254816843685, 0.45753093853990545, 0.35479727188256155, -1.2894696780643116, 0.1031350503254655, -0.1437613113260787, -0.9137165933613629, -0.8924245674469968, 0.027752492865393687, -1.6471565973337845, -0.01948312925464501, 1.4165837322672976, -0.666560449859305, 0.7292231555751252, -1.146714693185556, 0.675094245687191, -1.6637968925303812, 0.5816901620763231, -0.6941354547354356, -0.6953760752736109, 0.7426906363376657, -1.7226095764455585, 0.3609859988169621, -0.19804856575689886, 0.8750661094019057, 1.168208952094026, 0.010440059391869854, -0.11788995387973426, -0.08252714682164242, 0.9798595763668482, 0.2469279685957641, -0.12695923071965273, -0.1791752141982507, -0.42565723605537, -0.624914201256451, 1.659369571600921, 0.7695011878549151, 1.1913134833806651, 0.466093934926341, 1.4421627085964253, -0.2815350530159152, 0.5227302571946018, -0.501006197467369, 0.6698827380804052, -0.5980283747965494, -0.2745834025311717, -0.8139262634868277, 0.24505022348252758, 0.706659414513232, 1.4429091507920122, -0.5315623598845203, 0.7312833614853783, -0.6940297068865078, 1.8532400268662255, 0.2567757922196267, -1.0281102150048418, -1.367360751504298, -0.1052404363550915, 0.11663141514226394, -1.0663414140660066, 0.09268557763093996, -0.45436556126859795, -0.27804832733063795, 0.3263765879782635, 0.9550041351946619, 0.6103649848324788, -0.48527758768357315, -0.2457889274010022, -0.05277339409865519, 2.586915296705645, 0.7168061235910601, -0.050688695883621036, 1.2017495715039697, 0.5857050148380992, 0.6555654907218712, 1.0382388400092144, -0.540854983782837, 0.7478846368194215]}, {\"histfunc\": \"count\", \"histnorm\": \"\", \"marker\": {\"color\": \"rgba(128, 0, 128, 1.0)\", \"line\": {\"color\": \"#4D5663\", \"width\": 1.3}}, \"name\": \"D\", \"nbinsx\": 30, \"opacity\": 0.8, \"orientation\": \"v\", \"type\": \"histogram\", \"x\": [-0.2604507371041075, -1.9643665654128082, 0.12641842238158893, 1.7081905768115073, -0.49220866918519124, 0.656218003349655, 2.144116227630546, -1.4084719232733882, -1.178791535445807, 0.09233705323372739, -0.12639330314397007, -0.5920427977413246, -0.3296786702620065, -0.5767269925853163, 1.697169024762262, -0.5186242574799267, -0.2686631492690273, -1.4070832344050308, 1.3628508253292413, 0.031301986381084834, -0.158763294918046, -0.24044418555289648, 0.06426934268757235, 0.239467677136593, 1.3899558496562443, 0.42376507027982047, -0.9682451764859047, 1.8423874026042768, -0.8000199212148114, 1.8248070776087995, -1.1704179498651104, 0.009217647861796225, -0.4615465327731627, -0.6397743914369046, 0.6601869572436313, -0.05300165184856359, -0.07910088147815135, -0.19938932679475294, -1.5473601500030505, -0.08994240763913981, 1.4570202350991852, -0.3736716419214809, 0.20381548004125066, 0.012330516866901163, -0.5945780890656976, -2.223860549270489, 0.3734888706607538, -0.2364090799456908, -0.7729380881223636, 1.2603586592523537, 0.3842833696951564, 0.5791794096935158, 1.353317343012976, 0.08124063052159122, -0.9912860929000638, -1.0790433465006497, 1.0256887261366971, -0.15558245574534268, -1.7808556342887163, -0.846480714418734, -0.025414806946941267, 1.1256254054636576, 0.0820178613140621, 0.42008087621067003, 0.008815878738345264, -0.7492475351141584, 0.46056187813653876, -0.2285617060563285, -0.28302197182181404, -0.7264504966966434, -1.5202670980524595, -0.04317907055632232, 1.1384828294997618, -0.34930916092794906, -1.1846910860236932, -1.6466426369738534, -0.025512980880705114, -0.09916625939818707, -0.5928646303423978, 0.12510029685148205, -0.6708380179370568, -0.7842889382471772, -0.27065078646682583, 1.0096056760094503, -0.5343694089995189, -0.11891612717518474, 0.3919681251273001, 0.24304243949453247, 0.14327218346926662, -0.6455143513378283, 0.071661142219256, -0.739734052321834, 0.01181871927618938, -0.988190195531898, -0.0235204034177497, 0.31330215060320904, 0.16911247600845583, 0.6868502531236088, -1.2686843768528009, 0.8848205635957239]}],\n",
       "                        {\"barmode\": \"overlay\", \"legend\": {\"bgcolor\": \"#F5F6F9\", \"font\": {\"color\": \"#4D5663\"}}, \"paper_bgcolor\": \"#F5F6F9\", \"plot_bgcolor\": \"#F5F6F9\", \"template\": {\"data\": {\"bar\": [{\"error_x\": {\"color\": \"#2a3f5f\"}, \"error_y\": {\"color\": \"#2a3f5f\"}, \"marker\": {\"line\": {\"color\": \"#E5ECF6\", \"width\": 0.5}}, \"type\": \"bar\"}], \"barpolar\": [{\"marker\": {\"line\": {\"color\": \"#E5ECF6\", \"width\": 0.5}}, \"type\": \"barpolar\"}], \"carpet\": [{\"aaxis\": {\"endlinecolor\": \"#2a3f5f\", \"gridcolor\": \"white\", \"linecolor\": \"white\", \"minorgridcolor\": \"white\", \"startlinecolor\": \"#2a3f5f\"}, \"baxis\": {\"endlinecolor\": \"#2a3f5f\", \"gridcolor\": \"white\", \"linecolor\": \"white\", \"minorgridcolor\": \"white\", \"startlinecolor\": \"#2a3f5f\"}, \"type\": \"carpet\"}], \"choropleth\": [{\"colorbar\": {\"outlinewidth\": 0, \"ticks\": \"\"}, \"type\": \"choropleth\"}], \"contour\": [{\"colorbar\": {\"outlinewidth\": 0, \"ticks\": \"\"}, \"colorscale\": [[0.0, \"#0d0887\"], [0.1111111111111111, \"#46039f\"], [0.2222222222222222, \"#7201a8\"], [0.3333333333333333, \"#9c179e\"], [0.4444444444444444, \"#bd3786\"], [0.5555555555555556, \"#d8576b\"], [0.6666666666666666, \"#ed7953\"], [0.7777777777777778, \"#fb9f3a\"], [0.8888888888888888, \"#fdca26\"], [1.0, \"#f0f921\"]], \"type\": \"contour\"}], \"contourcarpet\": [{\"colorbar\": {\"outlinewidth\": 0, \"ticks\": \"\"}, \"type\": \"contourcarpet\"}], \"heatmap\": [{\"colorbar\": {\"outlinewidth\": 0, \"ticks\": \"\"}, \"colorscale\": [[0.0, \"#0d0887\"], [0.1111111111111111, \"#46039f\"], [0.2222222222222222, \"#7201a8\"], [0.3333333333333333, \"#9c179e\"], [0.4444444444444444, \"#bd3786\"], [0.5555555555555556, \"#d8576b\"], [0.6666666666666666, \"#ed7953\"], [0.7777777777777778, \"#fb9f3a\"], [0.8888888888888888, \"#fdca26\"], [1.0, \"#f0f921\"]], \"type\": \"heatmap\"}], \"heatmapgl\": [{\"colorbar\": {\"outlinewidth\": 0, \"ticks\": \"\"}, \"colorscale\": [[0.0, \"#0d0887\"], [0.1111111111111111, \"#46039f\"], [0.2222222222222222, \"#7201a8\"], [0.3333333333333333, \"#9c179e\"], [0.4444444444444444, \"#bd3786\"], [0.5555555555555556, \"#d8576b\"], [0.6666666666666666, \"#ed7953\"], [0.7777777777777778, \"#fb9f3a\"], [0.8888888888888888, \"#fdca26\"], [1.0, \"#f0f921\"]], \"type\": \"heatmapgl\"}], \"histogram\": [{\"marker\": {\"colorbar\": {\"outlinewidth\": 0, \"ticks\": \"\"}}, \"type\": \"histogram\"}], \"histogram2d\": [{\"colorbar\": {\"outlinewidth\": 0, \"ticks\": \"\"}, \"colorscale\": [[0.0, \"#0d0887\"], [0.1111111111111111, \"#46039f\"], [0.2222222222222222, \"#7201a8\"], [0.3333333333333333, \"#9c179e\"], [0.4444444444444444, \"#bd3786\"], [0.5555555555555556, \"#d8576b\"], [0.6666666666666666, \"#ed7953\"], [0.7777777777777778, \"#fb9f3a\"], [0.8888888888888888, \"#fdca26\"], [1.0, \"#f0f921\"]], \"type\": \"histogram2d\"}], \"histogram2dcontour\": [{\"colorbar\": {\"outlinewidth\": 0, \"ticks\": \"\"}, \"colorscale\": [[0.0, \"#0d0887\"], [0.1111111111111111, \"#46039f\"], [0.2222222222222222, \"#7201a8\"], [0.3333333333333333, \"#9c179e\"], [0.4444444444444444, \"#bd3786\"], [0.5555555555555556, \"#d8576b\"], [0.6666666666666666, \"#ed7953\"], [0.7777777777777778, \"#fb9f3a\"], [0.8888888888888888, \"#fdca26\"], [1.0, \"#f0f921\"]], \"type\": \"histogram2dcontour\"}], \"mesh3d\": [{\"colorbar\": {\"outlinewidth\": 0, \"ticks\": \"\"}, \"type\": \"mesh3d\"}], \"parcoords\": [{\"line\": {\"colorbar\": {\"outlinewidth\": 0, \"ticks\": \"\"}}, \"type\": \"parcoords\"}], \"pie\": [{\"automargin\": true, \"type\": \"pie\"}], \"scatter\": [{\"marker\": {\"colorbar\": {\"outlinewidth\": 0, \"ticks\": \"\"}}, \"type\": \"scatter\"}], \"scatter3d\": [{\"line\": {\"colorbar\": {\"outlinewidth\": 0, \"ticks\": \"\"}}, \"marker\": {\"colorbar\": {\"outlinewidth\": 0, \"ticks\": \"\"}}, \"type\": \"scatter3d\"}], \"scattercarpet\": [{\"marker\": {\"colorbar\": {\"outlinewidth\": 0, \"ticks\": \"\"}}, \"type\": \"scattercarpet\"}], \"scattergeo\": [{\"marker\": {\"colorbar\": {\"outlinewidth\": 0, \"ticks\": \"\"}}, \"type\": \"scattergeo\"}], \"scattergl\": [{\"marker\": {\"colorbar\": {\"outlinewidth\": 0, \"ticks\": \"\"}}, \"type\": \"scattergl\"}], \"scattermapbox\": [{\"marker\": {\"colorbar\": {\"outlinewidth\": 0, \"ticks\": \"\"}}, \"type\": \"scattermapbox\"}], \"scatterpolar\": [{\"marker\": {\"colorbar\": {\"outlinewidth\": 0, \"ticks\": \"\"}}, \"type\": \"scatterpolar\"}], \"scatterpolargl\": [{\"marker\": {\"colorbar\": {\"outlinewidth\": 0, \"ticks\": \"\"}}, \"type\": \"scatterpolargl\"}], \"scatterternary\": [{\"marker\": {\"colorbar\": {\"outlinewidth\": 0, \"ticks\": \"\"}}, \"type\": \"scatterternary\"}], \"surface\": [{\"colorbar\": {\"outlinewidth\": 0, \"ticks\": \"\"}, \"colorscale\": [[0.0, \"#0d0887\"], [0.1111111111111111, \"#46039f\"], [0.2222222222222222, \"#7201a8\"], [0.3333333333333333, \"#9c179e\"], [0.4444444444444444, \"#bd3786\"], [0.5555555555555556, \"#d8576b\"], [0.6666666666666666, \"#ed7953\"], [0.7777777777777778, \"#fb9f3a\"], [0.8888888888888888, \"#fdca26\"], [1.0, \"#f0f921\"]], \"type\": \"surface\"}], \"table\": [{\"cells\": {\"fill\": {\"color\": \"#EBF0F8\"}, \"line\": {\"color\": \"white\"}}, \"header\": {\"fill\": {\"color\": \"#C8D4E3\"}, \"line\": {\"color\": \"white\"}}, \"type\": \"table\"}]}, \"layout\": {\"annotationdefaults\": {\"arrowcolor\": \"#2a3f5f\", \"arrowhead\": 0, \"arrowwidth\": 1}, \"coloraxis\": {\"colorbar\": {\"outlinewidth\": 0, \"ticks\": \"\"}}, \"colorscale\": {\"diverging\": [[0, \"#8e0152\"], [0.1, \"#c51b7d\"], [0.2, \"#de77ae\"], [0.3, \"#f1b6da\"], [0.4, \"#fde0ef\"], [0.5, \"#f7f7f7\"], [0.6, \"#e6f5d0\"], [0.7, \"#b8e186\"], [0.8, \"#7fbc41\"], [0.9, \"#4d9221\"], [1, \"#276419\"]], \"sequential\": [[0.0, \"#0d0887\"], [0.1111111111111111, \"#46039f\"], [0.2222222222222222, \"#7201a8\"], [0.3333333333333333, \"#9c179e\"], [0.4444444444444444, \"#bd3786\"], [0.5555555555555556, \"#d8576b\"], [0.6666666666666666, \"#ed7953\"], [0.7777777777777778, \"#fb9f3a\"], [0.8888888888888888, \"#fdca26\"], [1.0, \"#f0f921\"]], \"sequentialminus\": [[0.0, \"#0d0887\"], [0.1111111111111111, \"#46039f\"], [0.2222222222222222, \"#7201a8\"], [0.3333333333333333, \"#9c179e\"], [0.4444444444444444, \"#bd3786\"], [0.5555555555555556, \"#d8576b\"], [0.6666666666666666, \"#ed7953\"], [0.7777777777777778, \"#fb9f3a\"], [0.8888888888888888, \"#fdca26\"], [1.0, \"#f0f921\"]]}, \"colorway\": [\"#636efa\", \"#EF553B\", \"#00cc96\", \"#ab63fa\", \"#FFA15A\", \"#19d3f3\", \"#FF6692\", \"#B6E880\", \"#FF97FF\", \"#FECB52\"], \"font\": {\"color\": \"#2a3f5f\"}, \"geo\": {\"bgcolor\": \"white\", \"lakecolor\": \"white\", \"landcolor\": \"#E5ECF6\", \"showlakes\": true, \"showland\": true, \"subunitcolor\": \"white\"}, \"hoverlabel\": {\"align\": \"left\"}, \"hovermode\": \"closest\", \"mapbox\": {\"style\": \"light\"}, \"paper_bgcolor\": \"white\", \"plot_bgcolor\": \"#E5ECF6\", \"polar\": {\"angularaxis\": {\"gridcolor\": \"white\", \"linecolor\": \"white\", \"ticks\": \"\"}, \"bgcolor\": \"#E5ECF6\", \"radialaxis\": {\"gridcolor\": \"white\", \"linecolor\": \"white\", \"ticks\": \"\"}}, \"scene\": {\"xaxis\": {\"backgroundcolor\": \"#E5ECF6\", \"gridcolor\": \"white\", \"gridwidth\": 2, \"linecolor\": \"white\", \"showbackground\": true, \"ticks\": \"\", \"zerolinecolor\": \"white\"}, \"yaxis\": {\"backgroundcolor\": \"#E5ECF6\", \"gridcolor\": \"white\", \"gridwidth\": 2, \"linecolor\": \"white\", \"showbackground\": true, \"ticks\": \"\", \"zerolinecolor\": \"white\"}, \"zaxis\": {\"backgroundcolor\": \"#E5ECF6\", \"gridcolor\": \"white\", \"gridwidth\": 2, \"linecolor\": \"white\", \"showbackground\": true, \"ticks\": \"\", \"zerolinecolor\": \"white\"}}, \"shapedefaults\": {\"line\": {\"color\": \"#2a3f5f\"}}, \"ternary\": {\"aaxis\": {\"gridcolor\": \"white\", \"linecolor\": \"white\", \"ticks\": \"\"}, \"baxis\": {\"gridcolor\": \"white\", \"linecolor\": \"white\", \"ticks\": \"\"}, \"bgcolor\": \"#E5ECF6\", \"caxis\": {\"gridcolor\": \"white\", \"linecolor\": \"white\", \"ticks\": \"\"}}, \"title\": {\"x\": 0.05}, \"xaxis\": {\"automargin\": true, \"gridcolor\": \"white\", \"linecolor\": \"white\", \"ticks\": \"\", \"title\": {\"standoff\": 15}, \"zerolinecolor\": \"white\", \"zerolinewidth\": 2}, \"yaxis\": {\"automargin\": true, \"gridcolor\": \"white\", \"linecolor\": \"white\", \"ticks\": \"\", \"title\": {\"standoff\": 15}, \"zerolinecolor\": \"white\", \"zerolinewidth\": 2}}}, \"title\": {\"font\": {\"color\": \"#4D5663\"}}, \"xaxis\": {\"gridcolor\": \"#E1E5ED\", \"showgrid\": true, \"tickfont\": {\"color\": \"#4D5663\"}, \"title\": {\"font\": {\"color\": \"#4D5663\"}, \"text\": \"\"}, \"zerolinecolor\": \"#E1E5ED\"}, \"yaxis\": {\"gridcolor\": \"#E1E5ED\", \"showgrid\": true, \"tickfont\": {\"color\": \"#4D5663\"}, \"title\": {\"font\": {\"color\": \"#4D5663\"}, \"text\": \"\"}, \"zerolinecolor\": \"#E1E5ED\"}},\n",
       "                        {\"showLink\": true, \"linkText\": \"Export to plot.ly\", \"plotlyServerURL\": \"https://plot.ly\", \"responsive\": true}\n",
       "                    ).then(function(){\n",
       "                            \n",
       "var gd = document.getElementById('59b09984-9212-45ae-8170-d649be22716b');\n",
       "var x = new MutationObserver(function (mutations, observer) {{\n",
       "        var display = window.getComputedStyle(gd).display;\n",
       "        if (!display || display === 'none') {{\n",
       "            console.log([gd, 'removed!']);\n",
       "            Plotly.purge(gd);\n",
       "            observer.disconnect();\n",
       "        }}\n",
       "}});\n",
       "\n",
       "// Listen for the removal of the full notebook cells\n",
       "var notebookContainer = gd.closest('#notebook-container');\n",
       "if (notebookContainer) {{\n",
       "    x.observe(notebookContainer, {childList: true});\n",
       "}}\n",
       "\n",
       "// Listen for the clearing of the current output cell\n",
       "var outputEl = gd.closest('.output');\n",
       "if (outputEl) {{\n",
       "    x.observe(outputEl, {childList: true});\n",
       "}}\n",
       "\n",
       "                        })\n",
       "                };\n",
       "                });\n",
       "            </script>\n",
       "        </div>"
      ]
     },
     "metadata": {},
     "output_type": "display_data"
    }
   ],
   "source": [
    "df.iplot(kind='hist',bins = 30)"
   ]
  },
  {
   "cell_type": "code",
   "execution_count": 36,
   "metadata": {},
   "outputs": [
    {
     "name": "stderr",
     "output_type": "stream",
     "text": [
      "/Users/tweedles/opt/anaconda3/lib/python3.7/site-packages/cufflinks/plotlytools.py:849: FutureWarning:\n",
      "\n",
      "The pandas.np module is deprecated and will be removed from pandas in a future version. Import numpy directly instead\n",
      "\n",
      "/Users/tweedles/opt/anaconda3/lib/python3.7/site-packages/cufflinks/plotlytools.py:850: FutureWarning:\n",
      "\n",
      "The pandas.np module is deprecated and will be removed from pandas in a future version. Import numpy directly instead\n",
      "\n"
     ]
    },
    {
     "data": {
      "application/vnd.plotly.v1+json": {
       "config": {
        "linkText": "Export to plot.ly",
        "plotlyServerURL": "https://plot.ly",
        "showLink": true
       },
       "data": [
        {
         "line": {
          "color": "rgba(255, 153, 51, 1.0)",
          "dash": "solid",
          "shape": "linear",
          "width": 1.3
         },
         "mode": "lines",
         "name": "A",
         "text": "",
         "type": "scatter",
         "x": [
          0,
          1,
          2,
          3,
          4,
          5,
          6,
          7,
          8,
          9,
          10,
          11,
          12,
          13,
          14,
          15,
          16,
          17,
          18,
          19,
          20,
          21,
          22,
          23,
          24,
          25,
          26,
          27,
          28,
          29,
          30,
          31,
          32,
          33,
          34,
          35,
          36,
          37,
          38,
          39,
          40,
          41,
          42,
          43,
          44,
          45,
          46,
          47,
          48,
          49,
          50,
          51,
          52,
          53,
          54,
          55,
          56,
          57,
          58,
          59,
          60,
          61,
          62,
          63,
          64,
          65,
          66,
          67,
          68,
          69,
          70,
          71,
          72,
          73,
          74,
          75,
          76,
          77,
          78,
          79,
          80,
          81,
          82,
          83,
          84,
          85,
          86,
          87,
          88,
          89,
          90,
          91,
          92,
          93,
          94,
          95,
          96,
          97,
          98,
          99
         ],
         "y": [
          -2.094397151479146,
          1.3941214922326817,
          -0.49945361503735913,
          -0.7298780946612285,
          -0.05879101960786524,
          1.2168416065981187,
          0.8690073762945215,
          1.0248764006001234,
          -0.15540585484017097,
          -0.16764986233001994,
          0.7778984780061986,
          -1.2435593599915684,
          0.25357332176071923,
          2.856586915070549,
          0.39692412082078316,
          -1.4345999368445181,
          -0.6162000698974652,
          0.03476259517769596,
          -2.009145407801507,
          1.4533919445471997,
          -0.8703182328567703,
          -0.6143084700493274,
          -0.34761024991025263,
          -0.05959062978705484,
          -0.7394525194780763,
          0.8340378920527788,
          -1.0391812744474584,
          0.17191340608343134,
          0.1586781853253161,
          -0.7750487092439783,
          0.438034060183595,
          -0.7280824873065657,
          -1.088870404711052,
          -0.8474580048152648,
          -2.0779113093562147,
          -0.3721246680362004,
          -0.5267640540901695,
          -1.2178948075205809,
          0.4043518045817308,
          -1.0334344178968475,
          0.49619293804226283,
          1.8708464437680499,
          1.0121451348718093,
          0.4269126817452754,
          -1.2349673225939606,
          0.39061767494739513,
          -0.6256157986469851,
          1.0351111300950826,
          -0.2450626994913141,
          0.06169580689106269,
          1.2499050049827194,
          -0.8473351234707631,
          0.6306685186978127,
          -1.9093082042900966,
          0.24302207947724627,
          -0.19948169908255228,
          -0.750993574668388,
          1.3137674387880596,
          -1.3441275580581578,
          -1.6729780203688531,
          1.164152543022755,
          -0.5617310684333279,
          -1.332295393318157,
          -0.07760242062662576,
          -0.46830100567090677,
          -0.9494876742710063,
          0.6281755129455628,
          -0.9333849785276441,
          -1.9957226612196735,
          -0.10762144124963756,
          0.4208020094415041,
          2.3769857538857306,
          1.3782159691673053,
          0.10990996413442164,
          -1.122310055421987,
          0.9507291380354317,
          -0.4627422441340983,
          1.3847759602273377,
          0.7392940658133781,
          1.3798724102148878,
          1.0354438906558976,
          1.170393638809026,
          1.6744622234240154,
          -0.5340913166387504,
          1.3192837607724976,
          -1.8217211430156675,
          -0.0955557940497877,
          -1.7025104060459593,
          1.49330659712763,
          1.4549119243746382,
          -0.44609922249017514,
          2.2957166286477166,
          -1.0559690993793378,
          0.8833646003473479,
          0.8406456933235341,
          -0.17628257884410958,
          0.22306309235647964,
          -0.034604504310288525,
          -0.8417879309313906,
          -1.978385623888586
         ]
        },
        {
         "line": {
          "color": "rgba(55, 128, 191, 1.0)",
          "dash": "solid",
          "shape": "linear",
          "width": 1.3
         },
         "mode": "lines",
         "name": "B",
         "text": "",
         "type": "scatter",
         "x": [
          0,
          1,
          2,
          3,
          4,
          5,
          6,
          7,
          8,
          9,
          10,
          11,
          12,
          13,
          14,
          15,
          16,
          17,
          18,
          19,
          20,
          21,
          22,
          23,
          24,
          25,
          26,
          27,
          28,
          29,
          30,
          31,
          32,
          33,
          34,
          35,
          36,
          37,
          38,
          39,
          40,
          41,
          42,
          43,
          44,
          45,
          46,
          47,
          48,
          49,
          50,
          51,
          52,
          53,
          54,
          55,
          56,
          57,
          58,
          59,
          60,
          61,
          62,
          63,
          64,
          65,
          66,
          67,
          68,
          69,
          70,
          71,
          72,
          73,
          74,
          75,
          76,
          77,
          78,
          79,
          80,
          81,
          82,
          83,
          84,
          85,
          86,
          87,
          88,
          89,
          90,
          91,
          92,
          93,
          94,
          95,
          96,
          97,
          98,
          99
         ],
         "y": [
          0.5144289608344228,
          0.5724069466256909,
          -0.30819993513771204,
          -0.28761213166610755,
          -0.5458296642997473,
          1.3342341378269325,
          -0.059879995787046364,
          1.3787691268830158,
          1.5187665540777449,
          -2.7519432034869826,
          -1.2056198902311772,
          -0.3629064877540202,
          0.640991257007152,
          -0.47206448107358195,
          -1.0878072262077378,
          -0.15543977760143152,
          -0.8625906044930144,
          -1.7663404323726277,
          1.064994168719819,
          -1.6184662127345653,
          -0.8190616080352211,
          0.7866409263948574,
          -0.19045252367988008,
          1.5969345615530797,
          -0.7044302258560525,
          -0.7900860768132202,
          -1.0735371514754384,
          0.8012526553151388,
          -0.02553132822250245,
          -0.30582686018085536,
          1.4651450194678122,
          -0.8071478717507671,
          0.8376367062569227,
          -0.6329941306779358,
          0.0867084974824401,
          0.05027790087844485,
          -0.2647802167855846,
          1.118984671133748,
          -0.5516072597736149,
          1.8162088275534043,
          -0.44479829986457453,
          0.1569398525620239,
          -1.3824017681664396,
          -0.036541635193980834,
          -0.7447235813408297,
          1.0983606818404243,
          -0.5136529937783657,
          1.7291436530420121,
          0.1816288109054654,
          0.9684547021866818,
          1.5510770631391406,
          -1.0475474342787952,
          -0.6121541607127508,
          1.0571791629492353,
          0.4030738424095661,
          0.5785052092954551,
          0.41074496678539,
          -1.1472776811644665,
          -0.33404848635404577,
          0.1032631854144026,
          2.0443381358099395,
          -0.5966934895063976,
          0.942536444239893,
          -0.9918626005209825,
          2.44059767258467,
          -0.8491252491305082,
          0.5155652443863213,
          -0.8476353923799457,
          -1.6795012845786021,
          1.0044005780947,
          -0.7103791063828504,
          0.5696648510909781,
          0.6978372215304477,
          -1.306728185712887,
          -0.20781386971509166,
          0.9986223565261442,
          0.7651501071650623,
          0.03834750962941581,
          -0.26329636784691046,
          -0.698448027060385,
          0.8293742290726839,
          0.5607838686827155,
          0.8671309641732743,
          0.894047112532386,
          0.47888307509295996,
          0.1892331690303111,
          -0.19289836917771339,
          2.292177153010583,
          0.251550634248612,
          0.24654175294065175,
          0.07806475208841698,
          1.2137666385299004,
          -0.6859853527506332,
          -1.4133773145942006,
          -0.3635762036436802,
          -0.5853034319336741,
          -0.3089010394401241,
          -1.228501650071791,
          0.22216134807810084,
          1.3418905806243608
         ]
        },
        {
         "connectgaps": false,
         "fill": "tozeroy",
         "line": {
          "color": "green",
          "dash": "solid",
          "shape": "linear",
          "width": 0.5
         },
         "mode": "lines",
         "name": "Spread",
         "showlegend": false,
         "type": "scatter",
         "x": [
          0,
          1,
          2,
          3,
          4,
          5,
          6,
          7,
          8,
          9,
          10,
          11,
          12,
          13,
          14,
          15,
          16,
          17,
          18,
          19,
          20,
          21,
          22,
          23,
          24,
          25,
          26,
          27,
          28,
          29,
          30,
          31,
          32,
          33,
          34,
          35,
          36,
          37,
          38,
          39,
          40,
          41,
          42,
          43,
          44,
          45,
          46,
          47,
          48,
          49,
          50,
          51,
          52,
          53,
          54,
          55,
          56,
          57,
          58,
          59,
          60,
          61,
          62,
          63,
          64,
          65,
          66,
          67,
          68,
          69,
          70,
          71,
          72,
          73,
          74,
          75,
          76,
          77,
          78,
          79,
          80,
          81,
          82,
          83,
          84,
          85,
          86,
          87,
          88,
          89,
          90,
          91,
          92,
          93,
          94,
          95,
          96,
          97,
          98,
          99
         ],
         "xaxis": "x2",
         "y": [
          "",
          0.8217145456069908,
          "",
          "",
          0.48703864469188207,
          "",
          0.9288873720815679,
          "",
          "",
          2.584293341156963,
          1.9835183682373758,
          "",
          "",
          3.328651396144131,
          1.484731347028521,
          "",
          0.24639053459554916,
          1.8011030275503237,
          "",
          3.071858157281765,
          "",
          "",
          "",
          "",
          "",
          1.624123968865999,
          0.03435587702797993,
          "",
          0.18420951354781856,
          "",
          "",
          0.07906538444420141,
          "",
          "",
          "",
          "",
          "",
          "",
          0.9559590643553457,
          "",
          0.9409912379068374,
          1.713906591206026,
          2.3945469030382487,
          0.46345431693925626,
          "",
          "",
          "",
          "",
          "",
          "",
          "",
          0.20021231080803203,
          1.2428226794105635,
          "",
          "",
          "",
          "",
          2.461045119952526,
          "",
          "",
          "",
          0.03496242107306968,
          "",
          0.9142601798943568,
          "",
          "",
          0.1126102685592415,
          "",
          "",
          "",
          1.1311811158243545,
          1.8073209027947525,
          0.6803787476368576,
          1.4166381498473086,
          "",
          "",
          "",
          1.3464284505979218,
          1.0025904336602887,
          2.0783204372752726,
          0.20606966158321371,
          0.6096097701263105,
          0.8073312592507411,
          "",
          0.8404006856795376,
          "",
          0.09734257512792568,
          "",
          1.241755962879018,
          1.2083701714339865,
          "",
          1.0819499901178162,
          "",
          2.2967419149415482,
          1.2042218969672143,
          0.4090208530895645,
          0.5319641317966037,
          1.1938971457615024,
          "",
          ""
         ],
         "yaxis": "y2"
        },
        {
         "connectgaps": false,
         "fill": "tozeroy",
         "line": {
          "color": "red",
          "dash": "solid",
          "shape": "linear",
          "width": 0.5
         },
         "mode": "lines",
         "name": "Spread",
         "showlegend": false,
         "type": "scatter",
         "x": [
          0,
          1,
          2,
          3,
          4,
          5,
          6,
          7,
          8,
          9,
          10,
          11,
          12,
          13,
          14,
          15,
          16,
          17,
          18,
          19,
          20,
          21,
          22,
          23,
          24,
          25,
          26,
          27,
          28,
          29,
          30,
          31,
          32,
          33,
          34,
          35,
          36,
          37,
          38,
          39,
          40,
          41,
          42,
          43,
          44,
          45,
          46,
          47,
          48,
          49,
          50,
          51,
          52,
          53,
          54,
          55,
          56,
          57,
          58,
          59,
          60,
          61,
          62,
          63,
          64,
          65,
          66,
          67,
          68,
          69,
          70,
          71,
          72,
          73,
          74,
          75,
          76,
          77,
          78,
          79,
          80,
          81,
          82,
          83,
          84,
          85,
          86,
          87,
          88,
          89,
          90,
          91,
          92,
          93,
          94,
          95,
          96,
          97,
          98,
          99
         ],
         "xaxis": "x2",
         "y": [
          -2.6088261123135688,
          "",
          -0.1912536798996471,
          -0.442265962995121,
          "",
          -0.11739253122881377,
          "",
          -0.35389272628289237,
          -1.6741724089179157,
          "",
          "",
          -0.8806528722375482,
          -0.38741793524643275,
          "",
          "",
          -1.2791601592430866,
          "",
          "",
          -3.074139576521326,
          "",
          -0.051256624821549246,
          -1.4009493964441848,
          -0.15715772623037255,
          -1.6565251913401344,
          -0.035022293622023803,
          "",
          "",
          -0.6293392492317075,
          "",
          -0.4692218490631229,
          -1.0271109592842171,
          "",
          -1.9265071109679748,
          -0.21446387413732904,
          -2.1646198068386546,
          -0.4224025689146453,
          -0.26198383730458485,
          -2.336879478654329,
          "",
          -2.8496432454502516,
          "",
          "",
          "",
          "",
          -0.49024374125313086,
          -0.7077430068930293,
          -0.11196280486861943,
          -0.6940325229469295,
          -0.4266915103967795,
          -0.9067588952956191,
          -0.30117205815642123,
          "",
          "",
          -2.966487367239332,
          -0.16005176293231985,
          -0.7779869083780074,
          -1.161738541453778,
          "",
          -1.010079071704112,
          -1.7762412057832557,
          -0.8801855927871844,
          "",
          -2.27483183755805,
          "",
          -2.908898678255577,
          -0.10036242514049809,
          "",
          -0.08574958614769845,
          -0.3162213766410713,
          -1.1120220193443375,
          "",
          "",
          "",
          "",
          -0.9144961857068953,
          -0.047893218490712486,
          -1.2278923512991606,
          "",
          "",
          "",
          "",
          "",
          "",
          -1.4281384291711365,
          "",
          -2.0109543120459787,
          "",
          -3.9946875590565423,
          "",
          "",
          -0.5241639745785921,
          "",
          -0.3699837466287046,
          "",
          "",
          "",
          "",
          "",
          -1.0639492790094915,
          -3.320276204512947
         ],
         "yaxis": "y2"
        }
       ],
       "layout": {
        "hovermode": "x",
        "legend": {
         "bgcolor": "#F5F6F9",
         "font": {
          "color": "#4D5663"
         }
        },
        "paper_bgcolor": "#F5F6F9",
        "plot_bgcolor": "#F5F6F9",
        "template": {
         "data": {
          "bar": [
           {
            "error_x": {
             "color": "#2a3f5f"
            },
            "error_y": {
             "color": "#2a3f5f"
            },
            "marker": {
             "line": {
              "color": "#E5ECF6",
              "width": 0.5
             }
            },
            "type": "bar"
           }
          ],
          "barpolar": [
           {
            "marker": {
             "line": {
              "color": "#E5ECF6",
              "width": 0.5
             }
            },
            "type": "barpolar"
           }
          ],
          "carpet": [
           {
            "aaxis": {
             "endlinecolor": "#2a3f5f",
             "gridcolor": "white",
             "linecolor": "white",
             "minorgridcolor": "white",
             "startlinecolor": "#2a3f5f"
            },
            "baxis": {
             "endlinecolor": "#2a3f5f",
             "gridcolor": "white",
             "linecolor": "white",
             "minorgridcolor": "white",
             "startlinecolor": "#2a3f5f"
            },
            "type": "carpet"
           }
          ],
          "choropleth": [
           {
            "colorbar": {
             "outlinewidth": 0,
             "ticks": ""
            },
            "type": "choropleth"
           }
          ],
          "contour": [
           {
            "colorbar": {
             "outlinewidth": 0,
             "ticks": ""
            },
            "colorscale": [
             [
              0,
              "#0d0887"
             ],
             [
              0.1111111111111111,
              "#46039f"
             ],
             [
              0.2222222222222222,
              "#7201a8"
             ],
             [
              0.3333333333333333,
              "#9c179e"
             ],
             [
              0.4444444444444444,
              "#bd3786"
             ],
             [
              0.5555555555555556,
              "#d8576b"
             ],
             [
              0.6666666666666666,
              "#ed7953"
             ],
             [
              0.7777777777777778,
              "#fb9f3a"
             ],
             [
              0.8888888888888888,
              "#fdca26"
             ],
             [
              1,
              "#f0f921"
             ]
            ],
            "type": "contour"
           }
          ],
          "contourcarpet": [
           {
            "colorbar": {
             "outlinewidth": 0,
             "ticks": ""
            },
            "type": "contourcarpet"
           }
          ],
          "heatmap": [
           {
            "colorbar": {
             "outlinewidth": 0,
             "ticks": ""
            },
            "colorscale": [
             [
              0,
              "#0d0887"
             ],
             [
              0.1111111111111111,
              "#46039f"
             ],
             [
              0.2222222222222222,
              "#7201a8"
             ],
             [
              0.3333333333333333,
              "#9c179e"
             ],
             [
              0.4444444444444444,
              "#bd3786"
             ],
             [
              0.5555555555555556,
              "#d8576b"
             ],
             [
              0.6666666666666666,
              "#ed7953"
             ],
             [
              0.7777777777777778,
              "#fb9f3a"
             ],
             [
              0.8888888888888888,
              "#fdca26"
             ],
             [
              1,
              "#f0f921"
             ]
            ],
            "type": "heatmap"
           }
          ],
          "heatmapgl": [
           {
            "colorbar": {
             "outlinewidth": 0,
             "ticks": ""
            },
            "colorscale": [
             [
              0,
              "#0d0887"
             ],
             [
              0.1111111111111111,
              "#46039f"
             ],
             [
              0.2222222222222222,
              "#7201a8"
             ],
             [
              0.3333333333333333,
              "#9c179e"
             ],
             [
              0.4444444444444444,
              "#bd3786"
             ],
             [
              0.5555555555555556,
              "#d8576b"
             ],
             [
              0.6666666666666666,
              "#ed7953"
             ],
             [
              0.7777777777777778,
              "#fb9f3a"
             ],
             [
              0.8888888888888888,
              "#fdca26"
             ],
             [
              1,
              "#f0f921"
             ]
            ],
            "type": "heatmapgl"
           }
          ],
          "histogram": [
           {
            "marker": {
             "colorbar": {
              "outlinewidth": 0,
              "ticks": ""
             }
            },
            "type": "histogram"
           }
          ],
          "histogram2d": [
           {
            "colorbar": {
             "outlinewidth": 0,
             "ticks": ""
            },
            "colorscale": [
             [
              0,
              "#0d0887"
             ],
             [
              0.1111111111111111,
              "#46039f"
             ],
             [
              0.2222222222222222,
              "#7201a8"
             ],
             [
              0.3333333333333333,
              "#9c179e"
             ],
             [
              0.4444444444444444,
              "#bd3786"
             ],
             [
              0.5555555555555556,
              "#d8576b"
             ],
             [
              0.6666666666666666,
              "#ed7953"
             ],
             [
              0.7777777777777778,
              "#fb9f3a"
             ],
             [
              0.8888888888888888,
              "#fdca26"
             ],
             [
              1,
              "#f0f921"
             ]
            ],
            "type": "histogram2d"
           }
          ],
          "histogram2dcontour": [
           {
            "colorbar": {
             "outlinewidth": 0,
             "ticks": ""
            },
            "colorscale": [
             [
              0,
              "#0d0887"
             ],
             [
              0.1111111111111111,
              "#46039f"
             ],
             [
              0.2222222222222222,
              "#7201a8"
             ],
             [
              0.3333333333333333,
              "#9c179e"
             ],
             [
              0.4444444444444444,
              "#bd3786"
             ],
             [
              0.5555555555555556,
              "#d8576b"
             ],
             [
              0.6666666666666666,
              "#ed7953"
             ],
             [
              0.7777777777777778,
              "#fb9f3a"
             ],
             [
              0.8888888888888888,
              "#fdca26"
             ],
             [
              1,
              "#f0f921"
             ]
            ],
            "type": "histogram2dcontour"
           }
          ],
          "mesh3d": [
           {
            "colorbar": {
             "outlinewidth": 0,
             "ticks": ""
            },
            "type": "mesh3d"
           }
          ],
          "parcoords": [
           {
            "line": {
             "colorbar": {
              "outlinewidth": 0,
              "ticks": ""
             }
            },
            "type": "parcoords"
           }
          ],
          "pie": [
           {
            "automargin": true,
            "type": "pie"
           }
          ],
          "scatter": [
           {
            "marker": {
             "colorbar": {
              "outlinewidth": 0,
              "ticks": ""
             }
            },
            "type": "scatter"
           }
          ],
          "scatter3d": [
           {
            "line": {
             "colorbar": {
              "outlinewidth": 0,
              "ticks": ""
             }
            },
            "marker": {
             "colorbar": {
              "outlinewidth": 0,
              "ticks": ""
             }
            },
            "type": "scatter3d"
           }
          ],
          "scattercarpet": [
           {
            "marker": {
             "colorbar": {
              "outlinewidth": 0,
              "ticks": ""
             }
            },
            "type": "scattercarpet"
           }
          ],
          "scattergeo": [
           {
            "marker": {
             "colorbar": {
              "outlinewidth": 0,
              "ticks": ""
             }
            },
            "type": "scattergeo"
           }
          ],
          "scattergl": [
           {
            "marker": {
             "colorbar": {
              "outlinewidth": 0,
              "ticks": ""
             }
            },
            "type": "scattergl"
           }
          ],
          "scattermapbox": [
           {
            "marker": {
             "colorbar": {
              "outlinewidth": 0,
              "ticks": ""
             }
            },
            "type": "scattermapbox"
           }
          ],
          "scatterpolar": [
           {
            "marker": {
             "colorbar": {
              "outlinewidth": 0,
              "ticks": ""
             }
            },
            "type": "scatterpolar"
           }
          ],
          "scatterpolargl": [
           {
            "marker": {
             "colorbar": {
              "outlinewidth": 0,
              "ticks": ""
             }
            },
            "type": "scatterpolargl"
           }
          ],
          "scatterternary": [
           {
            "marker": {
             "colorbar": {
              "outlinewidth": 0,
              "ticks": ""
             }
            },
            "type": "scatterternary"
           }
          ],
          "surface": [
           {
            "colorbar": {
             "outlinewidth": 0,
             "ticks": ""
            },
            "colorscale": [
             [
              0,
              "#0d0887"
             ],
             [
              0.1111111111111111,
              "#46039f"
             ],
             [
              0.2222222222222222,
              "#7201a8"
             ],
             [
              0.3333333333333333,
              "#9c179e"
             ],
             [
              0.4444444444444444,
              "#bd3786"
             ],
             [
              0.5555555555555556,
              "#d8576b"
             ],
             [
              0.6666666666666666,
              "#ed7953"
             ],
             [
              0.7777777777777778,
              "#fb9f3a"
             ],
             [
              0.8888888888888888,
              "#fdca26"
             ],
             [
              1,
              "#f0f921"
             ]
            ],
            "type": "surface"
           }
          ],
          "table": [
           {
            "cells": {
             "fill": {
              "color": "#EBF0F8"
             },
             "line": {
              "color": "white"
             }
            },
            "header": {
             "fill": {
              "color": "#C8D4E3"
             },
             "line": {
              "color": "white"
             }
            },
            "type": "table"
           }
          ]
         },
         "layout": {
          "annotationdefaults": {
           "arrowcolor": "#2a3f5f",
           "arrowhead": 0,
           "arrowwidth": 1
          },
          "coloraxis": {
           "colorbar": {
            "outlinewidth": 0,
            "ticks": ""
           }
          },
          "colorscale": {
           "diverging": [
            [
             0,
             "#8e0152"
            ],
            [
             0.1,
             "#c51b7d"
            ],
            [
             0.2,
             "#de77ae"
            ],
            [
             0.3,
             "#f1b6da"
            ],
            [
             0.4,
             "#fde0ef"
            ],
            [
             0.5,
             "#f7f7f7"
            ],
            [
             0.6,
             "#e6f5d0"
            ],
            [
             0.7,
             "#b8e186"
            ],
            [
             0.8,
             "#7fbc41"
            ],
            [
             0.9,
             "#4d9221"
            ],
            [
             1,
             "#276419"
            ]
           ],
           "sequential": [
            [
             0,
             "#0d0887"
            ],
            [
             0.1111111111111111,
             "#46039f"
            ],
            [
             0.2222222222222222,
             "#7201a8"
            ],
            [
             0.3333333333333333,
             "#9c179e"
            ],
            [
             0.4444444444444444,
             "#bd3786"
            ],
            [
             0.5555555555555556,
             "#d8576b"
            ],
            [
             0.6666666666666666,
             "#ed7953"
            ],
            [
             0.7777777777777778,
             "#fb9f3a"
            ],
            [
             0.8888888888888888,
             "#fdca26"
            ],
            [
             1,
             "#f0f921"
            ]
           ],
           "sequentialminus": [
            [
             0,
             "#0d0887"
            ],
            [
             0.1111111111111111,
             "#46039f"
            ],
            [
             0.2222222222222222,
             "#7201a8"
            ],
            [
             0.3333333333333333,
             "#9c179e"
            ],
            [
             0.4444444444444444,
             "#bd3786"
            ],
            [
             0.5555555555555556,
             "#d8576b"
            ],
            [
             0.6666666666666666,
             "#ed7953"
            ],
            [
             0.7777777777777778,
             "#fb9f3a"
            ],
            [
             0.8888888888888888,
             "#fdca26"
            ],
            [
             1,
             "#f0f921"
            ]
           ]
          },
          "colorway": [
           "#636efa",
           "#EF553B",
           "#00cc96",
           "#ab63fa",
           "#FFA15A",
           "#19d3f3",
           "#FF6692",
           "#B6E880",
           "#FF97FF",
           "#FECB52"
          ],
          "font": {
           "color": "#2a3f5f"
          },
          "geo": {
           "bgcolor": "white",
           "lakecolor": "white",
           "landcolor": "#E5ECF6",
           "showlakes": true,
           "showland": true,
           "subunitcolor": "white"
          },
          "hoverlabel": {
           "align": "left"
          },
          "hovermode": "closest",
          "mapbox": {
           "style": "light"
          },
          "paper_bgcolor": "white",
          "plot_bgcolor": "#E5ECF6",
          "polar": {
           "angularaxis": {
            "gridcolor": "white",
            "linecolor": "white",
            "ticks": ""
           },
           "bgcolor": "#E5ECF6",
           "radialaxis": {
            "gridcolor": "white",
            "linecolor": "white",
            "ticks": ""
           }
          },
          "scene": {
           "xaxis": {
            "backgroundcolor": "#E5ECF6",
            "gridcolor": "white",
            "gridwidth": 2,
            "linecolor": "white",
            "showbackground": true,
            "ticks": "",
            "zerolinecolor": "white"
           },
           "yaxis": {
            "backgroundcolor": "#E5ECF6",
            "gridcolor": "white",
            "gridwidth": 2,
            "linecolor": "white",
            "showbackground": true,
            "ticks": "",
            "zerolinecolor": "white"
           },
           "zaxis": {
            "backgroundcolor": "#E5ECF6",
            "gridcolor": "white",
            "gridwidth": 2,
            "linecolor": "white",
            "showbackground": true,
            "ticks": "",
            "zerolinecolor": "white"
           }
          },
          "shapedefaults": {
           "line": {
            "color": "#2a3f5f"
           }
          },
          "ternary": {
           "aaxis": {
            "gridcolor": "white",
            "linecolor": "white",
            "ticks": ""
           },
           "baxis": {
            "gridcolor": "white",
            "linecolor": "white",
            "ticks": ""
           },
           "bgcolor": "#E5ECF6",
           "caxis": {
            "gridcolor": "white",
            "linecolor": "white",
            "ticks": ""
           }
          },
          "title": {
           "x": 0.05
          },
          "xaxis": {
           "automargin": true,
           "gridcolor": "white",
           "linecolor": "white",
           "ticks": "",
           "title": {
            "standoff": 15
           },
           "zerolinecolor": "white",
           "zerolinewidth": 2
          },
          "yaxis": {
           "automargin": true,
           "gridcolor": "white",
           "linecolor": "white",
           "ticks": "",
           "title": {
            "standoff": 15
           },
           "zerolinecolor": "white",
           "zerolinewidth": 2
          }
         }
        },
        "title": {
         "font": {
          "color": "#4D5663"
         }
        },
        "xaxis": {
         "gridcolor": "#E1E5ED",
         "showgrid": true,
         "tickfont": {
          "color": "#4D5663"
         },
         "title": {
          "font": {
           "color": "#4D5663"
          },
          "text": ""
         },
         "zerolinecolor": "#E1E5ED"
        },
        "xaxis2": {
         "anchor": "y2",
         "gridcolor": "#E1E5ED",
         "showgrid": true,
         "showticklabels": false,
         "tickfont": {
          "color": "#4D5663"
         },
         "title": {
          "font": {
           "color": "#4D5663"
          },
          "text": ""
         },
         "zerolinecolor": "#E1E5ED"
        },
        "yaxis": {
         "domain": [
          0.3,
          1
         ],
         "gridcolor": "#E1E5ED",
         "showgrid": true,
         "tickfont": {
          "color": "#4D5663"
         },
         "title": {
          "font": {
           "color": "#4D5663"
          },
          "text": ""
         },
         "zerolinecolor": "#E1E5ED"
        },
        "yaxis2": {
         "domain": [
          0,
          0.25
         ],
         "gridcolor": "#E1E5ED",
         "showgrid": true,
         "tickfont": {
          "color": "#4D5663"
         },
         "title": {
          "font": {
           "color": "#4D5663"
          },
          "text": "Spread"
         },
         "zerolinecolor": "#E1E5ED"
        }
       }
      },
      "text/html": [
       "<div>\n",
       "        \n",
       "        \n",
       "            <div id=\"9474f4af-3f34-4705-8e50-0e5f9fb2207d\" class=\"plotly-graph-div\" style=\"height:525px; width:100%;\"></div>\n",
       "            <script type=\"text/javascript\">\n",
       "                require([\"plotly\"], function(Plotly) {\n",
       "                    window.PLOTLYENV=window.PLOTLYENV || {};\n",
       "                    window.PLOTLYENV.BASE_URL='https://plot.ly';\n",
       "                    \n",
       "                if (document.getElementById(\"9474f4af-3f34-4705-8e50-0e5f9fb2207d\")) {\n",
       "                    Plotly.newPlot(\n",
       "                        '9474f4af-3f34-4705-8e50-0e5f9fb2207d',\n",
       "                        [{\"line\": {\"color\": \"rgba(255, 153, 51, 1.0)\", \"dash\": \"solid\", \"shape\": \"linear\", \"width\": 1.3}, \"mode\": \"lines\", \"name\": \"A\", \"text\": \"\", \"type\": \"scatter\", \"x\": [0, 1, 2, 3, 4, 5, 6, 7, 8, 9, 10, 11, 12, 13, 14, 15, 16, 17, 18, 19, 20, 21, 22, 23, 24, 25, 26, 27, 28, 29, 30, 31, 32, 33, 34, 35, 36, 37, 38, 39, 40, 41, 42, 43, 44, 45, 46, 47, 48, 49, 50, 51, 52, 53, 54, 55, 56, 57, 58, 59, 60, 61, 62, 63, 64, 65, 66, 67, 68, 69, 70, 71, 72, 73, 74, 75, 76, 77, 78, 79, 80, 81, 82, 83, 84, 85, 86, 87, 88, 89, 90, 91, 92, 93, 94, 95, 96, 97, 98, 99], \"y\": [-2.094397151479146, 1.3941214922326817, -0.49945361503735913, -0.7298780946612285, -0.05879101960786524, 1.2168416065981187, 0.8690073762945215, 1.0248764006001234, -0.15540585484017097, -0.16764986233001994, 0.7778984780061986, -1.2435593599915684, 0.25357332176071923, 2.856586915070549, 0.39692412082078316, -1.4345999368445181, -0.6162000698974652, 0.03476259517769596, -2.009145407801507, 1.4533919445471997, -0.8703182328567703, -0.6143084700493274, -0.34761024991025263, -0.05959062978705484, -0.7394525194780763, 0.8340378920527788, -1.0391812744474584, 0.17191340608343134, 0.1586781853253161, -0.7750487092439783, 0.438034060183595, -0.7280824873065657, -1.088870404711052, -0.8474580048152648, -2.0779113093562147, -0.3721246680362004, -0.5267640540901695, -1.2178948075205809, 0.4043518045817308, -1.0334344178968475, 0.49619293804226283, 1.8708464437680499, 1.0121451348718093, 0.4269126817452754, -1.2349673225939606, 0.39061767494739513, -0.6256157986469851, 1.0351111300950826, -0.2450626994913141, 0.06169580689106269, 1.2499050049827194, -0.8473351234707631, 0.6306685186978127, -1.9093082042900966, 0.24302207947724627, -0.19948169908255228, -0.750993574668388, 1.3137674387880596, -1.3441275580581578, -1.6729780203688531, 1.164152543022755, -0.5617310684333279, -1.332295393318157, -0.07760242062662576, -0.46830100567090677, -0.9494876742710063, 0.6281755129455628, -0.9333849785276441, -1.9957226612196735, -0.10762144124963756, 0.4208020094415041, 2.3769857538857306, 1.3782159691673053, 0.10990996413442164, -1.122310055421987, 0.9507291380354317, -0.4627422441340983, 1.3847759602273377, 0.7392940658133781, 1.3798724102148878, 1.0354438906558976, 1.170393638809026, 1.6744622234240154, -0.5340913166387504, 1.3192837607724976, -1.8217211430156675, -0.0955557940497877, -1.7025104060459593, 1.49330659712763, 1.4549119243746382, -0.44609922249017514, 2.2957166286477166, -1.0559690993793378, 0.8833646003473479, 0.8406456933235341, -0.17628257884410958, 0.22306309235647964, -0.034604504310288525, -0.8417879309313906, -1.978385623888586]}, {\"line\": {\"color\": \"rgba(55, 128, 191, 1.0)\", \"dash\": \"solid\", \"shape\": \"linear\", \"width\": 1.3}, \"mode\": \"lines\", \"name\": \"B\", \"text\": \"\", \"type\": \"scatter\", \"x\": [0, 1, 2, 3, 4, 5, 6, 7, 8, 9, 10, 11, 12, 13, 14, 15, 16, 17, 18, 19, 20, 21, 22, 23, 24, 25, 26, 27, 28, 29, 30, 31, 32, 33, 34, 35, 36, 37, 38, 39, 40, 41, 42, 43, 44, 45, 46, 47, 48, 49, 50, 51, 52, 53, 54, 55, 56, 57, 58, 59, 60, 61, 62, 63, 64, 65, 66, 67, 68, 69, 70, 71, 72, 73, 74, 75, 76, 77, 78, 79, 80, 81, 82, 83, 84, 85, 86, 87, 88, 89, 90, 91, 92, 93, 94, 95, 96, 97, 98, 99], \"y\": [0.5144289608344228, 0.5724069466256909, -0.30819993513771204, -0.28761213166610755, -0.5458296642997473, 1.3342341378269325, -0.059879995787046364, 1.3787691268830158, 1.5187665540777449, -2.7519432034869826, -1.2056198902311772, -0.3629064877540202, 0.640991257007152, -0.47206448107358195, -1.0878072262077378, -0.15543977760143152, -0.8625906044930144, -1.7663404323726277, 1.064994168719819, -1.6184662127345653, -0.8190616080352211, 0.7866409263948574, -0.19045252367988008, 1.5969345615530797, -0.7044302258560525, -0.7900860768132202, -1.0735371514754384, 0.8012526553151388, -0.02553132822250245, -0.30582686018085536, 1.4651450194678122, -0.8071478717507671, 0.8376367062569227, -0.6329941306779358, 0.0867084974824401, 0.05027790087844485, -0.2647802167855846, 1.118984671133748, -0.5516072597736149, 1.8162088275534043, -0.44479829986457453, 0.1569398525620239, -1.3824017681664396, -0.036541635193980834, -0.7447235813408297, 1.0983606818404243, -0.5136529937783657, 1.7291436530420121, 0.1816288109054654, 0.9684547021866818, 1.5510770631391406, -1.0475474342787952, -0.6121541607127508, 1.0571791629492353, 0.4030738424095661, 0.5785052092954551, 0.41074496678539, -1.1472776811644665, -0.33404848635404577, 0.1032631854144026, 2.0443381358099395, -0.5966934895063976, 0.942536444239893, -0.9918626005209825, 2.44059767258467, -0.8491252491305082, 0.5155652443863213, -0.8476353923799457, -1.6795012845786021, 1.0044005780947, -0.7103791063828504, 0.5696648510909781, 0.6978372215304477, -1.306728185712887, -0.20781386971509166, 0.9986223565261442, 0.7651501071650623, 0.03834750962941581, -0.26329636784691046, -0.698448027060385, 0.8293742290726839, 0.5607838686827155, 0.8671309641732743, 0.894047112532386, 0.47888307509295996, 0.1892331690303111, -0.19289836917771339, 2.292177153010583, 0.251550634248612, 0.24654175294065175, 0.07806475208841698, 1.2137666385299004, -0.6859853527506332, -1.4133773145942006, -0.3635762036436802, -0.5853034319336741, -0.3089010394401241, -1.228501650071791, 0.22216134807810084, 1.3418905806243608]}, {\"connectgaps\": false, \"fill\": \"tozeroy\", \"line\": {\"color\": \"green\", \"dash\": \"solid\", \"shape\": \"linear\", \"width\": 0.5}, \"mode\": \"lines\", \"name\": \"Spread\", \"showlegend\": false, \"type\": \"scatter\", \"x\": [0, 1, 2, 3, 4, 5, 6, 7, 8, 9, 10, 11, 12, 13, 14, 15, 16, 17, 18, 19, 20, 21, 22, 23, 24, 25, 26, 27, 28, 29, 30, 31, 32, 33, 34, 35, 36, 37, 38, 39, 40, 41, 42, 43, 44, 45, 46, 47, 48, 49, 50, 51, 52, 53, 54, 55, 56, 57, 58, 59, 60, 61, 62, 63, 64, 65, 66, 67, 68, 69, 70, 71, 72, 73, 74, 75, 76, 77, 78, 79, 80, 81, 82, 83, 84, 85, 86, 87, 88, 89, 90, 91, 92, 93, 94, 95, 96, 97, 98, 99], \"xaxis\": \"x2\", \"y\": [\"\", 0.8217145456069908, \"\", \"\", 0.48703864469188207, \"\", 0.9288873720815679, \"\", \"\", 2.584293341156963, 1.9835183682373758, \"\", \"\", 3.328651396144131, 1.484731347028521, \"\", 0.24639053459554916, 1.8011030275503237, \"\", 3.071858157281765, \"\", \"\", \"\", \"\", \"\", 1.624123968865999, 0.03435587702797993, \"\", 0.18420951354781856, \"\", \"\", 0.07906538444420141, \"\", \"\", \"\", \"\", \"\", \"\", 0.9559590643553457, \"\", 0.9409912379068374, 1.713906591206026, 2.3945469030382487, 0.46345431693925626, \"\", \"\", \"\", \"\", \"\", \"\", \"\", 0.20021231080803203, 1.2428226794105635, \"\", \"\", \"\", \"\", 2.461045119952526, \"\", \"\", \"\", 0.03496242107306968, \"\", 0.9142601798943568, \"\", \"\", 0.1126102685592415, \"\", \"\", \"\", 1.1311811158243545, 1.8073209027947525, 0.6803787476368576, 1.4166381498473086, \"\", \"\", \"\", 1.3464284505979218, 1.0025904336602887, 2.0783204372752726, 0.20606966158321371, 0.6096097701263105, 0.8073312592507411, \"\", 0.8404006856795376, \"\", 0.09734257512792568, \"\", 1.241755962879018, 1.2083701714339865, \"\", 1.0819499901178162, \"\", 2.2967419149415482, 1.2042218969672143, 0.4090208530895645, 0.5319641317966037, 1.1938971457615024, \"\", \"\"], \"yaxis\": \"y2\"}, {\"connectgaps\": false, \"fill\": \"tozeroy\", \"line\": {\"color\": \"red\", \"dash\": \"solid\", \"shape\": \"linear\", \"width\": 0.5}, \"mode\": \"lines\", \"name\": \"Spread\", \"showlegend\": false, \"type\": \"scatter\", \"x\": [0, 1, 2, 3, 4, 5, 6, 7, 8, 9, 10, 11, 12, 13, 14, 15, 16, 17, 18, 19, 20, 21, 22, 23, 24, 25, 26, 27, 28, 29, 30, 31, 32, 33, 34, 35, 36, 37, 38, 39, 40, 41, 42, 43, 44, 45, 46, 47, 48, 49, 50, 51, 52, 53, 54, 55, 56, 57, 58, 59, 60, 61, 62, 63, 64, 65, 66, 67, 68, 69, 70, 71, 72, 73, 74, 75, 76, 77, 78, 79, 80, 81, 82, 83, 84, 85, 86, 87, 88, 89, 90, 91, 92, 93, 94, 95, 96, 97, 98, 99], \"xaxis\": \"x2\", \"y\": [-2.6088261123135688, \"\", -0.1912536798996471, -0.442265962995121, \"\", -0.11739253122881377, \"\", -0.35389272628289237, -1.6741724089179157, \"\", \"\", -0.8806528722375482, -0.38741793524643275, \"\", \"\", -1.2791601592430866, \"\", \"\", -3.074139576521326, \"\", -0.051256624821549246, -1.4009493964441848, -0.15715772623037255, -1.6565251913401344, -0.035022293622023803, \"\", \"\", -0.6293392492317075, \"\", -0.4692218490631229, -1.0271109592842171, \"\", -1.9265071109679748, -0.21446387413732904, -2.1646198068386546, -0.4224025689146453, -0.26198383730458485, -2.336879478654329, \"\", -2.8496432454502516, \"\", \"\", \"\", \"\", -0.49024374125313086, -0.7077430068930293, -0.11196280486861943, -0.6940325229469295, -0.4266915103967795, -0.9067588952956191, -0.30117205815642123, \"\", \"\", -2.966487367239332, -0.16005176293231985, -0.7779869083780074, -1.161738541453778, \"\", -1.010079071704112, -1.7762412057832557, -0.8801855927871844, \"\", -2.27483183755805, \"\", -2.908898678255577, -0.10036242514049809, \"\", -0.08574958614769845, -0.3162213766410713, -1.1120220193443375, \"\", \"\", \"\", \"\", -0.9144961857068953, -0.047893218490712486, -1.2278923512991606, \"\", \"\", \"\", \"\", \"\", \"\", -1.4281384291711365, \"\", -2.0109543120459787, \"\", -3.9946875590565423, \"\", \"\", -0.5241639745785921, \"\", -0.3699837466287046, \"\", \"\", \"\", \"\", \"\", -1.0639492790094915, -3.320276204512947], \"yaxis\": \"y2\"}],\n",
       "                        {\"hovermode\": \"x\", \"legend\": {\"bgcolor\": \"#F5F6F9\", \"font\": {\"color\": \"#4D5663\"}}, \"paper_bgcolor\": \"#F5F6F9\", \"plot_bgcolor\": \"#F5F6F9\", \"template\": {\"data\": {\"bar\": [{\"error_x\": {\"color\": \"#2a3f5f\"}, \"error_y\": {\"color\": \"#2a3f5f\"}, \"marker\": {\"line\": {\"color\": \"#E5ECF6\", \"width\": 0.5}}, \"type\": \"bar\"}], \"barpolar\": [{\"marker\": {\"line\": {\"color\": \"#E5ECF6\", \"width\": 0.5}}, \"type\": \"barpolar\"}], \"carpet\": [{\"aaxis\": {\"endlinecolor\": \"#2a3f5f\", \"gridcolor\": \"white\", \"linecolor\": \"white\", \"minorgridcolor\": \"white\", \"startlinecolor\": \"#2a3f5f\"}, \"baxis\": {\"endlinecolor\": \"#2a3f5f\", \"gridcolor\": \"white\", \"linecolor\": \"white\", \"minorgridcolor\": \"white\", \"startlinecolor\": \"#2a3f5f\"}, \"type\": \"carpet\"}], \"choropleth\": [{\"colorbar\": {\"outlinewidth\": 0, \"ticks\": \"\"}, \"type\": \"choropleth\"}], \"contour\": [{\"colorbar\": {\"outlinewidth\": 0, \"ticks\": \"\"}, \"colorscale\": [[0.0, \"#0d0887\"], [0.1111111111111111, \"#46039f\"], [0.2222222222222222, \"#7201a8\"], [0.3333333333333333, \"#9c179e\"], [0.4444444444444444, \"#bd3786\"], [0.5555555555555556, \"#d8576b\"], [0.6666666666666666, \"#ed7953\"], [0.7777777777777778, \"#fb9f3a\"], [0.8888888888888888, \"#fdca26\"], [1.0, \"#f0f921\"]], \"type\": \"contour\"}], \"contourcarpet\": [{\"colorbar\": {\"outlinewidth\": 0, \"ticks\": \"\"}, \"type\": \"contourcarpet\"}], \"heatmap\": [{\"colorbar\": {\"outlinewidth\": 0, \"ticks\": \"\"}, \"colorscale\": [[0.0, \"#0d0887\"], [0.1111111111111111, \"#46039f\"], [0.2222222222222222, \"#7201a8\"], [0.3333333333333333, \"#9c179e\"], [0.4444444444444444, \"#bd3786\"], [0.5555555555555556, \"#d8576b\"], [0.6666666666666666, \"#ed7953\"], [0.7777777777777778, \"#fb9f3a\"], [0.8888888888888888, \"#fdca26\"], [1.0, \"#f0f921\"]], \"type\": \"heatmap\"}], \"heatmapgl\": [{\"colorbar\": {\"outlinewidth\": 0, \"ticks\": \"\"}, \"colorscale\": [[0.0, \"#0d0887\"], [0.1111111111111111, \"#46039f\"], [0.2222222222222222, \"#7201a8\"], [0.3333333333333333, \"#9c179e\"], [0.4444444444444444, \"#bd3786\"], [0.5555555555555556, \"#d8576b\"], [0.6666666666666666, \"#ed7953\"], [0.7777777777777778, \"#fb9f3a\"], [0.8888888888888888, \"#fdca26\"], [1.0, \"#f0f921\"]], \"type\": \"heatmapgl\"}], \"histogram\": [{\"marker\": {\"colorbar\": {\"outlinewidth\": 0, \"ticks\": \"\"}}, \"type\": \"histogram\"}], \"histogram2d\": [{\"colorbar\": {\"outlinewidth\": 0, \"ticks\": \"\"}, \"colorscale\": [[0.0, \"#0d0887\"], [0.1111111111111111, \"#46039f\"], [0.2222222222222222, \"#7201a8\"], [0.3333333333333333, \"#9c179e\"], [0.4444444444444444, \"#bd3786\"], [0.5555555555555556, \"#d8576b\"], [0.6666666666666666, \"#ed7953\"], [0.7777777777777778, \"#fb9f3a\"], [0.8888888888888888, \"#fdca26\"], [1.0, \"#f0f921\"]], \"type\": \"histogram2d\"}], \"histogram2dcontour\": [{\"colorbar\": {\"outlinewidth\": 0, \"ticks\": \"\"}, \"colorscale\": [[0.0, \"#0d0887\"], [0.1111111111111111, \"#46039f\"], [0.2222222222222222, \"#7201a8\"], [0.3333333333333333, \"#9c179e\"], [0.4444444444444444, \"#bd3786\"], [0.5555555555555556, \"#d8576b\"], [0.6666666666666666, \"#ed7953\"], [0.7777777777777778, \"#fb9f3a\"], [0.8888888888888888, \"#fdca26\"], [1.0, \"#f0f921\"]], \"type\": \"histogram2dcontour\"}], \"mesh3d\": [{\"colorbar\": {\"outlinewidth\": 0, \"ticks\": \"\"}, \"type\": \"mesh3d\"}], \"parcoords\": [{\"line\": {\"colorbar\": {\"outlinewidth\": 0, \"ticks\": \"\"}}, \"type\": \"parcoords\"}], \"pie\": [{\"automargin\": true, \"type\": \"pie\"}], \"scatter\": [{\"marker\": {\"colorbar\": {\"outlinewidth\": 0, \"ticks\": \"\"}}, \"type\": \"scatter\"}], \"scatter3d\": [{\"line\": {\"colorbar\": {\"outlinewidth\": 0, \"ticks\": \"\"}}, \"marker\": {\"colorbar\": {\"outlinewidth\": 0, \"ticks\": \"\"}}, \"type\": \"scatter3d\"}], \"scattercarpet\": [{\"marker\": {\"colorbar\": {\"outlinewidth\": 0, \"ticks\": \"\"}}, \"type\": \"scattercarpet\"}], \"scattergeo\": [{\"marker\": {\"colorbar\": {\"outlinewidth\": 0, \"ticks\": \"\"}}, \"type\": \"scattergeo\"}], \"scattergl\": [{\"marker\": {\"colorbar\": {\"outlinewidth\": 0, \"ticks\": \"\"}}, \"type\": \"scattergl\"}], \"scattermapbox\": [{\"marker\": {\"colorbar\": {\"outlinewidth\": 0, \"ticks\": \"\"}}, \"type\": \"scattermapbox\"}], \"scatterpolar\": [{\"marker\": {\"colorbar\": {\"outlinewidth\": 0, \"ticks\": \"\"}}, \"type\": \"scatterpolar\"}], \"scatterpolargl\": [{\"marker\": {\"colorbar\": {\"outlinewidth\": 0, \"ticks\": \"\"}}, \"type\": \"scatterpolargl\"}], \"scatterternary\": [{\"marker\": {\"colorbar\": {\"outlinewidth\": 0, \"ticks\": \"\"}}, \"type\": \"scatterternary\"}], \"surface\": [{\"colorbar\": {\"outlinewidth\": 0, \"ticks\": \"\"}, \"colorscale\": [[0.0, \"#0d0887\"], [0.1111111111111111, \"#46039f\"], [0.2222222222222222, \"#7201a8\"], [0.3333333333333333, \"#9c179e\"], [0.4444444444444444, \"#bd3786\"], [0.5555555555555556, \"#d8576b\"], [0.6666666666666666, \"#ed7953\"], [0.7777777777777778, \"#fb9f3a\"], [0.8888888888888888, \"#fdca26\"], [1.0, \"#f0f921\"]], \"type\": \"surface\"}], \"table\": [{\"cells\": {\"fill\": {\"color\": \"#EBF0F8\"}, \"line\": {\"color\": \"white\"}}, \"header\": {\"fill\": {\"color\": \"#C8D4E3\"}, \"line\": {\"color\": \"white\"}}, \"type\": \"table\"}]}, \"layout\": {\"annotationdefaults\": {\"arrowcolor\": \"#2a3f5f\", \"arrowhead\": 0, \"arrowwidth\": 1}, \"coloraxis\": {\"colorbar\": {\"outlinewidth\": 0, \"ticks\": \"\"}}, \"colorscale\": {\"diverging\": [[0, \"#8e0152\"], [0.1, \"#c51b7d\"], [0.2, \"#de77ae\"], [0.3, \"#f1b6da\"], [0.4, \"#fde0ef\"], [0.5, \"#f7f7f7\"], [0.6, \"#e6f5d0\"], [0.7, \"#b8e186\"], [0.8, \"#7fbc41\"], [0.9, \"#4d9221\"], [1, \"#276419\"]], \"sequential\": [[0.0, \"#0d0887\"], [0.1111111111111111, \"#46039f\"], [0.2222222222222222, \"#7201a8\"], [0.3333333333333333, \"#9c179e\"], [0.4444444444444444, \"#bd3786\"], [0.5555555555555556, \"#d8576b\"], [0.6666666666666666, \"#ed7953\"], [0.7777777777777778, \"#fb9f3a\"], [0.8888888888888888, \"#fdca26\"], [1.0, \"#f0f921\"]], \"sequentialminus\": [[0.0, \"#0d0887\"], [0.1111111111111111, \"#46039f\"], [0.2222222222222222, \"#7201a8\"], [0.3333333333333333, \"#9c179e\"], [0.4444444444444444, \"#bd3786\"], [0.5555555555555556, \"#d8576b\"], [0.6666666666666666, \"#ed7953\"], [0.7777777777777778, \"#fb9f3a\"], [0.8888888888888888, \"#fdca26\"], [1.0, \"#f0f921\"]]}, \"colorway\": [\"#636efa\", \"#EF553B\", \"#00cc96\", \"#ab63fa\", \"#FFA15A\", \"#19d3f3\", \"#FF6692\", \"#B6E880\", \"#FF97FF\", \"#FECB52\"], \"font\": {\"color\": \"#2a3f5f\"}, \"geo\": {\"bgcolor\": \"white\", \"lakecolor\": \"white\", \"landcolor\": \"#E5ECF6\", \"showlakes\": true, \"showland\": true, \"subunitcolor\": \"white\"}, \"hoverlabel\": {\"align\": \"left\"}, \"hovermode\": \"closest\", \"mapbox\": {\"style\": \"light\"}, \"paper_bgcolor\": \"white\", \"plot_bgcolor\": \"#E5ECF6\", \"polar\": {\"angularaxis\": {\"gridcolor\": \"white\", \"linecolor\": \"white\", \"ticks\": \"\"}, \"bgcolor\": \"#E5ECF6\", \"radialaxis\": {\"gridcolor\": \"white\", \"linecolor\": \"white\", \"ticks\": \"\"}}, \"scene\": {\"xaxis\": {\"backgroundcolor\": \"#E5ECF6\", \"gridcolor\": \"white\", \"gridwidth\": 2, \"linecolor\": \"white\", \"showbackground\": true, \"ticks\": \"\", \"zerolinecolor\": \"white\"}, \"yaxis\": {\"backgroundcolor\": \"#E5ECF6\", \"gridcolor\": \"white\", \"gridwidth\": 2, \"linecolor\": \"white\", \"showbackground\": true, \"ticks\": \"\", \"zerolinecolor\": \"white\"}, \"zaxis\": {\"backgroundcolor\": \"#E5ECF6\", \"gridcolor\": \"white\", \"gridwidth\": 2, \"linecolor\": \"white\", \"showbackground\": true, \"ticks\": \"\", \"zerolinecolor\": \"white\"}}, \"shapedefaults\": {\"line\": {\"color\": \"#2a3f5f\"}}, \"ternary\": {\"aaxis\": {\"gridcolor\": \"white\", \"linecolor\": \"white\", \"ticks\": \"\"}, \"baxis\": {\"gridcolor\": \"white\", \"linecolor\": \"white\", \"ticks\": \"\"}, \"bgcolor\": \"#E5ECF6\", \"caxis\": {\"gridcolor\": \"white\", \"linecolor\": \"white\", \"ticks\": \"\"}}, \"title\": {\"x\": 0.05}, \"xaxis\": {\"automargin\": true, \"gridcolor\": \"white\", \"linecolor\": \"white\", \"ticks\": \"\", \"title\": {\"standoff\": 15}, \"zerolinecolor\": \"white\", \"zerolinewidth\": 2}, \"yaxis\": {\"automargin\": true, \"gridcolor\": \"white\", \"linecolor\": \"white\", \"ticks\": \"\", \"title\": {\"standoff\": 15}, \"zerolinecolor\": \"white\", \"zerolinewidth\": 2}}}, \"title\": {\"font\": {\"color\": \"#4D5663\"}}, \"xaxis\": {\"gridcolor\": \"#E1E5ED\", \"showgrid\": true, \"tickfont\": {\"color\": \"#4D5663\"}, \"title\": {\"font\": {\"color\": \"#4D5663\"}, \"text\": \"\"}, \"zerolinecolor\": \"#E1E5ED\"}, \"xaxis2\": {\"anchor\": \"y2\", \"gridcolor\": \"#E1E5ED\", \"showgrid\": true, \"showticklabels\": false, \"tickfont\": {\"color\": \"#4D5663\"}, \"title\": {\"font\": {\"color\": \"#4D5663\"}, \"text\": \"\"}, \"zerolinecolor\": \"#E1E5ED\"}, \"yaxis\": {\"domain\": [0.3, 1], \"gridcolor\": \"#E1E5ED\", \"showgrid\": true, \"tickfont\": {\"color\": \"#4D5663\"}, \"title\": {\"font\": {\"color\": \"#4D5663\"}, \"text\": \"\"}, \"zerolinecolor\": \"#E1E5ED\"}, \"yaxis2\": {\"domain\": [0, 0.25], \"gridcolor\": \"#E1E5ED\", \"showgrid\": true, \"tickfont\": {\"color\": \"#4D5663\"}, \"title\": {\"font\": {\"color\": \"#4D5663\"}, \"text\": \"Spread\"}, \"zerolinecolor\": \"#E1E5ED\"}},\n",
       "                        {\"showLink\": true, \"linkText\": \"Export to plot.ly\", \"plotlyServerURL\": \"https://plot.ly\", \"responsive\": true}\n",
       "                    ).then(function(){\n",
       "                            \n",
       "var gd = document.getElementById('9474f4af-3f34-4705-8e50-0e5f9fb2207d');\n",
       "var x = new MutationObserver(function (mutations, observer) {{\n",
       "        var display = window.getComputedStyle(gd).display;\n",
       "        if (!display || display === 'none') {{\n",
       "            console.log([gd, 'removed!']);\n",
       "            Plotly.purge(gd);\n",
       "            observer.disconnect();\n",
       "        }}\n",
       "}});\n",
       "\n",
       "// Listen for the removal of the full notebook cells\n",
       "var notebookContainer = gd.closest('#notebook-container');\n",
       "if (notebookContainer) {{\n",
       "    x.observe(notebookContainer, {childList: true});\n",
       "}}\n",
       "\n",
       "// Listen for the clearing of the current output cell\n",
       "var outputEl = gd.closest('.output');\n",
       "if (outputEl) {{\n",
       "    x.observe(outputEl, {childList: true});\n",
       "}}\n",
       "\n",
       "                        })\n",
       "                };\n",
       "                });\n",
       "            </script>\n",
       "        </div>"
      ]
     },
     "metadata": {},
     "output_type": "display_data"
    }
   ],
   "source": [
    "df[['A','B']].iplot(kind='spread')"
   ]
  },
  {
   "cell_type": "code",
   "execution_count": 37,
   "metadata": {},
   "outputs": [
    {
     "data": {
      "application/vnd.plotly.v1+json": {
       "config": {
        "linkText": "Export to plot.ly",
        "plotlyServerURL": "https://plot.ly",
        "showLink": true
       },
       "data": [
        {
         "marker": {
          "color": [
           "rgb(255, 153, 51)",
           "rgb(55, 128, 191)",
           "rgb(50, 171, 96)",
           "rgb(128, 0, 128)",
           "rgb(219, 64, 82)",
           "rgb(0, 128, 128)",
           "rgb(255, 255, 51)",
           "rgb(128, 128, 0)",
           "rgb(251, 128, 114)",
           "rgb(128, 177, 211)"
          ],
          "line": {
           "width": 1.3
          },
          "size": [
           52,
           47,
           63,
           72,
           71,
           59,
           60,
           63,
           65,
           41,
           68,
           39,
           42,
           72,
           52,
           36,
           68,
           80,
           80,
           21,
           12,
           75,
           77,
           67,
           65,
           31,
           60,
           55,
           39,
           40,
           59,
           24,
           58,
           87,
           44,
           73,
           34,
           72,
           24,
           70,
           44,
           44,
           73,
           22,
           65,
           54,
           76,
           82,
           58,
           56,
           56,
           78,
           63,
           55,
           54,
           49,
           45,
           92,
           74,
           83,
           68,
           88,
           52,
           69,
           48,
           72,
           46,
           52,
           41,
           63,
           73,
           88,
           47,
           73,
           44,
           96,
           63,
           37,
           30,
           56,
           60,
           36,
           60,
           49,
           52,
           65,
           78,
           71,
           48,
           53,
           57,
           112,
           73,
           57,
           83,
           70,
           72,
           79,
           47,
           73
          ],
          "symbol": "circle"
         },
         "mode": "markers",
         "text": "",
         "type": "scatter",
         "x": [
          -2.094397151479146,
          1.3941214922326817,
          -0.49945361503735913,
          -0.7298780946612285,
          -0.05879101960786524,
          1.2168416065981187,
          0.8690073762945215,
          1.0248764006001234,
          -0.15540585484017097,
          -0.16764986233001994,
          0.7778984780061986,
          -1.2435593599915684,
          0.25357332176071923,
          2.856586915070549,
          0.39692412082078316,
          -1.4345999368445181,
          -0.6162000698974652,
          0.03476259517769596,
          -2.009145407801507,
          1.4533919445471997,
          -0.8703182328567703,
          -0.6143084700493274,
          -0.34761024991025263,
          -0.05959062978705484,
          -0.7394525194780763,
          0.8340378920527788,
          -1.0391812744474584,
          0.17191340608343134,
          0.1586781853253161,
          -0.7750487092439783,
          0.438034060183595,
          -0.7280824873065657,
          -1.088870404711052,
          -0.8474580048152648,
          -2.0779113093562147,
          -0.3721246680362004,
          -0.5267640540901695,
          -1.2178948075205809,
          0.4043518045817308,
          -1.0334344178968475,
          0.49619293804226283,
          1.8708464437680499,
          1.0121451348718093,
          0.4269126817452754,
          -1.2349673225939606,
          0.39061767494739513,
          -0.6256157986469851,
          1.0351111300950826,
          -0.2450626994913141,
          0.06169580689106269,
          1.2499050049827194,
          -0.8473351234707631,
          0.6306685186978127,
          -1.9093082042900966,
          0.24302207947724627,
          -0.19948169908255228,
          -0.750993574668388,
          1.3137674387880596,
          -1.3441275580581578,
          -1.6729780203688531,
          1.164152543022755,
          -0.5617310684333279,
          -1.332295393318157,
          -0.07760242062662576,
          -0.46830100567090677,
          -0.9494876742710063,
          0.6281755129455628,
          -0.9333849785276441,
          -1.9957226612196735,
          -0.10762144124963756,
          0.4208020094415041,
          2.3769857538857306,
          1.3782159691673053,
          0.10990996413442164,
          -1.122310055421987,
          0.9507291380354317,
          -0.4627422441340983,
          1.3847759602273377,
          0.7392940658133781,
          1.3798724102148878,
          1.0354438906558976,
          1.170393638809026,
          1.6744622234240154,
          -0.5340913166387504,
          1.3192837607724976,
          -1.8217211430156675,
          -0.0955557940497877,
          -1.7025104060459593,
          1.49330659712763,
          1.4549119243746382,
          -0.44609922249017514,
          2.2957166286477166,
          -1.0559690993793378,
          0.8833646003473479,
          0.8406456933235341,
          -0.17628257884410958,
          0.22306309235647964,
          -0.034604504310288525,
          -0.8417879309313906,
          -1.978385623888586
         ],
         "y": [
          0.5144289608344228,
          0.5724069466256909,
          -0.30819993513771204,
          -0.28761213166610755,
          -0.5458296642997473,
          1.3342341378269325,
          -0.059879995787046364,
          1.3787691268830158,
          1.5187665540777449,
          -2.7519432034869826,
          -1.2056198902311772,
          -0.3629064877540202,
          0.640991257007152,
          -0.47206448107358195,
          -1.0878072262077378,
          -0.15543977760143152,
          -0.8625906044930144,
          -1.7663404323726277,
          1.064994168719819,
          -1.6184662127345653,
          -0.8190616080352211,
          0.7866409263948574,
          -0.19045252367988008,
          1.5969345615530797,
          -0.7044302258560525,
          -0.7900860768132202,
          -1.0735371514754384,
          0.8012526553151388,
          -0.02553132822250245,
          -0.30582686018085536,
          1.4651450194678122,
          -0.8071478717507671,
          0.8376367062569227,
          -0.6329941306779358,
          0.0867084974824401,
          0.05027790087844485,
          -0.2647802167855846,
          1.118984671133748,
          -0.5516072597736149,
          1.8162088275534043,
          -0.44479829986457453,
          0.1569398525620239,
          -1.3824017681664396,
          -0.036541635193980834,
          -0.7447235813408297,
          1.0983606818404243,
          -0.5136529937783657,
          1.7291436530420121,
          0.1816288109054654,
          0.9684547021866818,
          1.5510770631391406,
          -1.0475474342787952,
          -0.6121541607127508,
          1.0571791629492353,
          0.4030738424095661,
          0.5785052092954551,
          0.41074496678539,
          -1.1472776811644665,
          -0.33404848635404577,
          0.1032631854144026,
          2.0443381358099395,
          -0.5966934895063976,
          0.942536444239893,
          -0.9918626005209825,
          2.44059767258467,
          -0.8491252491305082,
          0.5155652443863213,
          -0.8476353923799457,
          -1.6795012845786021,
          1.0044005780947,
          -0.7103791063828504,
          0.5696648510909781,
          0.6978372215304477,
          -1.306728185712887,
          -0.20781386971509166,
          0.9986223565261442,
          0.7651501071650623,
          0.03834750962941581,
          -0.26329636784691046,
          -0.698448027060385,
          0.8293742290726839,
          0.5607838686827155,
          0.8671309641732743,
          0.894047112532386,
          0.47888307509295996,
          0.1892331690303111,
          -0.19289836917771339,
          2.292177153010583,
          0.251550634248612,
          0.24654175294065175,
          0.07806475208841698,
          1.2137666385299004,
          -0.6859853527506332,
          -1.4133773145942006,
          -0.3635762036436802,
          -0.5853034319336741,
          -0.3089010394401241,
          -1.228501650071791,
          0.22216134807810084,
          1.3418905806243608
         ]
        }
       ],
       "layout": {
        "legend": {
         "bgcolor": "#F5F6F9",
         "font": {
          "color": "#4D5663"
         }
        },
        "paper_bgcolor": "#F5F6F9",
        "plot_bgcolor": "#F5F6F9",
        "template": {
         "data": {
          "bar": [
           {
            "error_x": {
             "color": "#2a3f5f"
            },
            "error_y": {
             "color": "#2a3f5f"
            },
            "marker": {
             "line": {
              "color": "#E5ECF6",
              "width": 0.5
             }
            },
            "type": "bar"
           }
          ],
          "barpolar": [
           {
            "marker": {
             "line": {
              "color": "#E5ECF6",
              "width": 0.5
             }
            },
            "type": "barpolar"
           }
          ],
          "carpet": [
           {
            "aaxis": {
             "endlinecolor": "#2a3f5f",
             "gridcolor": "white",
             "linecolor": "white",
             "minorgridcolor": "white",
             "startlinecolor": "#2a3f5f"
            },
            "baxis": {
             "endlinecolor": "#2a3f5f",
             "gridcolor": "white",
             "linecolor": "white",
             "minorgridcolor": "white",
             "startlinecolor": "#2a3f5f"
            },
            "type": "carpet"
           }
          ],
          "choropleth": [
           {
            "colorbar": {
             "outlinewidth": 0,
             "ticks": ""
            },
            "type": "choropleth"
           }
          ],
          "contour": [
           {
            "colorbar": {
             "outlinewidth": 0,
             "ticks": ""
            },
            "colorscale": [
             [
              0,
              "#0d0887"
             ],
             [
              0.1111111111111111,
              "#46039f"
             ],
             [
              0.2222222222222222,
              "#7201a8"
             ],
             [
              0.3333333333333333,
              "#9c179e"
             ],
             [
              0.4444444444444444,
              "#bd3786"
             ],
             [
              0.5555555555555556,
              "#d8576b"
             ],
             [
              0.6666666666666666,
              "#ed7953"
             ],
             [
              0.7777777777777778,
              "#fb9f3a"
             ],
             [
              0.8888888888888888,
              "#fdca26"
             ],
             [
              1,
              "#f0f921"
             ]
            ],
            "type": "contour"
           }
          ],
          "contourcarpet": [
           {
            "colorbar": {
             "outlinewidth": 0,
             "ticks": ""
            },
            "type": "contourcarpet"
           }
          ],
          "heatmap": [
           {
            "colorbar": {
             "outlinewidth": 0,
             "ticks": ""
            },
            "colorscale": [
             [
              0,
              "#0d0887"
             ],
             [
              0.1111111111111111,
              "#46039f"
             ],
             [
              0.2222222222222222,
              "#7201a8"
             ],
             [
              0.3333333333333333,
              "#9c179e"
             ],
             [
              0.4444444444444444,
              "#bd3786"
             ],
             [
              0.5555555555555556,
              "#d8576b"
             ],
             [
              0.6666666666666666,
              "#ed7953"
             ],
             [
              0.7777777777777778,
              "#fb9f3a"
             ],
             [
              0.8888888888888888,
              "#fdca26"
             ],
             [
              1,
              "#f0f921"
             ]
            ],
            "type": "heatmap"
           }
          ],
          "heatmapgl": [
           {
            "colorbar": {
             "outlinewidth": 0,
             "ticks": ""
            },
            "colorscale": [
             [
              0,
              "#0d0887"
             ],
             [
              0.1111111111111111,
              "#46039f"
             ],
             [
              0.2222222222222222,
              "#7201a8"
             ],
             [
              0.3333333333333333,
              "#9c179e"
             ],
             [
              0.4444444444444444,
              "#bd3786"
             ],
             [
              0.5555555555555556,
              "#d8576b"
             ],
             [
              0.6666666666666666,
              "#ed7953"
             ],
             [
              0.7777777777777778,
              "#fb9f3a"
             ],
             [
              0.8888888888888888,
              "#fdca26"
             ],
             [
              1,
              "#f0f921"
             ]
            ],
            "type": "heatmapgl"
           }
          ],
          "histogram": [
           {
            "marker": {
             "colorbar": {
              "outlinewidth": 0,
              "ticks": ""
             }
            },
            "type": "histogram"
           }
          ],
          "histogram2d": [
           {
            "colorbar": {
             "outlinewidth": 0,
             "ticks": ""
            },
            "colorscale": [
             [
              0,
              "#0d0887"
             ],
             [
              0.1111111111111111,
              "#46039f"
             ],
             [
              0.2222222222222222,
              "#7201a8"
             ],
             [
              0.3333333333333333,
              "#9c179e"
             ],
             [
              0.4444444444444444,
              "#bd3786"
             ],
             [
              0.5555555555555556,
              "#d8576b"
             ],
             [
              0.6666666666666666,
              "#ed7953"
             ],
             [
              0.7777777777777778,
              "#fb9f3a"
             ],
             [
              0.8888888888888888,
              "#fdca26"
             ],
             [
              1,
              "#f0f921"
             ]
            ],
            "type": "histogram2d"
           }
          ],
          "histogram2dcontour": [
           {
            "colorbar": {
             "outlinewidth": 0,
             "ticks": ""
            },
            "colorscale": [
             [
              0,
              "#0d0887"
             ],
             [
              0.1111111111111111,
              "#46039f"
             ],
             [
              0.2222222222222222,
              "#7201a8"
             ],
             [
              0.3333333333333333,
              "#9c179e"
             ],
             [
              0.4444444444444444,
              "#bd3786"
             ],
             [
              0.5555555555555556,
              "#d8576b"
             ],
             [
              0.6666666666666666,
              "#ed7953"
             ],
             [
              0.7777777777777778,
              "#fb9f3a"
             ],
             [
              0.8888888888888888,
              "#fdca26"
             ],
             [
              1,
              "#f0f921"
             ]
            ],
            "type": "histogram2dcontour"
           }
          ],
          "mesh3d": [
           {
            "colorbar": {
             "outlinewidth": 0,
             "ticks": ""
            },
            "type": "mesh3d"
           }
          ],
          "parcoords": [
           {
            "line": {
             "colorbar": {
              "outlinewidth": 0,
              "ticks": ""
             }
            },
            "type": "parcoords"
           }
          ],
          "pie": [
           {
            "automargin": true,
            "type": "pie"
           }
          ],
          "scatter": [
           {
            "marker": {
             "colorbar": {
              "outlinewidth": 0,
              "ticks": ""
             }
            },
            "type": "scatter"
           }
          ],
          "scatter3d": [
           {
            "line": {
             "colorbar": {
              "outlinewidth": 0,
              "ticks": ""
             }
            },
            "marker": {
             "colorbar": {
              "outlinewidth": 0,
              "ticks": ""
             }
            },
            "type": "scatter3d"
           }
          ],
          "scattercarpet": [
           {
            "marker": {
             "colorbar": {
              "outlinewidth": 0,
              "ticks": ""
             }
            },
            "type": "scattercarpet"
           }
          ],
          "scattergeo": [
           {
            "marker": {
             "colorbar": {
              "outlinewidth": 0,
              "ticks": ""
             }
            },
            "type": "scattergeo"
           }
          ],
          "scattergl": [
           {
            "marker": {
             "colorbar": {
              "outlinewidth": 0,
              "ticks": ""
             }
            },
            "type": "scattergl"
           }
          ],
          "scattermapbox": [
           {
            "marker": {
             "colorbar": {
              "outlinewidth": 0,
              "ticks": ""
             }
            },
            "type": "scattermapbox"
           }
          ],
          "scatterpolar": [
           {
            "marker": {
             "colorbar": {
              "outlinewidth": 0,
              "ticks": ""
             }
            },
            "type": "scatterpolar"
           }
          ],
          "scatterpolargl": [
           {
            "marker": {
             "colorbar": {
              "outlinewidth": 0,
              "ticks": ""
             }
            },
            "type": "scatterpolargl"
           }
          ],
          "scatterternary": [
           {
            "marker": {
             "colorbar": {
              "outlinewidth": 0,
              "ticks": ""
             }
            },
            "type": "scatterternary"
           }
          ],
          "surface": [
           {
            "colorbar": {
             "outlinewidth": 0,
             "ticks": ""
            },
            "colorscale": [
             [
              0,
              "#0d0887"
             ],
             [
              0.1111111111111111,
              "#46039f"
             ],
             [
              0.2222222222222222,
              "#7201a8"
             ],
             [
              0.3333333333333333,
              "#9c179e"
             ],
             [
              0.4444444444444444,
              "#bd3786"
             ],
             [
              0.5555555555555556,
              "#d8576b"
             ],
             [
              0.6666666666666666,
              "#ed7953"
             ],
             [
              0.7777777777777778,
              "#fb9f3a"
             ],
             [
              0.8888888888888888,
              "#fdca26"
             ],
             [
              1,
              "#f0f921"
             ]
            ],
            "type": "surface"
           }
          ],
          "table": [
           {
            "cells": {
             "fill": {
              "color": "#EBF0F8"
             },
             "line": {
              "color": "white"
             }
            },
            "header": {
             "fill": {
              "color": "#C8D4E3"
             },
             "line": {
              "color": "white"
             }
            },
            "type": "table"
           }
          ]
         },
         "layout": {
          "annotationdefaults": {
           "arrowcolor": "#2a3f5f",
           "arrowhead": 0,
           "arrowwidth": 1
          },
          "coloraxis": {
           "colorbar": {
            "outlinewidth": 0,
            "ticks": ""
           }
          },
          "colorscale": {
           "diverging": [
            [
             0,
             "#8e0152"
            ],
            [
             0.1,
             "#c51b7d"
            ],
            [
             0.2,
             "#de77ae"
            ],
            [
             0.3,
             "#f1b6da"
            ],
            [
             0.4,
             "#fde0ef"
            ],
            [
             0.5,
             "#f7f7f7"
            ],
            [
             0.6,
             "#e6f5d0"
            ],
            [
             0.7,
             "#b8e186"
            ],
            [
             0.8,
             "#7fbc41"
            ],
            [
             0.9,
             "#4d9221"
            ],
            [
             1,
             "#276419"
            ]
           ],
           "sequential": [
            [
             0,
             "#0d0887"
            ],
            [
             0.1111111111111111,
             "#46039f"
            ],
            [
             0.2222222222222222,
             "#7201a8"
            ],
            [
             0.3333333333333333,
             "#9c179e"
            ],
            [
             0.4444444444444444,
             "#bd3786"
            ],
            [
             0.5555555555555556,
             "#d8576b"
            ],
            [
             0.6666666666666666,
             "#ed7953"
            ],
            [
             0.7777777777777778,
             "#fb9f3a"
            ],
            [
             0.8888888888888888,
             "#fdca26"
            ],
            [
             1,
             "#f0f921"
            ]
           ],
           "sequentialminus": [
            [
             0,
             "#0d0887"
            ],
            [
             0.1111111111111111,
             "#46039f"
            ],
            [
             0.2222222222222222,
             "#7201a8"
            ],
            [
             0.3333333333333333,
             "#9c179e"
            ],
            [
             0.4444444444444444,
             "#bd3786"
            ],
            [
             0.5555555555555556,
             "#d8576b"
            ],
            [
             0.6666666666666666,
             "#ed7953"
            ],
            [
             0.7777777777777778,
             "#fb9f3a"
            ],
            [
             0.8888888888888888,
             "#fdca26"
            ],
            [
             1,
             "#f0f921"
            ]
           ]
          },
          "colorway": [
           "#636efa",
           "#EF553B",
           "#00cc96",
           "#ab63fa",
           "#FFA15A",
           "#19d3f3",
           "#FF6692",
           "#B6E880",
           "#FF97FF",
           "#FECB52"
          ],
          "font": {
           "color": "#2a3f5f"
          },
          "geo": {
           "bgcolor": "white",
           "lakecolor": "white",
           "landcolor": "#E5ECF6",
           "showlakes": true,
           "showland": true,
           "subunitcolor": "white"
          },
          "hoverlabel": {
           "align": "left"
          },
          "hovermode": "closest",
          "mapbox": {
           "style": "light"
          },
          "paper_bgcolor": "white",
          "plot_bgcolor": "#E5ECF6",
          "polar": {
           "angularaxis": {
            "gridcolor": "white",
            "linecolor": "white",
            "ticks": ""
           },
           "bgcolor": "#E5ECF6",
           "radialaxis": {
            "gridcolor": "white",
            "linecolor": "white",
            "ticks": ""
           }
          },
          "scene": {
           "xaxis": {
            "backgroundcolor": "#E5ECF6",
            "gridcolor": "white",
            "gridwidth": 2,
            "linecolor": "white",
            "showbackground": true,
            "ticks": "",
            "zerolinecolor": "white"
           },
           "yaxis": {
            "backgroundcolor": "#E5ECF6",
            "gridcolor": "white",
            "gridwidth": 2,
            "linecolor": "white",
            "showbackground": true,
            "ticks": "",
            "zerolinecolor": "white"
           },
           "zaxis": {
            "backgroundcolor": "#E5ECF6",
            "gridcolor": "white",
            "gridwidth": 2,
            "linecolor": "white",
            "showbackground": true,
            "ticks": "",
            "zerolinecolor": "white"
           }
          },
          "shapedefaults": {
           "line": {
            "color": "#2a3f5f"
           }
          },
          "ternary": {
           "aaxis": {
            "gridcolor": "white",
            "linecolor": "white",
            "ticks": ""
           },
           "baxis": {
            "gridcolor": "white",
            "linecolor": "white",
            "ticks": ""
           },
           "bgcolor": "#E5ECF6",
           "caxis": {
            "gridcolor": "white",
            "linecolor": "white",
            "ticks": ""
           }
          },
          "title": {
           "x": 0.05
          },
          "xaxis": {
           "automargin": true,
           "gridcolor": "white",
           "linecolor": "white",
           "ticks": "",
           "title": {
            "standoff": 15
           },
           "zerolinecolor": "white",
           "zerolinewidth": 2
          },
          "yaxis": {
           "automargin": true,
           "gridcolor": "white",
           "linecolor": "white",
           "ticks": "",
           "title": {
            "standoff": 15
           },
           "zerolinecolor": "white",
           "zerolinewidth": 2
          }
         }
        },
        "title": {
         "font": {
          "color": "#4D5663"
         }
        },
        "xaxis": {
         "gridcolor": "#E1E5ED",
         "showgrid": true,
         "tickfont": {
          "color": "#4D5663"
         },
         "title": {
          "font": {
           "color": "#4D5663"
          },
          "text": ""
         },
         "zerolinecolor": "#E1E5ED"
        },
        "yaxis": {
         "gridcolor": "#E1E5ED",
         "showgrid": true,
         "tickfont": {
          "color": "#4D5663"
         },
         "title": {
          "font": {
           "color": "#4D5663"
          },
          "text": ""
         },
         "zerolinecolor": "#E1E5ED"
        }
       }
      },
      "text/html": [
       "<div>\n",
       "        \n",
       "        \n",
       "            <div id=\"e2dc0aa9-b5d2-455c-9b6d-8eb6284bf8b6\" class=\"plotly-graph-div\" style=\"height:525px; width:100%;\"></div>\n",
       "            <script type=\"text/javascript\">\n",
       "                require([\"plotly\"], function(Plotly) {\n",
       "                    window.PLOTLYENV=window.PLOTLYENV || {};\n",
       "                    window.PLOTLYENV.BASE_URL='https://plot.ly';\n",
       "                    \n",
       "                if (document.getElementById(\"e2dc0aa9-b5d2-455c-9b6d-8eb6284bf8b6\")) {\n",
       "                    Plotly.newPlot(\n",
       "                        'e2dc0aa9-b5d2-455c-9b6d-8eb6284bf8b6',\n",
       "                        [{\"marker\": {\"color\": [\"rgb(255, 153, 51)\", \"rgb(55, 128, 191)\", \"rgb(50, 171, 96)\", \"rgb(128, 0, 128)\", \"rgb(219, 64, 82)\", \"rgb(0, 128, 128)\", \"rgb(255, 255, 51)\", \"rgb(128, 128, 0)\", \"rgb(251, 128, 114)\", \"rgb(128, 177, 211)\"], \"line\": {\"width\": 1.3}, \"size\": [52, 47, 63, 72, 71, 59, 60, 63, 65, 41, 68, 39, 42, 72, 52, 36, 68, 80, 80, 21, 12, 75, 77, 67, 65, 31, 60, 55, 39, 40, 59, 24, 58, 87, 44, 73, 34, 72, 24, 70, 44, 44, 73, 22, 65, 54, 76, 82, 58, 56, 56, 78, 63, 55, 54, 49, 45, 92, 74, 83, 68, 88, 52, 69, 48, 72, 46, 52, 41, 63, 73, 88, 47, 73, 44, 96, 63, 37, 30, 56, 60, 36, 60, 49, 52, 65, 78, 71, 48, 53, 57, 112, 73, 57, 83, 70, 72, 79, 47, 73], \"symbol\": \"circle\"}, \"mode\": \"markers\", \"text\": \"\", \"type\": \"scatter\", \"x\": [-2.094397151479146, 1.3941214922326817, -0.49945361503735913, -0.7298780946612285, -0.05879101960786524, 1.2168416065981187, 0.8690073762945215, 1.0248764006001234, -0.15540585484017097, -0.16764986233001994, 0.7778984780061986, -1.2435593599915684, 0.25357332176071923, 2.856586915070549, 0.39692412082078316, -1.4345999368445181, -0.6162000698974652, 0.03476259517769596, -2.009145407801507, 1.4533919445471997, -0.8703182328567703, -0.6143084700493274, -0.34761024991025263, -0.05959062978705484, -0.7394525194780763, 0.8340378920527788, -1.0391812744474584, 0.17191340608343134, 0.1586781853253161, -0.7750487092439783, 0.438034060183595, -0.7280824873065657, -1.088870404711052, -0.8474580048152648, -2.0779113093562147, -0.3721246680362004, -0.5267640540901695, -1.2178948075205809, 0.4043518045817308, -1.0334344178968475, 0.49619293804226283, 1.8708464437680499, 1.0121451348718093, 0.4269126817452754, -1.2349673225939606, 0.39061767494739513, -0.6256157986469851, 1.0351111300950826, -0.2450626994913141, 0.06169580689106269, 1.2499050049827194, -0.8473351234707631, 0.6306685186978127, -1.9093082042900966, 0.24302207947724627, -0.19948169908255228, -0.750993574668388, 1.3137674387880596, -1.3441275580581578, -1.6729780203688531, 1.164152543022755, -0.5617310684333279, -1.332295393318157, -0.07760242062662576, -0.46830100567090677, -0.9494876742710063, 0.6281755129455628, -0.9333849785276441, -1.9957226612196735, -0.10762144124963756, 0.4208020094415041, 2.3769857538857306, 1.3782159691673053, 0.10990996413442164, -1.122310055421987, 0.9507291380354317, -0.4627422441340983, 1.3847759602273377, 0.7392940658133781, 1.3798724102148878, 1.0354438906558976, 1.170393638809026, 1.6744622234240154, -0.5340913166387504, 1.3192837607724976, -1.8217211430156675, -0.0955557940497877, -1.7025104060459593, 1.49330659712763, 1.4549119243746382, -0.44609922249017514, 2.2957166286477166, -1.0559690993793378, 0.8833646003473479, 0.8406456933235341, -0.17628257884410958, 0.22306309235647964, -0.034604504310288525, -0.8417879309313906, -1.978385623888586], \"y\": [0.5144289608344228, 0.5724069466256909, -0.30819993513771204, -0.28761213166610755, -0.5458296642997473, 1.3342341378269325, -0.059879995787046364, 1.3787691268830158, 1.5187665540777449, -2.7519432034869826, -1.2056198902311772, -0.3629064877540202, 0.640991257007152, -0.47206448107358195, -1.0878072262077378, -0.15543977760143152, -0.8625906044930144, -1.7663404323726277, 1.064994168719819, -1.6184662127345653, -0.8190616080352211, 0.7866409263948574, -0.19045252367988008, 1.5969345615530797, -0.7044302258560525, -0.7900860768132202, -1.0735371514754384, 0.8012526553151388, -0.02553132822250245, -0.30582686018085536, 1.4651450194678122, -0.8071478717507671, 0.8376367062569227, -0.6329941306779358, 0.0867084974824401, 0.05027790087844485, -0.2647802167855846, 1.118984671133748, -0.5516072597736149, 1.8162088275534043, -0.44479829986457453, 0.1569398525620239, -1.3824017681664396, -0.036541635193980834, -0.7447235813408297, 1.0983606818404243, -0.5136529937783657, 1.7291436530420121, 0.1816288109054654, 0.9684547021866818, 1.5510770631391406, -1.0475474342787952, -0.6121541607127508, 1.0571791629492353, 0.4030738424095661, 0.5785052092954551, 0.41074496678539, -1.1472776811644665, -0.33404848635404577, 0.1032631854144026, 2.0443381358099395, -0.5966934895063976, 0.942536444239893, -0.9918626005209825, 2.44059767258467, -0.8491252491305082, 0.5155652443863213, -0.8476353923799457, -1.6795012845786021, 1.0044005780947, -0.7103791063828504, 0.5696648510909781, 0.6978372215304477, -1.306728185712887, -0.20781386971509166, 0.9986223565261442, 0.7651501071650623, 0.03834750962941581, -0.26329636784691046, -0.698448027060385, 0.8293742290726839, 0.5607838686827155, 0.8671309641732743, 0.894047112532386, 0.47888307509295996, 0.1892331690303111, -0.19289836917771339, 2.292177153010583, 0.251550634248612, 0.24654175294065175, 0.07806475208841698, 1.2137666385299004, -0.6859853527506332, -1.4133773145942006, -0.3635762036436802, -0.5853034319336741, -0.3089010394401241, -1.228501650071791, 0.22216134807810084, 1.3418905806243608]}],\n",
       "                        {\"legend\": {\"bgcolor\": \"#F5F6F9\", \"font\": {\"color\": \"#4D5663\"}}, \"paper_bgcolor\": \"#F5F6F9\", \"plot_bgcolor\": \"#F5F6F9\", \"template\": {\"data\": {\"bar\": [{\"error_x\": {\"color\": \"#2a3f5f\"}, \"error_y\": {\"color\": \"#2a3f5f\"}, \"marker\": {\"line\": {\"color\": \"#E5ECF6\", \"width\": 0.5}}, \"type\": \"bar\"}], \"barpolar\": [{\"marker\": {\"line\": {\"color\": \"#E5ECF6\", \"width\": 0.5}}, \"type\": \"barpolar\"}], \"carpet\": [{\"aaxis\": {\"endlinecolor\": \"#2a3f5f\", \"gridcolor\": \"white\", \"linecolor\": \"white\", \"minorgridcolor\": \"white\", \"startlinecolor\": \"#2a3f5f\"}, \"baxis\": {\"endlinecolor\": \"#2a3f5f\", \"gridcolor\": \"white\", \"linecolor\": \"white\", \"minorgridcolor\": \"white\", \"startlinecolor\": \"#2a3f5f\"}, \"type\": \"carpet\"}], \"choropleth\": [{\"colorbar\": {\"outlinewidth\": 0, \"ticks\": \"\"}, \"type\": \"choropleth\"}], \"contour\": [{\"colorbar\": {\"outlinewidth\": 0, \"ticks\": \"\"}, \"colorscale\": [[0.0, \"#0d0887\"], [0.1111111111111111, \"#46039f\"], [0.2222222222222222, \"#7201a8\"], [0.3333333333333333, \"#9c179e\"], [0.4444444444444444, \"#bd3786\"], [0.5555555555555556, \"#d8576b\"], [0.6666666666666666, \"#ed7953\"], [0.7777777777777778, \"#fb9f3a\"], [0.8888888888888888, \"#fdca26\"], [1.0, \"#f0f921\"]], \"type\": \"contour\"}], \"contourcarpet\": [{\"colorbar\": {\"outlinewidth\": 0, \"ticks\": \"\"}, \"type\": \"contourcarpet\"}], \"heatmap\": [{\"colorbar\": {\"outlinewidth\": 0, \"ticks\": \"\"}, \"colorscale\": [[0.0, \"#0d0887\"], [0.1111111111111111, \"#46039f\"], [0.2222222222222222, \"#7201a8\"], [0.3333333333333333, \"#9c179e\"], [0.4444444444444444, \"#bd3786\"], [0.5555555555555556, \"#d8576b\"], [0.6666666666666666, \"#ed7953\"], [0.7777777777777778, \"#fb9f3a\"], [0.8888888888888888, \"#fdca26\"], [1.0, \"#f0f921\"]], \"type\": \"heatmap\"}], \"heatmapgl\": [{\"colorbar\": {\"outlinewidth\": 0, \"ticks\": \"\"}, \"colorscale\": [[0.0, \"#0d0887\"], [0.1111111111111111, \"#46039f\"], [0.2222222222222222, \"#7201a8\"], [0.3333333333333333, \"#9c179e\"], [0.4444444444444444, \"#bd3786\"], [0.5555555555555556, \"#d8576b\"], [0.6666666666666666, \"#ed7953\"], [0.7777777777777778, \"#fb9f3a\"], [0.8888888888888888, \"#fdca26\"], [1.0, \"#f0f921\"]], \"type\": \"heatmapgl\"}], \"histogram\": [{\"marker\": {\"colorbar\": {\"outlinewidth\": 0, \"ticks\": \"\"}}, \"type\": \"histogram\"}], \"histogram2d\": [{\"colorbar\": {\"outlinewidth\": 0, \"ticks\": \"\"}, \"colorscale\": [[0.0, \"#0d0887\"], [0.1111111111111111, \"#46039f\"], [0.2222222222222222, \"#7201a8\"], [0.3333333333333333, \"#9c179e\"], [0.4444444444444444, \"#bd3786\"], [0.5555555555555556, \"#d8576b\"], [0.6666666666666666, \"#ed7953\"], [0.7777777777777778, \"#fb9f3a\"], [0.8888888888888888, \"#fdca26\"], [1.0, \"#f0f921\"]], \"type\": \"histogram2d\"}], \"histogram2dcontour\": [{\"colorbar\": {\"outlinewidth\": 0, \"ticks\": \"\"}, \"colorscale\": [[0.0, \"#0d0887\"], [0.1111111111111111, \"#46039f\"], [0.2222222222222222, \"#7201a8\"], [0.3333333333333333, \"#9c179e\"], [0.4444444444444444, \"#bd3786\"], [0.5555555555555556, \"#d8576b\"], [0.6666666666666666, \"#ed7953\"], [0.7777777777777778, \"#fb9f3a\"], [0.8888888888888888, \"#fdca26\"], [1.0, \"#f0f921\"]], \"type\": \"histogram2dcontour\"}], \"mesh3d\": [{\"colorbar\": {\"outlinewidth\": 0, \"ticks\": \"\"}, \"type\": \"mesh3d\"}], \"parcoords\": [{\"line\": {\"colorbar\": {\"outlinewidth\": 0, \"ticks\": \"\"}}, \"type\": \"parcoords\"}], \"pie\": [{\"automargin\": true, \"type\": \"pie\"}], \"scatter\": [{\"marker\": {\"colorbar\": {\"outlinewidth\": 0, \"ticks\": \"\"}}, \"type\": \"scatter\"}], \"scatter3d\": [{\"line\": {\"colorbar\": {\"outlinewidth\": 0, \"ticks\": \"\"}}, \"marker\": {\"colorbar\": {\"outlinewidth\": 0, \"ticks\": \"\"}}, \"type\": \"scatter3d\"}], \"scattercarpet\": [{\"marker\": {\"colorbar\": {\"outlinewidth\": 0, \"ticks\": \"\"}}, \"type\": \"scattercarpet\"}], \"scattergeo\": [{\"marker\": {\"colorbar\": {\"outlinewidth\": 0, \"ticks\": \"\"}}, \"type\": \"scattergeo\"}], \"scattergl\": [{\"marker\": {\"colorbar\": {\"outlinewidth\": 0, \"ticks\": \"\"}}, \"type\": \"scattergl\"}], \"scattermapbox\": [{\"marker\": {\"colorbar\": {\"outlinewidth\": 0, \"ticks\": \"\"}}, \"type\": \"scattermapbox\"}], \"scatterpolar\": [{\"marker\": {\"colorbar\": {\"outlinewidth\": 0, \"ticks\": \"\"}}, \"type\": \"scatterpolar\"}], \"scatterpolargl\": [{\"marker\": {\"colorbar\": {\"outlinewidth\": 0, \"ticks\": \"\"}}, \"type\": \"scatterpolargl\"}], \"scatterternary\": [{\"marker\": {\"colorbar\": {\"outlinewidth\": 0, \"ticks\": \"\"}}, \"type\": \"scatterternary\"}], \"surface\": [{\"colorbar\": {\"outlinewidth\": 0, \"ticks\": \"\"}, \"colorscale\": [[0.0, \"#0d0887\"], [0.1111111111111111, \"#46039f\"], [0.2222222222222222, \"#7201a8\"], [0.3333333333333333, \"#9c179e\"], [0.4444444444444444, \"#bd3786\"], [0.5555555555555556, \"#d8576b\"], [0.6666666666666666, \"#ed7953\"], [0.7777777777777778, \"#fb9f3a\"], [0.8888888888888888, \"#fdca26\"], [1.0, \"#f0f921\"]], \"type\": \"surface\"}], \"table\": [{\"cells\": {\"fill\": {\"color\": \"#EBF0F8\"}, \"line\": {\"color\": \"white\"}}, \"header\": {\"fill\": {\"color\": \"#C8D4E3\"}, \"line\": {\"color\": \"white\"}}, \"type\": \"table\"}]}, \"layout\": {\"annotationdefaults\": {\"arrowcolor\": \"#2a3f5f\", \"arrowhead\": 0, \"arrowwidth\": 1}, \"coloraxis\": {\"colorbar\": {\"outlinewidth\": 0, \"ticks\": \"\"}}, \"colorscale\": {\"diverging\": [[0, \"#8e0152\"], [0.1, \"#c51b7d\"], [0.2, \"#de77ae\"], [0.3, \"#f1b6da\"], [0.4, \"#fde0ef\"], [0.5, \"#f7f7f7\"], [0.6, \"#e6f5d0\"], [0.7, \"#b8e186\"], [0.8, \"#7fbc41\"], [0.9, \"#4d9221\"], [1, \"#276419\"]], \"sequential\": [[0.0, \"#0d0887\"], [0.1111111111111111, \"#46039f\"], [0.2222222222222222, \"#7201a8\"], [0.3333333333333333, \"#9c179e\"], [0.4444444444444444, \"#bd3786\"], [0.5555555555555556, \"#d8576b\"], [0.6666666666666666, \"#ed7953\"], [0.7777777777777778, \"#fb9f3a\"], [0.8888888888888888, \"#fdca26\"], [1.0, \"#f0f921\"]], \"sequentialminus\": [[0.0, \"#0d0887\"], [0.1111111111111111, \"#46039f\"], [0.2222222222222222, \"#7201a8\"], [0.3333333333333333, \"#9c179e\"], [0.4444444444444444, \"#bd3786\"], [0.5555555555555556, \"#d8576b\"], [0.6666666666666666, \"#ed7953\"], [0.7777777777777778, \"#fb9f3a\"], [0.8888888888888888, \"#fdca26\"], [1.0, \"#f0f921\"]]}, \"colorway\": [\"#636efa\", \"#EF553B\", \"#00cc96\", \"#ab63fa\", \"#FFA15A\", \"#19d3f3\", \"#FF6692\", \"#B6E880\", \"#FF97FF\", \"#FECB52\"], \"font\": {\"color\": \"#2a3f5f\"}, \"geo\": {\"bgcolor\": \"white\", \"lakecolor\": \"white\", \"landcolor\": \"#E5ECF6\", \"showlakes\": true, \"showland\": true, \"subunitcolor\": \"white\"}, \"hoverlabel\": {\"align\": \"left\"}, \"hovermode\": \"closest\", \"mapbox\": {\"style\": \"light\"}, \"paper_bgcolor\": \"white\", \"plot_bgcolor\": \"#E5ECF6\", \"polar\": {\"angularaxis\": {\"gridcolor\": \"white\", \"linecolor\": \"white\", \"ticks\": \"\"}, \"bgcolor\": \"#E5ECF6\", \"radialaxis\": {\"gridcolor\": \"white\", \"linecolor\": \"white\", \"ticks\": \"\"}}, \"scene\": {\"xaxis\": {\"backgroundcolor\": \"#E5ECF6\", \"gridcolor\": \"white\", \"gridwidth\": 2, \"linecolor\": \"white\", \"showbackground\": true, \"ticks\": \"\", \"zerolinecolor\": \"white\"}, \"yaxis\": {\"backgroundcolor\": \"#E5ECF6\", \"gridcolor\": \"white\", \"gridwidth\": 2, \"linecolor\": \"white\", \"showbackground\": true, \"ticks\": \"\", \"zerolinecolor\": \"white\"}, \"zaxis\": {\"backgroundcolor\": \"#E5ECF6\", \"gridcolor\": \"white\", \"gridwidth\": 2, \"linecolor\": \"white\", \"showbackground\": true, \"ticks\": \"\", \"zerolinecolor\": \"white\"}}, \"shapedefaults\": {\"line\": {\"color\": \"#2a3f5f\"}}, \"ternary\": {\"aaxis\": {\"gridcolor\": \"white\", \"linecolor\": \"white\", \"ticks\": \"\"}, \"baxis\": {\"gridcolor\": \"white\", \"linecolor\": \"white\", \"ticks\": \"\"}, \"bgcolor\": \"#E5ECF6\", \"caxis\": {\"gridcolor\": \"white\", \"linecolor\": \"white\", \"ticks\": \"\"}}, \"title\": {\"x\": 0.05}, \"xaxis\": {\"automargin\": true, \"gridcolor\": \"white\", \"linecolor\": \"white\", \"ticks\": \"\", \"title\": {\"standoff\": 15}, \"zerolinecolor\": \"white\", \"zerolinewidth\": 2}, \"yaxis\": {\"automargin\": true, \"gridcolor\": \"white\", \"linecolor\": \"white\", \"ticks\": \"\", \"title\": {\"standoff\": 15}, \"zerolinecolor\": \"white\", \"zerolinewidth\": 2}}}, \"title\": {\"font\": {\"color\": \"#4D5663\"}}, \"xaxis\": {\"gridcolor\": \"#E1E5ED\", \"showgrid\": true, \"tickfont\": {\"color\": \"#4D5663\"}, \"title\": {\"font\": {\"color\": \"#4D5663\"}, \"text\": \"\"}, \"zerolinecolor\": \"#E1E5ED\"}, \"yaxis\": {\"gridcolor\": \"#E1E5ED\", \"showgrid\": true, \"tickfont\": {\"color\": \"#4D5663\"}, \"title\": {\"font\": {\"color\": \"#4D5663\"}, \"text\": \"\"}, \"zerolinecolor\": \"#E1E5ED\"}},\n",
       "                        {\"showLink\": true, \"linkText\": \"Export to plot.ly\", \"plotlyServerURL\": \"https://plot.ly\", \"responsive\": true}\n",
       "                    ).then(function(){\n",
       "                            \n",
       "var gd = document.getElementById('e2dc0aa9-b5d2-455c-9b6d-8eb6284bf8b6');\n",
       "var x = new MutationObserver(function (mutations, observer) {{\n",
       "        var display = window.getComputedStyle(gd).display;\n",
       "        if (!display || display === 'none') {{\n",
       "            console.log([gd, 'removed!']);\n",
       "            Plotly.purge(gd);\n",
       "            observer.disconnect();\n",
       "        }}\n",
       "}});\n",
       "\n",
       "// Listen for the removal of the full notebook cells\n",
       "var notebookContainer = gd.closest('#notebook-container');\n",
       "if (notebookContainer) {{\n",
       "    x.observe(notebookContainer, {childList: true});\n",
       "}}\n",
       "\n",
       "// Listen for the clearing of the current output cell\n",
       "var outputEl = gd.closest('.output');\n",
       "if (outputEl) {{\n",
       "    x.observe(outputEl, {childList: true});\n",
       "}}\n",
       "\n",
       "                        })\n",
       "                };\n",
       "                });\n",
       "            </script>\n",
       "        </div>"
      ]
     },
     "metadata": {},
     "output_type": "display_data"
    }
   ],
   "source": [
    "df.iplot(kind='bubble',x='A',y='B',size='C')"
   ]
  },
  {
   "cell_type": "code",
   "execution_count": 38,
   "metadata": {},
   "outputs": [
    {
     "data": {
      "application/vnd.plotly.v1+json": {
       "config": {
        "linkText": "Export to plot.ly",
        "plotlyServerURL": "https://plot.ly",
        "showLink": true
       },
       "data": [
        {
         "histfunc": "count",
         "histnorm": "",
         "marker": {
          "color": "rgba(255, 153, 51, 1.0)",
          "line": {
           "color": "#4D5663",
           "width": 1.3
          }
         },
         "name": "A",
         "nbinsx": 10,
         "opacity": 0.8,
         "orientation": "v",
         "type": "histogram",
         "x": [
          -2.094397151479146,
          1.3941214922326817,
          -0.49945361503735913,
          -0.7298780946612285,
          -0.05879101960786524,
          1.2168416065981187,
          0.8690073762945215,
          1.0248764006001234,
          -0.15540585484017097,
          -0.16764986233001994,
          0.7778984780061986,
          -1.2435593599915684,
          0.25357332176071923,
          2.856586915070549,
          0.39692412082078316,
          -1.4345999368445181,
          -0.6162000698974652,
          0.03476259517769596,
          -2.009145407801507,
          1.4533919445471997,
          -0.8703182328567703,
          -0.6143084700493274,
          -0.34761024991025263,
          -0.05959062978705484,
          -0.7394525194780763,
          0.8340378920527788,
          -1.0391812744474584,
          0.17191340608343134,
          0.1586781853253161,
          -0.7750487092439783,
          0.438034060183595,
          -0.7280824873065657,
          -1.088870404711052,
          -0.8474580048152648,
          -2.0779113093562147,
          -0.3721246680362004,
          -0.5267640540901695,
          -1.2178948075205809,
          0.4043518045817308,
          -1.0334344178968475,
          0.49619293804226283,
          1.8708464437680499,
          1.0121451348718093,
          0.4269126817452754,
          -1.2349673225939606,
          0.39061767494739513,
          -0.6256157986469851,
          1.0351111300950826,
          -0.2450626994913141,
          0.06169580689106269,
          1.2499050049827194,
          -0.8473351234707631,
          0.6306685186978127,
          -1.9093082042900966,
          0.24302207947724627,
          -0.19948169908255228,
          -0.750993574668388,
          1.3137674387880596,
          -1.3441275580581578,
          -1.6729780203688531,
          1.164152543022755,
          -0.5617310684333279,
          -1.332295393318157,
          -0.07760242062662576,
          -0.46830100567090677,
          -0.9494876742710063,
          0.6281755129455628,
          -0.9333849785276441,
          -1.9957226612196735,
          -0.10762144124963756,
          0.4208020094415041,
          2.3769857538857306,
          1.3782159691673053,
          0.10990996413442164,
          -1.122310055421987,
          0.9507291380354317,
          -0.4627422441340983,
          1.3847759602273377,
          0.7392940658133781,
          1.3798724102148878,
          1.0354438906558976,
          1.170393638809026,
          1.6744622234240154,
          -0.5340913166387504,
          1.3192837607724976,
          -1.8217211430156675,
          -0.0955557940497877,
          -1.7025104060459593,
          1.49330659712763,
          1.4549119243746382,
          -0.44609922249017514,
          2.2957166286477166,
          -1.0559690993793378,
          0.8833646003473479,
          0.8406456933235341,
          -0.17628257884410958,
          0.22306309235647964,
          -0.034604504310288525,
          -0.8417879309313906,
          -1.978385623888586
         ],
         "xaxis": "x",
         "yaxis": "y"
        },
        {
         "line": {
          "color": "rgba(128, 128, 128, 1.0)",
          "dash": "solid",
          "shape": "linear",
          "width": 1.3
         },
         "marker": {
          "size": 2,
          "symbol": "circle"
         },
         "mode": "markers",
         "name": "A",
         "text": "",
         "type": "scatter",
         "x": [
          0.5144289608344228,
          0.5724069466256909,
          -0.30819993513771204,
          -0.28761213166610755,
          -0.5458296642997473,
          1.3342341378269325,
          -0.059879995787046364,
          1.3787691268830158,
          1.5187665540777449,
          -2.7519432034869826,
          -1.2056198902311772,
          -0.3629064877540202,
          0.640991257007152,
          -0.47206448107358195,
          -1.0878072262077378,
          -0.15543977760143152,
          -0.8625906044930144,
          -1.7663404323726277,
          1.064994168719819,
          -1.6184662127345653,
          -0.8190616080352211,
          0.7866409263948574,
          -0.19045252367988008,
          1.5969345615530797,
          -0.7044302258560525,
          -0.7900860768132202,
          -1.0735371514754384,
          0.8012526553151388,
          -0.02553132822250245,
          -0.30582686018085536,
          1.4651450194678122,
          -0.8071478717507671,
          0.8376367062569227,
          -0.6329941306779358,
          0.0867084974824401,
          0.05027790087844485,
          -0.2647802167855846,
          1.118984671133748,
          -0.5516072597736149,
          1.8162088275534043,
          -0.44479829986457453,
          0.1569398525620239,
          -1.3824017681664396,
          -0.036541635193980834,
          -0.7447235813408297,
          1.0983606818404243,
          -0.5136529937783657,
          1.7291436530420121,
          0.1816288109054654,
          0.9684547021866818,
          1.5510770631391406,
          -1.0475474342787952,
          -0.6121541607127508,
          1.0571791629492353,
          0.4030738424095661,
          0.5785052092954551,
          0.41074496678539,
          -1.1472776811644665,
          -0.33404848635404577,
          0.1032631854144026,
          2.0443381358099395,
          -0.5966934895063976,
          0.942536444239893,
          -0.9918626005209825,
          2.44059767258467,
          -0.8491252491305082,
          0.5155652443863213,
          -0.8476353923799457,
          -1.6795012845786021,
          1.0044005780947,
          -0.7103791063828504,
          0.5696648510909781,
          0.6978372215304477,
          -1.306728185712887,
          -0.20781386971509166,
          0.9986223565261442,
          0.7651501071650623,
          0.03834750962941581,
          -0.26329636784691046,
          -0.698448027060385,
          0.8293742290726839,
          0.5607838686827155,
          0.8671309641732743,
          0.894047112532386,
          0.47888307509295996,
          0.1892331690303111,
          -0.19289836917771339,
          2.292177153010583,
          0.251550634248612,
          0.24654175294065175,
          0.07806475208841698,
          1.2137666385299004,
          -0.6859853527506332,
          -1.4133773145942006,
          -0.3635762036436802,
          -0.5853034319336741,
          -0.3089010394401241,
          -1.228501650071791,
          0.22216134807810084,
          1.3418905806243608
         ],
         "xaxis": "x2",
         "y": [
          -2.094397151479146,
          1.3941214922326817,
          -0.49945361503735913,
          -0.7298780946612285,
          -0.05879101960786524,
          1.2168416065981187,
          0.8690073762945215,
          1.0248764006001234,
          -0.15540585484017097,
          -0.16764986233001994,
          0.7778984780061986,
          -1.2435593599915684,
          0.25357332176071923,
          2.856586915070549,
          0.39692412082078316,
          -1.4345999368445181,
          -0.6162000698974652,
          0.03476259517769596,
          -2.009145407801507,
          1.4533919445471997,
          -0.8703182328567703,
          -0.6143084700493274,
          -0.34761024991025263,
          -0.05959062978705484,
          -0.7394525194780763,
          0.8340378920527788,
          -1.0391812744474584,
          0.17191340608343134,
          0.1586781853253161,
          -0.7750487092439783,
          0.438034060183595,
          -0.7280824873065657,
          -1.088870404711052,
          -0.8474580048152648,
          -2.0779113093562147,
          -0.3721246680362004,
          -0.5267640540901695,
          -1.2178948075205809,
          0.4043518045817308,
          -1.0334344178968475,
          0.49619293804226283,
          1.8708464437680499,
          1.0121451348718093,
          0.4269126817452754,
          -1.2349673225939606,
          0.39061767494739513,
          -0.6256157986469851,
          1.0351111300950826,
          -0.2450626994913141,
          0.06169580689106269,
          1.2499050049827194,
          -0.8473351234707631,
          0.6306685186978127,
          -1.9093082042900966,
          0.24302207947724627,
          -0.19948169908255228,
          -0.750993574668388,
          1.3137674387880596,
          -1.3441275580581578,
          -1.6729780203688531,
          1.164152543022755,
          -0.5617310684333279,
          -1.332295393318157,
          -0.07760242062662576,
          -0.46830100567090677,
          -0.9494876742710063,
          0.6281755129455628,
          -0.9333849785276441,
          -1.9957226612196735,
          -0.10762144124963756,
          0.4208020094415041,
          2.3769857538857306,
          1.3782159691673053,
          0.10990996413442164,
          -1.122310055421987,
          0.9507291380354317,
          -0.4627422441340983,
          1.3847759602273377,
          0.7392940658133781,
          1.3798724102148878,
          1.0354438906558976,
          1.170393638809026,
          1.6744622234240154,
          -0.5340913166387504,
          1.3192837607724976,
          -1.8217211430156675,
          -0.0955557940497877,
          -1.7025104060459593,
          1.49330659712763,
          1.4549119243746382,
          -0.44609922249017514,
          2.2957166286477166,
          -1.0559690993793378,
          0.8833646003473479,
          0.8406456933235341,
          -0.17628257884410958,
          0.22306309235647964,
          -0.034604504310288525,
          -0.8417879309313906,
          -1.978385623888586
         ],
         "yaxis": "y2"
        },
        {
         "line": {
          "color": "rgba(128, 128, 128, 1.0)",
          "dash": "solid",
          "shape": "linear",
          "width": 1.3
         },
         "marker": {
          "size": 2,
          "symbol": "circle"
         },
         "mode": "markers",
         "name": "A",
         "text": "",
         "type": "scatter",
         "x": [
          -0.30633971724473613,
          -0.5234550101146769,
          0.2478488034051314,
          0.6578260314485772,
          0.6100622628342298,
          0.032581612992109536,
          0.07456945813487535,
          0.2610424110646733,
          0.3351846375278415,
          -0.8358639832336577,
          0.4686070749662074,
          -0.9122092779836232,
          -0.7803246155139458,
          0.6602989279747916,
          -0.28620935953392296,
          -1.0778324203072733,
          0.48963591508823806,
          1.0671437539530921,
          1.0855163362186933,
          -1.8114429646062313,
          -2.247410773899347,
          0.8324518797822211,
          0.9156254816843685,
          0.45753093853990545,
          0.35479727188256155,
          -1.2894696780643116,
          0.1031350503254655,
          -0.1437613113260787,
          -0.9137165933613629,
          -0.8924245674469968,
          0.027752492865393687,
          -1.6471565973337845,
          -0.01948312925464501,
          1.4165837322672976,
          -0.666560449859305,
          0.7292231555751252,
          -1.146714693185556,
          0.675094245687191,
          -1.6637968925303812,
          0.5816901620763231,
          -0.6941354547354356,
          -0.6953760752736109,
          0.7426906363376657,
          -1.7226095764455585,
          0.3609859988169621,
          -0.19804856575689886,
          0.8750661094019057,
          1.168208952094026,
          0.010440059391869854,
          -0.11788995387973426,
          -0.08252714682164242,
          0.9798595763668482,
          0.2469279685957641,
          -0.12695923071965273,
          -0.1791752141982507,
          -0.42565723605537,
          -0.624914201256451,
          1.659369571600921,
          0.7695011878549151,
          1.1913134833806651,
          0.466093934926341,
          1.4421627085964253,
          -0.2815350530159152,
          0.5227302571946018,
          -0.501006197467369,
          0.6698827380804052,
          -0.5980283747965494,
          -0.2745834025311717,
          -0.8139262634868277,
          0.24505022348252758,
          0.706659414513232,
          1.4429091507920122,
          -0.5315623598845203,
          0.7312833614853783,
          -0.6940297068865078,
          1.8532400268662255,
          0.2567757922196267,
          -1.0281102150048418,
          -1.367360751504298,
          -0.1052404363550915,
          0.11663141514226394,
          -1.0663414140660066,
          0.09268557763093996,
          -0.45436556126859795,
          -0.27804832733063795,
          0.3263765879782635,
          0.9550041351946619,
          0.6103649848324788,
          -0.48527758768357315,
          -0.2457889274010022,
          -0.05277339409865519,
          2.586915296705645,
          0.7168061235910601,
          -0.050688695883621036,
          1.2017495715039697,
          0.5857050148380992,
          0.6555654907218712,
          1.0382388400092144,
          -0.540854983782837,
          0.7478846368194215
         ],
         "xaxis": "x3",
         "y": [
          -2.094397151479146,
          1.3941214922326817,
          -0.49945361503735913,
          -0.7298780946612285,
          -0.05879101960786524,
          1.2168416065981187,
          0.8690073762945215,
          1.0248764006001234,
          -0.15540585484017097,
          -0.16764986233001994,
          0.7778984780061986,
          -1.2435593599915684,
          0.25357332176071923,
          2.856586915070549,
          0.39692412082078316,
          -1.4345999368445181,
          -0.6162000698974652,
          0.03476259517769596,
          -2.009145407801507,
          1.4533919445471997,
          -0.8703182328567703,
          -0.6143084700493274,
          -0.34761024991025263,
          -0.05959062978705484,
          -0.7394525194780763,
          0.8340378920527788,
          -1.0391812744474584,
          0.17191340608343134,
          0.1586781853253161,
          -0.7750487092439783,
          0.438034060183595,
          -0.7280824873065657,
          -1.088870404711052,
          -0.8474580048152648,
          -2.0779113093562147,
          -0.3721246680362004,
          -0.5267640540901695,
          -1.2178948075205809,
          0.4043518045817308,
          -1.0334344178968475,
          0.49619293804226283,
          1.8708464437680499,
          1.0121451348718093,
          0.4269126817452754,
          -1.2349673225939606,
          0.39061767494739513,
          -0.6256157986469851,
          1.0351111300950826,
          -0.2450626994913141,
          0.06169580689106269,
          1.2499050049827194,
          -0.8473351234707631,
          0.6306685186978127,
          -1.9093082042900966,
          0.24302207947724627,
          -0.19948169908255228,
          -0.750993574668388,
          1.3137674387880596,
          -1.3441275580581578,
          -1.6729780203688531,
          1.164152543022755,
          -0.5617310684333279,
          -1.332295393318157,
          -0.07760242062662576,
          -0.46830100567090677,
          -0.9494876742710063,
          0.6281755129455628,
          -0.9333849785276441,
          -1.9957226612196735,
          -0.10762144124963756,
          0.4208020094415041,
          2.3769857538857306,
          1.3782159691673053,
          0.10990996413442164,
          -1.122310055421987,
          0.9507291380354317,
          -0.4627422441340983,
          1.3847759602273377,
          0.7392940658133781,
          1.3798724102148878,
          1.0354438906558976,
          1.170393638809026,
          1.6744622234240154,
          -0.5340913166387504,
          1.3192837607724976,
          -1.8217211430156675,
          -0.0955557940497877,
          -1.7025104060459593,
          1.49330659712763,
          1.4549119243746382,
          -0.44609922249017514,
          2.2957166286477166,
          -1.0559690993793378,
          0.8833646003473479,
          0.8406456933235341,
          -0.17628257884410958,
          0.22306309235647964,
          -0.034604504310288525,
          -0.8417879309313906,
          -1.978385623888586
         ],
         "yaxis": "y3"
        },
        {
         "line": {
          "color": "rgba(128, 128, 128, 1.0)",
          "dash": "solid",
          "shape": "linear",
          "width": 1.3
         },
         "marker": {
          "size": 2,
          "symbol": "circle"
         },
         "mode": "markers",
         "name": "A",
         "text": "",
         "type": "scatter",
         "x": [
          -0.2604507371041075,
          -1.9643665654128082,
          0.12641842238158893,
          1.7081905768115073,
          -0.49220866918519124,
          0.656218003349655,
          2.144116227630546,
          -1.4084719232733882,
          -1.178791535445807,
          0.09233705323372739,
          -0.12639330314397007,
          -0.5920427977413246,
          -0.3296786702620065,
          -0.5767269925853163,
          1.697169024762262,
          -0.5186242574799267,
          -0.2686631492690273,
          -1.4070832344050308,
          1.3628508253292413,
          0.031301986381084834,
          -0.158763294918046,
          -0.24044418555289648,
          0.06426934268757235,
          0.239467677136593,
          1.3899558496562443,
          0.42376507027982047,
          -0.9682451764859047,
          1.8423874026042768,
          -0.8000199212148114,
          1.8248070776087995,
          -1.1704179498651104,
          0.009217647861796225,
          -0.4615465327731627,
          -0.6397743914369046,
          0.6601869572436313,
          -0.05300165184856359,
          -0.07910088147815135,
          -0.19938932679475294,
          -1.5473601500030505,
          -0.08994240763913981,
          1.4570202350991852,
          -0.3736716419214809,
          0.20381548004125066,
          0.012330516866901163,
          -0.5945780890656976,
          -2.223860549270489,
          0.3734888706607538,
          -0.2364090799456908,
          -0.7729380881223636,
          1.2603586592523537,
          0.3842833696951564,
          0.5791794096935158,
          1.353317343012976,
          0.08124063052159122,
          -0.9912860929000638,
          -1.0790433465006497,
          1.0256887261366971,
          -0.15558245574534268,
          -1.7808556342887163,
          -0.846480714418734,
          -0.025414806946941267,
          1.1256254054636576,
          0.0820178613140621,
          0.42008087621067003,
          0.008815878738345264,
          -0.7492475351141584,
          0.46056187813653876,
          -0.2285617060563285,
          -0.28302197182181404,
          -0.7264504966966434,
          -1.5202670980524595,
          -0.04317907055632232,
          1.1384828294997618,
          -0.34930916092794906,
          -1.1846910860236932,
          -1.6466426369738534,
          -0.025512980880705114,
          -0.09916625939818707,
          -0.5928646303423978,
          0.12510029685148205,
          -0.6708380179370568,
          -0.7842889382471772,
          -0.27065078646682583,
          1.0096056760094503,
          -0.5343694089995189,
          -0.11891612717518474,
          0.3919681251273001,
          0.24304243949453247,
          0.14327218346926662,
          -0.6455143513378283,
          0.071661142219256,
          -0.739734052321834,
          0.01181871927618938,
          -0.988190195531898,
          -0.0235204034177497,
          0.31330215060320904,
          0.16911247600845583,
          0.6868502531236088,
          -1.2686843768528009,
          0.8848205635957239
         ],
         "xaxis": "x4",
         "y": [
          -2.094397151479146,
          1.3941214922326817,
          -0.49945361503735913,
          -0.7298780946612285,
          -0.05879101960786524,
          1.2168416065981187,
          0.8690073762945215,
          1.0248764006001234,
          -0.15540585484017097,
          -0.16764986233001994,
          0.7778984780061986,
          -1.2435593599915684,
          0.25357332176071923,
          2.856586915070549,
          0.39692412082078316,
          -1.4345999368445181,
          -0.6162000698974652,
          0.03476259517769596,
          -2.009145407801507,
          1.4533919445471997,
          -0.8703182328567703,
          -0.6143084700493274,
          -0.34761024991025263,
          -0.05959062978705484,
          -0.7394525194780763,
          0.8340378920527788,
          -1.0391812744474584,
          0.17191340608343134,
          0.1586781853253161,
          -0.7750487092439783,
          0.438034060183595,
          -0.7280824873065657,
          -1.088870404711052,
          -0.8474580048152648,
          -2.0779113093562147,
          -0.3721246680362004,
          -0.5267640540901695,
          -1.2178948075205809,
          0.4043518045817308,
          -1.0334344178968475,
          0.49619293804226283,
          1.8708464437680499,
          1.0121451348718093,
          0.4269126817452754,
          -1.2349673225939606,
          0.39061767494739513,
          -0.6256157986469851,
          1.0351111300950826,
          -0.2450626994913141,
          0.06169580689106269,
          1.2499050049827194,
          -0.8473351234707631,
          0.6306685186978127,
          -1.9093082042900966,
          0.24302207947724627,
          -0.19948169908255228,
          -0.750993574668388,
          1.3137674387880596,
          -1.3441275580581578,
          -1.6729780203688531,
          1.164152543022755,
          -0.5617310684333279,
          -1.332295393318157,
          -0.07760242062662576,
          -0.46830100567090677,
          -0.9494876742710063,
          0.6281755129455628,
          -0.9333849785276441,
          -1.9957226612196735,
          -0.10762144124963756,
          0.4208020094415041,
          2.3769857538857306,
          1.3782159691673053,
          0.10990996413442164,
          -1.122310055421987,
          0.9507291380354317,
          -0.4627422441340983,
          1.3847759602273377,
          0.7392940658133781,
          1.3798724102148878,
          1.0354438906558976,
          1.170393638809026,
          1.6744622234240154,
          -0.5340913166387504,
          1.3192837607724976,
          -1.8217211430156675,
          -0.0955557940497877,
          -1.7025104060459593,
          1.49330659712763,
          1.4549119243746382,
          -0.44609922249017514,
          2.2957166286477166,
          -1.0559690993793378,
          0.8833646003473479,
          0.8406456933235341,
          -0.17628257884410958,
          0.22306309235647964,
          -0.034604504310288525,
          -0.8417879309313906,
          -1.978385623888586
         ],
         "yaxis": "y4"
        },
        {
         "line": {
          "color": "rgba(128, 128, 128, 1.0)",
          "dash": "solid",
          "shape": "linear",
          "width": 1.3
         },
         "marker": {
          "size": 2,
          "symbol": "circle"
         },
         "mode": "markers",
         "name": "B",
         "text": "",
         "type": "scatter",
         "x": [
          -2.094397151479146,
          1.3941214922326817,
          -0.49945361503735913,
          -0.7298780946612285,
          -0.05879101960786524,
          1.2168416065981187,
          0.8690073762945215,
          1.0248764006001234,
          -0.15540585484017097,
          -0.16764986233001994,
          0.7778984780061986,
          -1.2435593599915684,
          0.25357332176071923,
          2.856586915070549,
          0.39692412082078316,
          -1.4345999368445181,
          -0.6162000698974652,
          0.03476259517769596,
          -2.009145407801507,
          1.4533919445471997,
          -0.8703182328567703,
          -0.6143084700493274,
          -0.34761024991025263,
          -0.05959062978705484,
          -0.7394525194780763,
          0.8340378920527788,
          -1.0391812744474584,
          0.17191340608343134,
          0.1586781853253161,
          -0.7750487092439783,
          0.438034060183595,
          -0.7280824873065657,
          -1.088870404711052,
          -0.8474580048152648,
          -2.0779113093562147,
          -0.3721246680362004,
          -0.5267640540901695,
          -1.2178948075205809,
          0.4043518045817308,
          -1.0334344178968475,
          0.49619293804226283,
          1.8708464437680499,
          1.0121451348718093,
          0.4269126817452754,
          -1.2349673225939606,
          0.39061767494739513,
          -0.6256157986469851,
          1.0351111300950826,
          -0.2450626994913141,
          0.06169580689106269,
          1.2499050049827194,
          -0.8473351234707631,
          0.6306685186978127,
          -1.9093082042900966,
          0.24302207947724627,
          -0.19948169908255228,
          -0.750993574668388,
          1.3137674387880596,
          -1.3441275580581578,
          -1.6729780203688531,
          1.164152543022755,
          -0.5617310684333279,
          -1.332295393318157,
          -0.07760242062662576,
          -0.46830100567090677,
          -0.9494876742710063,
          0.6281755129455628,
          -0.9333849785276441,
          -1.9957226612196735,
          -0.10762144124963756,
          0.4208020094415041,
          2.3769857538857306,
          1.3782159691673053,
          0.10990996413442164,
          -1.122310055421987,
          0.9507291380354317,
          -0.4627422441340983,
          1.3847759602273377,
          0.7392940658133781,
          1.3798724102148878,
          1.0354438906558976,
          1.170393638809026,
          1.6744622234240154,
          -0.5340913166387504,
          1.3192837607724976,
          -1.8217211430156675,
          -0.0955557940497877,
          -1.7025104060459593,
          1.49330659712763,
          1.4549119243746382,
          -0.44609922249017514,
          2.2957166286477166,
          -1.0559690993793378,
          0.8833646003473479,
          0.8406456933235341,
          -0.17628257884410958,
          0.22306309235647964,
          -0.034604504310288525,
          -0.8417879309313906,
          -1.978385623888586
         ],
         "xaxis": "x5",
         "y": [
          0.5144289608344228,
          0.5724069466256909,
          -0.30819993513771204,
          -0.28761213166610755,
          -0.5458296642997473,
          1.3342341378269325,
          -0.059879995787046364,
          1.3787691268830158,
          1.5187665540777449,
          -2.7519432034869826,
          -1.2056198902311772,
          -0.3629064877540202,
          0.640991257007152,
          -0.47206448107358195,
          -1.0878072262077378,
          -0.15543977760143152,
          -0.8625906044930144,
          -1.7663404323726277,
          1.064994168719819,
          -1.6184662127345653,
          -0.8190616080352211,
          0.7866409263948574,
          -0.19045252367988008,
          1.5969345615530797,
          -0.7044302258560525,
          -0.7900860768132202,
          -1.0735371514754384,
          0.8012526553151388,
          -0.02553132822250245,
          -0.30582686018085536,
          1.4651450194678122,
          -0.8071478717507671,
          0.8376367062569227,
          -0.6329941306779358,
          0.0867084974824401,
          0.05027790087844485,
          -0.2647802167855846,
          1.118984671133748,
          -0.5516072597736149,
          1.8162088275534043,
          -0.44479829986457453,
          0.1569398525620239,
          -1.3824017681664396,
          -0.036541635193980834,
          -0.7447235813408297,
          1.0983606818404243,
          -0.5136529937783657,
          1.7291436530420121,
          0.1816288109054654,
          0.9684547021866818,
          1.5510770631391406,
          -1.0475474342787952,
          -0.6121541607127508,
          1.0571791629492353,
          0.4030738424095661,
          0.5785052092954551,
          0.41074496678539,
          -1.1472776811644665,
          -0.33404848635404577,
          0.1032631854144026,
          2.0443381358099395,
          -0.5966934895063976,
          0.942536444239893,
          -0.9918626005209825,
          2.44059767258467,
          -0.8491252491305082,
          0.5155652443863213,
          -0.8476353923799457,
          -1.6795012845786021,
          1.0044005780947,
          -0.7103791063828504,
          0.5696648510909781,
          0.6978372215304477,
          -1.306728185712887,
          -0.20781386971509166,
          0.9986223565261442,
          0.7651501071650623,
          0.03834750962941581,
          -0.26329636784691046,
          -0.698448027060385,
          0.8293742290726839,
          0.5607838686827155,
          0.8671309641732743,
          0.894047112532386,
          0.47888307509295996,
          0.1892331690303111,
          -0.19289836917771339,
          2.292177153010583,
          0.251550634248612,
          0.24654175294065175,
          0.07806475208841698,
          1.2137666385299004,
          -0.6859853527506332,
          -1.4133773145942006,
          -0.3635762036436802,
          -0.5853034319336741,
          -0.3089010394401241,
          -1.228501650071791,
          0.22216134807810084,
          1.3418905806243608
         ],
         "yaxis": "y5"
        },
        {
         "histfunc": "count",
         "histnorm": "",
         "marker": {
          "color": "rgba(55, 128, 191, 1.0)",
          "line": {
           "color": "#4D5663",
           "width": 1.3
          }
         },
         "name": "B",
         "nbinsx": 10,
         "opacity": 0.8,
         "orientation": "v",
         "type": "histogram",
         "x": [
          0.5144289608344228,
          0.5724069466256909,
          -0.30819993513771204,
          -0.28761213166610755,
          -0.5458296642997473,
          1.3342341378269325,
          -0.059879995787046364,
          1.3787691268830158,
          1.5187665540777449,
          -2.7519432034869826,
          -1.2056198902311772,
          -0.3629064877540202,
          0.640991257007152,
          -0.47206448107358195,
          -1.0878072262077378,
          -0.15543977760143152,
          -0.8625906044930144,
          -1.7663404323726277,
          1.064994168719819,
          -1.6184662127345653,
          -0.8190616080352211,
          0.7866409263948574,
          -0.19045252367988008,
          1.5969345615530797,
          -0.7044302258560525,
          -0.7900860768132202,
          -1.0735371514754384,
          0.8012526553151388,
          -0.02553132822250245,
          -0.30582686018085536,
          1.4651450194678122,
          -0.8071478717507671,
          0.8376367062569227,
          -0.6329941306779358,
          0.0867084974824401,
          0.05027790087844485,
          -0.2647802167855846,
          1.118984671133748,
          -0.5516072597736149,
          1.8162088275534043,
          -0.44479829986457453,
          0.1569398525620239,
          -1.3824017681664396,
          -0.036541635193980834,
          -0.7447235813408297,
          1.0983606818404243,
          -0.5136529937783657,
          1.7291436530420121,
          0.1816288109054654,
          0.9684547021866818,
          1.5510770631391406,
          -1.0475474342787952,
          -0.6121541607127508,
          1.0571791629492353,
          0.4030738424095661,
          0.5785052092954551,
          0.41074496678539,
          -1.1472776811644665,
          -0.33404848635404577,
          0.1032631854144026,
          2.0443381358099395,
          -0.5966934895063976,
          0.942536444239893,
          -0.9918626005209825,
          2.44059767258467,
          -0.8491252491305082,
          0.5155652443863213,
          -0.8476353923799457,
          -1.6795012845786021,
          1.0044005780947,
          -0.7103791063828504,
          0.5696648510909781,
          0.6978372215304477,
          -1.306728185712887,
          -0.20781386971509166,
          0.9986223565261442,
          0.7651501071650623,
          0.03834750962941581,
          -0.26329636784691046,
          -0.698448027060385,
          0.8293742290726839,
          0.5607838686827155,
          0.8671309641732743,
          0.894047112532386,
          0.47888307509295996,
          0.1892331690303111,
          -0.19289836917771339,
          2.292177153010583,
          0.251550634248612,
          0.24654175294065175,
          0.07806475208841698,
          1.2137666385299004,
          -0.6859853527506332,
          -1.4133773145942006,
          -0.3635762036436802,
          -0.5853034319336741,
          -0.3089010394401241,
          -1.228501650071791,
          0.22216134807810084,
          1.3418905806243608
         ],
         "xaxis": "x6",
         "yaxis": "y6"
        },
        {
         "line": {
          "color": "rgba(128, 128, 128, 1.0)",
          "dash": "solid",
          "shape": "linear",
          "width": 1.3
         },
         "marker": {
          "size": 2,
          "symbol": "circle"
         },
         "mode": "markers",
         "name": "B",
         "text": "",
         "type": "scatter",
         "x": [
          -0.30633971724473613,
          -0.5234550101146769,
          0.2478488034051314,
          0.6578260314485772,
          0.6100622628342298,
          0.032581612992109536,
          0.07456945813487535,
          0.2610424110646733,
          0.3351846375278415,
          -0.8358639832336577,
          0.4686070749662074,
          -0.9122092779836232,
          -0.7803246155139458,
          0.6602989279747916,
          -0.28620935953392296,
          -1.0778324203072733,
          0.48963591508823806,
          1.0671437539530921,
          1.0855163362186933,
          -1.8114429646062313,
          -2.247410773899347,
          0.8324518797822211,
          0.9156254816843685,
          0.45753093853990545,
          0.35479727188256155,
          -1.2894696780643116,
          0.1031350503254655,
          -0.1437613113260787,
          -0.9137165933613629,
          -0.8924245674469968,
          0.027752492865393687,
          -1.6471565973337845,
          -0.01948312925464501,
          1.4165837322672976,
          -0.666560449859305,
          0.7292231555751252,
          -1.146714693185556,
          0.675094245687191,
          -1.6637968925303812,
          0.5816901620763231,
          -0.6941354547354356,
          -0.6953760752736109,
          0.7426906363376657,
          -1.7226095764455585,
          0.3609859988169621,
          -0.19804856575689886,
          0.8750661094019057,
          1.168208952094026,
          0.010440059391869854,
          -0.11788995387973426,
          -0.08252714682164242,
          0.9798595763668482,
          0.2469279685957641,
          -0.12695923071965273,
          -0.1791752141982507,
          -0.42565723605537,
          -0.624914201256451,
          1.659369571600921,
          0.7695011878549151,
          1.1913134833806651,
          0.466093934926341,
          1.4421627085964253,
          -0.2815350530159152,
          0.5227302571946018,
          -0.501006197467369,
          0.6698827380804052,
          -0.5980283747965494,
          -0.2745834025311717,
          -0.8139262634868277,
          0.24505022348252758,
          0.706659414513232,
          1.4429091507920122,
          -0.5315623598845203,
          0.7312833614853783,
          -0.6940297068865078,
          1.8532400268662255,
          0.2567757922196267,
          -1.0281102150048418,
          -1.367360751504298,
          -0.1052404363550915,
          0.11663141514226394,
          -1.0663414140660066,
          0.09268557763093996,
          -0.45436556126859795,
          -0.27804832733063795,
          0.3263765879782635,
          0.9550041351946619,
          0.6103649848324788,
          -0.48527758768357315,
          -0.2457889274010022,
          -0.05277339409865519,
          2.586915296705645,
          0.7168061235910601,
          -0.050688695883621036,
          1.2017495715039697,
          0.5857050148380992,
          0.6555654907218712,
          1.0382388400092144,
          -0.540854983782837,
          0.7478846368194215
         ],
         "xaxis": "x7",
         "y": [
          0.5144289608344228,
          0.5724069466256909,
          -0.30819993513771204,
          -0.28761213166610755,
          -0.5458296642997473,
          1.3342341378269325,
          -0.059879995787046364,
          1.3787691268830158,
          1.5187665540777449,
          -2.7519432034869826,
          -1.2056198902311772,
          -0.3629064877540202,
          0.640991257007152,
          -0.47206448107358195,
          -1.0878072262077378,
          -0.15543977760143152,
          -0.8625906044930144,
          -1.7663404323726277,
          1.064994168719819,
          -1.6184662127345653,
          -0.8190616080352211,
          0.7866409263948574,
          -0.19045252367988008,
          1.5969345615530797,
          -0.7044302258560525,
          -0.7900860768132202,
          -1.0735371514754384,
          0.8012526553151388,
          -0.02553132822250245,
          -0.30582686018085536,
          1.4651450194678122,
          -0.8071478717507671,
          0.8376367062569227,
          -0.6329941306779358,
          0.0867084974824401,
          0.05027790087844485,
          -0.2647802167855846,
          1.118984671133748,
          -0.5516072597736149,
          1.8162088275534043,
          -0.44479829986457453,
          0.1569398525620239,
          -1.3824017681664396,
          -0.036541635193980834,
          -0.7447235813408297,
          1.0983606818404243,
          -0.5136529937783657,
          1.7291436530420121,
          0.1816288109054654,
          0.9684547021866818,
          1.5510770631391406,
          -1.0475474342787952,
          -0.6121541607127508,
          1.0571791629492353,
          0.4030738424095661,
          0.5785052092954551,
          0.41074496678539,
          -1.1472776811644665,
          -0.33404848635404577,
          0.1032631854144026,
          2.0443381358099395,
          -0.5966934895063976,
          0.942536444239893,
          -0.9918626005209825,
          2.44059767258467,
          -0.8491252491305082,
          0.5155652443863213,
          -0.8476353923799457,
          -1.6795012845786021,
          1.0044005780947,
          -0.7103791063828504,
          0.5696648510909781,
          0.6978372215304477,
          -1.306728185712887,
          -0.20781386971509166,
          0.9986223565261442,
          0.7651501071650623,
          0.03834750962941581,
          -0.26329636784691046,
          -0.698448027060385,
          0.8293742290726839,
          0.5607838686827155,
          0.8671309641732743,
          0.894047112532386,
          0.47888307509295996,
          0.1892331690303111,
          -0.19289836917771339,
          2.292177153010583,
          0.251550634248612,
          0.24654175294065175,
          0.07806475208841698,
          1.2137666385299004,
          -0.6859853527506332,
          -1.4133773145942006,
          -0.3635762036436802,
          -0.5853034319336741,
          -0.3089010394401241,
          -1.228501650071791,
          0.22216134807810084,
          1.3418905806243608
         ],
         "yaxis": "y7"
        },
        {
         "line": {
          "color": "rgba(128, 128, 128, 1.0)",
          "dash": "solid",
          "shape": "linear",
          "width": 1.3
         },
         "marker": {
          "size": 2,
          "symbol": "circle"
         },
         "mode": "markers",
         "name": "B",
         "text": "",
         "type": "scatter",
         "x": [
          -0.2604507371041075,
          -1.9643665654128082,
          0.12641842238158893,
          1.7081905768115073,
          -0.49220866918519124,
          0.656218003349655,
          2.144116227630546,
          -1.4084719232733882,
          -1.178791535445807,
          0.09233705323372739,
          -0.12639330314397007,
          -0.5920427977413246,
          -0.3296786702620065,
          -0.5767269925853163,
          1.697169024762262,
          -0.5186242574799267,
          -0.2686631492690273,
          -1.4070832344050308,
          1.3628508253292413,
          0.031301986381084834,
          -0.158763294918046,
          -0.24044418555289648,
          0.06426934268757235,
          0.239467677136593,
          1.3899558496562443,
          0.42376507027982047,
          -0.9682451764859047,
          1.8423874026042768,
          -0.8000199212148114,
          1.8248070776087995,
          -1.1704179498651104,
          0.009217647861796225,
          -0.4615465327731627,
          -0.6397743914369046,
          0.6601869572436313,
          -0.05300165184856359,
          -0.07910088147815135,
          -0.19938932679475294,
          -1.5473601500030505,
          -0.08994240763913981,
          1.4570202350991852,
          -0.3736716419214809,
          0.20381548004125066,
          0.012330516866901163,
          -0.5945780890656976,
          -2.223860549270489,
          0.3734888706607538,
          -0.2364090799456908,
          -0.7729380881223636,
          1.2603586592523537,
          0.3842833696951564,
          0.5791794096935158,
          1.353317343012976,
          0.08124063052159122,
          -0.9912860929000638,
          -1.0790433465006497,
          1.0256887261366971,
          -0.15558245574534268,
          -1.7808556342887163,
          -0.846480714418734,
          -0.025414806946941267,
          1.1256254054636576,
          0.0820178613140621,
          0.42008087621067003,
          0.008815878738345264,
          -0.7492475351141584,
          0.46056187813653876,
          -0.2285617060563285,
          -0.28302197182181404,
          -0.7264504966966434,
          -1.5202670980524595,
          -0.04317907055632232,
          1.1384828294997618,
          -0.34930916092794906,
          -1.1846910860236932,
          -1.6466426369738534,
          -0.025512980880705114,
          -0.09916625939818707,
          -0.5928646303423978,
          0.12510029685148205,
          -0.6708380179370568,
          -0.7842889382471772,
          -0.27065078646682583,
          1.0096056760094503,
          -0.5343694089995189,
          -0.11891612717518474,
          0.3919681251273001,
          0.24304243949453247,
          0.14327218346926662,
          -0.6455143513378283,
          0.071661142219256,
          -0.739734052321834,
          0.01181871927618938,
          -0.988190195531898,
          -0.0235204034177497,
          0.31330215060320904,
          0.16911247600845583,
          0.6868502531236088,
          -1.2686843768528009,
          0.8848205635957239
         ],
         "xaxis": "x8",
         "y": [
          0.5144289608344228,
          0.5724069466256909,
          -0.30819993513771204,
          -0.28761213166610755,
          -0.5458296642997473,
          1.3342341378269325,
          -0.059879995787046364,
          1.3787691268830158,
          1.5187665540777449,
          -2.7519432034869826,
          -1.2056198902311772,
          -0.3629064877540202,
          0.640991257007152,
          -0.47206448107358195,
          -1.0878072262077378,
          -0.15543977760143152,
          -0.8625906044930144,
          -1.7663404323726277,
          1.064994168719819,
          -1.6184662127345653,
          -0.8190616080352211,
          0.7866409263948574,
          -0.19045252367988008,
          1.5969345615530797,
          -0.7044302258560525,
          -0.7900860768132202,
          -1.0735371514754384,
          0.8012526553151388,
          -0.02553132822250245,
          -0.30582686018085536,
          1.4651450194678122,
          -0.8071478717507671,
          0.8376367062569227,
          -0.6329941306779358,
          0.0867084974824401,
          0.05027790087844485,
          -0.2647802167855846,
          1.118984671133748,
          -0.5516072597736149,
          1.8162088275534043,
          -0.44479829986457453,
          0.1569398525620239,
          -1.3824017681664396,
          -0.036541635193980834,
          -0.7447235813408297,
          1.0983606818404243,
          -0.5136529937783657,
          1.7291436530420121,
          0.1816288109054654,
          0.9684547021866818,
          1.5510770631391406,
          -1.0475474342787952,
          -0.6121541607127508,
          1.0571791629492353,
          0.4030738424095661,
          0.5785052092954551,
          0.41074496678539,
          -1.1472776811644665,
          -0.33404848635404577,
          0.1032631854144026,
          2.0443381358099395,
          -0.5966934895063976,
          0.942536444239893,
          -0.9918626005209825,
          2.44059767258467,
          -0.8491252491305082,
          0.5155652443863213,
          -0.8476353923799457,
          -1.6795012845786021,
          1.0044005780947,
          -0.7103791063828504,
          0.5696648510909781,
          0.6978372215304477,
          -1.306728185712887,
          -0.20781386971509166,
          0.9986223565261442,
          0.7651501071650623,
          0.03834750962941581,
          -0.26329636784691046,
          -0.698448027060385,
          0.8293742290726839,
          0.5607838686827155,
          0.8671309641732743,
          0.894047112532386,
          0.47888307509295996,
          0.1892331690303111,
          -0.19289836917771339,
          2.292177153010583,
          0.251550634248612,
          0.24654175294065175,
          0.07806475208841698,
          1.2137666385299004,
          -0.6859853527506332,
          -1.4133773145942006,
          -0.3635762036436802,
          -0.5853034319336741,
          -0.3089010394401241,
          -1.228501650071791,
          0.22216134807810084,
          1.3418905806243608
         ],
         "yaxis": "y8"
        },
        {
         "line": {
          "color": "rgba(128, 128, 128, 1.0)",
          "dash": "solid",
          "shape": "linear",
          "width": 1.3
         },
         "marker": {
          "size": 2,
          "symbol": "circle"
         },
         "mode": "markers",
         "name": "C",
         "text": "",
         "type": "scatter",
         "x": [
          -2.094397151479146,
          1.3941214922326817,
          -0.49945361503735913,
          -0.7298780946612285,
          -0.05879101960786524,
          1.2168416065981187,
          0.8690073762945215,
          1.0248764006001234,
          -0.15540585484017097,
          -0.16764986233001994,
          0.7778984780061986,
          -1.2435593599915684,
          0.25357332176071923,
          2.856586915070549,
          0.39692412082078316,
          -1.4345999368445181,
          -0.6162000698974652,
          0.03476259517769596,
          -2.009145407801507,
          1.4533919445471997,
          -0.8703182328567703,
          -0.6143084700493274,
          -0.34761024991025263,
          -0.05959062978705484,
          -0.7394525194780763,
          0.8340378920527788,
          -1.0391812744474584,
          0.17191340608343134,
          0.1586781853253161,
          -0.7750487092439783,
          0.438034060183595,
          -0.7280824873065657,
          -1.088870404711052,
          -0.8474580048152648,
          -2.0779113093562147,
          -0.3721246680362004,
          -0.5267640540901695,
          -1.2178948075205809,
          0.4043518045817308,
          -1.0334344178968475,
          0.49619293804226283,
          1.8708464437680499,
          1.0121451348718093,
          0.4269126817452754,
          -1.2349673225939606,
          0.39061767494739513,
          -0.6256157986469851,
          1.0351111300950826,
          -0.2450626994913141,
          0.06169580689106269,
          1.2499050049827194,
          -0.8473351234707631,
          0.6306685186978127,
          -1.9093082042900966,
          0.24302207947724627,
          -0.19948169908255228,
          -0.750993574668388,
          1.3137674387880596,
          -1.3441275580581578,
          -1.6729780203688531,
          1.164152543022755,
          -0.5617310684333279,
          -1.332295393318157,
          -0.07760242062662576,
          -0.46830100567090677,
          -0.9494876742710063,
          0.6281755129455628,
          -0.9333849785276441,
          -1.9957226612196735,
          -0.10762144124963756,
          0.4208020094415041,
          2.3769857538857306,
          1.3782159691673053,
          0.10990996413442164,
          -1.122310055421987,
          0.9507291380354317,
          -0.4627422441340983,
          1.3847759602273377,
          0.7392940658133781,
          1.3798724102148878,
          1.0354438906558976,
          1.170393638809026,
          1.6744622234240154,
          -0.5340913166387504,
          1.3192837607724976,
          -1.8217211430156675,
          -0.0955557940497877,
          -1.7025104060459593,
          1.49330659712763,
          1.4549119243746382,
          -0.44609922249017514,
          2.2957166286477166,
          -1.0559690993793378,
          0.8833646003473479,
          0.8406456933235341,
          -0.17628257884410958,
          0.22306309235647964,
          -0.034604504310288525,
          -0.8417879309313906,
          -1.978385623888586
         ],
         "xaxis": "x9",
         "y": [
          -0.30633971724473613,
          -0.5234550101146769,
          0.2478488034051314,
          0.6578260314485772,
          0.6100622628342298,
          0.032581612992109536,
          0.07456945813487535,
          0.2610424110646733,
          0.3351846375278415,
          -0.8358639832336577,
          0.4686070749662074,
          -0.9122092779836232,
          -0.7803246155139458,
          0.6602989279747916,
          -0.28620935953392296,
          -1.0778324203072733,
          0.48963591508823806,
          1.0671437539530921,
          1.0855163362186933,
          -1.8114429646062313,
          -2.247410773899347,
          0.8324518797822211,
          0.9156254816843685,
          0.45753093853990545,
          0.35479727188256155,
          -1.2894696780643116,
          0.1031350503254655,
          -0.1437613113260787,
          -0.9137165933613629,
          -0.8924245674469968,
          0.027752492865393687,
          -1.6471565973337845,
          -0.01948312925464501,
          1.4165837322672976,
          -0.666560449859305,
          0.7292231555751252,
          -1.146714693185556,
          0.675094245687191,
          -1.6637968925303812,
          0.5816901620763231,
          -0.6941354547354356,
          -0.6953760752736109,
          0.7426906363376657,
          -1.7226095764455585,
          0.3609859988169621,
          -0.19804856575689886,
          0.8750661094019057,
          1.168208952094026,
          0.010440059391869854,
          -0.11788995387973426,
          -0.08252714682164242,
          0.9798595763668482,
          0.2469279685957641,
          -0.12695923071965273,
          -0.1791752141982507,
          -0.42565723605537,
          -0.624914201256451,
          1.659369571600921,
          0.7695011878549151,
          1.1913134833806651,
          0.466093934926341,
          1.4421627085964253,
          -0.2815350530159152,
          0.5227302571946018,
          -0.501006197467369,
          0.6698827380804052,
          -0.5980283747965494,
          -0.2745834025311717,
          -0.8139262634868277,
          0.24505022348252758,
          0.706659414513232,
          1.4429091507920122,
          -0.5315623598845203,
          0.7312833614853783,
          -0.6940297068865078,
          1.8532400268662255,
          0.2567757922196267,
          -1.0281102150048418,
          -1.367360751504298,
          -0.1052404363550915,
          0.11663141514226394,
          -1.0663414140660066,
          0.09268557763093996,
          -0.45436556126859795,
          -0.27804832733063795,
          0.3263765879782635,
          0.9550041351946619,
          0.6103649848324788,
          -0.48527758768357315,
          -0.2457889274010022,
          -0.05277339409865519,
          2.586915296705645,
          0.7168061235910601,
          -0.050688695883621036,
          1.2017495715039697,
          0.5857050148380992,
          0.6555654907218712,
          1.0382388400092144,
          -0.540854983782837,
          0.7478846368194215
         ],
         "yaxis": "y9"
        },
        {
         "line": {
          "color": "rgba(128, 128, 128, 1.0)",
          "dash": "solid",
          "shape": "linear",
          "width": 1.3
         },
         "marker": {
          "size": 2,
          "symbol": "circle"
         },
         "mode": "markers",
         "name": "C",
         "text": "",
         "type": "scatter",
         "x": [
          0.5144289608344228,
          0.5724069466256909,
          -0.30819993513771204,
          -0.28761213166610755,
          -0.5458296642997473,
          1.3342341378269325,
          -0.059879995787046364,
          1.3787691268830158,
          1.5187665540777449,
          -2.7519432034869826,
          -1.2056198902311772,
          -0.3629064877540202,
          0.640991257007152,
          -0.47206448107358195,
          -1.0878072262077378,
          -0.15543977760143152,
          -0.8625906044930144,
          -1.7663404323726277,
          1.064994168719819,
          -1.6184662127345653,
          -0.8190616080352211,
          0.7866409263948574,
          -0.19045252367988008,
          1.5969345615530797,
          -0.7044302258560525,
          -0.7900860768132202,
          -1.0735371514754384,
          0.8012526553151388,
          -0.02553132822250245,
          -0.30582686018085536,
          1.4651450194678122,
          -0.8071478717507671,
          0.8376367062569227,
          -0.6329941306779358,
          0.0867084974824401,
          0.05027790087844485,
          -0.2647802167855846,
          1.118984671133748,
          -0.5516072597736149,
          1.8162088275534043,
          -0.44479829986457453,
          0.1569398525620239,
          -1.3824017681664396,
          -0.036541635193980834,
          -0.7447235813408297,
          1.0983606818404243,
          -0.5136529937783657,
          1.7291436530420121,
          0.1816288109054654,
          0.9684547021866818,
          1.5510770631391406,
          -1.0475474342787952,
          -0.6121541607127508,
          1.0571791629492353,
          0.4030738424095661,
          0.5785052092954551,
          0.41074496678539,
          -1.1472776811644665,
          -0.33404848635404577,
          0.1032631854144026,
          2.0443381358099395,
          -0.5966934895063976,
          0.942536444239893,
          -0.9918626005209825,
          2.44059767258467,
          -0.8491252491305082,
          0.5155652443863213,
          -0.8476353923799457,
          -1.6795012845786021,
          1.0044005780947,
          -0.7103791063828504,
          0.5696648510909781,
          0.6978372215304477,
          -1.306728185712887,
          -0.20781386971509166,
          0.9986223565261442,
          0.7651501071650623,
          0.03834750962941581,
          -0.26329636784691046,
          -0.698448027060385,
          0.8293742290726839,
          0.5607838686827155,
          0.8671309641732743,
          0.894047112532386,
          0.47888307509295996,
          0.1892331690303111,
          -0.19289836917771339,
          2.292177153010583,
          0.251550634248612,
          0.24654175294065175,
          0.07806475208841698,
          1.2137666385299004,
          -0.6859853527506332,
          -1.4133773145942006,
          -0.3635762036436802,
          -0.5853034319336741,
          -0.3089010394401241,
          -1.228501650071791,
          0.22216134807810084,
          1.3418905806243608
         ],
         "xaxis": "x10",
         "y": [
          -0.30633971724473613,
          -0.5234550101146769,
          0.2478488034051314,
          0.6578260314485772,
          0.6100622628342298,
          0.032581612992109536,
          0.07456945813487535,
          0.2610424110646733,
          0.3351846375278415,
          -0.8358639832336577,
          0.4686070749662074,
          -0.9122092779836232,
          -0.7803246155139458,
          0.6602989279747916,
          -0.28620935953392296,
          -1.0778324203072733,
          0.48963591508823806,
          1.0671437539530921,
          1.0855163362186933,
          -1.8114429646062313,
          -2.247410773899347,
          0.8324518797822211,
          0.9156254816843685,
          0.45753093853990545,
          0.35479727188256155,
          -1.2894696780643116,
          0.1031350503254655,
          -0.1437613113260787,
          -0.9137165933613629,
          -0.8924245674469968,
          0.027752492865393687,
          -1.6471565973337845,
          -0.01948312925464501,
          1.4165837322672976,
          -0.666560449859305,
          0.7292231555751252,
          -1.146714693185556,
          0.675094245687191,
          -1.6637968925303812,
          0.5816901620763231,
          -0.6941354547354356,
          -0.6953760752736109,
          0.7426906363376657,
          -1.7226095764455585,
          0.3609859988169621,
          -0.19804856575689886,
          0.8750661094019057,
          1.168208952094026,
          0.010440059391869854,
          -0.11788995387973426,
          -0.08252714682164242,
          0.9798595763668482,
          0.2469279685957641,
          -0.12695923071965273,
          -0.1791752141982507,
          -0.42565723605537,
          -0.624914201256451,
          1.659369571600921,
          0.7695011878549151,
          1.1913134833806651,
          0.466093934926341,
          1.4421627085964253,
          -0.2815350530159152,
          0.5227302571946018,
          -0.501006197467369,
          0.6698827380804052,
          -0.5980283747965494,
          -0.2745834025311717,
          -0.8139262634868277,
          0.24505022348252758,
          0.706659414513232,
          1.4429091507920122,
          -0.5315623598845203,
          0.7312833614853783,
          -0.6940297068865078,
          1.8532400268662255,
          0.2567757922196267,
          -1.0281102150048418,
          -1.367360751504298,
          -0.1052404363550915,
          0.11663141514226394,
          -1.0663414140660066,
          0.09268557763093996,
          -0.45436556126859795,
          -0.27804832733063795,
          0.3263765879782635,
          0.9550041351946619,
          0.6103649848324788,
          -0.48527758768357315,
          -0.2457889274010022,
          -0.05277339409865519,
          2.586915296705645,
          0.7168061235910601,
          -0.050688695883621036,
          1.2017495715039697,
          0.5857050148380992,
          0.6555654907218712,
          1.0382388400092144,
          -0.540854983782837,
          0.7478846368194215
         ],
         "yaxis": "y10"
        },
        {
         "histfunc": "count",
         "histnorm": "",
         "marker": {
          "color": "rgba(50, 171, 96, 1.0)",
          "line": {
           "color": "#4D5663",
           "width": 1.3
          }
         },
         "name": "C",
         "nbinsx": 10,
         "opacity": 0.8,
         "orientation": "v",
         "type": "histogram",
         "x": [
          -0.30633971724473613,
          -0.5234550101146769,
          0.2478488034051314,
          0.6578260314485772,
          0.6100622628342298,
          0.032581612992109536,
          0.07456945813487535,
          0.2610424110646733,
          0.3351846375278415,
          -0.8358639832336577,
          0.4686070749662074,
          -0.9122092779836232,
          -0.7803246155139458,
          0.6602989279747916,
          -0.28620935953392296,
          -1.0778324203072733,
          0.48963591508823806,
          1.0671437539530921,
          1.0855163362186933,
          -1.8114429646062313,
          -2.247410773899347,
          0.8324518797822211,
          0.9156254816843685,
          0.45753093853990545,
          0.35479727188256155,
          -1.2894696780643116,
          0.1031350503254655,
          -0.1437613113260787,
          -0.9137165933613629,
          -0.8924245674469968,
          0.027752492865393687,
          -1.6471565973337845,
          -0.01948312925464501,
          1.4165837322672976,
          -0.666560449859305,
          0.7292231555751252,
          -1.146714693185556,
          0.675094245687191,
          -1.6637968925303812,
          0.5816901620763231,
          -0.6941354547354356,
          -0.6953760752736109,
          0.7426906363376657,
          -1.7226095764455585,
          0.3609859988169621,
          -0.19804856575689886,
          0.8750661094019057,
          1.168208952094026,
          0.010440059391869854,
          -0.11788995387973426,
          -0.08252714682164242,
          0.9798595763668482,
          0.2469279685957641,
          -0.12695923071965273,
          -0.1791752141982507,
          -0.42565723605537,
          -0.624914201256451,
          1.659369571600921,
          0.7695011878549151,
          1.1913134833806651,
          0.466093934926341,
          1.4421627085964253,
          -0.2815350530159152,
          0.5227302571946018,
          -0.501006197467369,
          0.6698827380804052,
          -0.5980283747965494,
          -0.2745834025311717,
          -0.8139262634868277,
          0.24505022348252758,
          0.706659414513232,
          1.4429091507920122,
          -0.5315623598845203,
          0.7312833614853783,
          -0.6940297068865078,
          1.8532400268662255,
          0.2567757922196267,
          -1.0281102150048418,
          -1.367360751504298,
          -0.1052404363550915,
          0.11663141514226394,
          -1.0663414140660066,
          0.09268557763093996,
          -0.45436556126859795,
          -0.27804832733063795,
          0.3263765879782635,
          0.9550041351946619,
          0.6103649848324788,
          -0.48527758768357315,
          -0.2457889274010022,
          -0.05277339409865519,
          2.586915296705645,
          0.7168061235910601,
          -0.050688695883621036,
          1.2017495715039697,
          0.5857050148380992,
          0.6555654907218712,
          1.0382388400092144,
          -0.540854983782837,
          0.7478846368194215
         ],
         "xaxis": "x11",
         "yaxis": "y11"
        },
        {
         "line": {
          "color": "rgba(128, 128, 128, 1.0)",
          "dash": "solid",
          "shape": "linear",
          "width": 1.3
         },
         "marker": {
          "size": 2,
          "symbol": "circle"
         },
         "mode": "markers",
         "name": "C",
         "text": "",
         "type": "scatter",
         "x": [
          -0.2604507371041075,
          -1.9643665654128082,
          0.12641842238158893,
          1.7081905768115073,
          -0.49220866918519124,
          0.656218003349655,
          2.144116227630546,
          -1.4084719232733882,
          -1.178791535445807,
          0.09233705323372739,
          -0.12639330314397007,
          -0.5920427977413246,
          -0.3296786702620065,
          -0.5767269925853163,
          1.697169024762262,
          -0.5186242574799267,
          -0.2686631492690273,
          -1.4070832344050308,
          1.3628508253292413,
          0.031301986381084834,
          -0.158763294918046,
          -0.24044418555289648,
          0.06426934268757235,
          0.239467677136593,
          1.3899558496562443,
          0.42376507027982047,
          -0.9682451764859047,
          1.8423874026042768,
          -0.8000199212148114,
          1.8248070776087995,
          -1.1704179498651104,
          0.009217647861796225,
          -0.4615465327731627,
          -0.6397743914369046,
          0.6601869572436313,
          -0.05300165184856359,
          -0.07910088147815135,
          -0.19938932679475294,
          -1.5473601500030505,
          -0.08994240763913981,
          1.4570202350991852,
          -0.3736716419214809,
          0.20381548004125066,
          0.012330516866901163,
          -0.5945780890656976,
          -2.223860549270489,
          0.3734888706607538,
          -0.2364090799456908,
          -0.7729380881223636,
          1.2603586592523537,
          0.3842833696951564,
          0.5791794096935158,
          1.353317343012976,
          0.08124063052159122,
          -0.9912860929000638,
          -1.0790433465006497,
          1.0256887261366971,
          -0.15558245574534268,
          -1.7808556342887163,
          -0.846480714418734,
          -0.025414806946941267,
          1.1256254054636576,
          0.0820178613140621,
          0.42008087621067003,
          0.008815878738345264,
          -0.7492475351141584,
          0.46056187813653876,
          -0.2285617060563285,
          -0.28302197182181404,
          -0.7264504966966434,
          -1.5202670980524595,
          -0.04317907055632232,
          1.1384828294997618,
          -0.34930916092794906,
          -1.1846910860236932,
          -1.6466426369738534,
          -0.025512980880705114,
          -0.09916625939818707,
          -0.5928646303423978,
          0.12510029685148205,
          -0.6708380179370568,
          -0.7842889382471772,
          -0.27065078646682583,
          1.0096056760094503,
          -0.5343694089995189,
          -0.11891612717518474,
          0.3919681251273001,
          0.24304243949453247,
          0.14327218346926662,
          -0.6455143513378283,
          0.071661142219256,
          -0.739734052321834,
          0.01181871927618938,
          -0.988190195531898,
          -0.0235204034177497,
          0.31330215060320904,
          0.16911247600845583,
          0.6868502531236088,
          -1.2686843768528009,
          0.8848205635957239
         ],
         "xaxis": "x12",
         "y": [
          -0.30633971724473613,
          -0.5234550101146769,
          0.2478488034051314,
          0.6578260314485772,
          0.6100622628342298,
          0.032581612992109536,
          0.07456945813487535,
          0.2610424110646733,
          0.3351846375278415,
          -0.8358639832336577,
          0.4686070749662074,
          -0.9122092779836232,
          -0.7803246155139458,
          0.6602989279747916,
          -0.28620935953392296,
          -1.0778324203072733,
          0.48963591508823806,
          1.0671437539530921,
          1.0855163362186933,
          -1.8114429646062313,
          -2.247410773899347,
          0.8324518797822211,
          0.9156254816843685,
          0.45753093853990545,
          0.35479727188256155,
          -1.2894696780643116,
          0.1031350503254655,
          -0.1437613113260787,
          -0.9137165933613629,
          -0.8924245674469968,
          0.027752492865393687,
          -1.6471565973337845,
          -0.01948312925464501,
          1.4165837322672976,
          -0.666560449859305,
          0.7292231555751252,
          -1.146714693185556,
          0.675094245687191,
          -1.6637968925303812,
          0.5816901620763231,
          -0.6941354547354356,
          -0.6953760752736109,
          0.7426906363376657,
          -1.7226095764455585,
          0.3609859988169621,
          -0.19804856575689886,
          0.8750661094019057,
          1.168208952094026,
          0.010440059391869854,
          -0.11788995387973426,
          -0.08252714682164242,
          0.9798595763668482,
          0.2469279685957641,
          -0.12695923071965273,
          -0.1791752141982507,
          -0.42565723605537,
          -0.624914201256451,
          1.659369571600921,
          0.7695011878549151,
          1.1913134833806651,
          0.466093934926341,
          1.4421627085964253,
          -0.2815350530159152,
          0.5227302571946018,
          -0.501006197467369,
          0.6698827380804052,
          -0.5980283747965494,
          -0.2745834025311717,
          -0.8139262634868277,
          0.24505022348252758,
          0.706659414513232,
          1.4429091507920122,
          -0.5315623598845203,
          0.7312833614853783,
          -0.6940297068865078,
          1.8532400268662255,
          0.2567757922196267,
          -1.0281102150048418,
          -1.367360751504298,
          -0.1052404363550915,
          0.11663141514226394,
          -1.0663414140660066,
          0.09268557763093996,
          -0.45436556126859795,
          -0.27804832733063795,
          0.3263765879782635,
          0.9550041351946619,
          0.6103649848324788,
          -0.48527758768357315,
          -0.2457889274010022,
          -0.05277339409865519,
          2.586915296705645,
          0.7168061235910601,
          -0.050688695883621036,
          1.2017495715039697,
          0.5857050148380992,
          0.6555654907218712,
          1.0382388400092144,
          -0.540854983782837,
          0.7478846368194215
         ],
         "yaxis": "y12"
        },
        {
         "line": {
          "color": "rgba(128, 128, 128, 1.0)",
          "dash": "solid",
          "shape": "linear",
          "width": 1.3
         },
         "marker": {
          "size": 2,
          "symbol": "circle"
         },
         "mode": "markers",
         "name": "D",
         "text": "",
         "type": "scatter",
         "x": [
          -2.094397151479146,
          1.3941214922326817,
          -0.49945361503735913,
          -0.7298780946612285,
          -0.05879101960786524,
          1.2168416065981187,
          0.8690073762945215,
          1.0248764006001234,
          -0.15540585484017097,
          -0.16764986233001994,
          0.7778984780061986,
          -1.2435593599915684,
          0.25357332176071923,
          2.856586915070549,
          0.39692412082078316,
          -1.4345999368445181,
          -0.6162000698974652,
          0.03476259517769596,
          -2.009145407801507,
          1.4533919445471997,
          -0.8703182328567703,
          -0.6143084700493274,
          -0.34761024991025263,
          -0.05959062978705484,
          -0.7394525194780763,
          0.8340378920527788,
          -1.0391812744474584,
          0.17191340608343134,
          0.1586781853253161,
          -0.7750487092439783,
          0.438034060183595,
          -0.7280824873065657,
          -1.088870404711052,
          -0.8474580048152648,
          -2.0779113093562147,
          -0.3721246680362004,
          -0.5267640540901695,
          -1.2178948075205809,
          0.4043518045817308,
          -1.0334344178968475,
          0.49619293804226283,
          1.8708464437680499,
          1.0121451348718093,
          0.4269126817452754,
          -1.2349673225939606,
          0.39061767494739513,
          -0.6256157986469851,
          1.0351111300950826,
          -0.2450626994913141,
          0.06169580689106269,
          1.2499050049827194,
          -0.8473351234707631,
          0.6306685186978127,
          -1.9093082042900966,
          0.24302207947724627,
          -0.19948169908255228,
          -0.750993574668388,
          1.3137674387880596,
          -1.3441275580581578,
          -1.6729780203688531,
          1.164152543022755,
          -0.5617310684333279,
          -1.332295393318157,
          -0.07760242062662576,
          -0.46830100567090677,
          -0.9494876742710063,
          0.6281755129455628,
          -0.9333849785276441,
          -1.9957226612196735,
          -0.10762144124963756,
          0.4208020094415041,
          2.3769857538857306,
          1.3782159691673053,
          0.10990996413442164,
          -1.122310055421987,
          0.9507291380354317,
          -0.4627422441340983,
          1.3847759602273377,
          0.7392940658133781,
          1.3798724102148878,
          1.0354438906558976,
          1.170393638809026,
          1.6744622234240154,
          -0.5340913166387504,
          1.3192837607724976,
          -1.8217211430156675,
          -0.0955557940497877,
          -1.7025104060459593,
          1.49330659712763,
          1.4549119243746382,
          -0.44609922249017514,
          2.2957166286477166,
          -1.0559690993793378,
          0.8833646003473479,
          0.8406456933235341,
          -0.17628257884410958,
          0.22306309235647964,
          -0.034604504310288525,
          -0.8417879309313906,
          -1.978385623888586
         ],
         "xaxis": "x13",
         "y": [
          -0.2604507371041075,
          -1.9643665654128082,
          0.12641842238158893,
          1.7081905768115073,
          -0.49220866918519124,
          0.656218003349655,
          2.144116227630546,
          -1.4084719232733882,
          -1.178791535445807,
          0.09233705323372739,
          -0.12639330314397007,
          -0.5920427977413246,
          -0.3296786702620065,
          -0.5767269925853163,
          1.697169024762262,
          -0.5186242574799267,
          -0.2686631492690273,
          -1.4070832344050308,
          1.3628508253292413,
          0.031301986381084834,
          -0.158763294918046,
          -0.24044418555289648,
          0.06426934268757235,
          0.239467677136593,
          1.3899558496562443,
          0.42376507027982047,
          -0.9682451764859047,
          1.8423874026042768,
          -0.8000199212148114,
          1.8248070776087995,
          -1.1704179498651104,
          0.009217647861796225,
          -0.4615465327731627,
          -0.6397743914369046,
          0.6601869572436313,
          -0.05300165184856359,
          -0.07910088147815135,
          -0.19938932679475294,
          -1.5473601500030505,
          -0.08994240763913981,
          1.4570202350991852,
          -0.3736716419214809,
          0.20381548004125066,
          0.012330516866901163,
          -0.5945780890656976,
          -2.223860549270489,
          0.3734888706607538,
          -0.2364090799456908,
          -0.7729380881223636,
          1.2603586592523537,
          0.3842833696951564,
          0.5791794096935158,
          1.353317343012976,
          0.08124063052159122,
          -0.9912860929000638,
          -1.0790433465006497,
          1.0256887261366971,
          -0.15558245574534268,
          -1.7808556342887163,
          -0.846480714418734,
          -0.025414806946941267,
          1.1256254054636576,
          0.0820178613140621,
          0.42008087621067003,
          0.008815878738345264,
          -0.7492475351141584,
          0.46056187813653876,
          -0.2285617060563285,
          -0.28302197182181404,
          -0.7264504966966434,
          -1.5202670980524595,
          -0.04317907055632232,
          1.1384828294997618,
          -0.34930916092794906,
          -1.1846910860236932,
          -1.6466426369738534,
          -0.025512980880705114,
          -0.09916625939818707,
          -0.5928646303423978,
          0.12510029685148205,
          -0.6708380179370568,
          -0.7842889382471772,
          -0.27065078646682583,
          1.0096056760094503,
          -0.5343694089995189,
          -0.11891612717518474,
          0.3919681251273001,
          0.24304243949453247,
          0.14327218346926662,
          -0.6455143513378283,
          0.071661142219256,
          -0.739734052321834,
          0.01181871927618938,
          -0.988190195531898,
          -0.0235204034177497,
          0.31330215060320904,
          0.16911247600845583,
          0.6868502531236088,
          -1.2686843768528009,
          0.8848205635957239
         ],
         "yaxis": "y13"
        },
        {
         "line": {
          "color": "rgba(128, 128, 128, 1.0)",
          "dash": "solid",
          "shape": "linear",
          "width": 1.3
         },
         "marker": {
          "size": 2,
          "symbol": "circle"
         },
         "mode": "markers",
         "name": "D",
         "text": "",
         "type": "scatter",
         "x": [
          0.5144289608344228,
          0.5724069466256909,
          -0.30819993513771204,
          -0.28761213166610755,
          -0.5458296642997473,
          1.3342341378269325,
          -0.059879995787046364,
          1.3787691268830158,
          1.5187665540777449,
          -2.7519432034869826,
          -1.2056198902311772,
          -0.3629064877540202,
          0.640991257007152,
          -0.47206448107358195,
          -1.0878072262077378,
          -0.15543977760143152,
          -0.8625906044930144,
          -1.7663404323726277,
          1.064994168719819,
          -1.6184662127345653,
          -0.8190616080352211,
          0.7866409263948574,
          -0.19045252367988008,
          1.5969345615530797,
          -0.7044302258560525,
          -0.7900860768132202,
          -1.0735371514754384,
          0.8012526553151388,
          -0.02553132822250245,
          -0.30582686018085536,
          1.4651450194678122,
          -0.8071478717507671,
          0.8376367062569227,
          -0.6329941306779358,
          0.0867084974824401,
          0.05027790087844485,
          -0.2647802167855846,
          1.118984671133748,
          -0.5516072597736149,
          1.8162088275534043,
          -0.44479829986457453,
          0.1569398525620239,
          -1.3824017681664396,
          -0.036541635193980834,
          -0.7447235813408297,
          1.0983606818404243,
          -0.5136529937783657,
          1.7291436530420121,
          0.1816288109054654,
          0.9684547021866818,
          1.5510770631391406,
          -1.0475474342787952,
          -0.6121541607127508,
          1.0571791629492353,
          0.4030738424095661,
          0.5785052092954551,
          0.41074496678539,
          -1.1472776811644665,
          -0.33404848635404577,
          0.1032631854144026,
          2.0443381358099395,
          -0.5966934895063976,
          0.942536444239893,
          -0.9918626005209825,
          2.44059767258467,
          -0.8491252491305082,
          0.5155652443863213,
          -0.8476353923799457,
          -1.6795012845786021,
          1.0044005780947,
          -0.7103791063828504,
          0.5696648510909781,
          0.6978372215304477,
          -1.306728185712887,
          -0.20781386971509166,
          0.9986223565261442,
          0.7651501071650623,
          0.03834750962941581,
          -0.26329636784691046,
          -0.698448027060385,
          0.8293742290726839,
          0.5607838686827155,
          0.8671309641732743,
          0.894047112532386,
          0.47888307509295996,
          0.1892331690303111,
          -0.19289836917771339,
          2.292177153010583,
          0.251550634248612,
          0.24654175294065175,
          0.07806475208841698,
          1.2137666385299004,
          -0.6859853527506332,
          -1.4133773145942006,
          -0.3635762036436802,
          -0.5853034319336741,
          -0.3089010394401241,
          -1.228501650071791,
          0.22216134807810084,
          1.3418905806243608
         ],
         "xaxis": "x14",
         "y": [
          -0.2604507371041075,
          -1.9643665654128082,
          0.12641842238158893,
          1.7081905768115073,
          -0.49220866918519124,
          0.656218003349655,
          2.144116227630546,
          -1.4084719232733882,
          -1.178791535445807,
          0.09233705323372739,
          -0.12639330314397007,
          -0.5920427977413246,
          -0.3296786702620065,
          -0.5767269925853163,
          1.697169024762262,
          -0.5186242574799267,
          -0.2686631492690273,
          -1.4070832344050308,
          1.3628508253292413,
          0.031301986381084834,
          -0.158763294918046,
          -0.24044418555289648,
          0.06426934268757235,
          0.239467677136593,
          1.3899558496562443,
          0.42376507027982047,
          -0.9682451764859047,
          1.8423874026042768,
          -0.8000199212148114,
          1.8248070776087995,
          -1.1704179498651104,
          0.009217647861796225,
          -0.4615465327731627,
          -0.6397743914369046,
          0.6601869572436313,
          -0.05300165184856359,
          -0.07910088147815135,
          -0.19938932679475294,
          -1.5473601500030505,
          -0.08994240763913981,
          1.4570202350991852,
          -0.3736716419214809,
          0.20381548004125066,
          0.012330516866901163,
          -0.5945780890656976,
          -2.223860549270489,
          0.3734888706607538,
          -0.2364090799456908,
          -0.7729380881223636,
          1.2603586592523537,
          0.3842833696951564,
          0.5791794096935158,
          1.353317343012976,
          0.08124063052159122,
          -0.9912860929000638,
          -1.0790433465006497,
          1.0256887261366971,
          -0.15558245574534268,
          -1.7808556342887163,
          -0.846480714418734,
          -0.025414806946941267,
          1.1256254054636576,
          0.0820178613140621,
          0.42008087621067003,
          0.008815878738345264,
          -0.7492475351141584,
          0.46056187813653876,
          -0.2285617060563285,
          -0.28302197182181404,
          -0.7264504966966434,
          -1.5202670980524595,
          -0.04317907055632232,
          1.1384828294997618,
          -0.34930916092794906,
          -1.1846910860236932,
          -1.6466426369738534,
          -0.025512980880705114,
          -0.09916625939818707,
          -0.5928646303423978,
          0.12510029685148205,
          -0.6708380179370568,
          -0.7842889382471772,
          -0.27065078646682583,
          1.0096056760094503,
          -0.5343694089995189,
          -0.11891612717518474,
          0.3919681251273001,
          0.24304243949453247,
          0.14327218346926662,
          -0.6455143513378283,
          0.071661142219256,
          -0.739734052321834,
          0.01181871927618938,
          -0.988190195531898,
          -0.0235204034177497,
          0.31330215060320904,
          0.16911247600845583,
          0.6868502531236088,
          -1.2686843768528009,
          0.8848205635957239
         ],
         "yaxis": "y14"
        },
        {
         "line": {
          "color": "rgba(128, 128, 128, 1.0)",
          "dash": "solid",
          "shape": "linear",
          "width": 1.3
         },
         "marker": {
          "size": 2,
          "symbol": "circle"
         },
         "mode": "markers",
         "name": "D",
         "text": "",
         "type": "scatter",
         "x": [
          -0.30633971724473613,
          -0.5234550101146769,
          0.2478488034051314,
          0.6578260314485772,
          0.6100622628342298,
          0.032581612992109536,
          0.07456945813487535,
          0.2610424110646733,
          0.3351846375278415,
          -0.8358639832336577,
          0.4686070749662074,
          -0.9122092779836232,
          -0.7803246155139458,
          0.6602989279747916,
          -0.28620935953392296,
          -1.0778324203072733,
          0.48963591508823806,
          1.0671437539530921,
          1.0855163362186933,
          -1.8114429646062313,
          -2.247410773899347,
          0.8324518797822211,
          0.9156254816843685,
          0.45753093853990545,
          0.35479727188256155,
          -1.2894696780643116,
          0.1031350503254655,
          -0.1437613113260787,
          -0.9137165933613629,
          -0.8924245674469968,
          0.027752492865393687,
          -1.6471565973337845,
          -0.01948312925464501,
          1.4165837322672976,
          -0.666560449859305,
          0.7292231555751252,
          -1.146714693185556,
          0.675094245687191,
          -1.6637968925303812,
          0.5816901620763231,
          -0.6941354547354356,
          -0.6953760752736109,
          0.7426906363376657,
          -1.7226095764455585,
          0.3609859988169621,
          -0.19804856575689886,
          0.8750661094019057,
          1.168208952094026,
          0.010440059391869854,
          -0.11788995387973426,
          -0.08252714682164242,
          0.9798595763668482,
          0.2469279685957641,
          -0.12695923071965273,
          -0.1791752141982507,
          -0.42565723605537,
          -0.624914201256451,
          1.659369571600921,
          0.7695011878549151,
          1.1913134833806651,
          0.466093934926341,
          1.4421627085964253,
          -0.2815350530159152,
          0.5227302571946018,
          -0.501006197467369,
          0.6698827380804052,
          -0.5980283747965494,
          -0.2745834025311717,
          -0.8139262634868277,
          0.24505022348252758,
          0.706659414513232,
          1.4429091507920122,
          -0.5315623598845203,
          0.7312833614853783,
          -0.6940297068865078,
          1.8532400268662255,
          0.2567757922196267,
          -1.0281102150048418,
          -1.367360751504298,
          -0.1052404363550915,
          0.11663141514226394,
          -1.0663414140660066,
          0.09268557763093996,
          -0.45436556126859795,
          -0.27804832733063795,
          0.3263765879782635,
          0.9550041351946619,
          0.6103649848324788,
          -0.48527758768357315,
          -0.2457889274010022,
          -0.05277339409865519,
          2.586915296705645,
          0.7168061235910601,
          -0.050688695883621036,
          1.2017495715039697,
          0.5857050148380992,
          0.6555654907218712,
          1.0382388400092144,
          -0.540854983782837,
          0.7478846368194215
         ],
         "xaxis": "x15",
         "y": [
          -0.2604507371041075,
          -1.9643665654128082,
          0.12641842238158893,
          1.7081905768115073,
          -0.49220866918519124,
          0.656218003349655,
          2.144116227630546,
          -1.4084719232733882,
          -1.178791535445807,
          0.09233705323372739,
          -0.12639330314397007,
          -0.5920427977413246,
          -0.3296786702620065,
          -0.5767269925853163,
          1.697169024762262,
          -0.5186242574799267,
          -0.2686631492690273,
          -1.4070832344050308,
          1.3628508253292413,
          0.031301986381084834,
          -0.158763294918046,
          -0.24044418555289648,
          0.06426934268757235,
          0.239467677136593,
          1.3899558496562443,
          0.42376507027982047,
          -0.9682451764859047,
          1.8423874026042768,
          -0.8000199212148114,
          1.8248070776087995,
          -1.1704179498651104,
          0.009217647861796225,
          -0.4615465327731627,
          -0.6397743914369046,
          0.6601869572436313,
          -0.05300165184856359,
          -0.07910088147815135,
          -0.19938932679475294,
          -1.5473601500030505,
          -0.08994240763913981,
          1.4570202350991852,
          -0.3736716419214809,
          0.20381548004125066,
          0.012330516866901163,
          -0.5945780890656976,
          -2.223860549270489,
          0.3734888706607538,
          -0.2364090799456908,
          -0.7729380881223636,
          1.2603586592523537,
          0.3842833696951564,
          0.5791794096935158,
          1.353317343012976,
          0.08124063052159122,
          -0.9912860929000638,
          -1.0790433465006497,
          1.0256887261366971,
          -0.15558245574534268,
          -1.7808556342887163,
          -0.846480714418734,
          -0.025414806946941267,
          1.1256254054636576,
          0.0820178613140621,
          0.42008087621067003,
          0.008815878738345264,
          -0.7492475351141584,
          0.46056187813653876,
          -0.2285617060563285,
          -0.28302197182181404,
          -0.7264504966966434,
          -1.5202670980524595,
          -0.04317907055632232,
          1.1384828294997618,
          -0.34930916092794906,
          -1.1846910860236932,
          -1.6466426369738534,
          -0.025512980880705114,
          -0.09916625939818707,
          -0.5928646303423978,
          0.12510029685148205,
          -0.6708380179370568,
          -0.7842889382471772,
          -0.27065078646682583,
          1.0096056760094503,
          -0.5343694089995189,
          -0.11891612717518474,
          0.3919681251273001,
          0.24304243949453247,
          0.14327218346926662,
          -0.6455143513378283,
          0.071661142219256,
          -0.739734052321834,
          0.01181871927618938,
          -0.988190195531898,
          -0.0235204034177497,
          0.31330215060320904,
          0.16911247600845583,
          0.6868502531236088,
          -1.2686843768528009,
          0.8848205635957239
         ],
         "yaxis": "y15"
        },
        {
         "histfunc": "count",
         "histnorm": "",
         "marker": {
          "color": "rgba(128, 0, 128, 1.0)",
          "line": {
           "color": "#4D5663",
           "width": 1.3
          }
         },
         "name": "D",
         "nbinsx": 10,
         "opacity": 0.8,
         "orientation": "v",
         "type": "histogram",
         "x": [
          -0.2604507371041075,
          -1.9643665654128082,
          0.12641842238158893,
          1.7081905768115073,
          -0.49220866918519124,
          0.656218003349655,
          2.144116227630546,
          -1.4084719232733882,
          -1.178791535445807,
          0.09233705323372739,
          -0.12639330314397007,
          -0.5920427977413246,
          -0.3296786702620065,
          -0.5767269925853163,
          1.697169024762262,
          -0.5186242574799267,
          -0.2686631492690273,
          -1.4070832344050308,
          1.3628508253292413,
          0.031301986381084834,
          -0.158763294918046,
          -0.24044418555289648,
          0.06426934268757235,
          0.239467677136593,
          1.3899558496562443,
          0.42376507027982047,
          -0.9682451764859047,
          1.8423874026042768,
          -0.8000199212148114,
          1.8248070776087995,
          -1.1704179498651104,
          0.009217647861796225,
          -0.4615465327731627,
          -0.6397743914369046,
          0.6601869572436313,
          -0.05300165184856359,
          -0.07910088147815135,
          -0.19938932679475294,
          -1.5473601500030505,
          -0.08994240763913981,
          1.4570202350991852,
          -0.3736716419214809,
          0.20381548004125066,
          0.012330516866901163,
          -0.5945780890656976,
          -2.223860549270489,
          0.3734888706607538,
          -0.2364090799456908,
          -0.7729380881223636,
          1.2603586592523537,
          0.3842833696951564,
          0.5791794096935158,
          1.353317343012976,
          0.08124063052159122,
          -0.9912860929000638,
          -1.0790433465006497,
          1.0256887261366971,
          -0.15558245574534268,
          -1.7808556342887163,
          -0.846480714418734,
          -0.025414806946941267,
          1.1256254054636576,
          0.0820178613140621,
          0.42008087621067003,
          0.008815878738345264,
          -0.7492475351141584,
          0.46056187813653876,
          -0.2285617060563285,
          -0.28302197182181404,
          -0.7264504966966434,
          -1.5202670980524595,
          -0.04317907055632232,
          1.1384828294997618,
          -0.34930916092794906,
          -1.1846910860236932,
          -1.6466426369738534,
          -0.025512980880705114,
          -0.09916625939818707,
          -0.5928646303423978,
          0.12510029685148205,
          -0.6708380179370568,
          -0.7842889382471772,
          -0.27065078646682583,
          1.0096056760094503,
          -0.5343694089995189,
          -0.11891612717518474,
          0.3919681251273001,
          0.24304243949453247,
          0.14327218346926662,
          -0.6455143513378283,
          0.071661142219256,
          -0.739734052321834,
          0.01181871927618938,
          -0.988190195531898,
          -0.0235204034177497,
          0.31330215060320904,
          0.16911247600845583,
          0.6868502531236088,
          -1.2686843768528009,
          0.8848205635957239
         ],
         "xaxis": "x16",
         "yaxis": "y16"
        }
       ],
       "layout": {
        "bargap": 0.02,
        "legend": {
         "bgcolor": "#F5F6F9",
         "font": {
          "color": "#4D5663"
         }
        },
        "paper_bgcolor": "#F5F6F9",
        "plot_bgcolor": "#F5F6F9",
        "showlegend": false,
        "template": {
         "data": {
          "bar": [
           {
            "error_x": {
             "color": "#2a3f5f"
            },
            "error_y": {
             "color": "#2a3f5f"
            },
            "marker": {
             "line": {
              "color": "#E5ECF6",
              "width": 0.5
             }
            },
            "type": "bar"
           }
          ],
          "barpolar": [
           {
            "marker": {
             "line": {
              "color": "#E5ECF6",
              "width": 0.5
             }
            },
            "type": "barpolar"
           }
          ],
          "carpet": [
           {
            "aaxis": {
             "endlinecolor": "#2a3f5f",
             "gridcolor": "white",
             "linecolor": "white",
             "minorgridcolor": "white",
             "startlinecolor": "#2a3f5f"
            },
            "baxis": {
             "endlinecolor": "#2a3f5f",
             "gridcolor": "white",
             "linecolor": "white",
             "minorgridcolor": "white",
             "startlinecolor": "#2a3f5f"
            },
            "type": "carpet"
           }
          ],
          "choropleth": [
           {
            "colorbar": {
             "outlinewidth": 0,
             "ticks": ""
            },
            "type": "choropleth"
           }
          ],
          "contour": [
           {
            "colorbar": {
             "outlinewidth": 0,
             "ticks": ""
            },
            "colorscale": [
             [
              0,
              "#0d0887"
             ],
             [
              0.1111111111111111,
              "#46039f"
             ],
             [
              0.2222222222222222,
              "#7201a8"
             ],
             [
              0.3333333333333333,
              "#9c179e"
             ],
             [
              0.4444444444444444,
              "#bd3786"
             ],
             [
              0.5555555555555556,
              "#d8576b"
             ],
             [
              0.6666666666666666,
              "#ed7953"
             ],
             [
              0.7777777777777778,
              "#fb9f3a"
             ],
             [
              0.8888888888888888,
              "#fdca26"
             ],
             [
              1,
              "#f0f921"
             ]
            ],
            "type": "contour"
           }
          ],
          "contourcarpet": [
           {
            "colorbar": {
             "outlinewidth": 0,
             "ticks": ""
            },
            "type": "contourcarpet"
           }
          ],
          "heatmap": [
           {
            "colorbar": {
             "outlinewidth": 0,
             "ticks": ""
            },
            "colorscale": [
             [
              0,
              "#0d0887"
             ],
             [
              0.1111111111111111,
              "#46039f"
             ],
             [
              0.2222222222222222,
              "#7201a8"
             ],
             [
              0.3333333333333333,
              "#9c179e"
             ],
             [
              0.4444444444444444,
              "#bd3786"
             ],
             [
              0.5555555555555556,
              "#d8576b"
             ],
             [
              0.6666666666666666,
              "#ed7953"
             ],
             [
              0.7777777777777778,
              "#fb9f3a"
             ],
             [
              0.8888888888888888,
              "#fdca26"
             ],
             [
              1,
              "#f0f921"
             ]
            ],
            "type": "heatmap"
           }
          ],
          "heatmapgl": [
           {
            "colorbar": {
             "outlinewidth": 0,
             "ticks": ""
            },
            "colorscale": [
             [
              0,
              "#0d0887"
             ],
             [
              0.1111111111111111,
              "#46039f"
             ],
             [
              0.2222222222222222,
              "#7201a8"
             ],
             [
              0.3333333333333333,
              "#9c179e"
             ],
             [
              0.4444444444444444,
              "#bd3786"
             ],
             [
              0.5555555555555556,
              "#d8576b"
             ],
             [
              0.6666666666666666,
              "#ed7953"
             ],
             [
              0.7777777777777778,
              "#fb9f3a"
             ],
             [
              0.8888888888888888,
              "#fdca26"
             ],
             [
              1,
              "#f0f921"
             ]
            ],
            "type": "heatmapgl"
           }
          ],
          "histogram": [
           {
            "marker": {
             "colorbar": {
              "outlinewidth": 0,
              "ticks": ""
             }
            },
            "type": "histogram"
           }
          ],
          "histogram2d": [
           {
            "colorbar": {
             "outlinewidth": 0,
             "ticks": ""
            },
            "colorscale": [
             [
              0,
              "#0d0887"
             ],
             [
              0.1111111111111111,
              "#46039f"
             ],
             [
              0.2222222222222222,
              "#7201a8"
             ],
             [
              0.3333333333333333,
              "#9c179e"
             ],
             [
              0.4444444444444444,
              "#bd3786"
             ],
             [
              0.5555555555555556,
              "#d8576b"
             ],
             [
              0.6666666666666666,
              "#ed7953"
             ],
             [
              0.7777777777777778,
              "#fb9f3a"
             ],
             [
              0.8888888888888888,
              "#fdca26"
             ],
             [
              1,
              "#f0f921"
             ]
            ],
            "type": "histogram2d"
           }
          ],
          "histogram2dcontour": [
           {
            "colorbar": {
             "outlinewidth": 0,
             "ticks": ""
            },
            "colorscale": [
             [
              0,
              "#0d0887"
             ],
             [
              0.1111111111111111,
              "#46039f"
             ],
             [
              0.2222222222222222,
              "#7201a8"
             ],
             [
              0.3333333333333333,
              "#9c179e"
             ],
             [
              0.4444444444444444,
              "#bd3786"
             ],
             [
              0.5555555555555556,
              "#d8576b"
             ],
             [
              0.6666666666666666,
              "#ed7953"
             ],
             [
              0.7777777777777778,
              "#fb9f3a"
             ],
             [
              0.8888888888888888,
              "#fdca26"
             ],
             [
              1,
              "#f0f921"
             ]
            ],
            "type": "histogram2dcontour"
           }
          ],
          "mesh3d": [
           {
            "colorbar": {
             "outlinewidth": 0,
             "ticks": ""
            },
            "type": "mesh3d"
           }
          ],
          "parcoords": [
           {
            "line": {
             "colorbar": {
              "outlinewidth": 0,
              "ticks": ""
             }
            },
            "type": "parcoords"
           }
          ],
          "pie": [
           {
            "automargin": true,
            "type": "pie"
           }
          ],
          "scatter": [
           {
            "marker": {
             "colorbar": {
              "outlinewidth": 0,
              "ticks": ""
             }
            },
            "type": "scatter"
           }
          ],
          "scatter3d": [
           {
            "line": {
             "colorbar": {
              "outlinewidth": 0,
              "ticks": ""
             }
            },
            "marker": {
             "colorbar": {
              "outlinewidth": 0,
              "ticks": ""
             }
            },
            "type": "scatter3d"
           }
          ],
          "scattercarpet": [
           {
            "marker": {
             "colorbar": {
              "outlinewidth": 0,
              "ticks": ""
             }
            },
            "type": "scattercarpet"
           }
          ],
          "scattergeo": [
           {
            "marker": {
             "colorbar": {
              "outlinewidth": 0,
              "ticks": ""
             }
            },
            "type": "scattergeo"
           }
          ],
          "scattergl": [
           {
            "marker": {
             "colorbar": {
              "outlinewidth": 0,
              "ticks": ""
             }
            },
            "type": "scattergl"
           }
          ],
          "scattermapbox": [
           {
            "marker": {
             "colorbar": {
              "outlinewidth": 0,
              "ticks": ""
             }
            },
            "type": "scattermapbox"
           }
          ],
          "scatterpolar": [
           {
            "marker": {
             "colorbar": {
              "outlinewidth": 0,
              "ticks": ""
             }
            },
            "type": "scatterpolar"
           }
          ],
          "scatterpolargl": [
           {
            "marker": {
             "colorbar": {
              "outlinewidth": 0,
              "ticks": ""
             }
            },
            "type": "scatterpolargl"
           }
          ],
          "scatterternary": [
           {
            "marker": {
             "colorbar": {
              "outlinewidth": 0,
              "ticks": ""
             }
            },
            "type": "scatterternary"
           }
          ],
          "surface": [
           {
            "colorbar": {
             "outlinewidth": 0,
             "ticks": ""
            },
            "colorscale": [
             [
              0,
              "#0d0887"
             ],
             [
              0.1111111111111111,
              "#46039f"
             ],
             [
              0.2222222222222222,
              "#7201a8"
             ],
             [
              0.3333333333333333,
              "#9c179e"
             ],
             [
              0.4444444444444444,
              "#bd3786"
             ],
             [
              0.5555555555555556,
              "#d8576b"
             ],
             [
              0.6666666666666666,
              "#ed7953"
             ],
             [
              0.7777777777777778,
              "#fb9f3a"
             ],
             [
              0.8888888888888888,
              "#fdca26"
             ],
             [
              1,
              "#f0f921"
             ]
            ],
            "type": "surface"
           }
          ],
          "table": [
           {
            "cells": {
             "fill": {
              "color": "#EBF0F8"
             },
             "line": {
              "color": "white"
             }
            },
            "header": {
             "fill": {
              "color": "#C8D4E3"
             },
             "line": {
              "color": "white"
             }
            },
            "type": "table"
           }
          ]
         },
         "layout": {
          "annotationdefaults": {
           "arrowcolor": "#2a3f5f",
           "arrowhead": 0,
           "arrowwidth": 1
          },
          "coloraxis": {
           "colorbar": {
            "outlinewidth": 0,
            "ticks": ""
           }
          },
          "colorscale": {
           "diverging": [
            [
             0,
             "#8e0152"
            ],
            [
             0.1,
             "#c51b7d"
            ],
            [
             0.2,
             "#de77ae"
            ],
            [
             0.3,
             "#f1b6da"
            ],
            [
             0.4,
             "#fde0ef"
            ],
            [
             0.5,
             "#f7f7f7"
            ],
            [
             0.6,
             "#e6f5d0"
            ],
            [
             0.7,
             "#b8e186"
            ],
            [
             0.8,
             "#7fbc41"
            ],
            [
             0.9,
             "#4d9221"
            ],
            [
             1,
             "#276419"
            ]
           ],
           "sequential": [
            [
             0,
             "#0d0887"
            ],
            [
             0.1111111111111111,
             "#46039f"
            ],
            [
             0.2222222222222222,
             "#7201a8"
            ],
            [
             0.3333333333333333,
             "#9c179e"
            ],
            [
             0.4444444444444444,
             "#bd3786"
            ],
            [
             0.5555555555555556,
             "#d8576b"
            ],
            [
             0.6666666666666666,
             "#ed7953"
            ],
            [
             0.7777777777777778,
             "#fb9f3a"
            ],
            [
             0.8888888888888888,
             "#fdca26"
            ],
            [
             1,
             "#f0f921"
            ]
           ],
           "sequentialminus": [
            [
             0,
             "#0d0887"
            ],
            [
             0.1111111111111111,
             "#46039f"
            ],
            [
             0.2222222222222222,
             "#7201a8"
            ],
            [
             0.3333333333333333,
             "#9c179e"
            ],
            [
             0.4444444444444444,
             "#bd3786"
            ],
            [
             0.5555555555555556,
             "#d8576b"
            ],
            [
             0.6666666666666666,
             "#ed7953"
            ],
            [
             0.7777777777777778,
             "#fb9f3a"
            ],
            [
             0.8888888888888888,
             "#fdca26"
            ],
            [
             1,
             "#f0f921"
            ]
           ]
          },
          "colorway": [
           "#636efa",
           "#EF553B",
           "#00cc96",
           "#ab63fa",
           "#FFA15A",
           "#19d3f3",
           "#FF6692",
           "#B6E880",
           "#FF97FF",
           "#FECB52"
          ],
          "font": {
           "color": "#2a3f5f"
          },
          "geo": {
           "bgcolor": "white",
           "lakecolor": "white",
           "landcolor": "#E5ECF6",
           "showlakes": true,
           "showland": true,
           "subunitcolor": "white"
          },
          "hoverlabel": {
           "align": "left"
          },
          "hovermode": "closest",
          "mapbox": {
           "style": "light"
          },
          "paper_bgcolor": "white",
          "plot_bgcolor": "#E5ECF6",
          "polar": {
           "angularaxis": {
            "gridcolor": "white",
            "linecolor": "white",
            "ticks": ""
           },
           "bgcolor": "#E5ECF6",
           "radialaxis": {
            "gridcolor": "white",
            "linecolor": "white",
            "ticks": ""
           }
          },
          "scene": {
           "xaxis": {
            "backgroundcolor": "#E5ECF6",
            "gridcolor": "white",
            "gridwidth": 2,
            "linecolor": "white",
            "showbackground": true,
            "ticks": "",
            "zerolinecolor": "white"
           },
           "yaxis": {
            "backgroundcolor": "#E5ECF6",
            "gridcolor": "white",
            "gridwidth": 2,
            "linecolor": "white",
            "showbackground": true,
            "ticks": "",
            "zerolinecolor": "white"
           },
           "zaxis": {
            "backgroundcolor": "#E5ECF6",
            "gridcolor": "white",
            "gridwidth": 2,
            "linecolor": "white",
            "showbackground": true,
            "ticks": "",
            "zerolinecolor": "white"
           }
          },
          "shapedefaults": {
           "line": {
            "color": "#2a3f5f"
           }
          },
          "ternary": {
           "aaxis": {
            "gridcolor": "white",
            "linecolor": "white",
            "ticks": ""
           },
           "baxis": {
            "gridcolor": "white",
            "linecolor": "white",
            "ticks": ""
           },
           "bgcolor": "#E5ECF6",
           "caxis": {
            "gridcolor": "white",
            "linecolor": "white",
            "ticks": ""
           }
          },
          "title": {
           "x": 0.05
          },
          "xaxis": {
           "automargin": true,
           "gridcolor": "white",
           "linecolor": "white",
           "ticks": "",
           "title": {
            "standoff": 15
           },
           "zerolinecolor": "white",
           "zerolinewidth": 2
          },
          "yaxis": {
           "automargin": true,
           "gridcolor": "white",
           "linecolor": "white",
           "ticks": "",
           "title": {
            "standoff": 15
           },
           "zerolinecolor": "white",
           "zerolinewidth": 2
          }
         }
        },
        "title": {
         "font": {
          "color": "#4D5663"
         }
        },
        "xaxis": {
         "anchor": "y",
         "domain": [
          0,
          0.2125
         ],
         "gridcolor": "#E1E5ED",
         "showgrid": false,
         "tickfont": {
          "color": "#4D5663"
         },
         "title": {
          "font": {
           "color": "#4D5663"
          },
          "text": ""
         },
         "zerolinecolor": "#E1E5ED"
        },
        "xaxis10": {
         "anchor": "y10",
         "domain": [
          0.2625,
          0.475
         ],
         "gridcolor": "#E1E5ED",
         "showgrid": false,
         "tickfont": {
          "color": "#4D5663"
         },
         "title": {
          "font": {
           "color": "#4D5663"
          },
          "text": ""
         },
         "zerolinecolor": "#E1E5ED"
        },
        "xaxis11": {
         "anchor": "y11",
         "domain": [
          0.525,
          0.7375
         ],
         "gridcolor": "#E1E5ED",
         "showgrid": false,
         "tickfont": {
          "color": "#4D5663"
         },
         "title": {
          "font": {
           "color": "#4D5663"
          },
          "text": ""
         },
         "zerolinecolor": "#E1E5ED"
        },
        "xaxis12": {
         "anchor": "y12",
         "domain": [
          0.7875,
          1
         ],
         "gridcolor": "#E1E5ED",
         "showgrid": false,
         "tickfont": {
          "color": "#4D5663"
         },
         "title": {
          "font": {
           "color": "#4D5663"
          },
          "text": ""
         },
         "zerolinecolor": "#E1E5ED"
        },
        "xaxis13": {
         "anchor": "y13",
         "domain": [
          0,
          0.2125
         ],
         "gridcolor": "#E1E5ED",
         "showgrid": false,
         "tickfont": {
          "color": "#4D5663"
         },
         "title": {
          "font": {
           "color": "#4D5663"
          },
          "text": ""
         },
         "zerolinecolor": "#E1E5ED"
        },
        "xaxis14": {
         "anchor": "y14",
         "domain": [
          0.2625,
          0.475
         ],
         "gridcolor": "#E1E5ED",
         "showgrid": false,
         "tickfont": {
          "color": "#4D5663"
         },
         "title": {
          "font": {
           "color": "#4D5663"
          },
          "text": ""
         },
         "zerolinecolor": "#E1E5ED"
        },
        "xaxis15": {
         "anchor": "y15",
         "domain": [
          0.525,
          0.7375
         ],
         "gridcolor": "#E1E5ED",
         "showgrid": false,
         "tickfont": {
          "color": "#4D5663"
         },
         "title": {
          "font": {
           "color": "#4D5663"
          },
          "text": ""
         },
         "zerolinecolor": "#E1E5ED"
        },
        "xaxis16": {
         "anchor": "y16",
         "domain": [
          0.7875,
          1
         ],
         "gridcolor": "#E1E5ED",
         "showgrid": false,
         "tickfont": {
          "color": "#4D5663"
         },
         "title": {
          "font": {
           "color": "#4D5663"
          },
          "text": ""
         },
         "zerolinecolor": "#E1E5ED"
        },
        "xaxis2": {
         "anchor": "y2",
         "domain": [
          0.2625,
          0.475
         ],
         "gridcolor": "#E1E5ED",
         "showgrid": false,
         "tickfont": {
          "color": "#4D5663"
         },
         "title": {
          "font": {
           "color": "#4D5663"
          },
          "text": ""
         },
         "zerolinecolor": "#E1E5ED"
        },
        "xaxis3": {
         "anchor": "y3",
         "domain": [
          0.525,
          0.7375
         ],
         "gridcolor": "#E1E5ED",
         "showgrid": false,
         "tickfont": {
          "color": "#4D5663"
         },
         "title": {
          "font": {
           "color": "#4D5663"
          },
          "text": ""
         },
         "zerolinecolor": "#E1E5ED"
        },
        "xaxis4": {
         "anchor": "y4",
         "domain": [
          0.7875,
          1
         ],
         "gridcolor": "#E1E5ED",
         "showgrid": false,
         "tickfont": {
          "color": "#4D5663"
         },
         "title": {
          "font": {
           "color": "#4D5663"
          },
          "text": ""
         },
         "zerolinecolor": "#E1E5ED"
        },
        "xaxis5": {
         "anchor": "y5",
         "domain": [
          0,
          0.2125
         ],
         "gridcolor": "#E1E5ED",
         "showgrid": false,
         "tickfont": {
          "color": "#4D5663"
         },
         "title": {
          "font": {
           "color": "#4D5663"
          },
          "text": ""
         },
         "zerolinecolor": "#E1E5ED"
        },
        "xaxis6": {
         "anchor": "y6",
         "domain": [
          0.2625,
          0.475
         ],
         "gridcolor": "#E1E5ED",
         "showgrid": false,
         "tickfont": {
          "color": "#4D5663"
         },
         "title": {
          "font": {
           "color": "#4D5663"
          },
          "text": ""
         },
         "zerolinecolor": "#E1E5ED"
        },
        "xaxis7": {
         "anchor": "y7",
         "domain": [
          0.525,
          0.7375
         ],
         "gridcolor": "#E1E5ED",
         "showgrid": false,
         "tickfont": {
          "color": "#4D5663"
         },
         "title": {
          "font": {
           "color": "#4D5663"
          },
          "text": ""
         },
         "zerolinecolor": "#E1E5ED"
        },
        "xaxis8": {
         "anchor": "y8",
         "domain": [
          0.7875,
          1
         ],
         "gridcolor": "#E1E5ED",
         "showgrid": false,
         "tickfont": {
          "color": "#4D5663"
         },
         "title": {
          "font": {
           "color": "#4D5663"
          },
          "text": ""
         },
         "zerolinecolor": "#E1E5ED"
        },
        "xaxis9": {
         "anchor": "y9",
         "domain": [
          0,
          0.2125
         ],
         "gridcolor": "#E1E5ED",
         "showgrid": false,
         "tickfont": {
          "color": "#4D5663"
         },
         "title": {
          "font": {
           "color": "#4D5663"
          },
          "text": ""
         },
         "zerolinecolor": "#E1E5ED"
        },
        "yaxis": {
         "anchor": "x",
         "domain": [
          0.8025,
          1
         ],
         "gridcolor": "#E1E5ED",
         "showgrid": false,
         "tickfont": {
          "color": "#4D5663"
         },
         "title": {
          "font": {
           "color": "#4D5663"
          },
          "text": ""
         },
         "zerolinecolor": "#E1E5ED"
        },
        "yaxis10": {
         "anchor": "x10",
         "domain": [
          0.2675,
          0.465
         ],
         "gridcolor": "#E1E5ED",
         "showgrid": false,
         "tickfont": {
          "color": "#4D5663"
         },
         "title": {
          "font": {
           "color": "#4D5663"
          },
          "text": ""
         },
         "zerolinecolor": "#E1E5ED"
        },
        "yaxis11": {
         "anchor": "x11",
         "domain": [
          0.2675,
          0.465
         ],
         "gridcolor": "#E1E5ED",
         "showgrid": false,
         "tickfont": {
          "color": "#4D5663"
         },
         "title": {
          "font": {
           "color": "#4D5663"
          },
          "text": ""
         },
         "zerolinecolor": "#E1E5ED"
        },
        "yaxis12": {
         "anchor": "x12",
         "domain": [
          0.2675,
          0.465
         ],
         "gridcolor": "#E1E5ED",
         "showgrid": false,
         "tickfont": {
          "color": "#4D5663"
         },
         "title": {
          "font": {
           "color": "#4D5663"
          },
          "text": ""
         },
         "zerolinecolor": "#E1E5ED"
        },
        "yaxis13": {
         "anchor": "x13",
         "domain": [
          0,
          0.1975
         ],
         "gridcolor": "#E1E5ED",
         "showgrid": false,
         "tickfont": {
          "color": "#4D5663"
         },
         "title": {
          "font": {
           "color": "#4D5663"
          },
          "text": ""
         },
         "zerolinecolor": "#E1E5ED"
        },
        "yaxis14": {
         "anchor": "x14",
         "domain": [
          0,
          0.1975
         ],
         "gridcolor": "#E1E5ED",
         "showgrid": false,
         "tickfont": {
          "color": "#4D5663"
         },
         "title": {
          "font": {
           "color": "#4D5663"
          },
          "text": ""
         },
         "zerolinecolor": "#E1E5ED"
        },
        "yaxis15": {
         "anchor": "x15",
         "domain": [
          0,
          0.1975
         ],
         "gridcolor": "#E1E5ED",
         "showgrid": false,
         "tickfont": {
          "color": "#4D5663"
         },
         "title": {
          "font": {
           "color": "#4D5663"
          },
          "text": ""
         },
         "zerolinecolor": "#E1E5ED"
        },
        "yaxis16": {
         "anchor": "x16",
         "domain": [
          0,
          0.1975
         ],
         "gridcolor": "#E1E5ED",
         "showgrid": false,
         "tickfont": {
          "color": "#4D5663"
         },
         "title": {
          "font": {
           "color": "#4D5663"
          },
          "text": ""
         },
         "zerolinecolor": "#E1E5ED"
        },
        "yaxis2": {
         "anchor": "x2",
         "domain": [
          0.8025,
          1
         ],
         "gridcolor": "#E1E5ED",
         "showgrid": false,
         "tickfont": {
          "color": "#4D5663"
         },
         "title": {
          "font": {
           "color": "#4D5663"
          },
          "text": ""
         },
         "zerolinecolor": "#E1E5ED"
        },
        "yaxis3": {
         "anchor": "x3",
         "domain": [
          0.8025,
          1
         ],
         "gridcolor": "#E1E5ED",
         "showgrid": false,
         "tickfont": {
          "color": "#4D5663"
         },
         "title": {
          "font": {
           "color": "#4D5663"
          },
          "text": ""
         },
         "zerolinecolor": "#E1E5ED"
        },
        "yaxis4": {
         "anchor": "x4",
         "domain": [
          0.8025,
          1
         ],
         "gridcolor": "#E1E5ED",
         "showgrid": false,
         "tickfont": {
          "color": "#4D5663"
         },
         "title": {
          "font": {
           "color": "#4D5663"
          },
          "text": ""
         },
         "zerolinecolor": "#E1E5ED"
        },
        "yaxis5": {
         "anchor": "x5",
         "domain": [
          0.535,
          0.7325
         ],
         "gridcolor": "#E1E5ED",
         "showgrid": false,
         "tickfont": {
          "color": "#4D5663"
         },
         "title": {
          "font": {
           "color": "#4D5663"
          },
          "text": ""
         },
         "zerolinecolor": "#E1E5ED"
        },
        "yaxis6": {
         "anchor": "x6",
         "domain": [
          0.535,
          0.7325
         ],
         "gridcolor": "#E1E5ED",
         "showgrid": false,
         "tickfont": {
          "color": "#4D5663"
         },
         "title": {
          "font": {
           "color": "#4D5663"
          },
          "text": ""
         },
         "zerolinecolor": "#E1E5ED"
        },
        "yaxis7": {
         "anchor": "x7",
         "domain": [
          0.535,
          0.7325
         ],
         "gridcolor": "#E1E5ED",
         "showgrid": false,
         "tickfont": {
          "color": "#4D5663"
         },
         "title": {
          "font": {
           "color": "#4D5663"
          },
          "text": ""
         },
         "zerolinecolor": "#E1E5ED"
        },
        "yaxis8": {
         "anchor": "x8",
         "domain": [
          0.535,
          0.7325
         ],
         "gridcolor": "#E1E5ED",
         "showgrid": false,
         "tickfont": {
          "color": "#4D5663"
         },
         "title": {
          "font": {
           "color": "#4D5663"
          },
          "text": ""
         },
         "zerolinecolor": "#E1E5ED"
        },
        "yaxis9": {
         "anchor": "x9",
         "domain": [
          0.2675,
          0.465
         ],
         "gridcolor": "#E1E5ED",
         "showgrid": false,
         "tickfont": {
          "color": "#4D5663"
         },
         "title": {
          "font": {
           "color": "#4D5663"
          },
          "text": ""
         },
         "zerolinecolor": "#E1E5ED"
        }
       }
      },
      "text/html": [
       "<div>\n",
       "        \n",
       "        \n",
       "            <div id=\"4a7b26e5-f76b-475c-a40f-8d46f90ab0c0\" class=\"plotly-graph-div\" style=\"height:525px; width:100%;\"></div>\n",
       "            <script type=\"text/javascript\">\n",
       "                require([\"plotly\"], function(Plotly) {\n",
       "                    window.PLOTLYENV=window.PLOTLYENV || {};\n",
       "                    window.PLOTLYENV.BASE_URL='https://plot.ly';\n",
       "                    \n",
       "                if (document.getElementById(\"4a7b26e5-f76b-475c-a40f-8d46f90ab0c0\")) {\n",
       "                    Plotly.newPlot(\n",
       "                        '4a7b26e5-f76b-475c-a40f-8d46f90ab0c0',\n",
       "                        [{\"histfunc\": \"count\", \"histnorm\": \"\", \"marker\": {\"color\": \"rgba(255, 153, 51, 1.0)\", \"line\": {\"color\": \"#4D5663\", \"width\": 1.3}}, \"name\": \"A\", \"nbinsx\": 10, \"opacity\": 0.8, \"orientation\": \"v\", \"type\": \"histogram\", \"x\": [-2.094397151479146, 1.3941214922326817, -0.49945361503735913, -0.7298780946612285, -0.05879101960786524, 1.2168416065981187, 0.8690073762945215, 1.0248764006001234, -0.15540585484017097, -0.16764986233001994, 0.7778984780061986, -1.2435593599915684, 0.25357332176071923, 2.856586915070549, 0.39692412082078316, -1.4345999368445181, -0.6162000698974652, 0.03476259517769596, -2.009145407801507, 1.4533919445471997, -0.8703182328567703, -0.6143084700493274, -0.34761024991025263, -0.05959062978705484, -0.7394525194780763, 0.8340378920527788, -1.0391812744474584, 0.17191340608343134, 0.1586781853253161, -0.7750487092439783, 0.438034060183595, -0.7280824873065657, -1.088870404711052, -0.8474580048152648, -2.0779113093562147, -0.3721246680362004, -0.5267640540901695, -1.2178948075205809, 0.4043518045817308, -1.0334344178968475, 0.49619293804226283, 1.8708464437680499, 1.0121451348718093, 0.4269126817452754, -1.2349673225939606, 0.39061767494739513, -0.6256157986469851, 1.0351111300950826, -0.2450626994913141, 0.06169580689106269, 1.2499050049827194, -0.8473351234707631, 0.6306685186978127, -1.9093082042900966, 0.24302207947724627, -0.19948169908255228, -0.750993574668388, 1.3137674387880596, -1.3441275580581578, -1.6729780203688531, 1.164152543022755, -0.5617310684333279, -1.332295393318157, -0.07760242062662576, -0.46830100567090677, -0.9494876742710063, 0.6281755129455628, -0.9333849785276441, -1.9957226612196735, -0.10762144124963756, 0.4208020094415041, 2.3769857538857306, 1.3782159691673053, 0.10990996413442164, -1.122310055421987, 0.9507291380354317, -0.4627422441340983, 1.3847759602273377, 0.7392940658133781, 1.3798724102148878, 1.0354438906558976, 1.170393638809026, 1.6744622234240154, -0.5340913166387504, 1.3192837607724976, -1.8217211430156675, -0.0955557940497877, -1.7025104060459593, 1.49330659712763, 1.4549119243746382, -0.44609922249017514, 2.2957166286477166, -1.0559690993793378, 0.8833646003473479, 0.8406456933235341, -0.17628257884410958, 0.22306309235647964, -0.034604504310288525, -0.8417879309313906, -1.978385623888586], \"xaxis\": \"x\", \"yaxis\": \"y\"}, {\"line\": {\"color\": \"rgba(128, 128, 128, 1.0)\", \"dash\": \"solid\", \"shape\": \"linear\", \"width\": 1.3}, \"marker\": {\"size\": 2, \"symbol\": \"circle\"}, \"mode\": \"markers\", \"name\": \"A\", \"text\": \"\", \"type\": \"scatter\", \"x\": [0.5144289608344228, 0.5724069466256909, -0.30819993513771204, -0.28761213166610755, -0.5458296642997473, 1.3342341378269325, -0.059879995787046364, 1.3787691268830158, 1.5187665540777449, -2.7519432034869826, -1.2056198902311772, -0.3629064877540202, 0.640991257007152, -0.47206448107358195, -1.0878072262077378, -0.15543977760143152, -0.8625906044930144, -1.7663404323726277, 1.064994168719819, -1.6184662127345653, -0.8190616080352211, 0.7866409263948574, -0.19045252367988008, 1.5969345615530797, -0.7044302258560525, -0.7900860768132202, -1.0735371514754384, 0.8012526553151388, -0.02553132822250245, -0.30582686018085536, 1.4651450194678122, -0.8071478717507671, 0.8376367062569227, -0.6329941306779358, 0.0867084974824401, 0.05027790087844485, -0.2647802167855846, 1.118984671133748, -0.5516072597736149, 1.8162088275534043, -0.44479829986457453, 0.1569398525620239, -1.3824017681664396, -0.036541635193980834, -0.7447235813408297, 1.0983606818404243, -0.5136529937783657, 1.7291436530420121, 0.1816288109054654, 0.9684547021866818, 1.5510770631391406, -1.0475474342787952, -0.6121541607127508, 1.0571791629492353, 0.4030738424095661, 0.5785052092954551, 0.41074496678539, -1.1472776811644665, -0.33404848635404577, 0.1032631854144026, 2.0443381358099395, -0.5966934895063976, 0.942536444239893, -0.9918626005209825, 2.44059767258467, -0.8491252491305082, 0.5155652443863213, -0.8476353923799457, -1.6795012845786021, 1.0044005780947, -0.7103791063828504, 0.5696648510909781, 0.6978372215304477, -1.306728185712887, -0.20781386971509166, 0.9986223565261442, 0.7651501071650623, 0.03834750962941581, -0.26329636784691046, -0.698448027060385, 0.8293742290726839, 0.5607838686827155, 0.8671309641732743, 0.894047112532386, 0.47888307509295996, 0.1892331690303111, -0.19289836917771339, 2.292177153010583, 0.251550634248612, 0.24654175294065175, 0.07806475208841698, 1.2137666385299004, -0.6859853527506332, -1.4133773145942006, -0.3635762036436802, -0.5853034319336741, -0.3089010394401241, -1.228501650071791, 0.22216134807810084, 1.3418905806243608], \"xaxis\": \"x2\", \"y\": [-2.094397151479146, 1.3941214922326817, -0.49945361503735913, -0.7298780946612285, -0.05879101960786524, 1.2168416065981187, 0.8690073762945215, 1.0248764006001234, -0.15540585484017097, -0.16764986233001994, 0.7778984780061986, -1.2435593599915684, 0.25357332176071923, 2.856586915070549, 0.39692412082078316, -1.4345999368445181, -0.6162000698974652, 0.03476259517769596, -2.009145407801507, 1.4533919445471997, -0.8703182328567703, -0.6143084700493274, -0.34761024991025263, -0.05959062978705484, -0.7394525194780763, 0.8340378920527788, -1.0391812744474584, 0.17191340608343134, 0.1586781853253161, -0.7750487092439783, 0.438034060183595, -0.7280824873065657, -1.088870404711052, -0.8474580048152648, -2.0779113093562147, -0.3721246680362004, -0.5267640540901695, -1.2178948075205809, 0.4043518045817308, -1.0334344178968475, 0.49619293804226283, 1.8708464437680499, 1.0121451348718093, 0.4269126817452754, -1.2349673225939606, 0.39061767494739513, -0.6256157986469851, 1.0351111300950826, -0.2450626994913141, 0.06169580689106269, 1.2499050049827194, -0.8473351234707631, 0.6306685186978127, -1.9093082042900966, 0.24302207947724627, -0.19948169908255228, -0.750993574668388, 1.3137674387880596, -1.3441275580581578, -1.6729780203688531, 1.164152543022755, -0.5617310684333279, -1.332295393318157, -0.07760242062662576, -0.46830100567090677, -0.9494876742710063, 0.6281755129455628, -0.9333849785276441, -1.9957226612196735, -0.10762144124963756, 0.4208020094415041, 2.3769857538857306, 1.3782159691673053, 0.10990996413442164, -1.122310055421987, 0.9507291380354317, -0.4627422441340983, 1.3847759602273377, 0.7392940658133781, 1.3798724102148878, 1.0354438906558976, 1.170393638809026, 1.6744622234240154, -0.5340913166387504, 1.3192837607724976, -1.8217211430156675, -0.0955557940497877, -1.7025104060459593, 1.49330659712763, 1.4549119243746382, -0.44609922249017514, 2.2957166286477166, -1.0559690993793378, 0.8833646003473479, 0.8406456933235341, -0.17628257884410958, 0.22306309235647964, -0.034604504310288525, -0.8417879309313906, -1.978385623888586], \"yaxis\": \"y2\"}, {\"line\": {\"color\": \"rgba(128, 128, 128, 1.0)\", \"dash\": \"solid\", \"shape\": \"linear\", \"width\": 1.3}, \"marker\": {\"size\": 2, \"symbol\": \"circle\"}, \"mode\": \"markers\", \"name\": \"A\", \"text\": \"\", \"type\": \"scatter\", \"x\": [-0.30633971724473613, -0.5234550101146769, 0.2478488034051314, 0.6578260314485772, 0.6100622628342298, 0.032581612992109536, 0.07456945813487535, 0.2610424110646733, 0.3351846375278415, -0.8358639832336577, 0.4686070749662074, -0.9122092779836232, -0.7803246155139458, 0.6602989279747916, -0.28620935953392296, -1.0778324203072733, 0.48963591508823806, 1.0671437539530921, 1.0855163362186933, -1.8114429646062313, -2.247410773899347, 0.8324518797822211, 0.9156254816843685, 0.45753093853990545, 0.35479727188256155, -1.2894696780643116, 0.1031350503254655, -0.1437613113260787, -0.9137165933613629, -0.8924245674469968, 0.027752492865393687, -1.6471565973337845, -0.01948312925464501, 1.4165837322672976, -0.666560449859305, 0.7292231555751252, -1.146714693185556, 0.675094245687191, -1.6637968925303812, 0.5816901620763231, -0.6941354547354356, -0.6953760752736109, 0.7426906363376657, -1.7226095764455585, 0.3609859988169621, -0.19804856575689886, 0.8750661094019057, 1.168208952094026, 0.010440059391869854, -0.11788995387973426, -0.08252714682164242, 0.9798595763668482, 0.2469279685957641, -0.12695923071965273, -0.1791752141982507, -0.42565723605537, -0.624914201256451, 1.659369571600921, 0.7695011878549151, 1.1913134833806651, 0.466093934926341, 1.4421627085964253, -0.2815350530159152, 0.5227302571946018, -0.501006197467369, 0.6698827380804052, -0.5980283747965494, -0.2745834025311717, -0.8139262634868277, 0.24505022348252758, 0.706659414513232, 1.4429091507920122, -0.5315623598845203, 0.7312833614853783, -0.6940297068865078, 1.8532400268662255, 0.2567757922196267, -1.0281102150048418, -1.367360751504298, -0.1052404363550915, 0.11663141514226394, -1.0663414140660066, 0.09268557763093996, -0.45436556126859795, -0.27804832733063795, 0.3263765879782635, 0.9550041351946619, 0.6103649848324788, -0.48527758768357315, -0.2457889274010022, -0.05277339409865519, 2.586915296705645, 0.7168061235910601, -0.050688695883621036, 1.2017495715039697, 0.5857050148380992, 0.6555654907218712, 1.0382388400092144, -0.540854983782837, 0.7478846368194215], \"xaxis\": \"x3\", \"y\": [-2.094397151479146, 1.3941214922326817, -0.49945361503735913, -0.7298780946612285, -0.05879101960786524, 1.2168416065981187, 0.8690073762945215, 1.0248764006001234, -0.15540585484017097, -0.16764986233001994, 0.7778984780061986, -1.2435593599915684, 0.25357332176071923, 2.856586915070549, 0.39692412082078316, -1.4345999368445181, -0.6162000698974652, 0.03476259517769596, -2.009145407801507, 1.4533919445471997, -0.8703182328567703, -0.6143084700493274, -0.34761024991025263, -0.05959062978705484, -0.7394525194780763, 0.8340378920527788, -1.0391812744474584, 0.17191340608343134, 0.1586781853253161, -0.7750487092439783, 0.438034060183595, -0.7280824873065657, -1.088870404711052, -0.8474580048152648, -2.0779113093562147, -0.3721246680362004, -0.5267640540901695, -1.2178948075205809, 0.4043518045817308, -1.0334344178968475, 0.49619293804226283, 1.8708464437680499, 1.0121451348718093, 0.4269126817452754, -1.2349673225939606, 0.39061767494739513, -0.6256157986469851, 1.0351111300950826, -0.2450626994913141, 0.06169580689106269, 1.2499050049827194, -0.8473351234707631, 0.6306685186978127, -1.9093082042900966, 0.24302207947724627, -0.19948169908255228, -0.750993574668388, 1.3137674387880596, -1.3441275580581578, -1.6729780203688531, 1.164152543022755, -0.5617310684333279, -1.332295393318157, -0.07760242062662576, -0.46830100567090677, -0.9494876742710063, 0.6281755129455628, -0.9333849785276441, -1.9957226612196735, -0.10762144124963756, 0.4208020094415041, 2.3769857538857306, 1.3782159691673053, 0.10990996413442164, -1.122310055421987, 0.9507291380354317, -0.4627422441340983, 1.3847759602273377, 0.7392940658133781, 1.3798724102148878, 1.0354438906558976, 1.170393638809026, 1.6744622234240154, -0.5340913166387504, 1.3192837607724976, -1.8217211430156675, -0.0955557940497877, -1.7025104060459593, 1.49330659712763, 1.4549119243746382, -0.44609922249017514, 2.2957166286477166, -1.0559690993793378, 0.8833646003473479, 0.8406456933235341, -0.17628257884410958, 0.22306309235647964, -0.034604504310288525, -0.8417879309313906, -1.978385623888586], \"yaxis\": \"y3\"}, {\"line\": {\"color\": \"rgba(128, 128, 128, 1.0)\", \"dash\": \"solid\", \"shape\": \"linear\", \"width\": 1.3}, \"marker\": {\"size\": 2, \"symbol\": \"circle\"}, \"mode\": \"markers\", \"name\": \"A\", \"text\": \"\", \"type\": \"scatter\", \"x\": [-0.2604507371041075, -1.9643665654128082, 0.12641842238158893, 1.7081905768115073, -0.49220866918519124, 0.656218003349655, 2.144116227630546, -1.4084719232733882, -1.178791535445807, 0.09233705323372739, -0.12639330314397007, -0.5920427977413246, -0.3296786702620065, -0.5767269925853163, 1.697169024762262, -0.5186242574799267, -0.2686631492690273, -1.4070832344050308, 1.3628508253292413, 0.031301986381084834, -0.158763294918046, -0.24044418555289648, 0.06426934268757235, 0.239467677136593, 1.3899558496562443, 0.42376507027982047, -0.9682451764859047, 1.8423874026042768, -0.8000199212148114, 1.8248070776087995, -1.1704179498651104, 0.009217647861796225, -0.4615465327731627, -0.6397743914369046, 0.6601869572436313, -0.05300165184856359, -0.07910088147815135, -0.19938932679475294, -1.5473601500030505, -0.08994240763913981, 1.4570202350991852, -0.3736716419214809, 0.20381548004125066, 0.012330516866901163, -0.5945780890656976, -2.223860549270489, 0.3734888706607538, -0.2364090799456908, -0.7729380881223636, 1.2603586592523537, 0.3842833696951564, 0.5791794096935158, 1.353317343012976, 0.08124063052159122, -0.9912860929000638, -1.0790433465006497, 1.0256887261366971, -0.15558245574534268, -1.7808556342887163, -0.846480714418734, -0.025414806946941267, 1.1256254054636576, 0.0820178613140621, 0.42008087621067003, 0.008815878738345264, -0.7492475351141584, 0.46056187813653876, -0.2285617060563285, -0.28302197182181404, -0.7264504966966434, -1.5202670980524595, -0.04317907055632232, 1.1384828294997618, -0.34930916092794906, -1.1846910860236932, -1.6466426369738534, -0.025512980880705114, -0.09916625939818707, -0.5928646303423978, 0.12510029685148205, -0.6708380179370568, -0.7842889382471772, -0.27065078646682583, 1.0096056760094503, -0.5343694089995189, -0.11891612717518474, 0.3919681251273001, 0.24304243949453247, 0.14327218346926662, -0.6455143513378283, 0.071661142219256, -0.739734052321834, 0.01181871927618938, -0.988190195531898, -0.0235204034177497, 0.31330215060320904, 0.16911247600845583, 0.6868502531236088, -1.2686843768528009, 0.8848205635957239], \"xaxis\": \"x4\", \"y\": [-2.094397151479146, 1.3941214922326817, -0.49945361503735913, -0.7298780946612285, -0.05879101960786524, 1.2168416065981187, 0.8690073762945215, 1.0248764006001234, -0.15540585484017097, -0.16764986233001994, 0.7778984780061986, -1.2435593599915684, 0.25357332176071923, 2.856586915070549, 0.39692412082078316, -1.4345999368445181, -0.6162000698974652, 0.03476259517769596, -2.009145407801507, 1.4533919445471997, -0.8703182328567703, -0.6143084700493274, -0.34761024991025263, -0.05959062978705484, -0.7394525194780763, 0.8340378920527788, -1.0391812744474584, 0.17191340608343134, 0.1586781853253161, -0.7750487092439783, 0.438034060183595, -0.7280824873065657, -1.088870404711052, -0.8474580048152648, -2.0779113093562147, -0.3721246680362004, -0.5267640540901695, -1.2178948075205809, 0.4043518045817308, -1.0334344178968475, 0.49619293804226283, 1.8708464437680499, 1.0121451348718093, 0.4269126817452754, -1.2349673225939606, 0.39061767494739513, -0.6256157986469851, 1.0351111300950826, -0.2450626994913141, 0.06169580689106269, 1.2499050049827194, -0.8473351234707631, 0.6306685186978127, -1.9093082042900966, 0.24302207947724627, -0.19948169908255228, -0.750993574668388, 1.3137674387880596, -1.3441275580581578, -1.6729780203688531, 1.164152543022755, -0.5617310684333279, -1.332295393318157, -0.07760242062662576, -0.46830100567090677, -0.9494876742710063, 0.6281755129455628, -0.9333849785276441, -1.9957226612196735, -0.10762144124963756, 0.4208020094415041, 2.3769857538857306, 1.3782159691673053, 0.10990996413442164, -1.122310055421987, 0.9507291380354317, -0.4627422441340983, 1.3847759602273377, 0.7392940658133781, 1.3798724102148878, 1.0354438906558976, 1.170393638809026, 1.6744622234240154, -0.5340913166387504, 1.3192837607724976, -1.8217211430156675, -0.0955557940497877, -1.7025104060459593, 1.49330659712763, 1.4549119243746382, -0.44609922249017514, 2.2957166286477166, -1.0559690993793378, 0.8833646003473479, 0.8406456933235341, -0.17628257884410958, 0.22306309235647964, -0.034604504310288525, -0.8417879309313906, -1.978385623888586], \"yaxis\": \"y4\"}, {\"line\": {\"color\": \"rgba(128, 128, 128, 1.0)\", \"dash\": \"solid\", \"shape\": \"linear\", \"width\": 1.3}, \"marker\": {\"size\": 2, \"symbol\": \"circle\"}, \"mode\": \"markers\", \"name\": \"B\", \"text\": \"\", \"type\": \"scatter\", \"x\": [-2.094397151479146, 1.3941214922326817, -0.49945361503735913, -0.7298780946612285, -0.05879101960786524, 1.2168416065981187, 0.8690073762945215, 1.0248764006001234, -0.15540585484017097, -0.16764986233001994, 0.7778984780061986, -1.2435593599915684, 0.25357332176071923, 2.856586915070549, 0.39692412082078316, -1.4345999368445181, -0.6162000698974652, 0.03476259517769596, -2.009145407801507, 1.4533919445471997, -0.8703182328567703, -0.6143084700493274, -0.34761024991025263, -0.05959062978705484, -0.7394525194780763, 0.8340378920527788, -1.0391812744474584, 0.17191340608343134, 0.1586781853253161, -0.7750487092439783, 0.438034060183595, -0.7280824873065657, -1.088870404711052, -0.8474580048152648, -2.0779113093562147, -0.3721246680362004, -0.5267640540901695, -1.2178948075205809, 0.4043518045817308, -1.0334344178968475, 0.49619293804226283, 1.8708464437680499, 1.0121451348718093, 0.4269126817452754, -1.2349673225939606, 0.39061767494739513, -0.6256157986469851, 1.0351111300950826, -0.2450626994913141, 0.06169580689106269, 1.2499050049827194, -0.8473351234707631, 0.6306685186978127, -1.9093082042900966, 0.24302207947724627, -0.19948169908255228, -0.750993574668388, 1.3137674387880596, -1.3441275580581578, -1.6729780203688531, 1.164152543022755, -0.5617310684333279, -1.332295393318157, -0.07760242062662576, -0.46830100567090677, -0.9494876742710063, 0.6281755129455628, -0.9333849785276441, -1.9957226612196735, -0.10762144124963756, 0.4208020094415041, 2.3769857538857306, 1.3782159691673053, 0.10990996413442164, -1.122310055421987, 0.9507291380354317, -0.4627422441340983, 1.3847759602273377, 0.7392940658133781, 1.3798724102148878, 1.0354438906558976, 1.170393638809026, 1.6744622234240154, -0.5340913166387504, 1.3192837607724976, -1.8217211430156675, -0.0955557940497877, -1.7025104060459593, 1.49330659712763, 1.4549119243746382, -0.44609922249017514, 2.2957166286477166, -1.0559690993793378, 0.8833646003473479, 0.8406456933235341, -0.17628257884410958, 0.22306309235647964, -0.034604504310288525, -0.8417879309313906, -1.978385623888586], \"xaxis\": \"x5\", \"y\": [0.5144289608344228, 0.5724069466256909, -0.30819993513771204, -0.28761213166610755, -0.5458296642997473, 1.3342341378269325, -0.059879995787046364, 1.3787691268830158, 1.5187665540777449, -2.7519432034869826, -1.2056198902311772, -0.3629064877540202, 0.640991257007152, -0.47206448107358195, -1.0878072262077378, -0.15543977760143152, -0.8625906044930144, -1.7663404323726277, 1.064994168719819, -1.6184662127345653, -0.8190616080352211, 0.7866409263948574, -0.19045252367988008, 1.5969345615530797, -0.7044302258560525, -0.7900860768132202, -1.0735371514754384, 0.8012526553151388, -0.02553132822250245, -0.30582686018085536, 1.4651450194678122, -0.8071478717507671, 0.8376367062569227, -0.6329941306779358, 0.0867084974824401, 0.05027790087844485, -0.2647802167855846, 1.118984671133748, -0.5516072597736149, 1.8162088275534043, -0.44479829986457453, 0.1569398525620239, -1.3824017681664396, -0.036541635193980834, -0.7447235813408297, 1.0983606818404243, -0.5136529937783657, 1.7291436530420121, 0.1816288109054654, 0.9684547021866818, 1.5510770631391406, -1.0475474342787952, -0.6121541607127508, 1.0571791629492353, 0.4030738424095661, 0.5785052092954551, 0.41074496678539, -1.1472776811644665, -0.33404848635404577, 0.1032631854144026, 2.0443381358099395, -0.5966934895063976, 0.942536444239893, -0.9918626005209825, 2.44059767258467, -0.8491252491305082, 0.5155652443863213, -0.8476353923799457, -1.6795012845786021, 1.0044005780947, -0.7103791063828504, 0.5696648510909781, 0.6978372215304477, -1.306728185712887, -0.20781386971509166, 0.9986223565261442, 0.7651501071650623, 0.03834750962941581, -0.26329636784691046, -0.698448027060385, 0.8293742290726839, 0.5607838686827155, 0.8671309641732743, 0.894047112532386, 0.47888307509295996, 0.1892331690303111, -0.19289836917771339, 2.292177153010583, 0.251550634248612, 0.24654175294065175, 0.07806475208841698, 1.2137666385299004, -0.6859853527506332, -1.4133773145942006, -0.3635762036436802, -0.5853034319336741, -0.3089010394401241, -1.228501650071791, 0.22216134807810084, 1.3418905806243608], \"yaxis\": \"y5\"}, {\"histfunc\": \"count\", \"histnorm\": \"\", \"marker\": {\"color\": \"rgba(55, 128, 191, 1.0)\", \"line\": {\"color\": \"#4D5663\", \"width\": 1.3}}, \"name\": \"B\", \"nbinsx\": 10, \"opacity\": 0.8, \"orientation\": \"v\", \"type\": \"histogram\", \"x\": [0.5144289608344228, 0.5724069466256909, -0.30819993513771204, -0.28761213166610755, -0.5458296642997473, 1.3342341378269325, -0.059879995787046364, 1.3787691268830158, 1.5187665540777449, -2.7519432034869826, -1.2056198902311772, -0.3629064877540202, 0.640991257007152, -0.47206448107358195, -1.0878072262077378, -0.15543977760143152, -0.8625906044930144, -1.7663404323726277, 1.064994168719819, -1.6184662127345653, -0.8190616080352211, 0.7866409263948574, -0.19045252367988008, 1.5969345615530797, -0.7044302258560525, -0.7900860768132202, -1.0735371514754384, 0.8012526553151388, -0.02553132822250245, -0.30582686018085536, 1.4651450194678122, -0.8071478717507671, 0.8376367062569227, -0.6329941306779358, 0.0867084974824401, 0.05027790087844485, -0.2647802167855846, 1.118984671133748, -0.5516072597736149, 1.8162088275534043, -0.44479829986457453, 0.1569398525620239, -1.3824017681664396, -0.036541635193980834, -0.7447235813408297, 1.0983606818404243, -0.5136529937783657, 1.7291436530420121, 0.1816288109054654, 0.9684547021866818, 1.5510770631391406, -1.0475474342787952, -0.6121541607127508, 1.0571791629492353, 0.4030738424095661, 0.5785052092954551, 0.41074496678539, -1.1472776811644665, -0.33404848635404577, 0.1032631854144026, 2.0443381358099395, -0.5966934895063976, 0.942536444239893, -0.9918626005209825, 2.44059767258467, -0.8491252491305082, 0.5155652443863213, -0.8476353923799457, -1.6795012845786021, 1.0044005780947, -0.7103791063828504, 0.5696648510909781, 0.6978372215304477, -1.306728185712887, -0.20781386971509166, 0.9986223565261442, 0.7651501071650623, 0.03834750962941581, -0.26329636784691046, -0.698448027060385, 0.8293742290726839, 0.5607838686827155, 0.8671309641732743, 0.894047112532386, 0.47888307509295996, 0.1892331690303111, -0.19289836917771339, 2.292177153010583, 0.251550634248612, 0.24654175294065175, 0.07806475208841698, 1.2137666385299004, -0.6859853527506332, -1.4133773145942006, -0.3635762036436802, -0.5853034319336741, -0.3089010394401241, -1.228501650071791, 0.22216134807810084, 1.3418905806243608], \"xaxis\": \"x6\", \"yaxis\": \"y6\"}, {\"line\": {\"color\": \"rgba(128, 128, 128, 1.0)\", \"dash\": \"solid\", \"shape\": \"linear\", \"width\": 1.3}, \"marker\": {\"size\": 2, \"symbol\": \"circle\"}, \"mode\": \"markers\", \"name\": \"B\", \"text\": \"\", \"type\": \"scatter\", \"x\": [-0.30633971724473613, -0.5234550101146769, 0.2478488034051314, 0.6578260314485772, 0.6100622628342298, 0.032581612992109536, 0.07456945813487535, 0.2610424110646733, 0.3351846375278415, -0.8358639832336577, 0.4686070749662074, -0.9122092779836232, -0.7803246155139458, 0.6602989279747916, -0.28620935953392296, -1.0778324203072733, 0.48963591508823806, 1.0671437539530921, 1.0855163362186933, -1.8114429646062313, -2.247410773899347, 0.8324518797822211, 0.9156254816843685, 0.45753093853990545, 0.35479727188256155, -1.2894696780643116, 0.1031350503254655, -0.1437613113260787, -0.9137165933613629, -0.8924245674469968, 0.027752492865393687, -1.6471565973337845, -0.01948312925464501, 1.4165837322672976, -0.666560449859305, 0.7292231555751252, -1.146714693185556, 0.675094245687191, -1.6637968925303812, 0.5816901620763231, -0.6941354547354356, -0.6953760752736109, 0.7426906363376657, -1.7226095764455585, 0.3609859988169621, -0.19804856575689886, 0.8750661094019057, 1.168208952094026, 0.010440059391869854, -0.11788995387973426, -0.08252714682164242, 0.9798595763668482, 0.2469279685957641, -0.12695923071965273, -0.1791752141982507, -0.42565723605537, -0.624914201256451, 1.659369571600921, 0.7695011878549151, 1.1913134833806651, 0.466093934926341, 1.4421627085964253, -0.2815350530159152, 0.5227302571946018, -0.501006197467369, 0.6698827380804052, -0.5980283747965494, -0.2745834025311717, -0.8139262634868277, 0.24505022348252758, 0.706659414513232, 1.4429091507920122, -0.5315623598845203, 0.7312833614853783, -0.6940297068865078, 1.8532400268662255, 0.2567757922196267, -1.0281102150048418, -1.367360751504298, -0.1052404363550915, 0.11663141514226394, -1.0663414140660066, 0.09268557763093996, -0.45436556126859795, -0.27804832733063795, 0.3263765879782635, 0.9550041351946619, 0.6103649848324788, -0.48527758768357315, -0.2457889274010022, -0.05277339409865519, 2.586915296705645, 0.7168061235910601, -0.050688695883621036, 1.2017495715039697, 0.5857050148380992, 0.6555654907218712, 1.0382388400092144, -0.540854983782837, 0.7478846368194215], \"xaxis\": \"x7\", \"y\": [0.5144289608344228, 0.5724069466256909, -0.30819993513771204, -0.28761213166610755, -0.5458296642997473, 1.3342341378269325, -0.059879995787046364, 1.3787691268830158, 1.5187665540777449, -2.7519432034869826, -1.2056198902311772, -0.3629064877540202, 0.640991257007152, -0.47206448107358195, -1.0878072262077378, -0.15543977760143152, -0.8625906044930144, -1.7663404323726277, 1.064994168719819, -1.6184662127345653, -0.8190616080352211, 0.7866409263948574, -0.19045252367988008, 1.5969345615530797, -0.7044302258560525, -0.7900860768132202, -1.0735371514754384, 0.8012526553151388, -0.02553132822250245, -0.30582686018085536, 1.4651450194678122, -0.8071478717507671, 0.8376367062569227, -0.6329941306779358, 0.0867084974824401, 0.05027790087844485, -0.2647802167855846, 1.118984671133748, -0.5516072597736149, 1.8162088275534043, -0.44479829986457453, 0.1569398525620239, -1.3824017681664396, -0.036541635193980834, -0.7447235813408297, 1.0983606818404243, -0.5136529937783657, 1.7291436530420121, 0.1816288109054654, 0.9684547021866818, 1.5510770631391406, -1.0475474342787952, -0.6121541607127508, 1.0571791629492353, 0.4030738424095661, 0.5785052092954551, 0.41074496678539, -1.1472776811644665, -0.33404848635404577, 0.1032631854144026, 2.0443381358099395, -0.5966934895063976, 0.942536444239893, -0.9918626005209825, 2.44059767258467, -0.8491252491305082, 0.5155652443863213, -0.8476353923799457, -1.6795012845786021, 1.0044005780947, -0.7103791063828504, 0.5696648510909781, 0.6978372215304477, -1.306728185712887, -0.20781386971509166, 0.9986223565261442, 0.7651501071650623, 0.03834750962941581, -0.26329636784691046, -0.698448027060385, 0.8293742290726839, 0.5607838686827155, 0.8671309641732743, 0.894047112532386, 0.47888307509295996, 0.1892331690303111, -0.19289836917771339, 2.292177153010583, 0.251550634248612, 0.24654175294065175, 0.07806475208841698, 1.2137666385299004, -0.6859853527506332, -1.4133773145942006, -0.3635762036436802, -0.5853034319336741, -0.3089010394401241, -1.228501650071791, 0.22216134807810084, 1.3418905806243608], \"yaxis\": \"y7\"}, {\"line\": {\"color\": \"rgba(128, 128, 128, 1.0)\", \"dash\": \"solid\", \"shape\": \"linear\", \"width\": 1.3}, \"marker\": {\"size\": 2, \"symbol\": \"circle\"}, \"mode\": \"markers\", \"name\": \"B\", \"text\": \"\", \"type\": \"scatter\", \"x\": [-0.2604507371041075, -1.9643665654128082, 0.12641842238158893, 1.7081905768115073, -0.49220866918519124, 0.656218003349655, 2.144116227630546, -1.4084719232733882, -1.178791535445807, 0.09233705323372739, -0.12639330314397007, -0.5920427977413246, -0.3296786702620065, -0.5767269925853163, 1.697169024762262, -0.5186242574799267, -0.2686631492690273, -1.4070832344050308, 1.3628508253292413, 0.031301986381084834, -0.158763294918046, -0.24044418555289648, 0.06426934268757235, 0.239467677136593, 1.3899558496562443, 0.42376507027982047, -0.9682451764859047, 1.8423874026042768, -0.8000199212148114, 1.8248070776087995, -1.1704179498651104, 0.009217647861796225, -0.4615465327731627, -0.6397743914369046, 0.6601869572436313, -0.05300165184856359, -0.07910088147815135, -0.19938932679475294, -1.5473601500030505, -0.08994240763913981, 1.4570202350991852, -0.3736716419214809, 0.20381548004125066, 0.012330516866901163, -0.5945780890656976, -2.223860549270489, 0.3734888706607538, -0.2364090799456908, -0.7729380881223636, 1.2603586592523537, 0.3842833696951564, 0.5791794096935158, 1.353317343012976, 0.08124063052159122, -0.9912860929000638, -1.0790433465006497, 1.0256887261366971, -0.15558245574534268, -1.7808556342887163, -0.846480714418734, -0.025414806946941267, 1.1256254054636576, 0.0820178613140621, 0.42008087621067003, 0.008815878738345264, -0.7492475351141584, 0.46056187813653876, -0.2285617060563285, -0.28302197182181404, -0.7264504966966434, -1.5202670980524595, -0.04317907055632232, 1.1384828294997618, -0.34930916092794906, -1.1846910860236932, -1.6466426369738534, -0.025512980880705114, -0.09916625939818707, -0.5928646303423978, 0.12510029685148205, -0.6708380179370568, -0.7842889382471772, -0.27065078646682583, 1.0096056760094503, -0.5343694089995189, -0.11891612717518474, 0.3919681251273001, 0.24304243949453247, 0.14327218346926662, -0.6455143513378283, 0.071661142219256, -0.739734052321834, 0.01181871927618938, -0.988190195531898, -0.0235204034177497, 0.31330215060320904, 0.16911247600845583, 0.6868502531236088, -1.2686843768528009, 0.8848205635957239], \"xaxis\": \"x8\", \"y\": [0.5144289608344228, 0.5724069466256909, -0.30819993513771204, -0.28761213166610755, -0.5458296642997473, 1.3342341378269325, -0.059879995787046364, 1.3787691268830158, 1.5187665540777449, -2.7519432034869826, -1.2056198902311772, -0.3629064877540202, 0.640991257007152, -0.47206448107358195, -1.0878072262077378, -0.15543977760143152, -0.8625906044930144, -1.7663404323726277, 1.064994168719819, -1.6184662127345653, -0.8190616080352211, 0.7866409263948574, -0.19045252367988008, 1.5969345615530797, -0.7044302258560525, -0.7900860768132202, -1.0735371514754384, 0.8012526553151388, -0.02553132822250245, -0.30582686018085536, 1.4651450194678122, -0.8071478717507671, 0.8376367062569227, -0.6329941306779358, 0.0867084974824401, 0.05027790087844485, -0.2647802167855846, 1.118984671133748, -0.5516072597736149, 1.8162088275534043, -0.44479829986457453, 0.1569398525620239, -1.3824017681664396, -0.036541635193980834, -0.7447235813408297, 1.0983606818404243, -0.5136529937783657, 1.7291436530420121, 0.1816288109054654, 0.9684547021866818, 1.5510770631391406, -1.0475474342787952, -0.6121541607127508, 1.0571791629492353, 0.4030738424095661, 0.5785052092954551, 0.41074496678539, -1.1472776811644665, -0.33404848635404577, 0.1032631854144026, 2.0443381358099395, -0.5966934895063976, 0.942536444239893, -0.9918626005209825, 2.44059767258467, -0.8491252491305082, 0.5155652443863213, -0.8476353923799457, -1.6795012845786021, 1.0044005780947, -0.7103791063828504, 0.5696648510909781, 0.6978372215304477, -1.306728185712887, -0.20781386971509166, 0.9986223565261442, 0.7651501071650623, 0.03834750962941581, -0.26329636784691046, -0.698448027060385, 0.8293742290726839, 0.5607838686827155, 0.8671309641732743, 0.894047112532386, 0.47888307509295996, 0.1892331690303111, -0.19289836917771339, 2.292177153010583, 0.251550634248612, 0.24654175294065175, 0.07806475208841698, 1.2137666385299004, -0.6859853527506332, -1.4133773145942006, -0.3635762036436802, -0.5853034319336741, -0.3089010394401241, -1.228501650071791, 0.22216134807810084, 1.3418905806243608], \"yaxis\": \"y8\"}, {\"line\": {\"color\": \"rgba(128, 128, 128, 1.0)\", \"dash\": \"solid\", \"shape\": \"linear\", \"width\": 1.3}, \"marker\": {\"size\": 2, \"symbol\": \"circle\"}, \"mode\": \"markers\", \"name\": \"C\", \"text\": \"\", \"type\": \"scatter\", \"x\": [-2.094397151479146, 1.3941214922326817, -0.49945361503735913, -0.7298780946612285, -0.05879101960786524, 1.2168416065981187, 0.8690073762945215, 1.0248764006001234, -0.15540585484017097, -0.16764986233001994, 0.7778984780061986, -1.2435593599915684, 0.25357332176071923, 2.856586915070549, 0.39692412082078316, -1.4345999368445181, -0.6162000698974652, 0.03476259517769596, -2.009145407801507, 1.4533919445471997, -0.8703182328567703, -0.6143084700493274, -0.34761024991025263, -0.05959062978705484, -0.7394525194780763, 0.8340378920527788, -1.0391812744474584, 0.17191340608343134, 0.1586781853253161, -0.7750487092439783, 0.438034060183595, -0.7280824873065657, -1.088870404711052, -0.8474580048152648, -2.0779113093562147, -0.3721246680362004, -0.5267640540901695, -1.2178948075205809, 0.4043518045817308, -1.0334344178968475, 0.49619293804226283, 1.8708464437680499, 1.0121451348718093, 0.4269126817452754, -1.2349673225939606, 0.39061767494739513, -0.6256157986469851, 1.0351111300950826, -0.2450626994913141, 0.06169580689106269, 1.2499050049827194, -0.8473351234707631, 0.6306685186978127, -1.9093082042900966, 0.24302207947724627, -0.19948169908255228, -0.750993574668388, 1.3137674387880596, -1.3441275580581578, -1.6729780203688531, 1.164152543022755, -0.5617310684333279, -1.332295393318157, -0.07760242062662576, -0.46830100567090677, -0.9494876742710063, 0.6281755129455628, -0.9333849785276441, -1.9957226612196735, -0.10762144124963756, 0.4208020094415041, 2.3769857538857306, 1.3782159691673053, 0.10990996413442164, -1.122310055421987, 0.9507291380354317, -0.4627422441340983, 1.3847759602273377, 0.7392940658133781, 1.3798724102148878, 1.0354438906558976, 1.170393638809026, 1.6744622234240154, -0.5340913166387504, 1.3192837607724976, -1.8217211430156675, -0.0955557940497877, -1.7025104060459593, 1.49330659712763, 1.4549119243746382, -0.44609922249017514, 2.2957166286477166, -1.0559690993793378, 0.8833646003473479, 0.8406456933235341, -0.17628257884410958, 0.22306309235647964, -0.034604504310288525, -0.8417879309313906, -1.978385623888586], \"xaxis\": \"x9\", \"y\": [-0.30633971724473613, -0.5234550101146769, 0.2478488034051314, 0.6578260314485772, 0.6100622628342298, 0.032581612992109536, 0.07456945813487535, 0.2610424110646733, 0.3351846375278415, -0.8358639832336577, 0.4686070749662074, -0.9122092779836232, -0.7803246155139458, 0.6602989279747916, -0.28620935953392296, -1.0778324203072733, 0.48963591508823806, 1.0671437539530921, 1.0855163362186933, -1.8114429646062313, -2.247410773899347, 0.8324518797822211, 0.9156254816843685, 0.45753093853990545, 0.35479727188256155, -1.2894696780643116, 0.1031350503254655, -0.1437613113260787, -0.9137165933613629, -0.8924245674469968, 0.027752492865393687, -1.6471565973337845, -0.01948312925464501, 1.4165837322672976, -0.666560449859305, 0.7292231555751252, -1.146714693185556, 0.675094245687191, -1.6637968925303812, 0.5816901620763231, -0.6941354547354356, -0.6953760752736109, 0.7426906363376657, -1.7226095764455585, 0.3609859988169621, -0.19804856575689886, 0.8750661094019057, 1.168208952094026, 0.010440059391869854, -0.11788995387973426, -0.08252714682164242, 0.9798595763668482, 0.2469279685957641, -0.12695923071965273, -0.1791752141982507, -0.42565723605537, -0.624914201256451, 1.659369571600921, 0.7695011878549151, 1.1913134833806651, 0.466093934926341, 1.4421627085964253, -0.2815350530159152, 0.5227302571946018, -0.501006197467369, 0.6698827380804052, -0.5980283747965494, -0.2745834025311717, -0.8139262634868277, 0.24505022348252758, 0.706659414513232, 1.4429091507920122, -0.5315623598845203, 0.7312833614853783, -0.6940297068865078, 1.8532400268662255, 0.2567757922196267, -1.0281102150048418, -1.367360751504298, -0.1052404363550915, 0.11663141514226394, -1.0663414140660066, 0.09268557763093996, -0.45436556126859795, -0.27804832733063795, 0.3263765879782635, 0.9550041351946619, 0.6103649848324788, -0.48527758768357315, -0.2457889274010022, -0.05277339409865519, 2.586915296705645, 0.7168061235910601, -0.050688695883621036, 1.2017495715039697, 0.5857050148380992, 0.6555654907218712, 1.0382388400092144, -0.540854983782837, 0.7478846368194215], \"yaxis\": \"y9\"}, {\"line\": {\"color\": \"rgba(128, 128, 128, 1.0)\", \"dash\": \"solid\", \"shape\": \"linear\", \"width\": 1.3}, \"marker\": {\"size\": 2, \"symbol\": \"circle\"}, \"mode\": \"markers\", \"name\": \"C\", \"text\": \"\", \"type\": \"scatter\", \"x\": [0.5144289608344228, 0.5724069466256909, -0.30819993513771204, -0.28761213166610755, -0.5458296642997473, 1.3342341378269325, -0.059879995787046364, 1.3787691268830158, 1.5187665540777449, -2.7519432034869826, -1.2056198902311772, -0.3629064877540202, 0.640991257007152, -0.47206448107358195, -1.0878072262077378, -0.15543977760143152, -0.8625906044930144, -1.7663404323726277, 1.064994168719819, -1.6184662127345653, -0.8190616080352211, 0.7866409263948574, -0.19045252367988008, 1.5969345615530797, -0.7044302258560525, -0.7900860768132202, -1.0735371514754384, 0.8012526553151388, -0.02553132822250245, -0.30582686018085536, 1.4651450194678122, -0.8071478717507671, 0.8376367062569227, -0.6329941306779358, 0.0867084974824401, 0.05027790087844485, -0.2647802167855846, 1.118984671133748, -0.5516072597736149, 1.8162088275534043, -0.44479829986457453, 0.1569398525620239, -1.3824017681664396, -0.036541635193980834, -0.7447235813408297, 1.0983606818404243, -0.5136529937783657, 1.7291436530420121, 0.1816288109054654, 0.9684547021866818, 1.5510770631391406, -1.0475474342787952, -0.6121541607127508, 1.0571791629492353, 0.4030738424095661, 0.5785052092954551, 0.41074496678539, -1.1472776811644665, -0.33404848635404577, 0.1032631854144026, 2.0443381358099395, -0.5966934895063976, 0.942536444239893, -0.9918626005209825, 2.44059767258467, -0.8491252491305082, 0.5155652443863213, -0.8476353923799457, -1.6795012845786021, 1.0044005780947, -0.7103791063828504, 0.5696648510909781, 0.6978372215304477, -1.306728185712887, -0.20781386971509166, 0.9986223565261442, 0.7651501071650623, 0.03834750962941581, -0.26329636784691046, -0.698448027060385, 0.8293742290726839, 0.5607838686827155, 0.8671309641732743, 0.894047112532386, 0.47888307509295996, 0.1892331690303111, -0.19289836917771339, 2.292177153010583, 0.251550634248612, 0.24654175294065175, 0.07806475208841698, 1.2137666385299004, -0.6859853527506332, -1.4133773145942006, -0.3635762036436802, -0.5853034319336741, -0.3089010394401241, -1.228501650071791, 0.22216134807810084, 1.3418905806243608], \"xaxis\": \"x10\", \"y\": [-0.30633971724473613, -0.5234550101146769, 0.2478488034051314, 0.6578260314485772, 0.6100622628342298, 0.032581612992109536, 0.07456945813487535, 0.2610424110646733, 0.3351846375278415, -0.8358639832336577, 0.4686070749662074, -0.9122092779836232, -0.7803246155139458, 0.6602989279747916, -0.28620935953392296, -1.0778324203072733, 0.48963591508823806, 1.0671437539530921, 1.0855163362186933, -1.8114429646062313, -2.247410773899347, 0.8324518797822211, 0.9156254816843685, 0.45753093853990545, 0.35479727188256155, -1.2894696780643116, 0.1031350503254655, -0.1437613113260787, -0.9137165933613629, -0.8924245674469968, 0.027752492865393687, -1.6471565973337845, -0.01948312925464501, 1.4165837322672976, -0.666560449859305, 0.7292231555751252, -1.146714693185556, 0.675094245687191, -1.6637968925303812, 0.5816901620763231, -0.6941354547354356, -0.6953760752736109, 0.7426906363376657, -1.7226095764455585, 0.3609859988169621, -0.19804856575689886, 0.8750661094019057, 1.168208952094026, 0.010440059391869854, -0.11788995387973426, -0.08252714682164242, 0.9798595763668482, 0.2469279685957641, -0.12695923071965273, -0.1791752141982507, -0.42565723605537, -0.624914201256451, 1.659369571600921, 0.7695011878549151, 1.1913134833806651, 0.466093934926341, 1.4421627085964253, -0.2815350530159152, 0.5227302571946018, -0.501006197467369, 0.6698827380804052, -0.5980283747965494, -0.2745834025311717, -0.8139262634868277, 0.24505022348252758, 0.706659414513232, 1.4429091507920122, -0.5315623598845203, 0.7312833614853783, -0.6940297068865078, 1.8532400268662255, 0.2567757922196267, -1.0281102150048418, -1.367360751504298, -0.1052404363550915, 0.11663141514226394, -1.0663414140660066, 0.09268557763093996, -0.45436556126859795, -0.27804832733063795, 0.3263765879782635, 0.9550041351946619, 0.6103649848324788, -0.48527758768357315, -0.2457889274010022, -0.05277339409865519, 2.586915296705645, 0.7168061235910601, -0.050688695883621036, 1.2017495715039697, 0.5857050148380992, 0.6555654907218712, 1.0382388400092144, -0.540854983782837, 0.7478846368194215], \"yaxis\": \"y10\"}, {\"histfunc\": \"count\", \"histnorm\": \"\", \"marker\": {\"color\": \"rgba(50, 171, 96, 1.0)\", \"line\": {\"color\": \"#4D5663\", \"width\": 1.3}}, \"name\": \"C\", \"nbinsx\": 10, \"opacity\": 0.8, \"orientation\": \"v\", \"type\": \"histogram\", \"x\": [-0.30633971724473613, -0.5234550101146769, 0.2478488034051314, 0.6578260314485772, 0.6100622628342298, 0.032581612992109536, 0.07456945813487535, 0.2610424110646733, 0.3351846375278415, -0.8358639832336577, 0.4686070749662074, -0.9122092779836232, -0.7803246155139458, 0.6602989279747916, -0.28620935953392296, -1.0778324203072733, 0.48963591508823806, 1.0671437539530921, 1.0855163362186933, -1.8114429646062313, -2.247410773899347, 0.8324518797822211, 0.9156254816843685, 0.45753093853990545, 0.35479727188256155, -1.2894696780643116, 0.1031350503254655, -0.1437613113260787, -0.9137165933613629, -0.8924245674469968, 0.027752492865393687, -1.6471565973337845, -0.01948312925464501, 1.4165837322672976, -0.666560449859305, 0.7292231555751252, -1.146714693185556, 0.675094245687191, -1.6637968925303812, 0.5816901620763231, -0.6941354547354356, -0.6953760752736109, 0.7426906363376657, -1.7226095764455585, 0.3609859988169621, -0.19804856575689886, 0.8750661094019057, 1.168208952094026, 0.010440059391869854, -0.11788995387973426, -0.08252714682164242, 0.9798595763668482, 0.2469279685957641, -0.12695923071965273, -0.1791752141982507, -0.42565723605537, -0.624914201256451, 1.659369571600921, 0.7695011878549151, 1.1913134833806651, 0.466093934926341, 1.4421627085964253, -0.2815350530159152, 0.5227302571946018, -0.501006197467369, 0.6698827380804052, -0.5980283747965494, -0.2745834025311717, -0.8139262634868277, 0.24505022348252758, 0.706659414513232, 1.4429091507920122, -0.5315623598845203, 0.7312833614853783, -0.6940297068865078, 1.8532400268662255, 0.2567757922196267, -1.0281102150048418, -1.367360751504298, -0.1052404363550915, 0.11663141514226394, -1.0663414140660066, 0.09268557763093996, -0.45436556126859795, -0.27804832733063795, 0.3263765879782635, 0.9550041351946619, 0.6103649848324788, -0.48527758768357315, -0.2457889274010022, -0.05277339409865519, 2.586915296705645, 0.7168061235910601, -0.050688695883621036, 1.2017495715039697, 0.5857050148380992, 0.6555654907218712, 1.0382388400092144, -0.540854983782837, 0.7478846368194215], \"xaxis\": \"x11\", \"yaxis\": \"y11\"}, {\"line\": {\"color\": \"rgba(128, 128, 128, 1.0)\", \"dash\": \"solid\", \"shape\": \"linear\", \"width\": 1.3}, \"marker\": {\"size\": 2, \"symbol\": \"circle\"}, \"mode\": \"markers\", \"name\": \"C\", \"text\": \"\", \"type\": \"scatter\", \"x\": [-0.2604507371041075, -1.9643665654128082, 0.12641842238158893, 1.7081905768115073, -0.49220866918519124, 0.656218003349655, 2.144116227630546, -1.4084719232733882, -1.178791535445807, 0.09233705323372739, -0.12639330314397007, -0.5920427977413246, -0.3296786702620065, -0.5767269925853163, 1.697169024762262, -0.5186242574799267, -0.2686631492690273, -1.4070832344050308, 1.3628508253292413, 0.031301986381084834, -0.158763294918046, -0.24044418555289648, 0.06426934268757235, 0.239467677136593, 1.3899558496562443, 0.42376507027982047, -0.9682451764859047, 1.8423874026042768, -0.8000199212148114, 1.8248070776087995, -1.1704179498651104, 0.009217647861796225, -0.4615465327731627, -0.6397743914369046, 0.6601869572436313, -0.05300165184856359, -0.07910088147815135, -0.19938932679475294, -1.5473601500030505, -0.08994240763913981, 1.4570202350991852, -0.3736716419214809, 0.20381548004125066, 0.012330516866901163, -0.5945780890656976, -2.223860549270489, 0.3734888706607538, -0.2364090799456908, -0.7729380881223636, 1.2603586592523537, 0.3842833696951564, 0.5791794096935158, 1.353317343012976, 0.08124063052159122, -0.9912860929000638, -1.0790433465006497, 1.0256887261366971, -0.15558245574534268, -1.7808556342887163, -0.846480714418734, -0.025414806946941267, 1.1256254054636576, 0.0820178613140621, 0.42008087621067003, 0.008815878738345264, -0.7492475351141584, 0.46056187813653876, -0.2285617060563285, -0.28302197182181404, -0.7264504966966434, -1.5202670980524595, -0.04317907055632232, 1.1384828294997618, -0.34930916092794906, -1.1846910860236932, -1.6466426369738534, -0.025512980880705114, -0.09916625939818707, -0.5928646303423978, 0.12510029685148205, -0.6708380179370568, -0.7842889382471772, -0.27065078646682583, 1.0096056760094503, -0.5343694089995189, -0.11891612717518474, 0.3919681251273001, 0.24304243949453247, 0.14327218346926662, -0.6455143513378283, 0.071661142219256, -0.739734052321834, 0.01181871927618938, -0.988190195531898, -0.0235204034177497, 0.31330215060320904, 0.16911247600845583, 0.6868502531236088, -1.2686843768528009, 0.8848205635957239], \"xaxis\": \"x12\", \"y\": [-0.30633971724473613, -0.5234550101146769, 0.2478488034051314, 0.6578260314485772, 0.6100622628342298, 0.032581612992109536, 0.07456945813487535, 0.2610424110646733, 0.3351846375278415, -0.8358639832336577, 0.4686070749662074, -0.9122092779836232, -0.7803246155139458, 0.6602989279747916, -0.28620935953392296, -1.0778324203072733, 0.48963591508823806, 1.0671437539530921, 1.0855163362186933, -1.8114429646062313, -2.247410773899347, 0.8324518797822211, 0.9156254816843685, 0.45753093853990545, 0.35479727188256155, -1.2894696780643116, 0.1031350503254655, -0.1437613113260787, -0.9137165933613629, -0.8924245674469968, 0.027752492865393687, -1.6471565973337845, -0.01948312925464501, 1.4165837322672976, -0.666560449859305, 0.7292231555751252, -1.146714693185556, 0.675094245687191, -1.6637968925303812, 0.5816901620763231, -0.6941354547354356, -0.6953760752736109, 0.7426906363376657, -1.7226095764455585, 0.3609859988169621, -0.19804856575689886, 0.8750661094019057, 1.168208952094026, 0.010440059391869854, -0.11788995387973426, -0.08252714682164242, 0.9798595763668482, 0.2469279685957641, -0.12695923071965273, -0.1791752141982507, -0.42565723605537, -0.624914201256451, 1.659369571600921, 0.7695011878549151, 1.1913134833806651, 0.466093934926341, 1.4421627085964253, -0.2815350530159152, 0.5227302571946018, -0.501006197467369, 0.6698827380804052, -0.5980283747965494, -0.2745834025311717, -0.8139262634868277, 0.24505022348252758, 0.706659414513232, 1.4429091507920122, -0.5315623598845203, 0.7312833614853783, -0.6940297068865078, 1.8532400268662255, 0.2567757922196267, -1.0281102150048418, -1.367360751504298, -0.1052404363550915, 0.11663141514226394, -1.0663414140660066, 0.09268557763093996, -0.45436556126859795, -0.27804832733063795, 0.3263765879782635, 0.9550041351946619, 0.6103649848324788, -0.48527758768357315, -0.2457889274010022, -0.05277339409865519, 2.586915296705645, 0.7168061235910601, -0.050688695883621036, 1.2017495715039697, 0.5857050148380992, 0.6555654907218712, 1.0382388400092144, -0.540854983782837, 0.7478846368194215], \"yaxis\": \"y12\"}, {\"line\": {\"color\": \"rgba(128, 128, 128, 1.0)\", \"dash\": \"solid\", \"shape\": \"linear\", \"width\": 1.3}, \"marker\": {\"size\": 2, \"symbol\": \"circle\"}, \"mode\": \"markers\", \"name\": \"D\", \"text\": \"\", \"type\": \"scatter\", \"x\": [-2.094397151479146, 1.3941214922326817, -0.49945361503735913, -0.7298780946612285, -0.05879101960786524, 1.2168416065981187, 0.8690073762945215, 1.0248764006001234, -0.15540585484017097, -0.16764986233001994, 0.7778984780061986, -1.2435593599915684, 0.25357332176071923, 2.856586915070549, 0.39692412082078316, -1.4345999368445181, -0.6162000698974652, 0.03476259517769596, -2.009145407801507, 1.4533919445471997, -0.8703182328567703, -0.6143084700493274, -0.34761024991025263, -0.05959062978705484, -0.7394525194780763, 0.8340378920527788, -1.0391812744474584, 0.17191340608343134, 0.1586781853253161, -0.7750487092439783, 0.438034060183595, -0.7280824873065657, -1.088870404711052, -0.8474580048152648, -2.0779113093562147, -0.3721246680362004, -0.5267640540901695, -1.2178948075205809, 0.4043518045817308, -1.0334344178968475, 0.49619293804226283, 1.8708464437680499, 1.0121451348718093, 0.4269126817452754, -1.2349673225939606, 0.39061767494739513, -0.6256157986469851, 1.0351111300950826, -0.2450626994913141, 0.06169580689106269, 1.2499050049827194, -0.8473351234707631, 0.6306685186978127, -1.9093082042900966, 0.24302207947724627, -0.19948169908255228, -0.750993574668388, 1.3137674387880596, -1.3441275580581578, -1.6729780203688531, 1.164152543022755, -0.5617310684333279, -1.332295393318157, -0.07760242062662576, -0.46830100567090677, -0.9494876742710063, 0.6281755129455628, -0.9333849785276441, -1.9957226612196735, -0.10762144124963756, 0.4208020094415041, 2.3769857538857306, 1.3782159691673053, 0.10990996413442164, -1.122310055421987, 0.9507291380354317, -0.4627422441340983, 1.3847759602273377, 0.7392940658133781, 1.3798724102148878, 1.0354438906558976, 1.170393638809026, 1.6744622234240154, -0.5340913166387504, 1.3192837607724976, -1.8217211430156675, -0.0955557940497877, -1.7025104060459593, 1.49330659712763, 1.4549119243746382, -0.44609922249017514, 2.2957166286477166, -1.0559690993793378, 0.8833646003473479, 0.8406456933235341, -0.17628257884410958, 0.22306309235647964, -0.034604504310288525, -0.8417879309313906, -1.978385623888586], \"xaxis\": \"x13\", \"y\": [-0.2604507371041075, -1.9643665654128082, 0.12641842238158893, 1.7081905768115073, -0.49220866918519124, 0.656218003349655, 2.144116227630546, -1.4084719232733882, -1.178791535445807, 0.09233705323372739, -0.12639330314397007, -0.5920427977413246, -0.3296786702620065, -0.5767269925853163, 1.697169024762262, -0.5186242574799267, -0.2686631492690273, -1.4070832344050308, 1.3628508253292413, 0.031301986381084834, -0.158763294918046, -0.24044418555289648, 0.06426934268757235, 0.239467677136593, 1.3899558496562443, 0.42376507027982047, -0.9682451764859047, 1.8423874026042768, -0.8000199212148114, 1.8248070776087995, -1.1704179498651104, 0.009217647861796225, -0.4615465327731627, -0.6397743914369046, 0.6601869572436313, -0.05300165184856359, -0.07910088147815135, -0.19938932679475294, -1.5473601500030505, -0.08994240763913981, 1.4570202350991852, -0.3736716419214809, 0.20381548004125066, 0.012330516866901163, -0.5945780890656976, -2.223860549270489, 0.3734888706607538, -0.2364090799456908, -0.7729380881223636, 1.2603586592523537, 0.3842833696951564, 0.5791794096935158, 1.353317343012976, 0.08124063052159122, -0.9912860929000638, -1.0790433465006497, 1.0256887261366971, -0.15558245574534268, -1.7808556342887163, -0.846480714418734, -0.025414806946941267, 1.1256254054636576, 0.0820178613140621, 0.42008087621067003, 0.008815878738345264, -0.7492475351141584, 0.46056187813653876, -0.2285617060563285, -0.28302197182181404, -0.7264504966966434, -1.5202670980524595, -0.04317907055632232, 1.1384828294997618, -0.34930916092794906, -1.1846910860236932, -1.6466426369738534, -0.025512980880705114, -0.09916625939818707, -0.5928646303423978, 0.12510029685148205, -0.6708380179370568, -0.7842889382471772, -0.27065078646682583, 1.0096056760094503, -0.5343694089995189, -0.11891612717518474, 0.3919681251273001, 0.24304243949453247, 0.14327218346926662, -0.6455143513378283, 0.071661142219256, -0.739734052321834, 0.01181871927618938, -0.988190195531898, -0.0235204034177497, 0.31330215060320904, 0.16911247600845583, 0.6868502531236088, -1.2686843768528009, 0.8848205635957239], \"yaxis\": \"y13\"}, {\"line\": {\"color\": \"rgba(128, 128, 128, 1.0)\", \"dash\": \"solid\", \"shape\": \"linear\", \"width\": 1.3}, \"marker\": {\"size\": 2, \"symbol\": \"circle\"}, \"mode\": \"markers\", \"name\": \"D\", \"text\": \"\", \"type\": \"scatter\", \"x\": [0.5144289608344228, 0.5724069466256909, -0.30819993513771204, -0.28761213166610755, -0.5458296642997473, 1.3342341378269325, -0.059879995787046364, 1.3787691268830158, 1.5187665540777449, -2.7519432034869826, -1.2056198902311772, -0.3629064877540202, 0.640991257007152, -0.47206448107358195, -1.0878072262077378, -0.15543977760143152, -0.8625906044930144, -1.7663404323726277, 1.064994168719819, -1.6184662127345653, -0.8190616080352211, 0.7866409263948574, -0.19045252367988008, 1.5969345615530797, -0.7044302258560525, -0.7900860768132202, -1.0735371514754384, 0.8012526553151388, -0.02553132822250245, -0.30582686018085536, 1.4651450194678122, -0.8071478717507671, 0.8376367062569227, -0.6329941306779358, 0.0867084974824401, 0.05027790087844485, -0.2647802167855846, 1.118984671133748, -0.5516072597736149, 1.8162088275534043, -0.44479829986457453, 0.1569398525620239, -1.3824017681664396, -0.036541635193980834, -0.7447235813408297, 1.0983606818404243, -0.5136529937783657, 1.7291436530420121, 0.1816288109054654, 0.9684547021866818, 1.5510770631391406, -1.0475474342787952, -0.6121541607127508, 1.0571791629492353, 0.4030738424095661, 0.5785052092954551, 0.41074496678539, -1.1472776811644665, -0.33404848635404577, 0.1032631854144026, 2.0443381358099395, -0.5966934895063976, 0.942536444239893, -0.9918626005209825, 2.44059767258467, -0.8491252491305082, 0.5155652443863213, -0.8476353923799457, -1.6795012845786021, 1.0044005780947, -0.7103791063828504, 0.5696648510909781, 0.6978372215304477, -1.306728185712887, -0.20781386971509166, 0.9986223565261442, 0.7651501071650623, 0.03834750962941581, -0.26329636784691046, -0.698448027060385, 0.8293742290726839, 0.5607838686827155, 0.8671309641732743, 0.894047112532386, 0.47888307509295996, 0.1892331690303111, -0.19289836917771339, 2.292177153010583, 0.251550634248612, 0.24654175294065175, 0.07806475208841698, 1.2137666385299004, -0.6859853527506332, -1.4133773145942006, -0.3635762036436802, -0.5853034319336741, -0.3089010394401241, -1.228501650071791, 0.22216134807810084, 1.3418905806243608], \"xaxis\": \"x14\", \"y\": [-0.2604507371041075, -1.9643665654128082, 0.12641842238158893, 1.7081905768115073, -0.49220866918519124, 0.656218003349655, 2.144116227630546, -1.4084719232733882, -1.178791535445807, 0.09233705323372739, -0.12639330314397007, -0.5920427977413246, -0.3296786702620065, -0.5767269925853163, 1.697169024762262, -0.5186242574799267, -0.2686631492690273, -1.4070832344050308, 1.3628508253292413, 0.031301986381084834, -0.158763294918046, -0.24044418555289648, 0.06426934268757235, 0.239467677136593, 1.3899558496562443, 0.42376507027982047, -0.9682451764859047, 1.8423874026042768, -0.8000199212148114, 1.8248070776087995, -1.1704179498651104, 0.009217647861796225, -0.4615465327731627, -0.6397743914369046, 0.6601869572436313, -0.05300165184856359, -0.07910088147815135, -0.19938932679475294, -1.5473601500030505, -0.08994240763913981, 1.4570202350991852, -0.3736716419214809, 0.20381548004125066, 0.012330516866901163, -0.5945780890656976, -2.223860549270489, 0.3734888706607538, -0.2364090799456908, -0.7729380881223636, 1.2603586592523537, 0.3842833696951564, 0.5791794096935158, 1.353317343012976, 0.08124063052159122, -0.9912860929000638, -1.0790433465006497, 1.0256887261366971, -0.15558245574534268, -1.7808556342887163, -0.846480714418734, -0.025414806946941267, 1.1256254054636576, 0.0820178613140621, 0.42008087621067003, 0.008815878738345264, -0.7492475351141584, 0.46056187813653876, -0.2285617060563285, -0.28302197182181404, -0.7264504966966434, -1.5202670980524595, -0.04317907055632232, 1.1384828294997618, -0.34930916092794906, -1.1846910860236932, -1.6466426369738534, -0.025512980880705114, -0.09916625939818707, -0.5928646303423978, 0.12510029685148205, -0.6708380179370568, -0.7842889382471772, -0.27065078646682583, 1.0096056760094503, -0.5343694089995189, -0.11891612717518474, 0.3919681251273001, 0.24304243949453247, 0.14327218346926662, -0.6455143513378283, 0.071661142219256, -0.739734052321834, 0.01181871927618938, -0.988190195531898, -0.0235204034177497, 0.31330215060320904, 0.16911247600845583, 0.6868502531236088, -1.2686843768528009, 0.8848205635957239], \"yaxis\": \"y14\"}, {\"line\": {\"color\": \"rgba(128, 128, 128, 1.0)\", \"dash\": \"solid\", \"shape\": \"linear\", \"width\": 1.3}, \"marker\": {\"size\": 2, \"symbol\": \"circle\"}, \"mode\": \"markers\", \"name\": \"D\", \"text\": \"\", \"type\": \"scatter\", \"x\": [-0.30633971724473613, -0.5234550101146769, 0.2478488034051314, 0.6578260314485772, 0.6100622628342298, 0.032581612992109536, 0.07456945813487535, 0.2610424110646733, 0.3351846375278415, -0.8358639832336577, 0.4686070749662074, -0.9122092779836232, -0.7803246155139458, 0.6602989279747916, -0.28620935953392296, -1.0778324203072733, 0.48963591508823806, 1.0671437539530921, 1.0855163362186933, -1.8114429646062313, -2.247410773899347, 0.8324518797822211, 0.9156254816843685, 0.45753093853990545, 0.35479727188256155, -1.2894696780643116, 0.1031350503254655, -0.1437613113260787, -0.9137165933613629, -0.8924245674469968, 0.027752492865393687, -1.6471565973337845, -0.01948312925464501, 1.4165837322672976, -0.666560449859305, 0.7292231555751252, -1.146714693185556, 0.675094245687191, -1.6637968925303812, 0.5816901620763231, -0.6941354547354356, -0.6953760752736109, 0.7426906363376657, -1.7226095764455585, 0.3609859988169621, -0.19804856575689886, 0.8750661094019057, 1.168208952094026, 0.010440059391869854, -0.11788995387973426, -0.08252714682164242, 0.9798595763668482, 0.2469279685957641, -0.12695923071965273, -0.1791752141982507, -0.42565723605537, -0.624914201256451, 1.659369571600921, 0.7695011878549151, 1.1913134833806651, 0.466093934926341, 1.4421627085964253, -0.2815350530159152, 0.5227302571946018, -0.501006197467369, 0.6698827380804052, -0.5980283747965494, -0.2745834025311717, -0.8139262634868277, 0.24505022348252758, 0.706659414513232, 1.4429091507920122, -0.5315623598845203, 0.7312833614853783, -0.6940297068865078, 1.8532400268662255, 0.2567757922196267, -1.0281102150048418, -1.367360751504298, -0.1052404363550915, 0.11663141514226394, -1.0663414140660066, 0.09268557763093996, -0.45436556126859795, -0.27804832733063795, 0.3263765879782635, 0.9550041351946619, 0.6103649848324788, -0.48527758768357315, -0.2457889274010022, -0.05277339409865519, 2.586915296705645, 0.7168061235910601, -0.050688695883621036, 1.2017495715039697, 0.5857050148380992, 0.6555654907218712, 1.0382388400092144, -0.540854983782837, 0.7478846368194215], \"xaxis\": \"x15\", \"y\": [-0.2604507371041075, -1.9643665654128082, 0.12641842238158893, 1.7081905768115073, -0.49220866918519124, 0.656218003349655, 2.144116227630546, -1.4084719232733882, -1.178791535445807, 0.09233705323372739, -0.12639330314397007, -0.5920427977413246, -0.3296786702620065, -0.5767269925853163, 1.697169024762262, -0.5186242574799267, -0.2686631492690273, -1.4070832344050308, 1.3628508253292413, 0.031301986381084834, -0.158763294918046, -0.24044418555289648, 0.06426934268757235, 0.239467677136593, 1.3899558496562443, 0.42376507027982047, -0.9682451764859047, 1.8423874026042768, -0.8000199212148114, 1.8248070776087995, -1.1704179498651104, 0.009217647861796225, -0.4615465327731627, -0.6397743914369046, 0.6601869572436313, -0.05300165184856359, -0.07910088147815135, -0.19938932679475294, -1.5473601500030505, -0.08994240763913981, 1.4570202350991852, -0.3736716419214809, 0.20381548004125066, 0.012330516866901163, -0.5945780890656976, -2.223860549270489, 0.3734888706607538, -0.2364090799456908, -0.7729380881223636, 1.2603586592523537, 0.3842833696951564, 0.5791794096935158, 1.353317343012976, 0.08124063052159122, -0.9912860929000638, -1.0790433465006497, 1.0256887261366971, -0.15558245574534268, -1.7808556342887163, -0.846480714418734, -0.025414806946941267, 1.1256254054636576, 0.0820178613140621, 0.42008087621067003, 0.008815878738345264, -0.7492475351141584, 0.46056187813653876, -0.2285617060563285, -0.28302197182181404, -0.7264504966966434, -1.5202670980524595, -0.04317907055632232, 1.1384828294997618, -0.34930916092794906, -1.1846910860236932, -1.6466426369738534, -0.025512980880705114, -0.09916625939818707, -0.5928646303423978, 0.12510029685148205, -0.6708380179370568, -0.7842889382471772, -0.27065078646682583, 1.0096056760094503, -0.5343694089995189, -0.11891612717518474, 0.3919681251273001, 0.24304243949453247, 0.14327218346926662, -0.6455143513378283, 0.071661142219256, -0.739734052321834, 0.01181871927618938, -0.988190195531898, -0.0235204034177497, 0.31330215060320904, 0.16911247600845583, 0.6868502531236088, -1.2686843768528009, 0.8848205635957239], \"yaxis\": \"y15\"}, {\"histfunc\": \"count\", \"histnorm\": \"\", \"marker\": {\"color\": \"rgba(128, 0, 128, 1.0)\", \"line\": {\"color\": \"#4D5663\", \"width\": 1.3}}, \"name\": \"D\", \"nbinsx\": 10, \"opacity\": 0.8, \"orientation\": \"v\", \"type\": \"histogram\", \"x\": [-0.2604507371041075, -1.9643665654128082, 0.12641842238158893, 1.7081905768115073, -0.49220866918519124, 0.656218003349655, 2.144116227630546, -1.4084719232733882, -1.178791535445807, 0.09233705323372739, -0.12639330314397007, -0.5920427977413246, -0.3296786702620065, -0.5767269925853163, 1.697169024762262, -0.5186242574799267, -0.2686631492690273, -1.4070832344050308, 1.3628508253292413, 0.031301986381084834, -0.158763294918046, -0.24044418555289648, 0.06426934268757235, 0.239467677136593, 1.3899558496562443, 0.42376507027982047, -0.9682451764859047, 1.8423874026042768, -0.8000199212148114, 1.8248070776087995, -1.1704179498651104, 0.009217647861796225, -0.4615465327731627, -0.6397743914369046, 0.6601869572436313, -0.05300165184856359, -0.07910088147815135, -0.19938932679475294, -1.5473601500030505, -0.08994240763913981, 1.4570202350991852, -0.3736716419214809, 0.20381548004125066, 0.012330516866901163, -0.5945780890656976, -2.223860549270489, 0.3734888706607538, -0.2364090799456908, -0.7729380881223636, 1.2603586592523537, 0.3842833696951564, 0.5791794096935158, 1.353317343012976, 0.08124063052159122, -0.9912860929000638, -1.0790433465006497, 1.0256887261366971, -0.15558245574534268, -1.7808556342887163, -0.846480714418734, -0.025414806946941267, 1.1256254054636576, 0.0820178613140621, 0.42008087621067003, 0.008815878738345264, -0.7492475351141584, 0.46056187813653876, -0.2285617060563285, -0.28302197182181404, -0.7264504966966434, -1.5202670980524595, -0.04317907055632232, 1.1384828294997618, -0.34930916092794906, -1.1846910860236932, -1.6466426369738534, -0.025512980880705114, -0.09916625939818707, -0.5928646303423978, 0.12510029685148205, -0.6708380179370568, -0.7842889382471772, -0.27065078646682583, 1.0096056760094503, -0.5343694089995189, -0.11891612717518474, 0.3919681251273001, 0.24304243949453247, 0.14327218346926662, -0.6455143513378283, 0.071661142219256, -0.739734052321834, 0.01181871927618938, -0.988190195531898, -0.0235204034177497, 0.31330215060320904, 0.16911247600845583, 0.6868502531236088, -1.2686843768528009, 0.8848205635957239], \"xaxis\": \"x16\", \"yaxis\": \"y16\"}],\n",
       "                        {\"bargap\": 0.02, \"legend\": {\"bgcolor\": \"#F5F6F9\", \"font\": {\"color\": \"#4D5663\"}}, \"paper_bgcolor\": \"#F5F6F9\", \"plot_bgcolor\": \"#F5F6F9\", \"showlegend\": false, \"template\": {\"data\": {\"bar\": [{\"error_x\": {\"color\": \"#2a3f5f\"}, \"error_y\": {\"color\": \"#2a3f5f\"}, \"marker\": {\"line\": {\"color\": \"#E5ECF6\", \"width\": 0.5}}, \"type\": \"bar\"}], \"barpolar\": [{\"marker\": {\"line\": {\"color\": \"#E5ECF6\", \"width\": 0.5}}, \"type\": \"barpolar\"}], \"carpet\": [{\"aaxis\": {\"endlinecolor\": \"#2a3f5f\", \"gridcolor\": \"white\", \"linecolor\": \"white\", \"minorgridcolor\": \"white\", \"startlinecolor\": \"#2a3f5f\"}, \"baxis\": {\"endlinecolor\": \"#2a3f5f\", \"gridcolor\": \"white\", \"linecolor\": \"white\", \"minorgridcolor\": \"white\", \"startlinecolor\": \"#2a3f5f\"}, \"type\": \"carpet\"}], \"choropleth\": [{\"colorbar\": {\"outlinewidth\": 0, \"ticks\": \"\"}, \"type\": \"choropleth\"}], \"contour\": [{\"colorbar\": {\"outlinewidth\": 0, \"ticks\": \"\"}, \"colorscale\": [[0.0, \"#0d0887\"], [0.1111111111111111, \"#46039f\"], [0.2222222222222222, \"#7201a8\"], [0.3333333333333333, \"#9c179e\"], [0.4444444444444444, \"#bd3786\"], [0.5555555555555556, \"#d8576b\"], [0.6666666666666666, \"#ed7953\"], [0.7777777777777778, \"#fb9f3a\"], [0.8888888888888888, \"#fdca26\"], [1.0, \"#f0f921\"]], \"type\": \"contour\"}], \"contourcarpet\": [{\"colorbar\": {\"outlinewidth\": 0, \"ticks\": \"\"}, \"type\": \"contourcarpet\"}], \"heatmap\": [{\"colorbar\": {\"outlinewidth\": 0, \"ticks\": \"\"}, \"colorscale\": [[0.0, \"#0d0887\"], [0.1111111111111111, \"#46039f\"], [0.2222222222222222, \"#7201a8\"], [0.3333333333333333, \"#9c179e\"], [0.4444444444444444, \"#bd3786\"], [0.5555555555555556, \"#d8576b\"], [0.6666666666666666, \"#ed7953\"], [0.7777777777777778, \"#fb9f3a\"], [0.8888888888888888, \"#fdca26\"], [1.0, \"#f0f921\"]], \"type\": \"heatmap\"}], \"heatmapgl\": [{\"colorbar\": {\"outlinewidth\": 0, \"ticks\": \"\"}, \"colorscale\": [[0.0, \"#0d0887\"], [0.1111111111111111, \"#46039f\"], [0.2222222222222222, \"#7201a8\"], [0.3333333333333333, \"#9c179e\"], [0.4444444444444444, \"#bd3786\"], [0.5555555555555556, \"#d8576b\"], [0.6666666666666666, \"#ed7953\"], [0.7777777777777778, \"#fb9f3a\"], [0.8888888888888888, \"#fdca26\"], [1.0, \"#f0f921\"]], \"type\": \"heatmapgl\"}], \"histogram\": [{\"marker\": {\"colorbar\": {\"outlinewidth\": 0, \"ticks\": \"\"}}, \"type\": \"histogram\"}], \"histogram2d\": [{\"colorbar\": {\"outlinewidth\": 0, \"ticks\": \"\"}, \"colorscale\": [[0.0, \"#0d0887\"], [0.1111111111111111, \"#46039f\"], [0.2222222222222222, \"#7201a8\"], [0.3333333333333333, \"#9c179e\"], [0.4444444444444444, \"#bd3786\"], [0.5555555555555556, \"#d8576b\"], [0.6666666666666666, \"#ed7953\"], [0.7777777777777778, \"#fb9f3a\"], [0.8888888888888888, \"#fdca26\"], [1.0, \"#f0f921\"]], \"type\": \"histogram2d\"}], \"histogram2dcontour\": [{\"colorbar\": {\"outlinewidth\": 0, \"ticks\": \"\"}, \"colorscale\": [[0.0, \"#0d0887\"], [0.1111111111111111, \"#46039f\"], [0.2222222222222222, \"#7201a8\"], [0.3333333333333333, \"#9c179e\"], [0.4444444444444444, \"#bd3786\"], [0.5555555555555556, \"#d8576b\"], [0.6666666666666666, \"#ed7953\"], [0.7777777777777778, \"#fb9f3a\"], [0.8888888888888888, \"#fdca26\"], [1.0, \"#f0f921\"]], \"type\": \"histogram2dcontour\"}], \"mesh3d\": [{\"colorbar\": {\"outlinewidth\": 0, \"ticks\": \"\"}, \"type\": \"mesh3d\"}], \"parcoords\": [{\"line\": {\"colorbar\": {\"outlinewidth\": 0, \"ticks\": \"\"}}, \"type\": \"parcoords\"}], \"pie\": [{\"automargin\": true, \"type\": \"pie\"}], \"scatter\": [{\"marker\": {\"colorbar\": {\"outlinewidth\": 0, \"ticks\": \"\"}}, \"type\": \"scatter\"}], \"scatter3d\": [{\"line\": {\"colorbar\": {\"outlinewidth\": 0, \"ticks\": \"\"}}, \"marker\": {\"colorbar\": {\"outlinewidth\": 0, \"ticks\": \"\"}}, \"type\": \"scatter3d\"}], \"scattercarpet\": [{\"marker\": {\"colorbar\": {\"outlinewidth\": 0, \"ticks\": \"\"}}, \"type\": \"scattercarpet\"}], \"scattergeo\": [{\"marker\": {\"colorbar\": {\"outlinewidth\": 0, \"ticks\": \"\"}}, \"type\": \"scattergeo\"}], \"scattergl\": [{\"marker\": {\"colorbar\": {\"outlinewidth\": 0, \"ticks\": \"\"}}, \"type\": \"scattergl\"}], \"scattermapbox\": [{\"marker\": {\"colorbar\": {\"outlinewidth\": 0, \"ticks\": \"\"}}, \"type\": \"scattermapbox\"}], \"scatterpolar\": [{\"marker\": {\"colorbar\": {\"outlinewidth\": 0, \"ticks\": \"\"}}, \"type\": \"scatterpolar\"}], \"scatterpolargl\": [{\"marker\": {\"colorbar\": {\"outlinewidth\": 0, \"ticks\": \"\"}}, \"type\": \"scatterpolargl\"}], \"scatterternary\": [{\"marker\": {\"colorbar\": {\"outlinewidth\": 0, \"ticks\": \"\"}}, \"type\": \"scatterternary\"}], \"surface\": [{\"colorbar\": {\"outlinewidth\": 0, \"ticks\": \"\"}, \"colorscale\": [[0.0, \"#0d0887\"], [0.1111111111111111, \"#46039f\"], [0.2222222222222222, \"#7201a8\"], [0.3333333333333333, \"#9c179e\"], [0.4444444444444444, \"#bd3786\"], [0.5555555555555556, \"#d8576b\"], [0.6666666666666666, \"#ed7953\"], [0.7777777777777778, \"#fb9f3a\"], [0.8888888888888888, \"#fdca26\"], [1.0, \"#f0f921\"]], \"type\": \"surface\"}], \"table\": [{\"cells\": {\"fill\": {\"color\": \"#EBF0F8\"}, \"line\": {\"color\": \"white\"}}, \"header\": {\"fill\": {\"color\": \"#C8D4E3\"}, \"line\": {\"color\": \"white\"}}, \"type\": \"table\"}]}, \"layout\": {\"annotationdefaults\": {\"arrowcolor\": \"#2a3f5f\", \"arrowhead\": 0, \"arrowwidth\": 1}, \"coloraxis\": {\"colorbar\": {\"outlinewidth\": 0, \"ticks\": \"\"}}, \"colorscale\": {\"diverging\": [[0, \"#8e0152\"], [0.1, \"#c51b7d\"], [0.2, \"#de77ae\"], [0.3, \"#f1b6da\"], [0.4, \"#fde0ef\"], [0.5, \"#f7f7f7\"], [0.6, \"#e6f5d0\"], [0.7, \"#b8e186\"], [0.8, \"#7fbc41\"], [0.9, \"#4d9221\"], [1, \"#276419\"]], \"sequential\": [[0.0, \"#0d0887\"], [0.1111111111111111, \"#46039f\"], [0.2222222222222222, \"#7201a8\"], [0.3333333333333333, \"#9c179e\"], [0.4444444444444444, \"#bd3786\"], [0.5555555555555556, \"#d8576b\"], [0.6666666666666666, \"#ed7953\"], [0.7777777777777778, \"#fb9f3a\"], [0.8888888888888888, \"#fdca26\"], [1.0, \"#f0f921\"]], \"sequentialminus\": [[0.0, \"#0d0887\"], [0.1111111111111111, \"#46039f\"], [0.2222222222222222, \"#7201a8\"], [0.3333333333333333, \"#9c179e\"], [0.4444444444444444, \"#bd3786\"], [0.5555555555555556, \"#d8576b\"], [0.6666666666666666, \"#ed7953\"], [0.7777777777777778, \"#fb9f3a\"], [0.8888888888888888, \"#fdca26\"], [1.0, \"#f0f921\"]]}, \"colorway\": [\"#636efa\", \"#EF553B\", \"#00cc96\", \"#ab63fa\", \"#FFA15A\", \"#19d3f3\", \"#FF6692\", \"#B6E880\", \"#FF97FF\", \"#FECB52\"], \"font\": {\"color\": \"#2a3f5f\"}, \"geo\": {\"bgcolor\": \"white\", \"lakecolor\": \"white\", \"landcolor\": \"#E5ECF6\", \"showlakes\": true, \"showland\": true, \"subunitcolor\": \"white\"}, \"hoverlabel\": {\"align\": \"left\"}, \"hovermode\": \"closest\", \"mapbox\": {\"style\": \"light\"}, \"paper_bgcolor\": \"white\", \"plot_bgcolor\": \"#E5ECF6\", \"polar\": {\"angularaxis\": {\"gridcolor\": \"white\", \"linecolor\": \"white\", \"ticks\": \"\"}, \"bgcolor\": \"#E5ECF6\", \"radialaxis\": {\"gridcolor\": \"white\", \"linecolor\": \"white\", \"ticks\": \"\"}}, \"scene\": {\"xaxis\": {\"backgroundcolor\": \"#E5ECF6\", \"gridcolor\": \"white\", \"gridwidth\": 2, \"linecolor\": \"white\", \"showbackground\": true, \"ticks\": \"\", \"zerolinecolor\": \"white\"}, \"yaxis\": {\"backgroundcolor\": \"#E5ECF6\", \"gridcolor\": \"white\", \"gridwidth\": 2, \"linecolor\": \"white\", \"showbackground\": true, \"ticks\": \"\", \"zerolinecolor\": \"white\"}, \"zaxis\": {\"backgroundcolor\": \"#E5ECF6\", \"gridcolor\": \"white\", \"gridwidth\": 2, \"linecolor\": \"white\", \"showbackground\": true, \"ticks\": \"\", \"zerolinecolor\": \"white\"}}, \"shapedefaults\": {\"line\": {\"color\": \"#2a3f5f\"}}, \"ternary\": {\"aaxis\": {\"gridcolor\": \"white\", \"linecolor\": \"white\", \"ticks\": \"\"}, \"baxis\": {\"gridcolor\": \"white\", \"linecolor\": \"white\", \"ticks\": \"\"}, \"bgcolor\": \"#E5ECF6\", \"caxis\": {\"gridcolor\": \"white\", \"linecolor\": \"white\", \"ticks\": \"\"}}, \"title\": {\"x\": 0.05}, \"xaxis\": {\"automargin\": true, \"gridcolor\": \"white\", \"linecolor\": \"white\", \"ticks\": \"\", \"title\": {\"standoff\": 15}, \"zerolinecolor\": \"white\", \"zerolinewidth\": 2}, \"yaxis\": {\"automargin\": true, \"gridcolor\": \"white\", \"linecolor\": \"white\", \"ticks\": \"\", \"title\": {\"standoff\": 15}, \"zerolinecolor\": \"white\", \"zerolinewidth\": 2}}}, \"title\": {\"font\": {\"color\": \"#4D5663\"}}, \"xaxis\": {\"anchor\": \"y\", \"domain\": [0.0, 0.2125], \"gridcolor\": \"#E1E5ED\", \"showgrid\": false, \"tickfont\": {\"color\": \"#4D5663\"}, \"title\": {\"font\": {\"color\": \"#4D5663\"}, \"text\": \"\"}, \"zerolinecolor\": \"#E1E5ED\"}, \"xaxis10\": {\"anchor\": \"y10\", \"domain\": [0.2625, 0.475], \"gridcolor\": \"#E1E5ED\", \"showgrid\": false, \"tickfont\": {\"color\": \"#4D5663\"}, \"title\": {\"font\": {\"color\": \"#4D5663\"}, \"text\": \"\"}, \"zerolinecolor\": \"#E1E5ED\"}, \"xaxis11\": {\"anchor\": \"y11\", \"domain\": [0.525, 0.7375], \"gridcolor\": \"#E1E5ED\", \"showgrid\": false, \"tickfont\": {\"color\": \"#4D5663\"}, \"title\": {\"font\": {\"color\": \"#4D5663\"}, \"text\": \"\"}, \"zerolinecolor\": \"#E1E5ED\"}, \"xaxis12\": {\"anchor\": \"y12\", \"domain\": [0.7875, 1.0], \"gridcolor\": \"#E1E5ED\", \"showgrid\": false, \"tickfont\": {\"color\": \"#4D5663\"}, \"title\": {\"font\": {\"color\": \"#4D5663\"}, \"text\": \"\"}, \"zerolinecolor\": \"#E1E5ED\"}, \"xaxis13\": {\"anchor\": \"y13\", \"domain\": [0.0, 0.2125], \"gridcolor\": \"#E1E5ED\", \"showgrid\": false, \"tickfont\": {\"color\": \"#4D5663\"}, \"title\": {\"font\": {\"color\": \"#4D5663\"}, \"text\": \"\"}, \"zerolinecolor\": \"#E1E5ED\"}, \"xaxis14\": {\"anchor\": \"y14\", \"domain\": [0.2625, 0.475], \"gridcolor\": \"#E1E5ED\", \"showgrid\": false, \"tickfont\": {\"color\": \"#4D5663\"}, \"title\": {\"font\": {\"color\": \"#4D5663\"}, \"text\": \"\"}, \"zerolinecolor\": \"#E1E5ED\"}, \"xaxis15\": {\"anchor\": \"y15\", \"domain\": [0.525, 0.7375], \"gridcolor\": \"#E1E5ED\", \"showgrid\": false, \"tickfont\": {\"color\": \"#4D5663\"}, \"title\": {\"font\": {\"color\": \"#4D5663\"}, \"text\": \"\"}, \"zerolinecolor\": \"#E1E5ED\"}, \"xaxis16\": {\"anchor\": \"y16\", \"domain\": [0.7875, 1.0], \"gridcolor\": \"#E1E5ED\", \"showgrid\": false, \"tickfont\": {\"color\": \"#4D5663\"}, \"title\": {\"font\": {\"color\": \"#4D5663\"}, \"text\": \"\"}, \"zerolinecolor\": \"#E1E5ED\"}, \"xaxis2\": {\"anchor\": \"y2\", \"domain\": [0.2625, 0.475], \"gridcolor\": \"#E1E5ED\", \"showgrid\": false, \"tickfont\": {\"color\": \"#4D5663\"}, \"title\": {\"font\": {\"color\": \"#4D5663\"}, \"text\": \"\"}, \"zerolinecolor\": \"#E1E5ED\"}, \"xaxis3\": {\"anchor\": \"y3\", \"domain\": [0.525, 0.7375], \"gridcolor\": \"#E1E5ED\", \"showgrid\": false, \"tickfont\": {\"color\": \"#4D5663\"}, \"title\": {\"font\": {\"color\": \"#4D5663\"}, \"text\": \"\"}, \"zerolinecolor\": \"#E1E5ED\"}, \"xaxis4\": {\"anchor\": \"y4\", \"domain\": [0.7875, 1.0], \"gridcolor\": \"#E1E5ED\", \"showgrid\": false, \"tickfont\": {\"color\": \"#4D5663\"}, \"title\": {\"font\": {\"color\": \"#4D5663\"}, \"text\": \"\"}, \"zerolinecolor\": \"#E1E5ED\"}, \"xaxis5\": {\"anchor\": \"y5\", \"domain\": [0.0, 0.2125], \"gridcolor\": \"#E1E5ED\", \"showgrid\": false, \"tickfont\": {\"color\": \"#4D5663\"}, \"title\": {\"font\": {\"color\": \"#4D5663\"}, \"text\": \"\"}, \"zerolinecolor\": \"#E1E5ED\"}, \"xaxis6\": {\"anchor\": \"y6\", \"domain\": [0.2625, 0.475], \"gridcolor\": \"#E1E5ED\", \"showgrid\": false, \"tickfont\": {\"color\": \"#4D5663\"}, \"title\": {\"font\": {\"color\": \"#4D5663\"}, \"text\": \"\"}, \"zerolinecolor\": \"#E1E5ED\"}, \"xaxis7\": {\"anchor\": \"y7\", \"domain\": [0.525, 0.7375], \"gridcolor\": \"#E1E5ED\", \"showgrid\": false, \"tickfont\": {\"color\": \"#4D5663\"}, \"title\": {\"font\": {\"color\": \"#4D5663\"}, \"text\": \"\"}, \"zerolinecolor\": \"#E1E5ED\"}, \"xaxis8\": {\"anchor\": \"y8\", \"domain\": [0.7875, 1.0], \"gridcolor\": \"#E1E5ED\", \"showgrid\": false, \"tickfont\": {\"color\": \"#4D5663\"}, \"title\": {\"font\": {\"color\": \"#4D5663\"}, \"text\": \"\"}, \"zerolinecolor\": \"#E1E5ED\"}, \"xaxis9\": {\"anchor\": \"y9\", \"domain\": [0.0, 0.2125], \"gridcolor\": \"#E1E5ED\", \"showgrid\": false, \"tickfont\": {\"color\": \"#4D5663\"}, \"title\": {\"font\": {\"color\": \"#4D5663\"}, \"text\": \"\"}, \"zerolinecolor\": \"#E1E5ED\"}, \"yaxis\": {\"anchor\": \"x\", \"domain\": [0.8025, 1.0], \"gridcolor\": \"#E1E5ED\", \"showgrid\": false, \"tickfont\": {\"color\": \"#4D5663\"}, \"title\": {\"font\": {\"color\": \"#4D5663\"}, \"text\": \"\"}, \"zerolinecolor\": \"#E1E5ED\"}, \"yaxis10\": {\"anchor\": \"x10\", \"domain\": [0.2675, 0.465], \"gridcolor\": \"#E1E5ED\", \"showgrid\": false, \"tickfont\": {\"color\": \"#4D5663\"}, \"title\": {\"font\": {\"color\": \"#4D5663\"}, \"text\": \"\"}, \"zerolinecolor\": \"#E1E5ED\"}, \"yaxis11\": {\"anchor\": \"x11\", \"domain\": [0.2675, 0.465], \"gridcolor\": \"#E1E5ED\", \"showgrid\": false, \"tickfont\": {\"color\": \"#4D5663\"}, \"title\": {\"font\": {\"color\": \"#4D5663\"}, \"text\": \"\"}, \"zerolinecolor\": \"#E1E5ED\"}, \"yaxis12\": {\"anchor\": \"x12\", \"domain\": [0.2675, 0.465], \"gridcolor\": \"#E1E5ED\", \"showgrid\": false, \"tickfont\": {\"color\": \"#4D5663\"}, \"title\": {\"font\": {\"color\": \"#4D5663\"}, \"text\": \"\"}, \"zerolinecolor\": \"#E1E5ED\"}, \"yaxis13\": {\"anchor\": \"x13\", \"domain\": [0.0, 0.1975], \"gridcolor\": \"#E1E5ED\", \"showgrid\": false, \"tickfont\": {\"color\": \"#4D5663\"}, \"title\": {\"font\": {\"color\": \"#4D5663\"}, \"text\": \"\"}, \"zerolinecolor\": \"#E1E5ED\"}, \"yaxis14\": {\"anchor\": \"x14\", \"domain\": [0.0, 0.1975], \"gridcolor\": \"#E1E5ED\", \"showgrid\": false, \"tickfont\": {\"color\": \"#4D5663\"}, \"title\": {\"font\": {\"color\": \"#4D5663\"}, \"text\": \"\"}, \"zerolinecolor\": \"#E1E5ED\"}, \"yaxis15\": {\"anchor\": \"x15\", \"domain\": [0.0, 0.1975], \"gridcolor\": \"#E1E5ED\", \"showgrid\": false, \"tickfont\": {\"color\": \"#4D5663\"}, \"title\": {\"font\": {\"color\": \"#4D5663\"}, \"text\": \"\"}, \"zerolinecolor\": \"#E1E5ED\"}, \"yaxis16\": {\"anchor\": \"x16\", \"domain\": [0.0, 0.1975], \"gridcolor\": \"#E1E5ED\", \"showgrid\": false, \"tickfont\": {\"color\": \"#4D5663\"}, \"title\": {\"font\": {\"color\": \"#4D5663\"}, \"text\": \"\"}, \"zerolinecolor\": \"#E1E5ED\"}, \"yaxis2\": {\"anchor\": \"x2\", \"domain\": [0.8025, 1.0], \"gridcolor\": \"#E1E5ED\", \"showgrid\": false, \"tickfont\": {\"color\": \"#4D5663\"}, \"title\": {\"font\": {\"color\": \"#4D5663\"}, \"text\": \"\"}, \"zerolinecolor\": \"#E1E5ED\"}, \"yaxis3\": {\"anchor\": \"x3\", \"domain\": [0.8025, 1.0], \"gridcolor\": \"#E1E5ED\", \"showgrid\": false, \"tickfont\": {\"color\": \"#4D5663\"}, \"title\": {\"font\": {\"color\": \"#4D5663\"}, \"text\": \"\"}, \"zerolinecolor\": \"#E1E5ED\"}, \"yaxis4\": {\"anchor\": \"x4\", \"domain\": [0.8025, 1.0], \"gridcolor\": \"#E1E5ED\", \"showgrid\": false, \"tickfont\": {\"color\": \"#4D5663\"}, \"title\": {\"font\": {\"color\": \"#4D5663\"}, \"text\": \"\"}, \"zerolinecolor\": \"#E1E5ED\"}, \"yaxis5\": {\"anchor\": \"x5\", \"domain\": [0.535, 0.7325], \"gridcolor\": \"#E1E5ED\", \"showgrid\": false, \"tickfont\": {\"color\": \"#4D5663\"}, \"title\": {\"font\": {\"color\": \"#4D5663\"}, \"text\": \"\"}, \"zerolinecolor\": \"#E1E5ED\"}, \"yaxis6\": {\"anchor\": \"x6\", \"domain\": [0.535, 0.7325], \"gridcolor\": \"#E1E5ED\", \"showgrid\": false, \"tickfont\": {\"color\": \"#4D5663\"}, \"title\": {\"font\": {\"color\": \"#4D5663\"}, \"text\": \"\"}, \"zerolinecolor\": \"#E1E5ED\"}, \"yaxis7\": {\"anchor\": \"x7\", \"domain\": [0.535, 0.7325], \"gridcolor\": \"#E1E5ED\", \"showgrid\": false, \"tickfont\": {\"color\": \"#4D5663\"}, \"title\": {\"font\": {\"color\": \"#4D5663\"}, \"text\": \"\"}, \"zerolinecolor\": \"#E1E5ED\"}, \"yaxis8\": {\"anchor\": \"x8\", \"domain\": [0.535, 0.7325], \"gridcolor\": \"#E1E5ED\", \"showgrid\": false, \"tickfont\": {\"color\": \"#4D5663\"}, \"title\": {\"font\": {\"color\": \"#4D5663\"}, \"text\": \"\"}, \"zerolinecolor\": \"#E1E5ED\"}, \"yaxis9\": {\"anchor\": \"x9\", \"domain\": [0.2675, 0.465], \"gridcolor\": \"#E1E5ED\", \"showgrid\": false, \"tickfont\": {\"color\": \"#4D5663\"}, \"title\": {\"font\": {\"color\": \"#4D5663\"}, \"text\": \"\"}, \"zerolinecolor\": \"#E1E5ED\"}},\n",
       "                        {\"showLink\": true, \"linkText\": \"Export to plot.ly\", \"plotlyServerURL\": \"https://plot.ly\", \"responsive\": true}\n",
       "                    ).then(function(){\n",
       "                            \n",
       "var gd = document.getElementById('4a7b26e5-f76b-475c-a40f-8d46f90ab0c0');\n",
       "var x = new MutationObserver(function (mutations, observer) {{\n",
       "        var display = window.getComputedStyle(gd).display;\n",
       "        if (!display || display === 'none') {{\n",
       "            console.log([gd, 'removed!']);\n",
       "            Plotly.purge(gd);\n",
       "            observer.disconnect();\n",
       "        }}\n",
       "}});\n",
       "\n",
       "// Listen for the removal of the full notebook cells\n",
       "var notebookContainer = gd.closest('#notebook-container');\n",
       "if (notebookContainer) {{\n",
       "    x.observe(notebookContainer, {childList: true});\n",
       "}}\n",
       "\n",
       "// Listen for the clearing of the current output cell\n",
       "var outputEl = gd.closest('.output');\n",
       "if (outputEl) {{\n",
       "    x.observe(outputEl, {childList: true});\n",
       "}}\n",
       "\n",
       "                        })\n",
       "                };\n",
       "                });\n",
       "            </script>\n",
       "        </div>"
      ]
     },
     "metadata": {},
     "output_type": "display_data"
    }
   ],
   "source": [
    "df.scatter_matrix()"
   ]
  },
  {
   "cell_type": "code",
   "execution_count": null,
   "metadata": {},
   "outputs": [],
   "source": []
  }
 ],
 "metadata": {
  "kernelspec": {
   "display_name": "Python 3",
   "language": "python",
   "name": "python3"
  },
  "language_info": {
   "codemirror_mode": {
    "name": "ipython",
    "version": 3
   },
   "file_extension": ".py",
   "mimetype": "text/x-python",
   "name": "python",
   "nbconvert_exporter": "python",
   "pygments_lexer": "ipython3",
   "version": "3.8.3"
  }
 },
 "nbformat": 4,
 "nbformat_minor": 4
}
